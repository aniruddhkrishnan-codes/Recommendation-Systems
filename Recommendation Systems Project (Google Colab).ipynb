{
 "cells": [
  {
   "cell_type": "code",
   "execution_count": null,
   "metadata": {
    "id": "c-xFj1WGHS34"
   },
   "outputs": [],
   "source": []
  },
  {
   "cell_type": "markdown",
   "metadata": {
    "id": "YIbdEHMgHhN6"
   },
   "source": [
    "# • DOMAIN: Smartphone, Electronics\n",
    "\n",
    "**• CONTEXT: India is the second largest market globally for smartphones after China. About 134 million smartphones were sold across India in the year 2017 and is estimated to increase to about 442 million in 2022. India ranked second in the average time spent on mobile web by smartphone users across Asia Pacific. The combination of very high sales volumes and the average smartphone consumer behaviour has made India a very attractive market for foreign vendors. As per Consumer behaviour, 97% of consumers turn to a search engine when they are buying a product vs. 15% who turn to social media. If a seller succeeds to publish smartphones based on user’s behaviour/choice at the right place, there are 90% chances that user will enquire for the same. This Case Study is targeted to build a recommendation system based on individual consumer’s behaviour or choice.**\n",
    "\n",
    "**• DATA DESCRIPTION:**\n",
    "\n",
    "> **• author : name of the person who gave the rating**\n",
    "\n",
    "> **• country : country the person who gave the rating belongs to**\n",
    "\n",
    "> **• data : date of the rating**\n",
    "\n",
    "> **• domain: website from which the rating was taken from**\n",
    "\n",
    "> **• extract: rating content**\n",
    "\n",
    "> **• language: language in which the rating was given**\n",
    "\n",
    "> **• product: name of the product/mobile phone for which the rating was given**\n",
    "\n",
    "> **• score: average rating for the phone**\n",
    "\n",
    "> **• score_max: highest rating given for the phone**\n",
    "\n",
    "> **• source: source from where the rating was taken**\n",
    "\n",
    "**• PROJECT OBJECTIVE: We will build a recommendation system using popularity based and collaborative filtering methods to recommend mobile phones to a user which are most popular and personalised respectively**"
   ]
  },
  {
   "cell_type": "markdown",
   "metadata": {
    "id": "OPmlBYCFHuYk"
   },
   "source": [
    "### Importing Libraries and Data Warehousing"
   ]
  },
  {
   "cell_type": "code",
   "execution_count": 3,
   "metadata": {
    "id": "ba6SZy_7HvRE"
   },
   "outputs": [],
   "source": [
    "import pandas as pd\n",
    "import numpy as np\n",
    "import seaborn as sns\n",
    "from surprise import Dataset,Reader\n",
    "from surprise.model_selection import cross_validate\n",
    "from surprise import NormalPredictor\n",
    "from surprise import SVD, KNNWithMeans\n",
    "from surprise import accuracy\n",
    "from surprise.model_selection import train_test_split\n",
    "from surprise.model_selection import GridSearchCV\n",
    "import matplotlib.pyplot as plt\n",
    "import os"
   ]
  },
  {
   "cell_type": "code",
   "execution_count": 2,
   "metadata": {
    "colab": {
     "base_uri": "https://localhost:8080/"
    },
    "id": "Adq0grgPH00r",
    "outputId": "fe9ae529-2558-48fc-df08-3f8b898cd257"
   },
   "outputs": [
    {
     "name": "stdout",
     "output_type": "stream",
     "text": [
      "Collecting scikit-surprise\n",
      "\u001b[?25l  Downloading https://files.pythonhosted.org/packages/97/37/5d334adaf5ddd65da99fc65f6507e0e4599d092ba048f4302fe8775619e8/scikit-surprise-1.1.1.tar.gz (11.8MB)\n",
      "\u001b[K     |████████████████████████████████| 11.8MB 24.5MB/s \n",
      "\u001b[?25hRequirement already satisfied: joblib>=0.11 in /usr/local/lib/python3.7/dist-packages (from scikit-surprise) (1.0.1)\n",
      "Requirement already satisfied: numpy>=1.11.2 in /usr/local/lib/python3.7/dist-packages (from scikit-surprise) (1.19.5)\n",
      "Requirement already satisfied: scipy>=1.0.0 in /usr/local/lib/python3.7/dist-packages (from scikit-surprise) (1.4.1)\n",
      "Requirement already satisfied: six>=1.10.0 in /usr/local/lib/python3.7/dist-packages (from scikit-surprise) (1.15.0)\n",
      "Building wheels for collected packages: scikit-surprise\n",
      "  Building wheel for scikit-surprise (setup.py) ... \u001b[?25l\u001b[?25hdone\n",
      "  Created wheel for scikit-surprise: filename=scikit_surprise-1.1.1-cp37-cp37m-linux_x86_64.whl size=1617656 sha256=d1c1de337d8566def01183c2f6890d5be9a0aba58082350f1e9a9c6c261f17bc\n",
      "  Stored in directory: /root/.cache/pip/wheels/78/9c/3d/41b419c9d2aff5b6e2b4c0fc8d25c538202834058f9ed110d0\n",
      "Successfully built scikit-surprise\n",
      "Installing collected packages: scikit-surprise\n",
      "Successfully installed scikit-surprise-1.1.1\n"
     ]
    }
   ],
   "source": [
    "!pip install scikit-surprise # to install surprise package"
   ]
  },
  {
   "cell_type": "markdown",
   "metadata": {
    "id": "fvygbkXmIcOW"
   },
   "source": [
    " Merging all CSVs into one Dataframe"
   ]
  },
  {
   "cell_type": "code",
   "execution_count": 5,
   "metadata": {
    "id": "y8CtcrsNIi5x"
   },
   "outputs": [],
   "source": [
    "df1=pd.read_csv('/content/phone_user_review_file_1.csv',encoding='latin1')\n",
    "df2=pd.read_csv('/content/phone_user_review_file_2.csv',encoding='latin1')\n",
    "df3=pd.read_csv('/content/phone_user_review_file_3.csv',encoding='latin1')\n",
    "df4=pd.read_csv('/content/phone_user_review_file_4.csv',encoding='latin1')\n",
    "df5=pd.read_csv('/content/phone_user_review_file_5.csv',encoding='latin1')\n",
    "df6=pd.read_csv('/content/phone_user_review_file_6.csv',encoding='latin1')"
   ]
  },
  {
   "cell_type": "code",
   "execution_count": 6,
   "metadata": {
    "id": "u1qjKYRGKMZB"
   },
   "outputs": [],
   "source": [
    "df=df1.append([df2,df3,df4,df5,df6]) #since we have same columns we are appending the each dataframe."
   ]
  },
  {
   "cell_type": "markdown",
   "metadata": {
    "id": "bI07AewLKVEq"
   },
   "source": [
    "**Data Exploration**"
   ]
  },
  {
   "cell_type": "code",
   "execution_count": 7,
   "metadata": {
    "colab": {
     "base_uri": "https://localhost:8080/",
     "height": 581
    },
    "id": "IOwMJjAKKX3i",
    "outputId": "637fd570-6700-4363-b47d-bc53bffe38d0"
   },
   "outputs": [
    {
     "data": {
      "text/html": [
       "<div>\n",
       "<style scoped>\n",
       "    .dataframe tbody tr th:only-of-type {\n",
       "        vertical-align: middle;\n",
       "    }\n",
       "\n",
       "    .dataframe tbody tr th {\n",
       "        vertical-align: top;\n",
       "    }\n",
       "\n",
       "    .dataframe thead th {\n",
       "        text-align: right;\n",
       "    }\n",
       "</style>\n",
       "<table border=\"1\" class=\"dataframe\">\n",
       "  <thead>\n",
       "    <tr style=\"text-align: right;\">\n",
       "      <th></th>\n",
       "      <th>phone_url</th>\n",
       "      <th>date</th>\n",
       "      <th>lang</th>\n",
       "      <th>country</th>\n",
       "      <th>source</th>\n",
       "      <th>domain</th>\n",
       "      <th>score</th>\n",
       "      <th>score_max</th>\n",
       "      <th>extract</th>\n",
       "      <th>author</th>\n",
       "      <th>product</th>\n",
       "    </tr>\n",
       "  </thead>\n",
       "  <tbody>\n",
       "    <tr>\n",
       "      <th>0</th>\n",
       "      <td>/cellphones/samsung-galaxy-s8/</td>\n",
       "      <td>5/2/2017</td>\n",
       "      <td>en</td>\n",
       "      <td>us</td>\n",
       "      <td>Verizon Wireless</td>\n",
       "      <td>verizonwireless.com</td>\n",
       "      <td>10.0</td>\n",
       "      <td>10.0</td>\n",
       "      <td>As a diehard Samsung fan who has had every Sam...</td>\n",
       "      <td>CarolAnn35</td>\n",
       "      <td>Samsung Galaxy S8</td>\n",
       "    </tr>\n",
       "    <tr>\n",
       "      <th>1</th>\n",
       "      <td>/cellphones/samsung-galaxy-s8/</td>\n",
       "      <td>4/28/2017</td>\n",
       "      <td>en</td>\n",
       "      <td>us</td>\n",
       "      <td>Phone Arena</td>\n",
       "      <td>phonearena.com</td>\n",
       "      <td>10.0</td>\n",
       "      <td>10.0</td>\n",
       "      <td>Love the phone. the phone is sleek and smooth ...</td>\n",
       "      <td>james0923</td>\n",
       "      <td>Samsung Galaxy S8</td>\n",
       "    </tr>\n",
       "    <tr>\n",
       "      <th>2</th>\n",
       "      <td>/cellphones/samsung-galaxy-s8/</td>\n",
       "      <td>5/4/2017</td>\n",
       "      <td>en</td>\n",
       "      <td>us</td>\n",
       "      <td>Amazon</td>\n",
       "      <td>amazon.com</td>\n",
       "      <td>6.0</td>\n",
       "      <td>10.0</td>\n",
       "      <td>Adequate feel. Nice heft. Processor's still sl...</td>\n",
       "      <td>R. Craig</td>\n",
       "      <td>Samsung Galaxy S8 (64GB) G950U 5.8\" 4G LTE Unl...</td>\n",
       "    </tr>\n",
       "    <tr>\n",
       "      <th>3</th>\n",
       "      <td>/cellphones/samsung-galaxy-s8/</td>\n",
       "      <td>5/2/2017</td>\n",
       "      <td>en</td>\n",
       "      <td>us</td>\n",
       "      <td>Samsung</td>\n",
       "      <td>samsung.com</td>\n",
       "      <td>9.2</td>\n",
       "      <td>10.0</td>\n",
       "      <td>Never disappointed. One of the reasons I've be...</td>\n",
       "      <td>Buster2020</td>\n",
       "      <td>Samsung Galaxy S8 64GB (AT&amp;T)</td>\n",
       "    </tr>\n",
       "    <tr>\n",
       "      <th>4</th>\n",
       "      <td>/cellphones/samsung-galaxy-s8/</td>\n",
       "      <td>5/11/2017</td>\n",
       "      <td>en</td>\n",
       "      <td>us</td>\n",
       "      <td>Verizon Wireless</td>\n",
       "      <td>verizonwireless.com</td>\n",
       "      <td>4.0</td>\n",
       "      <td>10.0</td>\n",
       "      <td>I've now found that i'm in a group of people t...</td>\n",
       "      <td>S Ate Mine</td>\n",
       "      <td>Samsung Galaxy S8</td>\n",
       "    </tr>\n",
       "  </tbody>\n",
       "</table>\n",
       "</div>"
      ],
      "text/plain": [
       "                        phone_url  ...                                            product\n",
       "0  /cellphones/samsung-galaxy-s8/  ...                                  Samsung Galaxy S8\n",
       "1  /cellphones/samsung-galaxy-s8/  ...                                  Samsung Galaxy S8\n",
       "2  /cellphones/samsung-galaxy-s8/  ...  Samsung Galaxy S8 (64GB) G950U 5.8\" 4G LTE Unl...\n",
       "3  /cellphones/samsung-galaxy-s8/  ...                      Samsung Galaxy S8 64GB (AT&T)\n",
       "4  /cellphones/samsung-galaxy-s8/  ...                                  Samsung Galaxy S8\n",
       "\n",
       "[5 rows x 11 columns]"
      ]
     },
     "execution_count": 7,
     "metadata": {
      "tags": []
     },
     "output_type": "execute_result"
    }
   ],
   "source": [
    "df.head()"
   ]
  },
  {
   "cell_type": "code",
   "execution_count": 8,
   "metadata": {
    "colab": {
     "base_uri": "https://localhost:8080/"
    },
    "id": "ii0zByXIKZz9",
    "outputId": "1581d544-ed7c-4d94-e5f5-83636142461a"
   },
   "outputs": [
    {
     "data": {
      "text/plain": [
       "(1415133, 11)"
      ]
     },
     "execution_count": 8,
     "metadata": {
      "tags": []
     },
     "output_type": "execute_result"
    }
   ],
   "source": [
    "# Shape OF data\n",
    "\n",
    "df.shape"
   ]
  },
  {
   "cell_type": "code",
   "execution_count": 9,
   "metadata": {
    "colab": {
     "base_uri": "https://localhost:8080/"
    },
    "id": "AilzuVcZKfFE",
    "outputId": "2e48f2ab-3844-46ce-b87f-ce5d1b266aeb"
   },
   "outputs": [
    {
     "name": "stdout",
     "output_type": "stream",
     "text": [
      "<class 'pandas.core.frame.DataFrame'>\n",
      "Int64Index: 1415133 entries, 0 to 163836\n",
      "Data columns (total 11 columns):\n",
      " #   Column     Non-Null Count    Dtype  \n",
      "---  ------     --------------    -----  \n",
      " 0   phone_url  1415133 non-null  object \n",
      " 1   date       1415133 non-null  object \n",
      " 2   lang       1415133 non-null  object \n",
      " 3   country    1415133 non-null  object \n",
      " 4   source     1415133 non-null  object \n",
      " 5   domain     1415133 non-null  object \n",
      " 6   score      1351644 non-null  float64\n",
      " 7   score_max  1351644 non-null  float64\n",
      " 8   extract    1395772 non-null  object \n",
      " 9   author     1351931 non-null  object \n",
      " 10  product    1415132 non-null  object \n",
      "dtypes: float64(2), object(9)\n",
      "memory usage: 129.6+ MB\n"
     ]
    }
   ],
   "source": [
    "df.info()"
   ]
  },
  {
   "cell_type": "markdown",
   "metadata": {
    "id": "COf0dv3icpGX"
   },
   "source": [
    "##### **Insight:** We have 724524 Rows and 11 Columns. Dataset contains some missing values and contains object datatypes as well.\n",
    "\n"
   ]
  },
  {
   "cell_type": "markdown",
   "metadata": {
    "id": "VD2KYizddTX9"
   },
   "source": [
    "**Rounding off scores to nearest integers**"
   ]
  },
  {
   "cell_type": "code",
   "execution_count": 10,
   "metadata": {
    "id": "0EFrUVtzdXXd"
   },
   "outputs": [],
   "source": [
    "df['score']=df['score'].apply(np.round)"
   ]
  },
  {
   "cell_type": "code",
   "execution_count": 11,
   "metadata": {
    "colab": {
     "base_uri": "https://localhost:8080/"
    },
    "id": "VUrFEiqhdbQa",
    "outputId": "5e27c6c3-a0b2-4066-da09-f5cff96c6326"
   },
   "outputs": [
    {
     "data": {
      "text/plain": [
       "8.0"
      ]
     },
     "execution_count": 11,
     "metadata": {
      "tags": []
     },
     "output_type": "execute_result"
    }
   ],
   "source": [
    "# Average of score\n",
    "np.round(df['score'].mean())"
   ]
  },
  {
   "cell_type": "code",
   "execution_count": 12,
   "metadata": {
    "id": "q_8C_v_udgnu"
   },
   "outputs": [],
   "source": [
    "# Since date column is object Converting it into datetime datatype and also creating year and Month Column\n",
    "\n",
    "df['date']=pd.to_datetime(df['date'])\n",
    "df['year'] = pd.DatetimeIndex(df['date']).year\n",
    "df['month'] = pd.DatetimeIndex(df['date']).month"
   ]
  },
  {
   "cell_type": "markdown",
   "metadata": {
    "id": "sqyX51EAeoM5"
   },
   "source": [
    "**Missing Value Check**"
   ]
  },
  {
   "cell_type": "code",
   "execution_count": 13,
   "metadata": {
    "colab": {
     "base_uri": "https://localhost:8080/"
    },
    "id": "edVpwgE4etka",
    "outputId": "7e32d69d-13d6-4997-b7c3-139aa94419ca"
   },
   "outputs": [
    {
     "data": {
      "text/plain": [
       "phone_url        0\n",
       "date             0\n",
       "lang             0\n",
       "country          0\n",
       "source           0\n",
       "domain           0\n",
       "score        63489\n",
       "score_max    63489\n",
       "extract      19361\n",
       "author       63202\n",
       "product          1\n",
       "year             0\n",
       "month            0\n",
       "dtype: int64"
      ]
     },
     "execution_count": 13,
     "metadata": {
      "tags": []
     },
     "output_type": "execute_result"
    }
   ],
   "source": [
    "df.isnull().sum()"
   ]
  },
  {
   "cell_type": "markdown",
   "metadata": {
    "id": "3f_N9IuYerJ-"
   },
   "source": [
    "**Insight:** score , score_max, extract, author and product has missing values\n",
    "Imputing score with mean value of column and rest of the columns with mode."
   ]
  },
  {
   "cell_type": "markdown",
   "metadata": {
    "id": "gx7538I8ezTB"
   },
   "source": [
    "**Missing Value Imputation**"
   ]
  },
  {
   "cell_type": "code",
   "execution_count": 14,
   "metadata": {
    "id": "1Se7Ka9je1vD"
   },
   "outputs": [],
   "source": [
    "df['author'].fillna(df['author'].mode()[0],inplace=True)\n",
    "df['extract'].fillna(df['extract'].mode()[0],inplace=True)\n",
    "df['score'].fillna(np.round(df['score'].mean()),inplace=True)\n",
    "df['product'].fillna(df['product'].mode()[0],inplace=True)"
   ]
  },
  {
   "cell_type": "code",
   "execution_count": 15,
   "metadata": {
    "colab": {
     "base_uri": "https://localhost:8080/"
    },
    "id": "5WZUUXDie5uI",
    "outputId": "337e0edb-223e-44dc-dbef-07b2963dfc5d"
   },
   "outputs": [
    {
     "data": {
      "text/plain": [
       "phone_url        0\n",
       "date             0\n",
       "lang             0\n",
       "country          0\n",
       "source           0\n",
       "domain           0\n",
       "score            0\n",
       "score_max    63489\n",
       "extract          0\n",
       "author           0\n",
       "product          0\n",
       "year             0\n",
       "month            0\n",
       "dtype: int64"
      ]
     },
     "execution_count": 15,
     "metadata": {
      "tags": []
     },
     "output_type": "execute_result"
    }
   ],
   "source": [
    "df.isnull().sum()"
   ]
  },
  {
   "cell_type": "code",
   "execution_count": 16,
   "metadata": {
    "colab": {
     "base_uri": "https://localhost:8080/"
    },
    "id": "wJ91DwM0fDN8",
    "outputId": "8bd7d41c-6c8f-4ea6-a2dd-5e3bc364ae9c"
   },
   "outputs": [
    {
     "data": {
      "text/plain": [
       "10.0    1351644\n",
       "Name: score_max, dtype: int64"
      ]
     },
     "execution_count": 16,
     "metadata": {
      "tags": []
     },
     "output_type": "execute_result"
    }
   ],
   "source": [
    "df['score_max'].value_counts()"
   ]
  },
  {
   "cell_type": "markdown",
   "metadata": {
    "id": "W5svOi0JfN9A"
   },
   "source": [
    "Since score_max column has only one value; dropping this column."
   ]
  },
  {
   "cell_type": "code",
   "execution_count": 17,
   "metadata": {
    "id": "VL9_HNClfOtO"
   },
   "outputs": [],
   "source": [
    "df.drop('score_max',axis=1,inplace=True)"
   ]
  },
  {
   "cell_type": "code",
   "execution_count": 18,
   "metadata": {
    "colab": {
     "base_uri": "https://localhost:8080/"
    },
    "id": "CQ3KXHfbfQZY",
    "outputId": "23b92369-993a-4f0b-9cd7-41ed451744dd"
   },
   "outputs": [
    {
     "data": {
      "text/plain": [
       "phone_url    0\n",
       "date         0\n",
       "lang         0\n",
       "country      0\n",
       "source       0\n",
       "domain       0\n",
       "score        0\n",
       "extract      0\n",
       "author       0\n",
       "product      0\n",
       "year         0\n",
       "month        0\n",
       "dtype: int64"
      ]
     },
     "execution_count": 18,
     "metadata": {
      "tags": []
     },
     "output_type": "execute_result"
    }
   ],
   "source": [
    "df.isnull().sum()"
   ]
  },
  {
   "cell_type": "markdown",
   "metadata": {
    "id": "E6zB79jcfXyd"
   },
   "source": [
    "**Insight:** All duplicate records are dropped. Data is clean"
   ]
  },
  {
   "cell_type": "markdown",
   "metadata": {
    "id": "-JFniicsgmcW"
   },
   "source": [
    "**DATA ANALYSIS**"
   ]
  },
  {
   "cell_type": "markdown",
   "metadata": {
    "id": "uI35PSEOhDSQ"
   },
   "source": [
    "Ratings Count\n"
   ]
  },
  {
   "cell_type": "code",
   "execution_count": 22,
   "metadata": {
    "colab": {
     "base_uri": "https://localhost:8080/",
     "height": 478
    },
    "id": "hGSipCONgqRP",
    "outputId": "dad4f898-ca67-4a60-bd78-0e430f08e1ac"
   },
   "outputs": [
    {
     "name": "stderr",
     "output_type": "stream",
     "text": [
      "/usr/local/lib/python3.7/dist-packages/seaborn/_decorators.py:43: FutureWarning: Pass the following variable as a keyword arg: x. From version 0.12, the only valid positional argument will be `data`, and passing other arguments without an explicit keyword will result in an error or misinterpretation.\n",
      "  FutureWarning\n"
     ]
    },
    {
     "data": {
      "image/png": "[encoded data removed]",
      "text/plain": [
       "<Figure size 1224x504 with 1 Axes>"
      ]
     },
     "metadata": {
      "needs_background": "light",
      "tags": []
     },
     "output_type": "display_data"
    }
   ],
   "source": [
    "\n",
    "plt.figure(figsize=(17,7))\n",
    "sns.countplot('score',data=df,color='LightBlue')\n",
    "plt.title('Rating Count')\n",
    "plt.show()"
   ]
  },
  {
   "cell_type": "markdown",
   "metadata": {
    "id": "WrMgaHF6hRrb"
   },
   "source": [
    "**Insight:** Users has given rating 10 more number of times."
   ]
  },
  {
   "cell_type": "markdown",
   "metadata": {
    "id": "uiKv5hTjhQI1"
   },
   "source": [
    "Rating count per year."
   ]
  },
  {
   "cell_type": "code",
   "execution_count": 23,
   "metadata": {
    "colab": {
     "base_uri": "https://localhost:8080/",
     "height": 478
    },
    "id": "4NhlistEhdzT",
    "outputId": "10dba7ac-17ee-4d35-a7e4-d6f41907a556"
   },
   "outputs": [
    {
     "name": "stderr",
     "output_type": "stream",
     "text": [
      "/usr/local/lib/python3.7/dist-packages/seaborn/_decorators.py:43: FutureWarning: Pass the following variable as a keyword arg: x. From version 0.12, the only valid positional argument will be `data`, and passing other arguments without an explicit keyword will result in an error or misinterpretation.\n",
      "  FutureWarning\n"
     ]
    },
    {
     "data": {
      "image/png": "[encoded data removed]",
      "text/plain": [
       "<Figure size 1224x504 with 1 Axes>"
      ]
     },
     "metadata": {
      "needs_background": "light",
      "tags": []
     },
     "output_type": "display_data"
    }
   ],
   "source": [
    "plt.figure(figsize=(17,7))\n",
    "sns.countplot('year',data=df,color='LightBlue')\n",
    "plt.title('Rating Count Per Year')\n",
    "plt.show()"
   ]
  },
  {
   "cell_type": "markdown",
   "metadata": {
    "id": "TDGpnvgkhj2C"
   },
   "source": [
    "**Insight:**  2016 has most number of ratings followed by 2014."
   ]
  },
  {
   "cell_type": "markdown",
   "metadata": {
    "id": "9hIF0jDXhuqR"
   },
   "source": [
    "Rating Count Per Month"
   ]
  },
  {
   "cell_type": "code",
   "execution_count": 24,
   "metadata": {
    "colab": {
     "base_uri": "https://localhost:8080/",
     "height": 478
    },
    "id": "tYVLHrwahrlO",
    "outputId": "352b9c3b-f895-4c47-fa01-c37568b02b53"
   },
   "outputs": [
    {
     "name": "stderr",
     "output_type": "stream",
     "text": [
      "/usr/local/lib/python3.7/dist-packages/seaborn/_decorators.py:43: FutureWarning: Pass the following variable as a keyword arg: x. From version 0.12, the only valid positional argument will be `data`, and passing other arguments without an explicit keyword will result in an error or misinterpretation.\n",
      "  FutureWarning\n"
     ]
    },
    {
     "data": {
      "image/png": "[encoded data removed]",
      "text/plain": [
       "<Figure size 1224x504 with 1 Axes>"
      ]
     },
     "metadata": {
      "needs_background": "light",
      "tags": []
     },
     "output_type": "display_data"
    }
   ],
   "source": [
    "plt.figure(figsize=(17,7))\n",
    "sns.countplot('month',data=df,color='LightBlue')\n",
    "plt.title('Rating Count Per month')\n",
    "plt.show()"
   ]
  },
  {
   "cell_type": "code",
   "execution_count": 25,
   "metadata": {
    "colab": {
     "base_uri": "https://localhost:8080/",
     "height": 411
    },
    "id": "YZuHwelyhy2T",
    "outputId": "1831ce93-be61-4f97-b028-b59abc27dbc1"
   },
   "outputs": [
    {
     "data": {
      "image/png": "[encoded data removed]",
      "text/plain": [
       "<Figure size 1224x504 with 1 Axes>"
      ]
     },
     "metadata": {
      "tags": []
     },
     "output_type": "display_data"
    }
   ],
   "source": [
    "# Distribution in %\n",
    "\n",
    "plt.figure(figsize=(17,7))\n",
    "df['month'].value_counts().plot.pie(autopct='%1.1f%%')\n",
    "plt.show()"
   ]
  },
  {
   "cell_type": "markdown",
   "metadata": {
    "id": "vMDn2GddiEte"
   },
   "source": [
    "**Insight:** Mostly all months has equal distributions.\n",
    "January and December distributions are high compared to other months. Small hike in December and January may be due to festival offers."
   ]
  },
  {
   "cell_type": "markdown",
   "metadata": {
    "id": "dEsFrvmJiS42"
   },
   "source": [
    "Creating Day Name column and showing dsitribution based on days."
   ]
  },
  {
   "cell_type": "code",
   "execution_count": 26,
   "metadata": {
    "id": "O-yqCiryiU6p"
   },
   "outputs": [],
   "source": [
    "df['Day_Name']=df['date'].dt.day_name()"
   ]
  },
  {
   "cell_type": "code",
   "execution_count": 27,
   "metadata": {
    "colab": {
     "base_uri": "https://localhost:8080/",
     "height": 479
    },
    "id": "8jsPyCWfim2Z",
    "outputId": "40a7d4c7-f590-455f-94e8-72592020cb60"
   },
   "outputs": [
    {
     "name": "stderr",
     "output_type": "stream",
     "text": [
      "/usr/local/lib/python3.7/dist-packages/seaborn/_decorators.py:43: FutureWarning: Pass the following variable as a keyword arg: x. From version 0.12, the only valid positional argument will be `data`, and passing other arguments without an explicit keyword will result in an error or misinterpretation.\n",
      "  FutureWarning\n"
     ]
    },
    {
     "data": {
      "image/png": "[encoded data removed]",
      "text/plain": [
       "<Figure size 1224x504 with 1 Axes>"
      ]
     },
     "metadata": {
      "needs_background": "light",
      "tags": []
     },
     "output_type": "display_data"
    }
   ],
   "source": [
    "plt.figure(figsize=(17,7))\n",
    "sns.countplot('Day_Name',data=df,color='LightBlue')\n",
    "plt.title('Rating Count in each day')\n",
    "plt.show()"
   ]
  },
  {
   "cell_type": "markdown",
   "metadata": {
    "id": "xeut4kh8iw78"
   },
   "source": [
    "**Insight:** Weekday sales are more compared to weekends."
   ]
  },
  {
   "cell_type": "markdown",
   "metadata": {
    "id": "ZUce2xGXi70j"
   },
   "source": [
    "**Dropping Irrelevant Columns**"
   ]
  },
  {
   "cell_type": "code",
   "execution_count": 28,
   "metadata": {
    "id": "OlD0eT3ai99F"
   },
   "outputs": [],
   "source": [
    "df.drop(['extract','domain','phone_url','date','lang','country','source','domain','year','month','Day_Name'],axis=1,inplace=True)"
   ]
  },
  {
   "cell_type": "code",
   "execution_count": 29,
   "metadata": {
    "colab": {
     "base_uri": "https://localhost:8080/"
    },
    "id": "LzEu4gCwjA8f",
    "outputId": "bfed493e-9792-4188-cc05-4e4b49fdd428"
   },
   "outputs": [
    {
     "data": {
      "text/plain": [
       "(1415133, 3)"
      ]
     },
     "execution_count": 29,
     "metadata": {
      "tags": []
     },
     "output_type": "execute_result"
    }
   ],
   "source": [
    "df.shape"
   ]
  },
  {
   "cell_type": "markdown",
   "metadata": {
    "id": "IZr-my0EjHIK"
   },
   "source": [
    "Now shape of data is 1415133 rows and 3 columns"
   ]
  },
  {
   "cell_type": "markdown",
   "metadata": {
    "id": "tVTnIVqkjVs0"
   },
   "source": [
    "**Checking Duplicates**"
   ]
  },
  {
   "cell_type": "code",
   "execution_count": 30,
   "metadata": {
    "id": "DJLmkSyejFD9"
   },
   "outputs": [],
   "source": [
    "df.drop_duplicates(inplace=True)"
   ]
  },
  {
   "cell_type": "code",
   "execution_count": 31,
   "metadata": {
    "colab": {
     "base_uri": "https://localhost:8080/"
    },
    "id": "pcQkch25jbpT",
    "outputId": "4b538bc5-4460-4aaa-d3fe-3b25b5598576"
   },
   "outputs": [
    {
     "data": {
      "text/plain": [
       "(1227419, 3)"
      ]
     },
     "execution_count": 31,
     "metadata": {
      "tags": []
     },
     "output_type": "execute_result"
    }
   ],
   "source": [
    "df.shape"
   ]
  },
  {
   "cell_type": "markdown",
   "metadata": {
    "id": "iqqU-ytejhWc"
   },
   "source": [
    "**Keeping only 1000000 data samples for our Analysis and Model Building.**"
   ]
  },
  {
   "cell_type": "code",
   "execution_count": 32,
   "metadata": {
    "id": "LyJVZnN1jevh"
   },
   "outputs": [],
   "source": [
    "df_sample=df.sample(n =1000000,random_state=612)"
   ]
  },
  {
   "cell_type": "code",
   "execution_count": 33,
   "metadata": {
    "colab": {
     "base_uri": "https://localhost:8080/"
    },
    "id": "ZiNGGYeijn0o",
    "outputId": "9fc0d30f-0fef-4bf3-ba0a-3ca142b06e8e"
   },
   "outputs": [
    {
     "data": {
      "text/plain": [
       "(1000000, 3)"
      ]
     },
     "execution_count": 33,
     "metadata": {
      "tags": []
     },
     "output_type": "execute_result"
    }
   ],
   "source": [
    "df_sample.shape"
   ]
  },
  {
   "cell_type": "markdown",
   "metadata": {
    "id": "Jd0YXW_Cj5yg"
   },
   "source": [
    "**STEP 2:** \n",
    "\n",
    "**1.   Identify the most rated features**.\n"
   ]
  },
  {
   "cell_type": "code",
   "execution_count": 34,
   "metadata": {
    "colab": {
     "base_uri": "https://localhost:8080/"
    },
    "id": "l2wdvwtDjpjg",
    "outputId": "de667f75-cc51-4a08-b355-57464e4d837c"
   },
   "outputs": [
    {
     "data": {
      "text/plain": [
       "OnePlus 3 (Graphite, 64 GB)               1811\n",
       "Lenovo Vibe K4 Note (White,16GB)          1737\n",
       "Nokia N95                                 1496\n",
       "Lenovo Vibe K4 Note (Black, 16GB)         1469\n",
       "Samsung Galaxy J3 (8GB)                   1465\n",
       "OnePlus 3 (Soft Gold, 64 GB)              1451\n",
       "Samsung Galaxy S7 edge 32GB (Verizon)     1413\n",
       "Nokia 5800 XpressMusic                    1378\n",
       "Samsung Galaxy S6 zwart / 32 GB           1318\n",
       "Samsung Galaxy S7 edge 32GB (T-Mobile)    1313\n",
       "Name: product, dtype: int64"
      ]
     },
     "execution_count": 34,
     "metadata": {
      "tags": []
     },
     "output_type": "execute_result"
    }
   ],
   "source": [
    "df_sample['product'].value_counts()[:10]"
   ]
  },
  {
   "cell_type": "markdown",
   "metadata": {
    "id": "YqB6RDA0kZq3"
   },
   "source": [
    "**Answer**: One Plus 3 is the most rated product followed by Lenovo Lenovo Vibe K4 Note and Nokia N95."
   ]
  },
  {
   "cell_type": "markdown",
   "metadata": {
    "id": "wU0MfUBxkmt-"
   },
   "source": [
    "**2.  Identify the users with most number of reviews**\n",
    "\n"
   ]
  },
  {
   "cell_type": "code",
   "execution_count": 35,
   "metadata": {
    "colab": {
     "base_uri": "https://localhost:8080/"
    },
    "id": "QhqjmYh_kUAt",
    "outputId": "9b2398b0-c7a4-4791-9f25-ac7cd96c6f87"
   },
   "outputs": [
    {
     "data": {
      "text/plain": [
       "Amazon Customer    24341\n",
       "Cliente Amazon      5208\n",
       "Client d'Amazon     2198\n",
       "Amazon Kunde        1632\n",
       "Anonymous           1572\n",
       "David                759\n",
       "Alex                 656\n",
       "Daniel               566\n",
       "Marco                557\n",
       "Andrea               543\n",
       "Name: author, dtype: int64"
      ]
     },
     "execution_count": 35,
     "metadata": {
      "tags": []
     },
     "output_type": "execute_result"
    }
   ],
   "source": [
    "df_sample['author'].value_counts()[:10]"
   ]
  },
  {
   "cell_type": "markdown",
   "metadata": {
    "id": "MxBVU0Zjk4wV"
   },
   "source": [
    "**Answer:** \"Amazon Customer\" has given higest number of reviews. Top 4 places are Amazon users with anonymous names."
   ]
  },
  {
   "cell_type": "markdown",
   "metadata": {
    "id": "KyPiKS6em00u"
   },
   "source": [
    "3. Select the data with products having more than 50 ratings and users who have given more than 50 ratings. Report the shape of the final \n",
    "dataset.\n",
    "\n",
    "\n"
   ]
  },
  {
   "cell_type": "code",
   "execution_count": 36,
   "metadata": {
    "id": "UNC5Jcl6k0cv"
   },
   "outputs": [],
   "source": [
    "#selecting user count greater than 50\n",
    "counts=pd.value_counts(df_sample['author']) "
   ]
  },
  {
   "cell_type": "code",
   "execution_count": 37,
   "metadata": {
    "id": "Dg0ERQO6nJGV"
   },
   "outputs": [],
   "source": [
    "df_sample=df_sample[(df_sample['author'].isin(counts[counts>50].index)) ]"
   ]
  },
  {
   "cell_type": "code",
   "execution_count": 38,
   "metadata": {
    "colab": {
     "base_uri": "https://localhost:8080/"
    },
    "id": "nYDYLx5YoMs8",
    "outputId": "33edd93a-0eb2-4e2c-e534-1126c9027651"
   },
   "outputs": [
    {
     "data": {
      "text/plain": [
       "zercan74    51\n",
       "Ashish      51\n",
       "Ankit       51\n",
       "emre        51\n",
       "Vijay       51\n",
       "Name: author, dtype: int64"
      ]
     },
     "execution_count": 38,
     "metadata": {
      "tags": []
     },
     "output_type": "execute_result"
    }
   ],
   "source": [
    "df_sample['author'].value_counts(ascending=True)[:5] #checking minimum user count"
   ]
  },
  {
   "cell_type": "code",
   "execution_count": 40,
   "metadata": {
    "id": "o6sGdGvgoPVa"
   },
   "outputs": [],
   "source": [
    "# selecting products which had atleast 50 reviews.\n",
    "\n",
    "countsp=pd.value_counts(df_sample['product'])\n",
    "\n",
    "df_sample=df_sample[ df_sample['product'].isin(countsp[countsp>50].index)]"
   ]
  },
  {
   "cell_type": "code",
   "execution_count": 41,
   "metadata": {
    "colab": {
     "base_uri": "https://localhost:8080/"
    },
    "id": "BHyIJKREok-o",
    "outputId": "d7fb6eb7-abd0-4a32-822a-05c5b5ab723b"
   },
   "outputs": [
    {
     "data": {
      "text/plain": [
       "Apple iPhone 5 Unlocked Cellphone, 32GB, Black             51\n",
       "Samsung Galaxy S7 Edge goud / 32 GB                        51\n",
       "Nokia 101 Premium Black                                    52\n",
       "Samsung Galaxy J5 Smartphone, Oro [Italia]                 52\n",
       "Samsung Galaxy Centura Android Prepaid Phone (TracFone)    53\n",
       "Name: product, dtype: int64"
      ]
     },
     "execution_count": 41,
     "metadata": {
      "tags": []
     },
     "output_type": "execute_result"
    }
   ],
   "source": [
    "#checking minimum product count\n",
    "df_sample['product'].value_counts(ascending=True)[:5] "
   ]
  },
  {
   "cell_type": "markdown",
   "metadata": {
    "id": "UH--skNYoqyo"
   },
   "source": [
    "**Final Shape**"
   ]
  },
  {
   "cell_type": "code",
   "execution_count": 42,
   "metadata": {
    "colab": {
     "base_uri": "https://localhost:8080/"
    },
    "id": "lJqgBIS3onIb",
    "outputId": "c35bfaf1-f277-4524-9ffd-9e9e3eaed122"
   },
   "outputs": [
    {
     "data": {
      "text/plain": [
       "(7232, 3)"
      ]
     },
     "execution_count": 42,
     "metadata": {
      "tags": []
     },
     "output_type": "execute_result"
    }
   ],
   "source": [
    "df_sample.shape"
   ]
  },
  {
   "cell_type": "markdown",
   "metadata": {
    "id": "-6Jpj4m5pHUH"
   },
   "source": [
    "###  **Build a popularity based model and recommend top 5 mobile phones.**"
   ]
  },
  {
   "cell_type": "markdown",
   "metadata": {
    "id": "gqcOR7znpYNC"
   },
   "source": [
    "Top 5 Mobile Phones"
   ]
  },
  {
   "cell_type": "code",
   "execution_count": 43,
   "metadata": {
    "colab": {
     "base_uri": "https://localhost:8080/"
    },
    "id": "wt4HOy4-pccJ",
    "outputId": "f7d31afb-5c79-4972-f45b-8d094a6d5bda"
   },
   "outputs": [
    {
     "data": {
      "text/plain": [
       "product\n",
       "APPLE iPhone 6s Plus - 128 GB, Rose Gold                                                                                                                9.321429\n",
       "LG D802 G2 Smartphone, 16 GB, Nero [Italia]                                                                                                             9.288136\n",
       "Lenovo Motorola Moto G Smartphone, Display HD 4,5\", Processore Qualcomm, Memoria 8 GB, MicroSIM, Android 4.4 OS, Fotocamera da 5 MP, Nero [Germania]    9.238095\n",
       "Sim Free Motorola Moto G 4th Generation Mobile Phone - Black                                                                                            9.233333\n",
       "Samsung Galaxy A5 2016 Smartphone LTE, 16GB, Nero                                                                                                       9.068966\n",
       "Name: score, dtype: float64"
      ]
     },
     "execution_count": 43,
     "metadata": {
      "tags": []
     },
     "output_type": "execute_result"
    }
   ],
   "source": [
    "df_sample.groupby('product')['score'].mean().sort_values(ascending=False)[:5]"
   ]
  },
  {
   "cell_type": "markdown",
   "metadata": {
    "id": "RAoruwCDpnbw"
   },
   "source": [
    "**Insight:**  \n",
    "\n",
    "1.   APPLE iPhone 6s Plus - 128 GB, Rose Gold is the most popular rated product with the score of 9.321429.\n",
    "2.   The Top 5 score ranges between 9.321429 and 9.068966.\n",
    "\n"
   ]
  },
  {
   "cell_type": "markdown",
   "metadata": {
    "id": "wtjisMwdr7Tv"
   },
   "source": [
    "### **Collaborative Filtering**"
   ]
  },
  {
   "cell_type": "markdown",
   "metadata": {
    "id": "SA0Vrg3LsMTF"
   },
   "source": [
    "Creating dataframe with only author,product and score column"
   ]
  },
  {
   "cell_type": "code",
   "execution_count": 44,
   "metadata": {
    "colab": {
     "base_uri": "https://localhost:8080/",
     "height": 204
    },
    "id": "nwZdfsYhpd30",
    "outputId": "bc6e1cec-b4de-4914-f784-ea7d0423ba7b"
   },
   "outputs": [
    {
     "data": {
      "text/html": [
       "<div>\n",
       "<style scoped>\n",
       "    .dataframe tbody tr th:only-of-type {\n",
       "        vertical-align: middle;\n",
       "    }\n",
       "\n",
       "    .dataframe tbody tr th {\n",
       "        vertical-align: top;\n",
       "    }\n",
       "\n",
       "    .dataframe thead th {\n",
       "        text-align: right;\n",
       "    }\n",
       "</style>\n",
       "<table border=\"1\" class=\"dataframe\">\n",
       "  <thead>\n",
       "    <tr style=\"text-align: right;\">\n",
       "      <th></th>\n",
       "      <th>author</th>\n",
       "      <th>product</th>\n",
       "      <th>score</th>\n",
       "    </tr>\n",
       "  </thead>\n",
       "  <tbody>\n",
       "    <tr>\n",
       "      <th>24400</th>\n",
       "      <td>Sam</td>\n",
       "      <td>Lenovo Motorola Moto E Smartphone, Display 4.3...</td>\n",
       "      <td>10.0</td>\n",
       "    </tr>\n",
       "    <tr>\n",
       "      <th>50899</th>\n",
       "      <td>Helen</td>\n",
       "      <td>APPLE iPhone 7 - Silver, 32 GB</td>\n",
       "      <td>8.0</td>\n",
       "    </tr>\n",
       "    <tr>\n",
       "      <th>238492</th>\n",
       "      <td>salvatore</td>\n",
       "      <td>Asus ZenFone 2 Laser 5.5\" Smartphone, 16 GB, D...</td>\n",
       "      <td>10.0</td>\n",
       "    </tr>\n",
       "    <tr>\n",
       "      <th>337637</th>\n",
       "      <td>Lorenzo</td>\n",
       "      <td>Lenovo Motorola Moto G Smartphone, Display HD ...</td>\n",
       "      <td>10.0</td>\n",
       "    </tr>\n",
       "    <tr>\n",
       "      <th>135226</th>\n",
       "      <td>Ð Ð¾Ð¼Ð°Ð½</td>\n",
       "      <td>Sony Xperia C (ÑÐµÑÐ½ÑÐ¹)</td>\n",
       "      <td>7.0</td>\n",
       "    </tr>\n",
       "  </tbody>\n",
       "</table>\n",
       "</div>"
      ],
      "text/plain": [
       "            author                                            product  score\n",
       "24400          Sam  Lenovo Motorola Moto E Smartphone, Display 4.3...   10.0\n",
       "50899        Helen                     APPLE iPhone 7 - Silver, 32 GB    8.0\n",
       "238492   salvatore  Asus ZenFone 2 Laser 5.5\" Smartphone, 16 GB, D...   10.0\n",
       "337637     Lorenzo  Lenovo Motorola Moto G Smartphone, Display HD ...   10.0\n",
       "135226  Ð Ð¾Ð¼Ð°Ð½                       Sony Xperia C (ÑÐµÑÐ½ÑÐ¹)    7.0"
      ]
     },
     "execution_count": 44,
     "metadata": {
      "tags": []
     },
     "output_type": "execute_result"
    }
   ],
   "source": [
    "df_col=df_sample[['author','product','score']]\n",
    "\n",
    "df_col.head()"
   ]
  },
  {
   "cell_type": "markdown",
   "metadata": {
    "id": "xkR5wS6QssEj"
   },
   "source": [
    "Using Surprise library to build collaborative filtering model."
   ]
  },
  {
   "cell_type": "code",
   "execution_count": 45,
   "metadata": {
    "id": "tWL0CYorswfF"
   },
   "outputs": [],
   "source": [
    "reader = Reader(rating_scale=(1, 10))"
   ]
  },
  {
   "cell_type": "code",
   "execution_count": 46,
   "metadata": {
    "id": "dTuSCkFosyIU"
   },
   "outputs": [],
   "source": [
    "data= Dataset.load_from_df(df_col[['author','product','score']],reader)"
   ]
  },
  {
   "cell_type": "markdown",
   "metadata": {
    "id": "flgQCsdetIit"
   },
   "source": [
    " Points to Note:\n",
    "- 1) Trainset is no longer a pandas dataframe. Rather, it's a specific datatypes defined by the Surprise library\n",
    "\n",
    "\n",
    "- 2) Author and Product in the pandas dataframe can contain any value (either string/integer etc). However, Trainset convert these raw ids into numeric indexes called as \"inner id\"\n",
    "\n",
    "\n",
    "- 3) Methods are provided to convert raw id to inner id and vice versa"
   ]
  },
  {
   "cell_type": "markdown",
   "metadata": {
    "id": "tg4P-aSUtaU8"
   },
   "source": [
    "**Splitting data into train and test**"
   ]
  },
  {
   "cell_type": "code",
   "execution_count": 47,
   "metadata": {
    "id": "4ktzfv5ks0m3"
   },
   "outputs": [],
   "source": [
    "trainset, testset = train_test_split(data, test_size=.25,random_state=123)"
   ]
  },
  {
   "cell_type": "markdown",
   "metadata": {
    "id": "1x1JfLvxtnw6"
   },
   "source": [
    "### **Building Collaborative Filtering Model using SVD.**"
   ]
  },
  {
   "cell_type": "code",
   "execution_count": 48,
   "metadata": {
    "colab": {
     "base_uri": "https://localhost:8080/"
    },
    "id": "EYfz_wl8tj6A",
    "outputId": "decac8ae-d78a-46bd-ae20-71f3a6426dd6"
   },
   "outputs": [
    {
     "data": {
      "text/plain": [
       "<surprise.prediction_algorithms.matrix_factorization.SVD at 0x7ff52bb21910>"
      ]
     },
     "execution_count": 48,
     "metadata": {
      "tags": []
     },
     "output_type": "execute_result"
    }
   ],
   "source": [
    "svd_model = SVD(n_factors=5,biased=False)\n",
    "svd_model.fit(trainset)"
   ]
  },
  {
   "cell_type": "code",
   "execution_count": 49,
   "metadata": {
    "id": "1r2BkWrItuMO"
   },
   "outputs": [],
   "source": [
    "# Creating copy for future use maybe.\n",
    "\n",
    "df_sam=df_col.copy()"
   ]
  },
  {
   "cell_type": "markdown",
   "metadata": {
    "id": "4hsrryFot9pN"
   },
   "source": [
    "Predicting values for Test data"
   ]
  },
  {
   "cell_type": "code",
   "execution_count": 50,
   "metadata": {
    "id": "i-ERoYcHt8xp"
   },
   "outputs": [],
   "source": [
    "test_pred_svd = svd_model.test(testset)"
   ]
  },
  {
   "cell_type": "markdown",
   "metadata": {
    "id": "zLbQK4x1uIUF"
   },
   "source": [
    "Compute RMSE\n"
   ]
  },
  {
   "cell_type": "code",
   "execution_count": 51,
   "metadata": {
    "colab": {
     "base_uri": "https://localhost:8080/"
    },
    "id": "iMbwdb2suFDC",
    "outputId": "2cab569e-51f7-4722-f913-67480aefba3e"
   },
   "outputs": [
    {
     "name": "stdout",
     "output_type": "stream",
     "text": [
      "RMSE: 2.1979\n"
     ]
    },
    {
     "data": {
      "text/plain": [
       "2.1978682004870254"
      ]
     },
     "execution_count": 51,
     "metadata": {
      "tags": []
     },
     "output_type": "execute_result"
    }
   ],
   "source": [
    "accuracy.rmse(test_pred_svd)"
   ]
  },
  {
   "cell_type": "markdown",
   "metadata": {
    "id": "GtH0uHIKuV1W"
   },
   "source": [
    "**Recommeding Top 10 products for the Unknown customers**"
   ]
  },
  {
   "cell_type": "code",
   "execution_count": 52,
   "metadata": {
    "colab": {
     "base_uri": "https://localhost:8080/",
     "height": 359
    },
    "id": "nKJ8FOPZuPak",
    "outputId": "2c30ee6b-4092-4088-d5bf-b56cc93e1ec9"
   },
   "outputs": [
    {
     "data": {
      "text/html": [
       "<div>\n",
       "<style scoped>\n",
       "    .dataframe tbody tr th:only-of-type {\n",
       "        vertical-align: middle;\n",
       "    }\n",
       "\n",
       "    .dataframe tbody tr th {\n",
       "        vertical-align: top;\n",
       "    }\n",
       "\n",
       "    .dataframe thead th {\n",
       "        text-align: right;\n",
       "    }\n",
       "</style>\n",
       "<table border=\"1\" class=\"dataframe\">\n",
       "  <thead>\n",
       "    <tr style=\"text-align: right;\">\n",
       "      <th></th>\n",
       "      <th>author</th>\n",
       "      <th>product</th>\n",
       "      <th>score</th>\n",
       "      <th>est</th>\n",
       "    </tr>\n",
       "  </thead>\n",
       "  <tbody>\n",
       "    <tr>\n",
       "      <th>24400</th>\n",
       "      <td>Sam</td>\n",
       "      <td>Lenovo Motorola Moto E Smartphone, Display 4.3...</td>\n",
       "      <td>10.0</td>\n",
       "      <td>8.421091</td>\n",
       "    </tr>\n",
       "    <tr>\n",
       "      <th>207855</th>\n",
       "      <td>ÐÐ»ÐµÐºÑÐ°Ð½Ð´ÑÐ°</td>\n",
       "      <td>Samsung Galaxy S4 GT-I9500 16GB (Ð±ÐµÐ»ÑÐ¹)</td>\n",
       "      <td>10.0</td>\n",
       "      <td>8.421091</td>\n",
       "    </tr>\n",
       "    <tr>\n",
       "      <th>174437</th>\n",
       "      <td>Ð¡ÐµÑÐ³ÐµÐ¹</td>\n",
       "      <td>Samsung Galaxy S4 mini Duos GT-I9192 (Ð±ÐµÐ»ÑÐ¹)</td>\n",
       "      <td>8.0</td>\n",
       "      <td>8.421091</td>\n",
       "    </tr>\n",
       "    <tr>\n",
       "      <th>100923</th>\n",
       "      <td>ÐÐ»ÐµÐºÑÐµÐ¹</td>\n",
       "      <td>Sony Xperia Z1 Compact (ÑÐµÑÐ½ÑÐ¹)</td>\n",
       "      <td>10.0</td>\n",
       "      <td>8.421091</td>\n",
       "    </tr>\n",
       "    <tr>\n",
       "      <th>184427</th>\n",
       "      <td>laura</td>\n",
       "      <td>Huawei P8 Lite-AM08 - Pack Smartphone Huawei P...</td>\n",
       "      <td>8.0</td>\n",
       "      <td>8.421091</td>\n",
       "    </tr>\n",
       "    <tr>\n",
       "      <th>196533</th>\n",
       "      <td>ÐÐºÐ°ÑÐµÑÐ¸Ð½Ð°</td>\n",
       "      <td>Sony Xperia L (ÐºÑÐ°ÑÐ½ÑÐ¹)</td>\n",
       "      <td>10.0</td>\n",
       "      <td>8.421091</td>\n",
       "    </tr>\n",
       "    <tr>\n",
       "      <th>131490</th>\n",
       "      <td>Julie</td>\n",
       "      <td>SAMSUNG Galaxy A3 (2017) - 16 GB, Black</td>\n",
       "      <td>10.0</td>\n",
       "      <td>8.421091</td>\n",
       "    </tr>\n",
       "    <tr>\n",
       "      <th>178422</th>\n",
       "      <td>Claudia</td>\n",
       "      <td>Huawei P8 Lite wit / 16 GB</td>\n",
       "      <td>8.0</td>\n",
       "      <td>8.421091</td>\n",
       "    </tr>\n",
       "    <tr>\n",
       "      <th>134680</th>\n",
       "      <td>ÐÐ²Ð°Ð½</td>\n",
       "      <td>Sony Xperia C (ÑÐ¸Ð¾Ð»ÐµÑÐ¾Ð²ÑÐ¹)</td>\n",
       "      <td>7.0</td>\n",
       "      <td>8.421091</td>\n",
       "    </tr>\n",
       "    <tr>\n",
       "      <th>304119</th>\n",
       "      <td>Laura</td>\n",
       "      <td>Asus ZenFone 2 Smartphone, Schermo da 5.5\" Ful...</td>\n",
       "      <td>10.0</td>\n",
       "      <td>8.421091</td>\n",
       "    </tr>\n",
       "  </tbody>\n",
       "</table>\n",
       "</div>"
      ],
      "text/plain": [
       "                      author  ...       est\n",
       "24400                    Sam  ...  8.421091\n",
       "207855  ÐÐ»ÐµÐºÑÐ°Ð½Ð´ÑÐ°  ...  8.421091\n",
       "174437          Ð¡ÐµÑÐ³ÐµÐ¹  ...  8.421091\n",
       "100923        ÐÐ»ÐµÐºÑÐµÐ¹  ...  8.421091\n",
       "184427                 laura  ...  8.421091\n",
       "196533    ÐÐºÐ°ÑÐµÑÐ¸Ð½Ð°  ...  8.421091\n",
       "131490                 Julie  ...  8.421091\n",
       "178422               Claudia  ...  8.421091\n",
       "134680              ÐÐ²Ð°Ð½  ...  8.421091\n",
       "304119                 Laura  ...  8.421091\n",
       "\n",
       "[10 rows x 4 columns]"
      ]
     },
     "execution_count": 52,
     "metadata": {
      "tags": []
     },
     "output_type": "execute_result"
    }
   ],
   "source": [
    "df_sam['est']=df_sam['product'].apply(lambda x: svd_model.predict('avd',x).est)\n",
    "df_sam = df_sam.sort_values(by=['est'], ascending=False)\n",
    "df_sam.head(10)"
   ]
  },
  {
   "cell_type": "markdown",
   "metadata": {
    "id": "alUK8XOvul-G"
   },
   "source": [
    "### **Building Collaborative Filtering Model using KNNWithMeans.**"
   ]
  },
  {
   "cell_type": "markdown",
   "metadata": {
    "id": "7HRTKLVOusFB"
   },
   "source": [
    "**User Based Model**"
   ]
  },
  {
   "cell_type": "code",
   "execution_count": 53,
   "metadata": {
    "colab": {
     "base_uri": "https://localhost:8080/"
    },
    "id": "566mCZZjubdT",
    "outputId": "019a24d6-c06c-4ebb-9dd6-127214aa7f9d"
   },
   "outputs": [
    {
     "name": "stdout",
     "output_type": "stream",
     "text": [
      "Estimating biases using als...\n",
      "Computing the pearson_baseline similarity matrix...\n",
      "Done computing similarity matrix.\n"
     ]
    },
    {
     "data": {
      "text/plain": [
       "<surprise.prediction_algorithms.knns.KNNWithMeans at 0x7ff52b8b9f50>"
      ]
     },
     "execution_count": 53,
     "metadata": {
      "tags": []
     },
     "output_type": "execute_result"
    }
   ],
   "source": [
    "algo = KNNWithMeans(k=50, sim_options={'name': 'pearson_baseline', 'user_based': True})\n",
    "algo.fit(trainset)"
   ]
  },
  {
   "cell_type": "markdown",
   "metadata": {
    "id": "b94EXAwKu02k"
   },
   "source": [
    "Predicting average rating for test data"
   ]
  },
  {
   "cell_type": "code",
   "execution_count": 54,
   "metadata": {
    "id": "9yRZtfhCuxDK"
   },
   "outputs": [],
   "source": [
    "# run the trained model against the testset\n",
    "test_pred_user = algo.test(testset)"
   ]
  },
  {
   "cell_type": "code",
   "execution_count": 55,
   "metadata": {
    "colab": {
     "base_uri": "https://localhost:8080/"
    },
    "id": "LKRiKJvlu3Qd",
    "outputId": "4e671036-94b5-4447-95a4-e193c1bf1801"
   },
   "outputs": [
    {
     "data": {
      "text/plain": [
       "[Prediction(uid='Ð¡ÐµÑ\\x80Ð³ÐµÐ¹', iid='Samsung N7100 Galaxy Note II 16GB (Ð±ÐµÐ»Ñ\\x8bÐ¹)', r_ui=9.0, est=6.318416183037064, details={'actual_k': 29, 'was_impossible': False}),\n",
       " Prediction(uid='Alexander', iid='Apple iPhone 5s GSM Unlocked Cellphone, 16 GB, Space Gray', r_ui=6.0, est=1.5303030303030303, details={'actual_k': 1, 'was_impossible': False}),\n",
       " Prediction(uid='Ð\\x9cÐ¸Ñ\\x85Ð°Ð¸Ð»', iid='Sony Xperia SP (Ñ\\x87ÐµÑ\\x80Ð½Ñ\\x8bÐ¹)', r_ui=10.0, est=8.73862764887259, details={'actual_k': 30, 'was_impossible': False}),\n",
       " Prediction(uid='Federica', iid='LG D802 G2 Smartphone, 16 GB, Nero [Italia]', r_ui=10.0, est=10, details={'actual_k': 18, 'was_impossible': False}),\n",
       " Prediction(uid='Davide', iid='Lenovo Motorola Moto G Smartphone, 4,5 pollici display HD, processore Qualcomm, memoria 16GB, MicroSIM, Android 4.3 OS, fotocamera da 5 MP, Nero [Germania]', r_ui=8.0, est=9.030186273857153, details={'actual_k': 49, 'was_impossible': False}),\n",
       " Prediction(uid='Julie', iid='SAMSUNG Galaxy A3 (2017) - 16 GB, Black', r_ui=8.0, est=9.843195897984934, details={'actual_k': 30, 'was_impossible': False}),\n",
       " Prediction(uid='Ben', iid='Huawei P8 Champagne / 16 GB - Overzicht', r_ui=8.0, est=9.088638096847609, details={'actual_k': 16, 'was_impossible': False}),\n",
       " Prediction(uid='Ð\\x90Ð»ÐµÐºÑ\\x81ÐµÐ¹', iid='Sony Xperia SP (ÐºÑ\\x80Ð°Ñ\\x81Ð½Ñ\\x8bÐ¹)', r_ui=7.0, est=8.3151977640583, details={'actual_k': 21, 'was_impossible': False}),\n",
       " Prediction(uid='fabio', iid='Lenovo Motorola Moto E Smartphone, Display 4.3 pollici qHD, Processore Qualcomm Dual-Core 1.2GHz, Memoria 4GB, 1GB RAM, Fotocamera 5MP, Android 4.4.2 KitKat, Bluetooth, WiFi, Bianco [Spagna]', r_ui=10.0, est=8.177693423540228, details={'actual_k': 20, 'was_impossible': False}),\n",
       " Prediction(uid='Sergio', iid='Samsung Galaxy A5 2016 Smartphone LTE, 16GB, Nero', r_ui=10.0, est=9.661111198047328, details={'actual_k': 18, 'was_impossible': False}),\n",
       " Prediction(uid='antonio', iid='Samsung Galaxy J5 Smartphone, Oro [Italia]', r_ui=10.0, est=8.920861040649566, details={'actual_k': 13, 'was_impossible': False}),\n",
       " Prediction(uid='mark', iid='SAMSUNG Galaxy A3 (2017) - 16 GB, Black', r_ui=9.0, est=9.20107370843007, details={'actual_k': 9, 'was_impossible': False}),\n",
       " Prediction(uid='Alex', iid='Samsung Galaxy S6', r_ui=2.0, est=9.960391286248743, details={'actual_k': 24, 'was_impossible': False}),\n",
       " Prediction(uid='Peter', iid='Huawei P8 Champagne / 16 GB - Overzicht', r_ui=9.0, est=9.611217343702359, details={'actual_k': 21, 'was_impossible': False}),\n",
       " Prediction(uid='Stefano', iid='Lenovo Motorola Moto G 4G 3 Generazione Smartphone, Display 5\", Fotocamera 13 MP, Memoria 16 GB, Android 6 Lollipop, Nero [Italia]', r_ui=8.0, est=6.689718655034845, details={'actual_k': 34, 'was_impossible': False}),\n",
       " Prediction(uid='Ð\\x9dÐ¸ÐºÐ¾Ð»Ð°Ð¹', iid='Sony Xperia Z1 Compact (Ñ\\x80Ð¾Ð·Ð¾Ð²Ñ\\x8bÐ¹)', r_ui=9.0, est=9.773884276829584, details={'actual_k': 32, 'was_impossible': False}),\n",
       " Prediction(uid='Cliente Amazon', iid='Huawei Ascend P8 Smartphone, Display 5.2\" FHD, Memoria RAM da 3 GB, Processore HiSilicon Kirin 930 Octa-Core, Fotocamera Principale 13 MP, Grigio', r_ui=8.0, est=4.329421036929258, details={'actual_k': 24, 'was_impossible': False}),\n",
       " Prediction(uid='Florian', iid='Sony Xperia Z1 Compact Smartphone (4,3 Zoll (10,9 cm) Touch-Display, 16 GB Speicher, Android 4.3) pink', r_ui=8.0, est=8.421091445427729, details={'was_impossible': True, 'reason': 'User and/or item is unknown.'}),\n",
       " Prediction(uid='Maria', iid='Lenovo Motorola Moto G Smartphone, Display HD 4,5\", Processore Qualcomm, Memoria 8 GB, MicroSIM, Android 4.4 OS, Fotocamera da 5 MP, Nero [Germania]', r_ui=10.0, est=7.984190354431193, details={'actual_k': 25, 'was_impossible': False}),\n",
       " Prediction(uid='michele', iid='Samsung Galaxy A5 2016 Smartphone LTE, 16GB, Nero', r_ui=6.0, est=8.474481522825021, details={'actual_k': 7, 'was_impossible': False}),\n",
       " Prediction(uid='Albert', iid='Samsung Galaxy S7 zwart / 32 GB', r_ui=8.0, est=8.353754608771665, details={'actual_k': 8, 'was_impossible': False}),\n",
       " Prediction(uid='Ð\\x9cÐ¸Ñ\\x85Ð°Ð¸Ð»', iid='Sony Xperia J (Ñ\\x87ÐµÑ\\x80Ð½Ñ\\x8bÐ¹)', r_ui=9.0, est=8.376362484532121, details={'actual_k': 42, 'was_impossible': False}),\n",
       " Prediction(uid='Ð\\x90Ð½Ð½Ð°', iid='Sony Xperia L (ÐºÑ\\x80Ð°Ñ\\x81Ð½Ñ\\x8bÐ¹)', r_ui=7.0, est=7.189501906244039, details={'actual_k': 19, 'was_impossible': False}),\n",
       " Prediction(uid='Ð\\x92Ð°Ð´Ð¸Ð¼', iid='Sony Xperia J (Ñ\\x87ÐµÑ\\x80Ð½Ñ\\x8bÐ¹)', r_ui=8.0, est=8.5502728028804, details={'actual_k': 29, 'was_impossible': False}),\n",
       " Prediction(uid='A', iid='MICROSOFT Lumia 650 - 16 GB, Black', r_ui=5.0, est=8.393560620619985, details={'actual_k': 5, 'was_impossible': False}),\n",
       " Prediction(uid='Sandra', iid='Huawei P8 Lite Smartphone, Display 5\" IPS, Processore Octa-Core 1.5 GHz, Memoria Interna da 16 GB, 2 GB RAM, Fotocamera 13 MP, monoSIM, Android 5.0, Bianco [Italia]', r_ui=10.0, est=7.630195970184767, details={'actual_k': 23, 'was_impossible': False}),\n",
       " Prediction(uid='Ð\\x90Ð½Ð½Ð°', iid='Apple iPhone 5s 16GB (Ñ\\x81ÐµÑ\\x80ÐµÐ±Ñ\\x80Ð¸Ñ\\x81Ñ\\x82Ñ\\x8bÐ¹)', r_ui=9.0, est=8.657682442071524, details={'actual_k': 50, 'was_impossible': False}),\n",
       " Prediction(uid='enrico', iid='Asus ZenFone 2 Laser 5.5\" Smartphone, 16 GB, Dual SIM, Nero [Italia]', r_ui=10.0, est=8.507349974209868, details={'actual_k': 15, 'was_impossible': False}),\n",
       " Prediction(uid='Ð\\x94Ð¼Ð¸Ñ\\x82Ñ\\x80Ð¸Ð¹', iid='Samsung N7100 Galaxy Note II 16GB (Ñ\\x81ÐµÑ\\x80Ñ\\x8bÐ¹)', r_ui=5.0, est=8.09617109845781, details={'actual_k': 35, 'was_impossible': False}),\n",
       " Prediction(uid='Ð\\x92Ð°Ð´Ð¸Ð¼', iid='Samsung Galaxy S5 SM-G900F 16GB (Ð±ÐµÐ»Ñ\\x8bÐ¹)', r_ui=8.0, est=7.607400450656636, details={'actual_k': 18, 'was_impossible': False}),\n",
       " Prediction(uid='Ð\\x95Ð³Ð¾Ñ\\x80', iid='Sony Xperia C (Ð±ÐµÐ»Ñ\\x8bÐ¹)', r_ui=10.0, est=9.0732788169407, details={'actual_k': 24, 'was_impossible': False}),\n",
       " Prediction(uid='Ð\\x94Ð°Ñ\\x80Ñ\\x8cÑ\\x8f', iid='Sony Xperia M (Ñ\\x84Ð¸Ð¾Ð»ÐµÑ\\x82Ð¾Ð²Ñ\\x8bÐ¹)', r_ui=7.0, est=6.787748098719468, details={'actual_k': 21, 'was_impossible': False}),\n",
       " Prediction(uid='Patrick', iid='Samsung Galaxy Ace S5830 Smartphone (8,9 cm (3,5 Zoll) Display, Touchscreen, Android OS, 5 Megapixel Kamera) weiÃ\\x9f', r_ui=10.0, est=5.94729667113157, details={'actual_k': 11, 'was_impossible': False}),\n",
       " Prediction(uid='Angelo', iid='Samsung Galaxy A5 2016 Smartphone LTE, 16GB, Nero', r_ui=10.0, est=9.757077382871348, details={'actual_k': 18, 'was_impossible': False}),\n",
       " Prediction(uid='Mark', iid='Huawei P8 Lite goud, wit / 16 GB', r_ui=8.0, est=8.750633107867921, details={'actual_k': 21, 'was_impossible': False}),\n",
       " Prediction(uid='Ð\\x9eÐ»ÐµÐ³', iid='Samsung N7100 Galaxy Note II 16GB (Ð±ÐµÐ»Ñ\\x8bÐ¹)', r_ui=9.0, est=8.792243238358342, details={'actual_k': 29, 'was_impossible': False}),\n",
       " Prediction(uid='Ð\\x9aÐ¸Ñ\\x80Ð¸Ð»Ð»', iid='Sony Xperia SP (Ñ\\x87ÐµÑ\\x80Ð½Ñ\\x8bÐ¹)', r_ui=10.0, est=9.031558984983528, details={'actual_k': 32, 'was_impossible': False}),\n",
       " Prediction(uid='Martin', iid='APPLE iPhone 7 - Silver, 32 GB', r_ui=10.0, est=9.242543085081563, details={'actual_k': 14, 'was_impossible': False}),\n",
       " Prediction(uid='Valentina', iid='Asus ZenFone 2 Laser 5.5\" Smartphone, 16 GB, Dual SIM, Nero [Italia]', r_ui=10.0, est=9.324492618969874, details={'actual_k': 21, 'was_impossible': False}),\n",
       " Prediction(uid='Ð\\x9cÐ°Ñ\\x80Ð¸Ñ\\x8f', iid='Sony Xperia SP (Ñ\\x87ÐµÑ\\x80Ð½Ñ\\x8bÐ¹)', r_ui=10.0, est=8.774419259251578, details={'actual_k': 20, 'was_impossible': False}),\n",
       " Prediction(uid='Dave', iid=\"Huawei P9 Lite Smartphone, LTE, Display 5.2'' FHD, Processore Octa-Core Kirin 650, 16 GB Memoria Interna, 3GB RAM, Fotocamera 13 MP, Single-SIM, Android 6.0 Marshmallow, Bianco [Italia]\", r_ui=10.0, est=9.167604576159373, details={'actual_k': 33, 'was_impossible': False}),\n",
       " Prediction(uid='Mark', iid='APPLE iPhone 7 - Silver, 32 GB', r_ui=9.0, est=9.308150139843576, details={'actual_k': 24, 'was_impossible': False}),\n",
       " Prediction(uid='Elena', iid='Samsung Galaxy A5 2016 Smartphone LTE, 16GB, Nero', r_ui=10.0, est=9.934584517603085, details={'actual_k': 16, 'was_impossible': False}),\n",
       " Prediction(uid='Maria', iid='Huawei P8lite zwart / 16 GB', r_ui=9.0, est=6.949988114014381, details={'actual_k': 13, 'was_impossible': False}),\n",
       " Prediction(uid='Vanessa', iid='SAMSUNG Galaxy A3 (2017) - 16 GB, Black', r_ui=10.0, est=7.903378654197368, details={'actual_k': 16, 'was_impossible': False}),\n",
       " Prediction(uid='Manuela', iid='Alcatel One Touch 20-04G Telefono Cellulare, Nero', r_ui=10.0, est=9.088216454514386, details={'actual_k': 31, 'was_impossible': False}),\n",
       " Prediction(uid='Roy', iid='Samsung Galaxy S7 Edge zwart / 32 GB', r_ui=9.0, est=8.833293804470285, details={'actual_k': 7, 'was_impossible': False}),\n",
       " Prediction(uid='Michael', iid='Lenovo Motorola Moto G Smartphone, 4,5 pollici display HD, processore Qualcomm, memoria 16GB, MicroSIM, Android 4.3 OS, fotocamera da 5 MP, Nero [Germania]', r_ui=8.0, est=8.937658124224125, details={'actual_k': 28, 'was_impossible': False}),\n",
       " Prediction(uid='Danny', iid='Huawei P8 grijs / 16 GB', r_ui=9.0, est=8.045444604812833, details={'actual_k': 19, 'was_impossible': False}),\n",
       " Prediction(uid='Anne', iid='Samsung Galaxy S7 Edge zwart / 32 GB', r_ui=10.0, est=9.100531519743692, details={'actual_k': 13, 'was_impossible': False}),\n",
       " Prediction(uid='Michael', iid='Apple iPhone 5 Unlocked Cellphone, 32GB, Black', r_ui=4.0, est=8.605394592027352, details={'actual_k': 9, 'was_impossible': False}),\n",
       " Prediction(uid='Richard', iid='Samsung Galaxy S7 zwart / 32 GB', r_ui=10.0, est=8.588446588638316, details={'actual_k': 18, 'was_impossible': False}),\n",
       " Prediction(uid='Ð\\x9cÐ°ÐºÑ\\x81Ð¸Ð¼', iid='Sony Xperia Z1 (Ñ\\x84Ð¸Ð¾Ð»ÐµÑ\\x82Ð¾Ð²Ñ\\x8bÐ¹)', r_ui=10.0, est=8.661553658723392, details={'actual_k': 29, 'was_impossible': False}),\n",
       " Prediction(uid='Ð\\x9cÐ°ÐºÑ\\x81Ð¸Ð¼', iid='Sony Xperia SP (Ñ\\x87ÐµÑ\\x80Ð½Ñ\\x8bÐ¹)', r_ui=8.0, est=8.70146768524218, details={'actual_k': 33, 'was_impossible': False}),\n",
       " Prediction(uid='Giovanni', iid='Samsung Galaxy A5 2016 Smartphone LTE, 16GB, Nero', r_ui=10.0, est=8.386775943201195, details={'actual_k': 20, 'was_impossible': False}),\n",
       " Prediction(uid='Ð\\x92Ð¸Ñ\\x82Ð°Ð»Ð¸Ð¹', iid='Sony Xperia SP (ÐºÑ\\x80Ð°Ñ\\x81Ð½Ñ\\x8bÐ¹)', r_ui=9.0, est=8.756295233618417, details={'actual_k': 25, 'was_impossible': False}),\n",
       " Prediction(uid='Alessandra', iid='Samsung Galaxy A5 2016 Smartphone LTE, 16GB, Nero', r_ui=10.0, est=7.864699552496845, details={'actual_k': 4, 'was_impossible': False}),\n",
       " Prediction(uid='Davide', iid='Samsung Galaxy J5 Smartphone, Oro [Italia]', r_ui=10.0, est=8.476205709543004, details={'actual_k': 15, 'was_impossible': False}),\n",
       " Prediction(uid='Ð\\x9eÐ»ÐµÐ³', iid='Sony Xperia Z1 Compact (Ð»Ð°Ð¹Ð¼)', r_ui=7.0, est=9.037540797642656, details={'actual_k': 28, 'was_impossible': False}),\n",
       " Prediction(uid='Thomas', iid='Huawei P8 Champagne / 16 GB', r_ui=8.0, est=7.714798309438491, details={'actual_k': 15, 'was_impossible': False}),\n",
       " Prediction(uid='Ð\\x98Ñ\\x80Ð¸Ð½Ð°', iid='Sony Xperia Z1 Compact (Ð»Ð°Ð¹Ð¼)', r_ui=9.0, est=9.576511004151703, details={'actual_k': 28, 'was_impossible': False}),\n",
       " Prediction(uid='Ð\\x94Ð¼Ð¸Ñ\\x82Ñ\\x80Ð¸Ð¹', iid='Sony Xperia SP (Ñ\\x87ÐµÑ\\x80Ð½Ñ\\x8bÐ¹)', r_ui=5.0, est=9.113415265207482, details={'actual_k': 32, 'was_impossible': False}),\n",
       " Prediction(uid='Ð\\x92Ñ\\x8fÑ\\x87ÐµÑ\\x81Ð»Ð°Ð²', iid='Sony Xperia Z1 Compact (Ð±ÐµÐ»Ñ\\x8bÐ¹)', r_ui=10.0, est=6.139771868210385, details={'actual_k': 23, 'was_impossible': False}),\n",
       " Prediction(uid='Ð¢Ð°Ñ\\x82Ñ\\x8cÑ\\x8fÐ½Ð°', iid='Sony Xperia C (Ð±ÐµÐ»Ñ\\x8bÐ¹)', r_ui=10.0, est=7.521764124200029, details={'actual_k': 31, 'was_impossible': False}),\n",
       " Prediction(uid='Sandro', iid='Asus ZenFone 2 Laser Smartphone, Display da 5\", 16 GB, Dual SIM, Nero [Italia]', r_ui=8.0, est=9.170312333577353, details={'actual_k': 8, 'was_impossible': False}),\n",
       " Prediction(uid='Ð\\x92Ð°Ð´Ð¸Ð¼', iid='Sony Xperia ZR (Ð±ÐµÐ»Ñ\\x8bÐ¹)', r_ui=10.0, est=8.966834722820565, details={'actual_k': 22, 'was_impossible': False}),\n",
       " Prediction(uid='Manuela', iid='Lenovo Motorola Moto G Smartphone, Display HD 4,5\", Processore Qualcomm, Memoria 8 GB, MicroSIM, Android 4.4 OS, Fotocamera da 5 MP, Nero [Germania]', r_ui=10.0, est=9.788773781914397, details={'actual_k': 18, 'was_impossible': False}),\n",
       " Prediction(uid='Ð\\x90Ñ\\x80Ñ\\x82Ñ\\x91Ð¼', iid='Samsung Galaxy S5 SM-G900F 16GB (Ð±ÐµÐ»Ñ\\x8bÐ¹)', r_ui=10.0, est=7.319246024431255, details={'actual_k': 24, 'was_impossible': False}),\n",
       " Prediction(uid='Filippo', iid='Huawei P8 lite Smartphone, Display 5.0\" IPS, Dual Sim, Processore Octa-Core, Memoria 16 GB, Fotocamera 13 MP, Android 5.0, Bianco', r_ui=10.0, est=8.457403997066862, details={'actual_k': 47, 'was_impossible': False}),\n",
       " Prediction(uid='Jesus', iid='Motorola Moto G (3Âª GeneraciÃ³n) + Carcasa Oficial color turquesa - Smartphone libre Android 6 (4G, pantalla 5\", cÃ¡mara 13 Mp, 16 GB, Quad Core 1.4 GHz, 2 GB de RAM), negro', r_ui=10.0, est=7.533841179689753, details={'actual_k': 23, 'was_impossible': False}),\n",
       " Prediction(uid='Ð\\x92Ñ\\x8fÑ\\x87ÐµÑ\\x81Ð»Ð°Ð²', iid='Sony Xperia Z1 Compact (Ñ\\x87ÐµÑ\\x80Ð½Ñ\\x8bÐ¹)', r_ui=5.0, est=8.006171025705248, details={'actual_k': 28, 'was_impossible': False}),\n",
       " Prediction(uid='Amazon Customer', iid='Sony Xperia SP (ÐºÑ\\x80Ð°Ñ\\x81Ð½Ñ\\x8bÐ¹)', r_ui=9.0, est=6.84569402449385, details={'actual_k': 27, 'was_impossible': False}),\n",
       " Prediction(uid='stefano', iid='WIKO Fever 4G Smartphone, 16 GB, Dual SIM, Bianco', r_ui=10.0, est=7.589265815115133, details={'actual_k': 21, 'was_impossible': False}),\n",
       " Prediction(uid='Ð\\x9cÐ¸Ñ\\x85Ð°Ð¸Ð»', iid='Apple iPhone 5s 16GB (Ñ\\x81ÐµÑ\\x80ÐµÐ±Ñ\\x80Ð¸Ñ\\x81Ñ\\x82Ñ\\x8bÐ¹)', r_ui=10.0, est=7.765833132809853, details={'actual_k': 50, 'was_impossible': False}),\n",
       " Prediction(uid='Michael', iid='Huawei Honor 5X Unlocked Smartphone, 16GB Dark Grey (US Warranty)', r_ui=10.0, est=8.183540733137917, details={'actual_k': 14, 'was_impossible': False}),\n",
       " Prediction(uid='Amazon Kunde', iid='Samsung Galaxy Ace S5830 Smartphone (8,9 cm (3,5 Zoll) Display, Touchscreen, Android OS, 5 Megapixel Kamera) weiÃ\\x9f', r_ui=8.0, est=6.548206148125915, details={'actual_k': 12, 'was_impossible': False}),\n",
       " Prediction(uid='Ð\\x9cÐ°ÐºÑ\\x81Ð¸Ð¼', iid='Sony Xperia M (Ð±ÐµÐ»Ñ\\x8bÐ¹)', r_ui=10.0, est=7.940284470830269, details={'actual_k': 26, 'was_impossible': False}),\n",
       " Prediction(uid='Ð\\x90Ð½Ñ\\x82Ð¾Ð½', iid='Sony Xperia Z1 (Ñ\\x84Ð¸Ð¾Ð»ÐµÑ\\x82Ð¾Ð²Ñ\\x8bÐ¹)', r_ui=10.0, est=7.810863020685254, details={'actual_k': 32, 'was_impossible': False}),\n",
       " Prediction(uid='Ð\\x90Ð»ÐµÐºÑ\\x81ÐµÐ¹', iid='Sony Xperia SP (Ñ\\x87ÐµÑ\\x80Ð½Ñ\\x8bÐ¹)', r_ui=8.0, est=7.715095005858622, details={'actual_k': 29, 'was_impossible': False}),\n",
       " Prediction(uid='Emanuele', iid='Lenovo Motorola Moto G 4G 3 Generazione Smartphone, Display 5\", Fotocamera 13 MP, Memoria 16 GB, Android 6 Lollipop, Nero [Italia]', r_ui=6.0, est=8.828059575545337, details={'actual_k': 25, 'was_impossible': False}),\n",
       " Prediction(uid='Daniele', iid='Asus ZE551ML-2A760WW Smartphone ZenFone 2 Deluxe, 5.5\", 4 GB RAM, 64 GB, Intel Quad-Core Z3580, Dual SIM, Illusion Purple', r_ui=8.0, est=9.540890001670478, details={'actual_k': 19, 'was_impossible': False}),\n",
       " Prediction(uid='Carlo', iid='Lenovo Motorola Moto G 4G (2 Generazione) Smartphone, Display 5 Pollici, LTE, Fotocamera 8 MP, Memoria 8 GB, Android 5 Lollipop, Nero [Italia]', r_ui=10.0, est=8.799169950630787, details={'actual_k': 39, 'was_impossible': False}),\n",
       " Prediction(uid='Martina', iid='Huawei P8 Lite Smartphone, Display 5\" IPS, Processore Octa-Core 1.5 GHz, Memoria Interna da 16 GB, 2 GB RAM, Fotocamera 13 MP, monoSIM, Android 5.0, Bianco [Italia]', r_ui=10.0, est=7.094427480450827, details={'actual_k': 29, 'was_impossible': False}),\n",
       " Prediction(uid='sergio', iid='Asus ZenFone 2 Laser 5.5\" Smartphone, 16 GB, Dual SIM, Nero [Italia]', r_ui=10.0, est=6.840569399986034, details={'actual_k': 15, 'was_impossible': False}),\n",
       " Prediction(uid='Ð\\x90Ð»ÐµÐºÑ\\x81ÐµÐ¹', iid='Sony Xperia SP (ÐºÑ\\x80Ð°Ñ\\x81Ð½Ñ\\x8bÐ¹)', r_ui=4.0, est=8.3151977640583, details={'actual_k': 21, 'was_impossible': False}),\n",
       " Prediction(uid='Antonio', iid='Samsung G935 Galaxy S7 Edge Smartphone da 32GB, Argento [Italia]', r_ui=10.0, est=7.265174376287491, details={'actual_k': 31, 'was_impossible': False}),\n",
       " Prediction(uid='John', iid='Apple iPhone 5 Unlocked Cellphone, 32GB, Black', r_ui=10.0, est=9.577212813500882, details={'actual_k': 4, 'was_impossible': False}),\n",
       " Prediction(uid='Ravi', iid='Samsung Galaxy Centura Android Prepaid Phone (TracFone)', r_ui=4.0, est=8.421091445427729, details={'was_impossible': True, 'reason': 'User and/or item is unknown.'}),\n",
       " Prediction(uid='Alex', iid='Asus ZenFone 2 Smartphone, Schermo da 5.5\" Full HD, Processore Quad Core 2,3 GHz, RAM 4 GB, 32 GB, 4G/LTE, Argento', r_ui=10.0, est=8.245377504596894, details={'actual_k': 18, 'was_impossible': False}),\n",
       " Prediction(uid='Ð\\x9dÐ°Ñ\\x82Ð°Ð»Ñ\\x8cÑ\\x8f', iid='Sony Xperia Z (Ð±ÐµÐ»Ñ\\x8bÐ¹)', r_ui=8.0, est=8.638765738750417, details={'actual_k': 34, 'was_impossible': False}),\n",
       " Prediction(uid='Ð\\x94Ð¸Ð¼Ð°', iid='Sony Xperia SP (ÐºÑ\\x80Ð°Ñ\\x81Ð½Ñ\\x8bÐ¹)', r_ui=8.0, est=9.790239056145857, details={'actual_k': 33, 'was_impossible': False}),\n",
       " Prediction(uid='Miguel', iid='Motorola Moto G (3Âª GeneraciÃ³n) + Carcasa Oficial color turquesa - Smartphone libre Android 6 (4G, pantalla 5\", cÃ¡mara 13 Mp, 16 GB, Quad Core 1.4 GHz, 2 GB de RAM), negro', r_ui=10.0, est=7.510848841496703, details={'actual_k': 12, 'was_impossible': False}),\n",
       " Prediction(uid='Ð\\x9cÐ°Ñ\\x80Ð¸Ñ\\x8f', iid='Sony Xperia SP (Ñ\\x87ÐµÑ\\x80Ð½Ñ\\x8bÐ¹)', r_ui=8.0, est=8.774419259251578, details={'actual_k': 20, 'was_impossible': False}),\n",
       " Prediction(uid='Giuseppe', iid='Lenovo Motorola Moto G LTE Smartphone, Display 4.5\", Fotocamera 5 MP, Memoria 8 GB, Quad-Core 1.2 GHz, 1 GB RAM, Micro SD, Android 4.4.3, Bianco [Italia]', r_ui=8.0, est=9.726145889637017, details={'actual_k': 36, 'was_impossible': False}),\n",
       " Prediction(uid='Amazon Customer', iid='Samsung Galaxy S3 mini (GT-I8200) Smartphone (4 Zoll (10,2 cm) Touch-Display, 8 GB Speicher, Android 4.2) blau', r_ui=10.0, est=5.368736896294497, details={'actual_k': 28, 'was_impossible': False}),\n",
       " Prediction(uid='Rafael', iid='Sony Xperia Z1 Compact (Ñ\\x87ÐµÑ\\x80Ð½Ñ\\x8bÐ¹)', r_ui=9.0, est=9.481040214227779, details={'actual_k': 15, 'was_impossible': False}),\n",
       " Prediction(uid='Jeff', iid='APPLE iPhone 7 - Silver, 128 GB', r_ui=10.0, est=9.666666666666666, details={'actual_k': 0, 'was_impossible': False}),\n",
       " Prediction(uid='Marion', iid='Huawei P8 grijs / 16 GB', r_ui=9.0, est=8.421091445427729, details={'was_impossible': True, 'reason': 'User and/or item is unknown.'}),\n",
       " Prediction(uid='Ð\\x90Ð»ÐµÐºÑ\\x81Ð°Ð½Ð´Ñ\\x80', iid='Sony Xperia Z1 (Ñ\\x87ÐµÑ\\x80Ð½Ñ\\x8bÐ¹)', r_ui=9.0, est=8.449812960124234, details={'actual_k': 28, 'was_impossible': False}),\n",
       " Prediction(uid='S', iid='Huawei P8lite zwart / 16 GB', r_ui=10.0, est=6.932220690420237, details={'actual_k': 45, 'was_impossible': False}),\n",
       " Prediction(uid='Michele', iid='Samsung Galaxy J5 Smartphone, Oro [Italia]', r_ui=8.0, est=7.93703722150533, details={'actual_k': 17, 'was_impossible': False}),\n",
       " Prediction(uid='Fred', iid='MICROSOFT Lumia 650 - 16 GB, Black', r_ui=9.0, est=7.72812134724302, details={'actual_k': 28, 'was_impossible': False}),\n",
       " Prediction(uid='Sven', iid='Samsung Galaxy S7 zwart / 32 GB', r_ui=8.0, est=9.228486941399463, details={'actual_k': 8, 'was_impossible': False}),\n",
       " Prediction(uid='Ð\\x9dÐ°Ð´ÐµÐ¶Ð´Ð°', iid='Samsung Galaxy S5 SM-G900F 16GB (Ñ\\x81Ð¸Ð½Ð¸Ð¹)', r_ui=10.0, est=9.968365056367555, details={'actual_k': 25, 'was_impossible': False}),\n",
       " Prediction(uid='vincenzo', iid='Samsung G935 Galaxy S7 Edge Smartphone da 32GB, Argento [Italia]', r_ui=8.0, est=8.484332105840448, details={'actual_k': 23, 'was_impossible': False}),\n",
       " Prediction(uid='Jeroen', iid='Samsung Galaxy S7 Edge zwart / 32 GB', r_ui=10.0, est=8.856141733573182, details={'actual_k': 17, 'was_impossible': False}),\n",
       " Prediction(uid='Max', iid='Huawei P8lite zwart / 16 GB', r_ui=8.0, est=7.958954663168575, details={'actual_k': 10, 'was_impossible': False}),\n",
       " Prediction(uid='Andrea', iid='Lenovo Motorola Moto G Smartphone, Display HD 4,5\", Processore Qualcomm, Memoria 8 GB, MicroSIM, Android 4.4 OS, Fotocamera da 5 MP, Nero [Germania]', r_ui=6.0, est=9.682682251061951, details={'actual_k': 21, 'was_impossible': False}),\n",
       " Prediction(uid='Ð\\x94ÐµÐ½Ð¸Ñ\\x81', iid='Samsung Galaxy S5 SM-G900F 16GB (Ñ\\x87ÐµÑ\\x80Ð½Ñ\\x8bÐ¹)', r_ui=3.0, est=4.616341475387679, details={'actual_k': 36, 'was_impossible': False}),\n",
       " Prediction(uid='Jerry', iid='Samsung G935 Galaxy S7 Edge Smartphone da 32GB, Argento [Italia]', r_ui=8.0, est=8.421091445427729, details={'was_impossible': True, 'reason': 'User and/or item is unknown.'}),\n",
       " Prediction(uid='Ð¡ÐµÑ\\x80Ð³ÐµÐ¹', iid='Sony Xperia Z1 (Ñ\\x84Ð¸Ð¾Ð»ÐµÑ\\x82Ð¾Ð²Ñ\\x8bÐ¹)', r_ui=8.0, est=8.391608523402207, details={'actual_k': 27, 'was_impossible': False}),\n",
       " Prediction(uid='Ð\\x92Ð¸ÐºÑ\\x82Ð¾Ñ\\x80Ð¸Ñ\\x8f', iid='Sony Xperia J (Ñ\\x87ÐµÑ\\x80Ð½Ñ\\x8bÐ¹)', r_ui=10.0, est=8.055758102556911, details={'actual_k': 35, 'was_impossible': False}),\n",
       " Prediction(uid='marco', iid='Alcatel One Touch 20-04G Telefono Cellulare, Nero', r_ui=8.0, est=8.330418500822176, details={'actual_k': 44, 'was_impossible': False}),\n",
       " Prediction(uid='jose', iid='Motorola Moto X Pure Edition Unlocked Smartphone, 64 GB Black XT1575, 5.7\" Quad HD display, 21 MP Camera, Quad-core 1.8GHz', r_ui=10.0, est=9.082945088170964, details={'actual_k': 3, 'was_impossible': False}),\n",
       " Prediction(uid='Andrew', iid='Apple iPhone 5 Unlocked Cellphone, 32GB, Black', r_ui=8.0, est=8.589920221005114, details={'actual_k': 11, 'was_impossible': False}),\n",
       " Prediction(uid='Jessica', iid='Huawei P8 Champagne / 16 GB', r_ui=9.0, est=9.618439890537196, details={'actual_k': 21, 'was_impossible': False}),\n",
       " Prediction(uid='Ð¡ÐµÑ\\x80Ð³ÐµÐ¹', iid='Sony Xperia Z1 (Ñ\\x87ÐµÑ\\x80Ð½Ñ\\x8bÐ¹)', r_ui=7.0, est=8.196090103582488, details={'actual_k': 26, 'was_impossible': False}),\n",
       " Prediction(uid='Ð¡Ð²ÐµÑ\\x82Ð»Ð°Ð½Ð°', iid='Sony Xperia L (ÐºÑ\\x80Ð°Ñ\\x81Ð½Ñ\\x8bÐ¹)', r_ui=10.0, est=9.260030127672074, details={'actual_k': 31, 'was_impossible': False}),\n",
       " Prediction(uid='Luis', iid='Samsung Galaxy S6', r_ui=8.0, est=6.0610332915438825, details={'actual_k': 9, 'was_impossible': False}),\n",
       " Prediction(uid='Marco', iid='Asus ZenFone 2 Smartphone, Schermo da 5.5\" Full HD, Processore Quad Core 2,3 GHz, RAM 4 GB, 32 GB, 4G/LTE, Argento', r_ui=10.0, est=8.309739456320724, details={'actual_k': 26, 'was_impossible': False}),\n",
       " Prediction(uid='Anita', iid='Huawei P8 Lite goud, wit / 16 GB', r_ui=8.0, est=8.340349301752092, details={'actual_k': 20, 'was_impossible': False}),\n",
       " Prediction(uid='Tim', iid='APPLE iPhone 7 - Silver, 128 GB', r_ui=6.0, est=8.052509569420046, details={'actual_k': 16, 'was_impossible': False}),\n",
       " Prediction(uid='Ð®Ñ\\x80Ð¸Ð¹', iid='Sony Xperia SP (Ñ\\x87ÐµÑ\\x80Ð½Ñ\\x8bÐ¹)', r_ui=10.0, est=8.16371062594271, details={'actual_k': 27, 'was_impossible': False}),\n",
       " Prediction(uid='Riccardo', iid='Huawei P8 lite Smartphone, Display 5.0\" IPS, Dual Sim, Processore Octa-Core, Memoria 16 GB, Fotocamera 13 MP, Android 5.0, Bianco', r_ui=2.0, est=9.7787125508653, details={'actual_k': 45, 'was_impossible': False}),\n",
       " Prediction(uid='Davide', iid='Asus ZE551ML-2A760WW Smartphone ZenFone 2 Deluxe, 5.5\", 4 GB RAM, 64 GB, Intel Quad-Core Z3580, Dual SIM, Illusion Purple', r_ui=10.0, est=9.479008657369839, details={'actual_k': 19, 'was_impossible': False}),\n",
       " Prediction(uid='Kim', iid='Huawei P8 grijs / 16 GB', r_ui=9.0, est=9.130079220406424, details={'actual_k': 21, 'was_impossible': False}),\n",
       " Prediction(uid='Ð\\x9eÐ»Ñ\\x8cÐ³Ð°', iid='Samsung Galaxy S4 GT-I9500 16GB (Ñ\\x87ÐµÑ\\x80Ð½Ñ\\x8bÐ¹)', r_ui=8.0, est=8.729579042438704, details={'actual_k': 27, 'was_impossible': False}),\n",
       " Prediction(uid='Ð\\x94Ð¼Ð¸Ñ\\x82Ñ\\x80Ð¸Ð¹', iid='Sony Xperia Z (Ñ\\x87ÐµÑ\\x80Ð½Ñ\\x8bÐ¹)', r_ui=8.0, est=6.44753861720543, details={'actual_k': 48, 'was_impossible': False}),\n",
       " Prediction(uid='Paolo', iid='Asus ZenFone 2 Laser 5.5\" Smartphone, 16 GB, Dual SIM, Nero [Italia]', r_ui=10.0, est=6.583210141794882, details={'actual_k': 22, 'was_impossible': False}),\n",
       " Prediction(uid='claudia', iid='Lenovo Motorola Moto G Smartphone, 4,5 pollici display HD, processore Qualcomm, memoria 16GB, MicroSIM, Android 4.3 OS, fotocamera da 5 MP, Nero [Germania]', r_ui=10.0, est=9.78642044263933, details={'actual_k': 23, 'was_impossible': False}),\n",
       " Prediction(uid='Ivan', iid='Motorola Moto G (3Âª GeneraciÃ³n) + Carcasa Oficial color turquesa - Smartphone libre Android 6 (4G, pantalla 5\", cÃ¡mara 13 Mp, 16 GB, Quad Core 1.4 GHz, 2 GB de RAM), negro', r_ui=10.0, est=8.336446060293051, details={'actual_k': 9, 'was_impossible': False}),\n",
       " Prediction(uid='davide', iid='Samsung G935 Galaxy S7 Edge Smartphone da 32GB, Argento [Italia]', r_ui=10.0, est=8.930915661972831, details={'actual_k': 22, 'was_impossible': False}),\n",
       " Prediction(uid='Ð\\x90Ð»ÐµÐºÑ\\x81ÐµÐ¹', iid='Apple iPhone 5s 16GB (Ñ\\x81ÐµÑ\\x80Ñ\\x8bÐ¹ ÐºÐ¾Ñ\\x81Ð¼Ð¾Ñ\\x81)', r_ui=8.0, est=9.260575532415096, details={'actual_k': 33, 'was_impossible': False}),\n",
       " Prediction(uid='Petra', iid='Huawei P8lite zwart / 16 GB', r_ui=7.0, est=3.9584648417469794, details={'actual_k': 18, 'was_impossible': False}),\n",
       " Prediction(uid='Amazon Customer', iid='Sony Xperia ZR (Ð±ÐµÐ»Ñ\\x8bÐ¹)', r_ui=8.0, est=6.179748700291174, details={'actual_k': 23, 'was_impossible': False}),\n",
       " Prediction(uid='Ð\\x9fÐ°Ð²ÐµÐ»', iid='Samsung N7100 Galaxy Note II 16GB (Ñ\\x81ÐµÑ\\x80Ñ\\x8bÐ¹)', r_ui=9.0, est=9.962964884804826, details={'actual_k': 33, 'was_impossible': False}),\n",
       " Prediction(uid='Michael', iid='MICROSOFT Lumia 650 - 16 GB, Black', r_ui=9.0, est=4.542446206940361, details={'actual_k': 50, 'was_impossible': False}),\n",
       " Prediction(uid='Ð\\x90Ð»Ð¸Ð½Ð°', iid='Samsung Galaxy S4 GT-I9500 16GB (Ñ\\x87ÐµÑ\\x80Ð½Ñ\\x8bÐ¹)', r_ui=8.0, est=8.399700677101372, details={'actual_k': 49, 'was_impossible': False}),\n",
       " Prediction(uid='Ð\\x90Ð»ÐµÐºÑ\\x81Ð°Ð½Ð´Ñ\\x80', iid='Samsung N7100 Galaxy Note II 16GB (Ð±ÐµÐ»Ñ\\x8bÐ¹)', r_ui=10.0, est=8.041662956833516, details={'actual_k': 38, 'was_impossible': False}),\n",
       " Prediction(uid='Ð¢Ð°Ñ\\x82Ñ\\x8cÑ\\x8fÐ½Ð°', iid='Sony Xperia M (Ð±ÐµÐ»Ñ\\x8bÐ¹)', r_ui=5.0, est=8.652010535018636, details={'actual_k': 31, 'was_impossible': False}),\n",
       " Prediction(uid='Ð\\x9aÐ¾Ð½Ñ\\x81Ñ\\x82Ð°Ð½Ñ\\x82Ð¸Ð½', iid='Sony Xperia C (Ñ\\x84Ð¸Ð¾Ð»ÐµÑ\\x82Ð¾Ð²Ñ\\x8bÐ¹)', r_ui=8.0, est=8.753535431308945, details={'actual_k': 30, 'was_impossible': False}),\n",
       " Prediction(uid='Cliente Amazon', iid='Lenovo Motorola Moto G 4G (2 Generazione) Smartphone, Display 5 Pollici, LTE, Fotocamera 8 MP, Memoria 8 GB, Android 5 Lollipop, Nero [Italia]', r_ui=4.0, est=7.869928582931609, details={'actual_k': 50, 'was_impossible': False}),\n",
       " Prediction(uid='Amazon Customer', iid='Asus ZenFone 2 Laser Smartphone, Display da 5\", 16 GB, Dual SIM, Nero [Italia]', r_ui=10.0, est=7.735272527976648, details={'actual_k': 22, 'was_impossible': False}),\n",
       " Prediction(uid='Ð\\x9aÐ¾Ð½Ñ\\x81Ñ\\x82Ð°Ð½Ñ\\x82Ð¸Ð½', iid='Samsung Galaxy S4 GT-I9500 16GB (Ñ\\x87ÐµÑ\\x80Ð½Ñ\\x8bÐ¹)', r_ui=9.0, est=8.266692880356135, details={'actual_k': 25, 'was_impossible': False}),\n",
       " Prediction(uid='Cliente Amazon', iid='Asus ZE551ML-2A760WW Smartphone ZenFone 2 Deluxe, 5.5\", 4 GB RAM, 64 GB, Intel Quad-Core Z3580, Dual SIM, Illusion Purple', r_ui=6.0, est=6.018549570364717, details={'actual_k': 22, 'was_impossible': False}),\n",
       " Prediction(uid='A', iid='APPLE iPhone 7 - Silver, 128 GB', r_ui=10.0, est=6.828078041486171, details={'actual_k': 4, 'was_impossible': False}),\n",
       " Prediction(uid='Mike', iid='Huawei Honor 5X Unlocked Smartphone, 16GB Dark Grey (US Warranty)', r_ui=10.0, est=6.864415442239144, details={'actual_k': 7, 'was_impossible': False}),\n",
       " Prediction(uid='Ð\\x90Ð½Ð½Ð°', iid='Sony Xperia SP (ÐºÑ\\x80Ð°Ñ\\x81Ð½Ñ\\x8bÐ¹)', r_ui=9.0, est=7.980063093899227, details={'actual_k': 23, 'was_impossible': False}),\n",
       " Prediction(uid='Ð\\x9cÐ°Ñ\\x80Ð¸Ñ\\x8f', iid='Sony Xperia Z1 Compact (Ð±ÐµÐ»Ñ\\x8bÐ¹)', r_ui=8.0, est=8.86178432755789, details={'actual_k': 29, 'was_impossible': False}),\n",
       " Prediction(uid='Ð\\x94ÐµÐ½Ð¸Ñ\\x81', iid='Samsung Galaxy S5 SM-G900F 16GB (Ñ\\x87ÐµÑ\\x80Ð½Ñ\\x8bÐ¹)', r_ui=10.0, est=4.616341475387679, details={'actual_k': 36, 'was_impossible': False}),\n",
       " Prediction(uid='Samantha', iid='Lenovo Motorola Moto G Smartphone, Display HD 4,5\", Processore Qualcomm, Memoria 8 GB, MicroSIM, Android 4.4 OS, Fotocamera da 5 MP, Nero [Germania]', r_ui=10.0, est=8.990083715786396, details={'actual_k': 5, 'was_impossible': False}),\n",
       " Prediction(uid='AJ', iid='Sim Free Motorola Moto G 4th Generation Mobile Phone - Black', r_ui=10.0, est=9.846153846153847, details={'actual_k': 2, 'was_impossible': False}),\n",
       " Prediction(uid='Ð\\x9aÐ¾Ð½Ñ\\x81Ñ\\x82Ð°Ð½Ñ\\x82Ð¸Ð½', iid='Samsung N7100 Galaxy Note II 16GB (Ð±ÐµÐ»Ñ\\x8bÐ¹)', r_ui=9.0, est=8.975895795293225, details={'actual_k': 31, 'was_impossible': False}),\n",
       " Prediction(uid='Dennis', iid='Huawei P8lite zwart / 16 GB', r_ui=8.0, est=8.824343134536534, details={'actual_k': 47, 'was_impossible': False}),\n",
       " Prediction(uid='Eric', iid='Alcatel OneTouch Idol 3 Global Unlocked 4G LTE Smartphone, 5.5 HD IPS Display, 16GB (GSM - US Warranty)', r_ui=8.0, est=7.839342144881705, details={'actual_k': 10, 'was_impossible': False}),\n",
       " Prediction(uid='Amazon-Kunde', iid='Sony Xperia Z1 Compact Smartphone (4,3 Zoll (10,9 cm) Touch-Display, 16 GB Speicher, Android 4.3) pink', r_ui=2.0, est=9.628177814864243, details={'actual_k': 11, 'was_impossible': False}),\n",
       " Prediction(uid='Amanda', iid=\"Huawei P9 Lite Smartphone, LTE, Display 5.2'' FHD, Processore Octa-Core Kirin 650, 16 GB Memoria Interna, 3GB RAM, Fotocamera 13 MP, Single-SIM, Android 6.0 Marshmallow, Bianco [Italia]\", r_ui=6.0, est=7.110141911752745, details={'actual_k': 3, 'was_impossible': False}),\n",
       " Prediction(uid='Kelly', iid='Samsung Galaxy S7 goud, roze / 32 GB', r_ui=9.0, est=10, details={'actual_k': 3, 'was_impossible': False}),\n",
       " Prediction(uid='Gianni', iid='Lenovo Motorola Moto G Smartphone, Display HD 4,5\", Processore Qualcomm, Memoria 8 GB, MicroSIM, Android 4.4 OS, Fotocamera da 5 MP, Nero [Germania]', r_ui=10.0, est=9.678148937743956, details={'actual_k': 22, 'was_impossible': False}),\n",
       " Prediction(uid='Danilo', iid='WIKO Fever 4G Smartphone, 16 GB, Dual SIM, Bianco', r_ui=10.0, est=7.868112116199106, details={'actual_k': 19, 'was_impossible': False}),\n",
       " Prediction(uid='Jessica', iid='Samsung Galaxy S5 Smartphone (5,1 Zoll (12,9 cm) Touch-Display, 16 GB Speicher, Android 4.4) electric blue', r_ui=4.0, est=10, details={'actual_k': 20, 'was_impossible': False}),\n",
       " Prediction(uid='Ð\\x92Ð»Ð°Ð´Ð¸Ñ\\x81Ð»Ð°Ð²', iid='Sony Xperia SP (Ñ\\x87ÐµÑ\\x80Ð½Ñ\\x8bÐ¹)', r_ui=10.0, est=9.590061967241615, details={'actual_k': 35, 'was_impossible': False}),\n",
       " Prediction(uid='Gianni', iid='Asus ZenFone 2 Laser Smartphone, Display da 5\", 16 GB, Dual SIM, Nero [Italia]', r_ui=10.0, est=9.992830884806057, details={'actual_k': 18, 'was_impossible': False}),\n",
       " Prediction(uid='Cristina', iid='WIKO Fever 4G Smartphone, 16 GB, Dual SIM, Bianco', r_ui=8.0, est=8.373390162620483, details={'actual_k': 13, 'was_impossible': False}),\n",
       " Prediction(uid='Ð\\x90Ð½Ð°Ñ\\x81Ñ\\x82Ð°Ñ\\x81Ð¸Ñ\\x8f', iid='Sony Xperia Z1 (Ð±ÐµÐ»Ñ\\x8bÐ¹)', r_ui=10.0, est=8.146090369789153, details={'actual_k': 28, 'was_impossible': False}),\n",
       " Prediction(uid='Matteo', iid='Lenovo Motorola Moto G 4G 3 Generazione Smartphone, Display 5\", Fotocamera 13 MP, Memoria 16 GB, Android 6 Lollipop, Nero [Italia]', r_ui=10.0, est=9.816308202070799, details={'actual_k': 20, 'was_impossible': False}),\n",
       " Prediction(uid='Andrew', iid='Alcatel OneTouch Idol 3 Global Unlocked 4G LTE Smartphone, 5.5 HD IPS Display, 16GB (GSM - US Warranty)', r_ui=2.0, est=7.7185033527119185, details={'actual_k': 12, 'was_impossible': False}),\n",
       " Prediction(uid='Lee', iid='SAMSUNG Galaxy A3 (2017) - 16 GB, Black', r_ui=10.0, est=9.492828157809015, details={'actual_k': 15, 'was_impossible': False}),\n",
       " Prediction(uid='Ð\\x93Ð¾Ñ\\x81Ñ\\x82Ñ\\x8c', iid='Sony Xperia C (Ð±ÐµÐ»Ñ\\x8bÐ¹)', r_ui=10.0, est=7.950471890899426, details={'actual_k': 19, 'was_impossible': False}),\n",
       " Prediction(uid='Andrea', iid='Lenovo Motorola Moto G Smartphone, 4,5 pollici display HD, processore Qualcomm, memoria 16GB, MicroSIM, Android 4.3 OS, fotocamera da 5 MP, Nero [Germania]', r_ui=8.0, est=9.425980531642317, details={'actual_k': 34, 'was_impossible': False}),\n",
       " Prediction(uid='Ð¡Ñ\\x82Ð°Ð½Ð¸Ñ\\x81Ð»Ð°Ð²', iid='Samsung Galaxy S5 SM-G900F 16GB (Ñ\\x87ÐµÑ\\x80Ð½Ñ\\x8bÐ¹)', r_ui=10.0, est=9.27906461726289, details={'actual_k': 22, 'was_impossible': False}),\n",
       " Prediction(uid='Francesco', iid=\"Huawei P9 Lite Smartphone, LTE, Display 5.2'' FHD, Processore Octa-Core Kirin 650, 16 GB Memoria Interna, 3GB RAM, Fotocamera 13 MP, Single-SIM, Android 6.0 Marshmallow, Nero [Italia]\", r_ui=6.0, est=9.70914380416514, details={'actual_k': 29, 'was_impossible': False}),\n",
       " Prediction(uid='Ð\\x98Ð»Ñ\\x8cÑ\\x8f', iid='Sony Xperia SP (Ð±ÐµÐ»Ñ\\x8bÐ¹)', r_ui=9.0, est=8.694371534545956, details={'actual_k': 36, 'was_impossible': False}),\n",
       " Prediction(uid='Barbara', iid='Huawei P8 Lite Smartphone, Display 5\" IPS, Processore Octa-Core 1.5 GHz, Memoria Interna da 16 GB, 2 GB RAM, Fotocamera 13 MP, monoSIM, Android 5.0, Bianco [Italia]', r_ui=8.0, est=3.1849341832387346, details={'actual_k': 43, 'was_impossible': False}),\n",
       " Prediction(uid='Paula', iid='APPLE iPhone 7 - Silver, 128 GB', r_ui=6.0, est=9.99448101280148, details={'actual_k': 7, 'was_impossible': False}),\n",
       " Prediction(uid='Cliente Amazon', iid='LG G4 Smartphone Display IPS 5.5\" QHD, Fotocamera 16 MP, Memoria Interna 32 GB, 3 GB RAM, Colore Marrone', r_ui=4.0, est=8.918547560025345, details={'actual_k': 25, 'was_impossible': False}),\n",
       " Prediction(uid='Ð\\x9fÐ°Ð²ÐµÐ»', iid='Apple iPhone 5s 16GB (Ñ\\x81ÐµÑ\\x80ÐµÐ±Ñ\\x80Ð¸Ñ\\x81Ñ\\x82Ñ\\x8bÐ¹)', r_ui=2.0, est=8.998441649732316, details={'actual_k': 50, 'was_impossible': False}),\n",
       " Prediction(uid='Tony', iid='Sim Free Motorola Moto G 4th Generation Mobile Phone - Black', r_ui=10.0, est=10, details={'actual_k': 12, 'was_impossible': False}),\n",
       " Prediction(uid='Ð¡ÐµÑ\\x80Ð³ÐµÐ¹', iid='Sony Xperia M (Ñ\\x84Ð¸Ð¾Ð»ÐµÑ\\x82Ð¾Ð²Ñ\\x8bÐ¹)', r_ui=9.0, est=9.688633716046736, details={'actual_k': 15, 'was_impossible': False}),\n",
       " Prediction(uid='Ð\\x95ÐºÐ°Ñ\\x82ÐµÑ\\x80Ð¸Ð½Ð°', iid='Samsung Galaxy S5 SM-G900F 16GB (Ð±ÐµÐ»Ñ\\x8bÐ¹)', r_ui=6.0, est=7.277229546753969, details={'actual_k': 24, 'was_impossible': False}),\n",
       " Prediction(uid='claudio', iid='Asus ZenFone 2 Laser 5.5\" Smartphone, 16 GB, Dual SIM, Nero [Italia]', r_ui=10.0, est=10, details={'actual_k': 14, 'was_impossible': False}),\n",
       " Prediction(uid='monica', iid='Asus ZenFone 2 Laser 5.5\" Smartphone, 16 GB, Dual SIM, Nero [Italia]', r_ui=10.0, est=8.421091445427729, details={'was_impossible': True, 'reason': 'User and/or item is unknown.'}),\n",
       " Prediction(uid='Ð\\x94Ð¼Ð¸Ñ\\x82Ñ\\x80Ð¸Ð¹', iid='Samsung Galaxy S6', r_ui=8.0, est=9.714459975978308, details={'actual_k': 13, 'was_impossible': False}),\n",
       " Prediction(uid='Sara', iid='Huawei P8 lite Smartphone, Display 5.0\" IPS, Dual Sim, Processore Octa-Core, Memoria 16 GB, Fotocamera 13 MP, Android 5.0, Bianco', r_ui=10.0, est=8.90320738662946, details={'actual_k': 36, 'was_impossible': False}),\n",
       " Prediction(uid='Anne', iid='SAMSUNG Galaxy A3 (2017) - 16 GB, Black', r_ui=9.0, est=7.846908005833041, details={'actual_k': 18, 'was_impossible': False}),\n",
       " Prediction(uid='Sven', iid='Samsung Galaxy S7 goud, roze / 32 GB', r_ui=8.0, est=8.835651477442198, details={'actual_k': 7, 'was_impossible': False}),\n",
       " Prediction(uid='claudio', iid='Huawei P8 lite Smartphone, Display 5.0\" IPS, Dual Sim, Processore Octa-Core, Memoria 16 GB, Fotocamera 13 MP, Android 5.0, Bianco', r_ui=8.0, est=9.33471041291504, details={'actual_k': 49, 'was_impossible': False}),\n",
       " Prediction(uid='Linda', iid='Samsung Galaxy S7 Edge zwart / 32 GB', r_ui=9.0, est=8.098743981397448, details={'actual_k': 12, 'was_impossible': False}),\n",
       " Prediction(uid='Ð\\x9cÐ°ÐºÑ\\x81Ð¸Ð¼', iid='Samsung Galaxy S5 SM-G900F 16GB (Ñ\\x81Ð¸Ð½Ð¸Ð¹)', r_ui=5.0, est=8.326903242490456, details={'actual_k': 21, 'was_impossible': False}),\n",
       " Prediction(uid='Michele', iid='Lenovo Motorola Moto G Smartphone, 4,5 pollici display HD, processore Qualcomm, memoria 16GB, MicroSIM, Android 4.3 OS, fotocamera da 5 MP, Nero [Germania]', r_ui=8.0, est=8.147566227576483, details={'actual_k': 48, 'was_impossible': False}),\n",
       " Prediction(uid='stefano', iid='Lenovo Motorola Moto G Smartphone, 4,5 pollici display HD, processore Qualcomm, memoria 16GB, MicroSIM, Android 4.3 OS, fotocamera da 5 MP, Nero [Germania]', r_ui=10.0, est=9.224915904818028, details={'actual_k': 31, 'was_impossible': False}),\n",
       " Prediction(uid='claudio', iid='Lenovo Motorola Moto G 4G 3 Generazione Smartphone, Display 5\", Fotocamera 13 MP, Memoria 16 GB, Android 6 Lollipop, Nero [Italia]', r_ui=10.0, est=8.967049523578432, details={'actual_k': 33, 'was_impossible': False}),\n",
       " Prediction(uid='fabio', iid='Asus ZenFone 2 Laser 5.5\" Smartphone, 16 GB, Dual SIM, Nero [Italia]', r_ui=10.0, est=9.568637297768616, details={'actual_k': 15, 'was_impossible': False}),\n",
       " Prediction(uid='Marcel', iid='Huawei P8 Champagne / 16 GB', r_ui=8.0, est=8.443669786626574, details={'actual_k': 15, 'was_impossible': False}),\n",
       " Prediction(uid='Matteo', iid='Asus ZenFone 2 Laser 5.5\" Smartphone, 16 GB, Dual SIM, Nero [Italia]', r_ui=8.0, est=9.778113539161906, details={'actual_k': 18, 'was_impossible': False}),\n",
       " Prediction(uid='paolo', iid='Huawei Ascend P8 Smartphone, Display 5.2\" FHD, Memoria RAM da 3 GB, Processore HiSilicon Kirin 930 Octa-Core, Fotocamera Principale 13 MP, Grigio', r_ui=6.0, est=8.19817457211325, details={'actual_k': 17, 'was_impossible': False}),\n",
       " Prediction(uid='Sergio', iid='LG D802 G2 Smartphone, 16 GB, Nero [Italia]', r_ui=10.0, est=10, details={'actual_k': 17, 'was_impossible': False}),\n",
       " Prediction(uid='Ð\\x9cÐ°Ñ\\x80Ð¸Ñ\\x8f', iid='Sony Xperia L (ÐºÑ\\x80Ð°Ñ\\x81Ð½Ñ\\x8bÐ¹)', r_ui=10.0, est=8.311509624766819, details={'actual_k': 23, 'was_impossible': False}),\n",
       " Prediction(uid='Jeroen', iid='Samsung Galaxy S7 goud, roze / 32 GB', r_ui=8.0, est=8.577673562155853, details={'actual_k': 18, 'was_impossible': False}),\n",
       " Prediction(uid='Christian', iid='Motorola Moto G (3Âª GeneraciÃ³n) + Carcasa Oficial color turquesa - Smartphone libre Android 6 (4G, pantalla 5\", cÃ¡mara 13 Mp, 16 GB, Quad Core 1.4 GHz, 2 GB de RAM), negro', r_ui=10.0, est=8.731074208537265, details={'actual_k': 10, 'was_impossible': False}),\n",
       " Prediction(uid='Ð¡Ð²ÐµÑ\\x82Ð»Ð°Ð½Ð°', iid='Sony Xperia SP (Ñ\\x87ÐµÑ\\x80Ð½Ñ\\x8bÐ¹)', r_ui=9.0, est=8.272211604012888, details={'actual_k': 41, 'was_impossible': False}),\n",
       " Prediction(uid='Ð\\x9fÐ°Ð²ÐµÐ»', iid='Samsung Galaxy S4 mini Duos GT-I9192 (Ñ\\x87ÐµÑ\\x80Ð½Ñ\\x8bÐ¹)', r_ui=8.0, est=9.384256864187748, details={'actual_k': 23, 'was_impossible': False}),\n",
       " Prediction(uid='Enrico', iid='Lenovo Motorola Moto G 4G 3 Generazione Smartphone, Display 5\", Fotocamera 13 MP, Memoria 16 GB, Android 6 Lollipop, Nero [Italia]', r_ui=10.0, est=9.312414612166796, details={'actual_k': 27, 'was_impossible': False}),\n",
       " Prediction(uid='Ð®Ð»Ð¸Ñ\\x8f', iid='Sony Xperia Z (Ñ\\x87ÐµÑ\\x80Ð½Ñ\\x8bÐ¹)', r_ui=10.0, est=8.51725843461334, details={'actual_k': 43, 'was_impossible': False}),\n",
       " Prediction(uid='Bert', iid='Samsung Galaxy S7 zwart / 32 GB', r_ui=9.0, est=9.381907774608496, details={'actual_k': 23, 'was_impossible': False}),\n",
       " Prediction(uid='Ð\\x9aÐ¾Ð½Ñ\\x81Ñ\\x82Ð°Ð½Ñ\\x82Ð¸Ð½', iid='Sony Xperia C (Ñ\\x84Ð¸Ð¾Ð»ÐµÑ\\x82Ð¾Ð²Ñ\\x8bÐ¹)', r_ui=10.0, est=8.753535431308945, details={'actual_k': 30, 'was_impossible': False}),\n",
       " Prediction(uid='Ð\\x90Ð½Ð´Ñ\\x80ÐµÐ¹', iid='Sony Xperia C (Ñ\\x87ÐµÑ\\x80Ð½Ñ\\x8bÐ¹)', r_ui=8.0, est=7.535958674170798, details={'actual_k': 23, 'was_impossible': False}),\n",
       " Prediction(uid='Walter', iid='Samsung G935 Galaxy S7 Edge Smartphone da 32GB, Argento [Italia]', r_ui=10.0, est=9.0, details={'actual_k': 0, 'was_impossible': False}),\n",
       " Prediction(uid='Ð\\x94Ð¼Ð¸Ñ\\x82Ñ\\x80Ð¸Ð¹', iid='Samsung Galaxy S4 mini Duos GT-I9192 (Ñ\\x87ÐµÑ\\x80Ð½Ñ\\x8bÐ¹)', r_ui=10.0, est=7.708359308489038, details={'actual_k': 28, 'was_impossible': False}),\n",
       " Prediction(uid='George', iid='Apple iPhone 5 Unlocked Cellphone, 32GB, Black', r_ui=2.0, est=8.47023201857437, details={'actual_k': 3, 'was_impossible': False}),\n",
       " Prediction(uid='Laura', iid='APPLE iPhone 7 - Silver, 32 GB', r_ui=10.0, est=8.028314994978196, details={'actual_k': 48, 'was_impossible': False}),\n",
       " Prediction(uid='David', iid='Motorola Moto G (3Âª GeneraciÃ³n) + Carcasa Oficial color turquesa - Smartphone libre Android 6 (4G, pantalla 5\", cÃ¡mara 13 Mp, 16 GB, Quad Core 1.4 GHz, 2 GB de RAM), negro', r_ui=10.0, est=8.802262905432704, details={'actual_k': 13, 'was_impossible': False}),\n",
       " Prediction(uid='Ð¡ÐµÑ\\x80Ð³ÐµÐ¹', iid='Samsung N7100 Galaxy Note II 16GB (Ñ\\x81ÐµÑ\\x80Ñ\\x8bÐ¹)', r_ui=10.0, est=5.995361593892513, details={'actual_k': 30, 'was_impossible': False}),\n",
       " Prediction(uid='Hans', iid='Samsung Galaxy S7 Edge zwart / 32 GB', r_ui=9.0, est=8.66011137203932, details={'actual_k': 22, 'was_impossible': False}),\n",
       " Prediction(uid='Ð\\x98Ð³Ð¾Ñ\\x80Ñ\\x8c', iid='Samsung Galaxy S4 mini Duos GT-I9192 (Ñ\\x87ÐµÑ\\x80Ð½Ñ\\x8bÐ¹)', r_ui=10.0, est=8.485600109491957, details={'actual_k': 28, 'was_impossible': False}),\n",
       " Prediction(uid='Ð\\x98Ð³Ð¾Ñ\\x80Ñ\\x8c', iid='Sony Xperia Z1 Compact (Ð»Ð°Ð¹Ð¼)', r_ui=2.0, est=9.529245197328311, details={'actual_k': 34, 'was_impossible': False}),\n",
       " Prediction(uid='Ð\\x94Ð¼Ð¸Ñ\\x82Ñ\\x80Ð¸Ð¹', iid='Sony Xperia C (Ð±ÐµÐ»Ñ\\x8bÐ¹)', r_ui=9.0, est=9.006340295502131, details={'actual_k': 23, 'was_impossible': False}),\n",
       " Prediction(uid='Ð\\x90Ð»ÐµÐºÑ\\x81ÐµÐ¹', iid='Samsung Galaxy S6', r_ui=8.0, est=6.553892929957717, details={'actual_k': 11, 'was_impossible': False}),\n",
       " Prediction(uid='Rick', iid='Alcatel OneTouch Idol 3 Global Unlocked 4G LTE Smartphone, 5.5 HD IPS Display, 16GB (GSM - US Warranty)', r_ui=10.0, est=5.370635269986073, details={'actual_k': 3, 'was_impossible': False}),\n",
       " Prediction(uid='Ð\\x90Ð»ÐµÐºÑ\\x81Ð°Ð½Ð´Ñ\\x80', iid='Nokia 101 Premium Black', r_ui=8.0, est=6.954835744904298, details={'actual_k': 21, 'was_impossible': False}),\n",
       " Prediction(uid='Ð\\x92Ð»Ð°Ð´Ð¸Ð¼Ð¸Ñ\\x80', iid='Sony Xperia Z (Ð±ÐµÐ»Ñ\\x8bÐ¹)', r_ui=10.0, est=8.474136119994101, details={'actual_k': 48, 'was_impossible': False}),\n",
       " Prediction(uid='Ð\\x98Ð³Ð¾Ñ\\x80Ñ\\x8c', iid='Samsung Galaxy S6', r_ui=10.0, est=9.254984005663763, details={'actual_k': 15, 'was_impossible': False}),\n",
       " Prediction(uid='Ð\\x9eÐ»Ñ\\x8cÐ³Ð°', iid='Samsung Galaxy S5 SM-G900F 16GB (Ñ\\x87ÐµÑ\\x80Ð½Ñ\\x8bÐ¹)', r_ui=8.0, est=8.733743010676548, details={'actual_k': 20, 'was_impossible': False}),\n",
       " Prediction(uid='Karin', iid='Huawei P8lite zwart / 16 GB', r_ui=9.0, est=9.823586192361695, details={'actual_k': 37, 'was_impossible': False}),\n",
       " Prediction(uid='Ð\\x92Ð°Ñ\\x81Ð¸Ð»Ð¸Ð¹', iid='Apple iPhone 5s 16GB (Ñ\\x81ÐµÑ\\x80ÐµÐ±Ñ\\x80Ð¸Ñ\\x81Ñ\\x82Ñ\\x8bÐ¹)', r_ui=4.0, est=7.821738596999537, details={'actual_k': 46, 'was_impossible': False}),\n",
       " Prediction(uid='Michele', iid='Huawei Ascend P8 Smartphone, Display 5.2\" FHD, Memoria RAM da 3 GB, Processore HiSilicon Kirin 930 Octa-Core, Fotocamera Principale 13 MP, Grigio', r_ui=8.0, est=8.110125235809262, details={'actual_k': 21, 'was_impossible': False}),\n",
       " Prediction(uid='Ð\\x9dÐ°Ñ\\x82Ð°Ð»Ñ\\x8cÑ\\x8f', iid='Samsung Galaxy S5 SM-G900F 16GB (Ñ\\x81Ð¸Ð½Ð¸Ð¹)', r_ui=10.0, est=8.658674717188669, details={'actual_k': 21, 'was_impossible': False}),\n",
       " Prediction(uid='Ð\\x98Ð³Ð¾Ñ\\x80Ñ\\x8c', iid='Sony Xperia Z1 (Ñ\\x84Ð¸Ð¾Ð»ÐµÑ\\x82Ð¾Ð²Ñ\\x8bÐ¹)', r_ui=10.0, est=9.211948502476718, details={'actual_k': 31, 'was_impossible': False}),\n",
       " Prediction(uid='Ð\\x90Ð½Ñ\\x82Ð¾Ð½', iid='Sony Xperia C (Ñ\\x84Ð¸Ð¾Ð»ÐµÑ\\x82Ð¾Ð²Ñ\\x8bÐ¹)', r_ui=7.0, est=8.47356071385417, details={'actual_k': 27, 'was_impossible': False}),\n",
       " Prediction(uid='Ð\\x92Ð»Ð°Ð´', iid='Samsung N7100 Galaxy Note II 16GB (Ð±ÐµÐ»Ñ\\x8bÐ¹)', r_ui=9.0, est=7.29227457244688, details={'actual_k': 26, 'was_impossible': False}),\n",
       " Prediction(uid='Ð\\x95Ð»ÐµÐ½Ð°', iid='Sony Xperia L (Ð±ÐµÐ»Ñ\\x8bÐ¹)', r_ui=10.0, est=7.8855956809730605, details={'actual_k': 22, 'was_impossible': False}),\n",
       " Prediction(uid='Ð\\x98Ð³Ð¾Ñ\\x80Ñ\\x8c', iid='Sony Xperia ZR (Ñ\\x87ÐµÑ\\x80Ð½Ñ\\x8bÐ¹)', r_ui=9.0, est=8.319182607993401, details={'actual_k': 18, 'was_impossible': False}),\n",
       " Prediction(uid='Rob', iid='Huawei P8 Champagne / 16 GB', r_ui=9.0, est=9.288274486758752, details={'actual_k': 18, 'was_impossible': False}),\n",
       " Prediction(uid='Anna', iid='Samsung Galaxy S7 goud, roze / 32 GB', r_ui=8.0, est=8.644280868191748, details={'actual_k': 16, 'was_impossible': False}),\n",
       " Prediction(uid='Luca', iid='Lenovo Motorola Moto E Smartphone, Display 4.3 pollici qHD, Processore Qualcomm Dual-Core 1.2GHz, Memoria 4GB, 1GB RAM, Fotocamera 5MP, Android 4.4.2 KitKat, Bluetooth, WiFi, Bianco [Spagna]', r_ui=10.0, est=8.124756232674674, details={'actual_k': 22, 'was_impossible': False}),\n",
       " Prediction(uid='simone', iid='Samsung Galaxy J5 Smartphone, Oro [Italia]', r_ui=10.0, est=9.407006815549055, details={'actual_k': 11, 'was_impossible': False}),\n",
       " Prediction(uid='Ð\\x92Ð¸Ñ\\x82Ð°Ð»Ð¸Ð¹', iid='Samsung N7100 Galaxy Note II 16GB (Ð±ÐµÐ»Ñ\\x8bÐ¹)', r_ui=10.0, est=9.150021396309876, details={'actual_k': 28, 'was_impossible': False}),\n",
       " Prediction(uid='Ð\\x90Ð½Ð½Ð°', iid='Sony Xperia Z (Ñ\\x87ÐµÑ\\x80Ð½Ñ\\x8bÐ¹)', r_ui=9.0, est=7.684138889469493, details={'actual_k': 43, 'was_impossible': False}),\n",
       " Prediction(uid='rahul', iid='Samsung Galaxy S6', r_ui=10.0, est=8.421091445427729, details={'was_impossible': True, 'reason': 'User and/or item is unknown.'}),\n",
       " Prediction(uid='Marc', iid='Samsung Galaxy Ace S5830 Smartphone (8,9 cm (3,5 Zoll) Display, Touchscreen, Android OS, 5 Megapixel Kamera) weiÃ\\x9f', r_ui=8.0, est=4.6550474851809085, details={'actual_k': 8, 'was_impossible': False}),\n",
       " Prediction(uid='Ð\\x90Ð½Ð´Ñ\\x80ÐµÐ¹', iid='Sony Xperia M (Ñ\\x87ÐµÑ\\x80Ð½Ñ\\x8bÐ¹)', r_ui=8.0, est=8.638491234998035, details={'actual_k': 19, 'was_impossible': False}),\n",
       " Prediction(uid='thomas', iid='Samsung G935 Galaxy S7 Edge Smartphone da 32GB, Argento [Italia]', r_ui=10.0, est=5.0344827586206895, details={'actual_k': 1, 'was_impossible': False}),\n",
       " Prediction(uid='Ð\\xa0Ð¾Ð¼Ð°Ð½', iid='Apple iPhone 5s 16GB (Ñ\\x81ÐµÑ\\x80ÐµÐ±Ñ\\x80Ð¸Ñ\\x81Ñ\\x82Ñ\\x8bÐ¹)', r_ui=9.0, est=8.93711363946109, details={'actual_k': 43, 'was_impossible': False}),\n",
       " Prediction(uid='Ð¡ÐµÑ\\x80Ð³ÐµÐ¹', iid='Sony Xperia Z1 (Ñ\\x87ÐµÑ\\x80Ð½Ñ\\x8bÐ¹)', r_ui=10.0, est=8.196090103582488, details={'actual_k': 26, 'was_impossible': False}),\n",
       " Prediction(uid='Matteo', iid='Lenovo Motorola Moto G 4G (2 Generazione) Smartphone, Display 5 Pollici, LTE, Fotocamera 8 MP, Memoria 8 GB, Android 5 Lollipop, Nero [Italia]', r_ui=8.0, est=9.17858567347921, details={'actual_k': 38, 'was_impossible': False}),\n",
       " Prediction(uid='Cliente Amazon', iid='Lenovo Motorola Moto E Smartphone, Display 4.3 pollici qHD, Processore Qualcomm Dual-Core 1.2GHz, Memoria 4GB, 1GB RAM, Fotocamera 5MP, Android 4.4.2 KitKat, Bluetooth, WiFi, Bianco [Spagna]', r_ui=2.0, est=7.287469143325328, details={'actual_k': 17, 'was_impossible': False}),\n",
       " Prediction(uid='Paolo', iid=\"Huawei P9 Lite Smartphone, LTE, Display 5.2'' FHD, Processore Octa-Core Kirin 650, 16 GB Memoria Interna, 3GB RAM, Fotocamera 13 MP, Single-SIM, Android 6.0 Marshmallow, Bianco [Italia]\", r_ui=2.0, est=7.905811391821587, details={'actual_k': 50, 'was_impossible': False}),\n",
       " Prediction(uid='David', iid='Apple iPhone 5s GSM Unlocked Cellphone, 16 GB, Space Gray', r_ui=10.0, est=2.5601418539542333, details={'actual_k': 24, 'was_impossible': False}),\n",
       " Prediction(uid='Alessandra', iid='Asus ZenFone 2 Smartphone, Schermo da 5.5\" Full HD, Processore Quad Core 2,3 GHz, RAM 4 GB, 32 GB, 4G/LTE, Argento', r_ui=10.0, est=5.040736182346377, details={'actual_k': 13, 'was_impossible': False}),\n",
       " Prediction(uid='Dani', iid='Samsung Galaxy S7 Edge zwart / 32 GB', r_ui=10.0, est=7.621162244340053, details={'actual_k': 2, 'was_impossible': False}),\n",
       " Prediction(uid='Valentina', iid='Lenovo Motorola Moto G 4G (2 Generazione) Smartphone, Display 5 Pollici, LTE, Fotocamera 8 MP, Memoria 8 GB, Android 5 Lollipop, Nero [Italia]', r_ui=8.0, est=9.706170060809079, details={'actual_k': 45, 'was_impossible': False}),\n",
       " Prediction(uid='Cliente Amazon', iid='Lenovo Motorola Moto E Smartphone, Display 4.3 pollici qHD, Processore Qualcomm Dual-Core 1.2GHz, Memoria 4GB, 1GB RAM, Fotocamera 5MP, Android 4.4.2 KitKat, Bluetooth, WiFi, Bianco [Spagna]', r_ui=8.0, est=7.287469143325328, details={'actual_k': 17, 'was_impossible': False}),\n",
       " Prediction(uid='Carlo', iid='Lenovo Motorola Moto G 4G 3 Generazione Smartphone, Display 5\", Fotocamera 13 MP, Memoria 16 GB, Android 6 Lollipop, Nero [Italia]', r_ui=10.0, est=8.593099985044084, details={'actual_k': 33, 'was_impossible': False}),\n",
       " Prediction(uid='Ð\\x90Ñ\\x80Ñ\\x82ÐµÐ¼', iid='Sony Xperia Z1 Compact (Ð»Ð°Ð¹Ð¼)', r_ui=9.0, est=9.127190060576428, details={'actual_k': 28, 'was_impossible': False}),\n",
       " Prediction(uid='Dave', iid='Huawei P8 Lite wit / 16 GB', r_ui=9.0, est=9.546908009994043, details={'actual_k': 17, 'was_impossible': False}),\n",
       " Prediction(uid='Ð\\x95Ð³Ð¾Ñ\\x80', iid='Apple iPhone 5s 16GB (Ñ\\x81ÐµÑ\\x80ÐµÐ±Ñ\\x80Ð¸Ñ\\x81Ñ\\x82Ñ\\x8bÐ¹)', r_ui=10.0, est=8.68101195064778, details={'actual_k': 49, 'was_impossible': False}),\n",
       " Prediction(uid='Ð\\x94Ð¼Ð¸Ñ\\x82Ñ\\x80Ð¸Ð¹', iid='Samsung Galaxy S5 SM-G900F 16GB (Ñ\\x87ÐµÑ\\x80Ð½Ñ\\x8bÐ¹)', r_ui=3.0, est=6.6045339641751735, details={'actual_k': 32, 'was_impossible': False}),\n",
       " Prediction(uid='Alfredo', iid='Huawei P8 Lite Smartphone, Display 5\" IPS, Processore Octa-Core 1.5 GHz, Memoria Interna da 16 GB, 2 GB RAM, Fotocamera 13 MP, monoSIM, Android 5.0, Bianco [Italia]', r_ui=10.0, est=7.404990553634647, details={'actual_k': 21, 'was_impossible': False}),\n",
       " Prediction(uid='Alex', iid='Huawei P8lite zwart / 16 GB', r_ui=10.0, est=8.526213151122217, details={'actual_k': 31, 'was_impossible': False}),\n",
       " Prediction(uid='Ð\\x98Ð³Ð¾Ñ\\x80Ñ\\x8c', iid='Sony Xperia SP (Ð±ÐµÐ»Ñ\\x8bÐ¹)', r_ui=7.0, est=8.876439840253743, details={'actual_k': 38, 'was_impossible': False}),\n",
       " Prediction(uid='Ð¡Ð²ÐµÑ\\x82Ð»Ð°Ð½Ð°', iid='Sony Xperia Z1 Compact (Ñ\\x80Ð¾Ð·Ð¾Ð²Ñ\\x8bÐ¹)', r_ui=10.0, est=9.3553960595796, details={'actual_k': 37, 'was_impossible': False}),\n",
       " Prediction(uid='Christine', iid='SAMSUNG Galaxy A3 (2017) - 16 GB, Black', r_ui=8.0, est=9.360345396691585, details={'actual_k': 25, 'was_impossible': False}),\n",
       " Prediction(uid='Guido', iid='Lenovo Motorola Moto G 4G (2 Generazione) Smartphone, Display 5 Pollici, LTE, Fotocamera 8 MP, Memoria 8 GB, Android 5 Lollipop, Nero [Italia]', r_ui=2.0, est=8.25397714525137, details={'actual_k': 50, 'was_impossible': False}),\n",
       " Prediction(uid='Amazon Customer', iid='Sony Xperia ZR (Ð±ÐµÐ»Ñ\\x8bÐ¹)', r_ui=9.0, est=6.179748700291174, details={'actual_k': 23, 'was_impossible': False}),\n",
       " Prediction(uid='Ð¡ÐµÑ\\x80Ð³ÐµÐ¹', iid='Sony Xperia Z1 (Ð±ÐµÐ»Ñ\\x8bÐ¹)', r_ui=10.0, est=7.543360121420226, details={'actual_k': 24, 'was_impossible': False}),\n",
       " Prediction(uid='Ð°Ð½Ð´Ñ\\x80ÐµÐ¹', iid='Sony Xperia Z1 (Ñ\\x87ÐµÑ\\x80Ð½Ñ\\x8bÐ¹)', r_ui=10.0, est=9.392420382976688, details={'actual_k': 33, 'was_impossible': False}),\n",
       " Prediction(uid='Ð\\x9dÐ°Ð´ÐµÐ¶Ð´Ð°', iid='Apple iPhone 5s 16GB (Ñ\\x81ÐµÑ\\x80ÐµÐ±Ñ\\x80Ð¸Ñ\\x81Ñ\\x82Ñ\\x8bÐ¹)', r_ui=9.0, est=8.686291435704726, details={'actual_k': 50, 'was_impossible': False}),\n",
       " Prediction(uid='Lisa', iid='Samsung Galaxy Centura Android Prepaid Phone (TracFone)', r_ui=2.0, est=9.890555428308247, details={'actual_k': 11, 'was_impossible': False}),\n",
       " Prediction(uid='Ð\\x9cÐ¸Ñ\\x85Ð°Ð¸Ð»', iid='Sony Xperia SP (ÐºÑ\\x80Ð°Ñ\\x81Ð½Ñ\\x8bÐ¹)', r_ui=9.0, est=8.559667604523323, details={'actual_k': 24, 'was_impossible': False}),\n",
       " Prediction(uid='Anna', iid='Apple iPhone 5s GSM Unlocked Cellphone, 16 GB, Space Gray', r_ui=10.0, est=5.876083738397595, details={'actual_k': 11, 'was_impossible': False}),\n",
       " Prediction(uid='Ð\\xa0Ð¾Ð¼Ð°Ð½', iid='Sony Xperia SP (Ñ\\x87ÐµÑ\\x80Ð½Ñ\\x8bÐ¹)', r_ui=9.0, est=7.598556753640188, details={'actual_k': 24, 'was_impossible': False}),\n",
       " Prediction(uid='Luigi', iid='Huawei P8 Lite Smartphone, Display 5\" IPS, Processore Octa-Core 1.5 GHz, Memoria Interna da 16 GB, 2 GB RAM, Fotocamera 13 MP, monoSIM, Android 5.0, Bianco [Italia]', r_ui=10.0, est=8.17765801869321, details={'actual_k': 42, 'was_impossible': False}),\n",
       " Prediction(uid='Amazon Kunde', iid='Samsung Galaxy S3 mini (GT-I8200) Smartphone (4 Zoll (10,2 cm) Touch-Display, 8 GB Speicher, Android 4.2) blau', r_ui=2.0, est=8.026415083495696, details={'actual_k': 30, 'was_impossible': False}),\n",
       " Prediction(uid='Ð¯Ð½Ð°', iid='Apple iPhone 5s 16GB (Ñ\\x81ÐµÑ\\x80ÐµÐ±Ñ\\x80Ð¸Ñ\\x81Ñ\\x82Ñ\\x8bÐ¹)', r_ui=10.0, est=8.150920496048833, details={'actual_k': 44, 'was_impossible': False}),\n",
       " Prediction(uid='Riccardo', iid='Asus ZenFone 2 Laser Smartphone, Display da 5\", 16 GB, Dual SIM, Nero [Italia]', r_ui=10.0, est=8.443976457879621, details={'actual_k': 20, 'was_impossible': False}),\n",
       " Prediction(uid='Ð\\x9aÑ\\x81ÐµÐ½Ð¸Ñ\\x8f', iid='Samsung Galaxy A3', r_ui=10.0, est=8.696544543453118, details={'actual_k': 24, 'was_impossible': False}),\n",
       " Prediction(uid='massimo', iid='Asus ZenFone 2 Laser Smartphone, Display da 5\", 16 GB, Dual SIM, Nero [Italia]', r_ui=10.0, est=2.6123323455996017, details={'actual_k': 18, 'was_impossible': False}),\n",
       " Prediction(uid='Ð\\x90Ð½Ð°Ñ\\x81Ñ\\x82Ð°Ñ\\x81Ð¸Ñ\\x8f', iid='Samsung Galaxy S4 GT-I9500 16GB (Ð±ÐµÐ»Ñ\\x8bÐ¹)', r_ui=10.0, est=8.357146803076917, details={'actual_k': 39, 'was_impossible': False}),\n",
       " Prediction(uid='Ð\\x98Ð²Ð°Ð½', iid='Sony Xperia C (Ñ\\x84Ð¸Ð¾Ð»ÐµÑ\\x82Ð¾Ð²Ñ\\x8bÐ¹)', r_ui=7.0, est=8.316726364818654, details={'actual_k': 22, 'was_impossible': False}),\n",
       " Prediction(uid='monica', iid=\"Huawei P9 Lite Smartphone, LTE, Display 5.2'' FHD, Processore Octa-Core Kirin 650, 16 GB Memoria Interna, 3GB RAM, Fotocamera 13 MP, Single-SIM, Android 6.0 Marshmallow, Bianco [Italia]\", r_ui=8.0, est=8.421091445427729, details={'was_impossible': True, 'reason': 'User and/or item is unknown.'}),\n",
       " Prediction(uid='Ð\\x95Ð³Ð¾Ñ\\x80', iid='Apple iPhone 5s 16GB (Ñ\\x81ÐµÑ\\x80ÐµÐ±Ñ\\x80Ð¸Ñ\\x81Ñ\\x82Ñ\\x8bÐ¹)', r_ui=5.0, est=8.68101195064778, details={'actual_k': 49, 'was_impossible': False}),\n",
       " Prediction(uid='Ð¡Ð²ÐµÑ\\x82Ð»Ð°Ð½Ð°', iid='Samsung N7100 Galaxy Note II 16GB (Ñ\\x81ÐµÑ\\x80Ñ\\x8bÐ¹)', r_ui=9.0, est=10, details={'actual_k': 37, 'was_impossible': False}),\n",
       " Prediction(uid='Franco', iid='Huawei P8 Lite Smartphone, Display 5\" IPS, Processore Octa-Core 1.5 GHz, Memoria Interna da 16 GB, 2 GB RAM, Fotocamera 13 MP, monoSIM, Android 5.0, Bianco [Italia]', r_ui=10.0, est=8.137822184578425, details={'actual_k': 40, 'was_impossible': False}),\n",
       " Prediction(uid='Ð\\x94Ð°Ñ\\x80Ñ\\x8cÑ\\x8f', iid='Samsung Galaxy S4 mini Duos GT-I9192 (Ñ\\x87ÐµÑ\\x80Ð½Ñ\\x8bÐ¹)', r_ui=9.0, est=8.739425842836935, details={'actual_k': 18, 'was_impossible': False}),\n",
       " Prediction(uid='andrea', iid='Lenovo Motorola Moto G Smartphone, 4,5 pollici display HD, processore Qualcomm, memoria 16GB, MicroSIM, Android 4.3 OS, fotocamera da 5 MP, Nero [Germania]', r_ui=10.0, est=9.282623846910315, details={'actual_k': 34, 'was_impossible': False}),\n",
       " Prediction(uid='Michel', iid='Huawei P8lite zwart / 16 GB', r_ui=8.0, est=8.99840144343287, details={'actual_k': 44, 'was_impossible': False}),\n",
       " Prediction(uid='Ð¡Ñ\\x82Ð°Ð½Ð¸Ñ\\x81Ð»Ð°Ð²', iid='Sony Xperia Z (Ð±ÐµÐ»Ñ\\x8bÐ¹)', r_ui=6.0, est=8.429202495285892, details={'actual_k': 48, 'was_impossible': False}),\n",
       " Prediction(uid='Ð\\x90Ð½Ð´Ñ\\x80ÐµÐ¹', iid='Sony Xperia L (ÐºÑ\\x80Ð°Ñ\\x81Ð½Ñ\\x8bÐ¹)', r_ui=8.0, est=7.915235362768238, details={'actual_k': 26, 'was_impossible': False}),\n",
       " Prediction(uid='Ð\\x90Ð½Ð´Ñ\\x80ÐµÐ¹', iid='Apple iPhone 5s 16GB (Ñ\\x81ÐµÑ\\x80ÐµÐ±Ñ\\x80Ð¸Ñ\\x81Ñ\\x82Ñ\\x8bÐ¹)', r_ui=9.0, est=7.7185618566195755, details={'actual_k': 47, 'was_impossible': False}),\n",
       " Prediction(uid='Ð\\x9dÐ°Ñ\\x82Ð°Ð»Ñ\\x8cÑ\\x8f', iid='Samsung Galaxy S4 mini Duos GT-I9192 (Ñ\\x87ÐµÑ\\x80Ð½Ñ\\x8bÐ¹)', r_ui=10.0, est=8.50141206956801, details={'actual_k': 12, 'was_impossible': False}),\n",
       " Prediction(uid='Cristina', iid='Huawei Honor 5X Unlocked Smartphone, 16GB Dark Grey (US Warranty)', r_ui=8.0, est=8.79923046384495, details={'actual_k': 3, 'was_impossible': False}),\n",
       " Prediction(uid='Luca', iid='Huawei P8 lite Smartphone, Display 5.0\" IPS, Dual Sim, Processore Octa-Core, Memoria 16 GB, Fotocamera 13 MP, Android 5.0, Bianco', r_ui=2.0, est=8.057904961067724, details={'actual_k': 48, 'was_impossible': False}),\n",
       " Prediction(uid='Ð¢Ð°Ñ\\x82Ñ\\x8cÑ\\x8fÐ½Ð°', iid='Sony Xperia C (Ñ\\x87ÐµÑ\\x80Ð½Ñ\\x8bÐ¹)', r_ui=6.0, est=8.104953496627697, details={'actual_k': 34, 'was_impossible': False}),\n",
       " Prediction(uid='Ð¡Ð°Ñ\\x88Ð°', iid='Nokia 101 Premium Black', r_ui=10.0, est=8.408113018973587, details={'actual_k': 21, 'was_impossible': False}),\n",
       " Prediction(uid='Ð\\x94Ð¸Ð¼Ð°', iid='Apple iPhone 5s 16GB (Ñ\\x81ÐµÑ\\x80ÐµÐ±Ñ\\x80Ð¸Ñ\\x81Ñ\\x82Ñ\\x8bÐ¹)', r_ui=7.0, est=9.88590564742447, details={'actual_k': 50, 'was_impossible': False}),\n",
       " Prediction(uid='Ð\\x90Ñ\\x80Ñ\\x82ÐµÐ¼', iid='Sony Xperia Z (Ñ\\x87ÐµÑ\\x80Ð½Ñ\\x8bÐ¹)', r_ui=10.0, est=8.105243395274648, details={'actual_k': 39, 'was_impossible': False}),\n",
       " Prediction(uid='Ð\\x92Ð»Ð°Ð´Ð¸Ð¼Ð¸Ñ\\x80', iid='Samsung Galaxy S4 GT-I9500 16GB (Ð±ÐµÐ»Ñ\\x8bÐ¹)', r_ui=7.0, est=7.154831416472747, details={'actual_k': 32, 'was_impossible': False}),\n",
       " Prediction(uid='Lorenzo', iid='Sim Free Motorola Moto G 4th Generation Mobile Phone - Black', r_ui=10.0, est=8.429395606754353, details={'actual_k': 4, 'was_impossible': False}),\n",
       " Prediction(uid='Ronald', iid='SAMSUNG Galaxy A3 (2017) - 16 GB, Black', r_ui=1.0, est=9.201593818493913, details={'actual_k': 30, 'was_impossible': False}),\n",
       " Prediction(uid='Ð\\x9dÐ¸ÐºÐ¸Ñ\\x82Ð°', iid='Samsung Galaxy A3', r_ui=8.0, est=9.727088016391438, details={'actual_k': 25, 'was_impossible': False}),\n",
       " Prediction(uid='Alex', iid='Lenovo Motorola Moto G Smartphone, 4,5 pollici display HD, processore Qualcomm, memoria 16GB, MicroSIM, Android 4.3 OS, fotocamera da 5 MP, Nero [Germania]', r_ui=10.0, est=4.869316207768426, details={'actual_k': 34, 'was_impossible': False}),\n",
       " Prediction(uid='sam', iid='Huawei P8lite zwart / 16 GB', r_ui=8.0, est=7.22695338343261, details={'actual_k': 8, 'was_impossible': False}),\n",
       " Prediction(uid='Ð\\x9dÐ¸ÐºÐ¸Ñ\\x82Ð°', iid='Samsung Galaxy S5 SM-G900F 16GB (Ð·Ð¾Ð»Ð¾Ñ\\x82Ð¸Ñ\\x81Ñ\\x82Ñ\\x8bÐ¹)', r_ui=10.0, est=8.479867009854377, details={'actual_k': 27, 'was_impossible': False}),\n",
       " Prediction(uid='Ð\\x9cÐ°Ñ\\x80Ð¸Ñ\\x8f', iid='Sony Xperia C (Ñ\\x87ÐµÑ\\x80Ð½Ñ\\x8bÐ¹)', r_ui=9.0, est=8.538050652917574, details={'actual_k': 24, 'was_impossible': False}),\n",
       " Prediction(uid='Alessandro', iid='Lenovo Motorola Moto G LTE Smartphone, Display 4.5\", Fotocamera 5 MP, Memoria 8 GB, Quad-Core 1.2 GHz, 1 GB RAM, Micro SD, Android 4.4.3, Bianco [Italia]', r_ui=10.0, est=7.707665932130008, details={'actual_k': 27, 'was_impossible': False}),\n",
       " Prediction(uid='Ð\\x92Ð»Ð°Ð´Ð¸Ñ\\x81Ð»Ð°Ð²', iid='Sony Xperia Z (Ð±ÐµÐ»Ñ\\x8bÐ¹)', r_ui=10.0, est=9.559699997557557, details={'actual_k': 50, 'was_impossible': False}),\n",
       " Prediction(uid='Anita', iid='APPLE iPhone 6s Plus - 128 GB, Rose Gold', r_ui=10.0, est=9.028090919456714, details={'actual_k': 4, 'was_impossible': False}),\n",
       " Prediction(uid='Ð\\x94Ð¼Ð¸Ñ\\x82Ñ\\x80Ð¸Ð¹', iid='Sony Xperia Z1 Compact (Ð»Ð°Ð¹Ð¼)', r_ui=9.0, est=8.91728253048711, details={'actual_k': 29, 'was_impossible': False}),\n",
       " Prediction(uid='Ð\\x98Ð³Ð¾Ñ\\x80Ñ\\x8c', iid='Sony Xperia M (Ñ\\x84Ð¸Ð¾Ð»ÐµÑ\\x82Ð¾Ð²Ñ\\x8bÐ¹)', r_ui=9.0, est=9.179732899843085, details={'actual_k': 20, 'was_impossible': False}),\n",
       " Prediction(uid='Paolo', iid='Huawei P8 Lite Smartphone, Display 5\" IPS, Processore Octa-Core 1.5 GHz, Memoria Interna da 16 GB, 2 GB RAM, Fotocamera 13 MP, monoSIM, Android 5.0, Bianco [Italia]', r_ui=8.0, est=9.149352902025345, details={'actual_k': 50, 'was_impossible': False}),\n",
       " Prediction(uid='Ð¢Ð°Ñ\\x82Ñ\\x8cÑ\\x8fÐ½Ð°', iid='Sony Xperia M (Ñ\\x84Ð¸Ð¾Ð»ÐµÑ\\x82Ð¾Ð²Ñ\\x8bÐ¹)', r_ui=9.0, est=7.667415874858971, details={'actual_k': 23, 'was_impossible': False}),\n",
       " Prediction(uid='David', iid='Samsung Galaxy S7 goud, roze / 32 GB', r_ui=10.0, est=8.42976892010245, details={'actual_k': 19, 'was_impossible': False}),\n",
       " Prediction(uid='Peter', iid='Samsung Galaxy S7 Edge zwart / 32 GB', r_ui=10.0, est=8.07023064032856, details={'actual_k': 30, 'was_impossible': False}),\n",
       " Prediction(uid='Barbara', iid=\"Huawei P9 Lite Smartphone, LTE, Display 5.2'' FHD, Processore Octa-Core Kirin 650, 16 GB Memoria Interna, 3GB RAM, Fotocamera 13 MP, Single-SIM, Android 6.0 Marshmallow, Nero [Italia]\", r_ui=10.0, est=6.328870612141073, details={'actual_k': 30, 'was_impossible': False}),\n",
       " Prediction(uid='Ð\\x92Ð»Ð°Ð´Ð¸Ð¼Ð¸Ñ\\x80', iid='Samsung Galaxy S4 GT-I9500 16GB (Ñ\\x87ÐµÑ\\x80Ð½Ñ\\x8bÐ¹)', r_ui=8.0, est=6.760329425860091, details={'actual_k': 31, 'was_impossible': False}),\n",
       " Prediction(uid='Kevin', iid='SAMSUNG Galaxy A3 (2017) - 16 GB, Black', r_ui=7.0, est=9.03098075060348, details={'actual_k': 39, 'was_impossible': False}),\n",
       " Prediction(uid='Laura', iid='APPLE iPhone 7 - Silver, 128 GB', r_ui=9.0, est=7.803005965452101, details={'actual_k': 32, 'was_impossible': False}),\n",
       " Prediction(uid='Ð\\x9dÐ¸ÐºÐ¸Ñ\\x82Ð°', iid='Sony Xperia SP (Ð±ÐµÐ»Ñ\\x8bÐ¹)', r_ui=10.0, est=9.1409955474437, details={'actual_k': 26, 'was_impossible': False}),\n",
       " Prediction(uid='Ð\\x9cÐ¸Ñ\\x85Ð°Ð¸Ð»', iid='Samsung Galaxy S4 mini Duos GT-I9192 (Ð±ÐµÐ»Ñ\\x8bÐ¹)', r_ui=2.0, est=8.879758853574296, details={'actual_k': 25, 'was_impossible': False}),\n",
       " Prediction(uid='Anna', iid='Asus ZenFone 2 Laser 5.5\" Smartphone, 16 GB, Dual SIM, Nero [Italia]', r_ui=8.0, est=9.054234468097452, details={'actual_k': 11, 'was_impossible': False}),\n",
       " Prediction(uid='tony', iid='Huawei P8 Lite wit / 16 GB', r_ui=9.0, est=10, details={'actual_k': 6, 'was_impossible': False}),\n",
       " Prediction(uid='Ð\\x90Ð½Ð½Ð°', iid='Sony Xperia L (Ñ\\x87ÐµÑ\\x80Ð½Ñ\\x8bÐ¹)', r_ui=5.0, est=8.140095150604944, details={'actual_k': 19, 'was_impossible': False}),\n",
       " Prediction(uid='Ð\\x9eÐ»ÐµÐ³', iid='Sony Xperia M (Ñ\\x87ÐµÑ\\x80Ð½Ñ\\x8bÐ¹)', r_ui=10.0, est=9.069348433804286, details={'actual_k': 19, 'was_impossible': False}),\n",
       " Prediction(uid='Enrico', iid='Lenovo Motorola Moto G Smartphone, 4,5 pollici display HD, processore Qualcomm, memoria 16GB, MicroSIM, Android 4.3 OS, fotocamera da 5 MP, Nero [Germania]', r_ui=8.0, est=10, details={'actual_k': 44, 'was_impossible': False}),\n",
       " Prediction(uid='Roberto', iid='Huawei Y6 Smartphone, Display 5.0\" HD, IPS, 2 GB RAM, 8 GB Memoria Interna, Dual SIM, Fotocamera 8 MP, Android 5.1, Nero', r_ui=8.0, est=8.256093211196914, details={'actual_k': 17, 'was_impossible': False}),\n",
       " Prediction(uid='Alessandro', iid='LG G4 Smartphone Display IPS 5.5\" QHD, Fotocamera 16 MP, Memoria Interna 32 GB, 3 GB RAM, Colore Marrone', r_ui=8.0, est=7.122686861821517, details={'actual_k': 20, 'was_impossible': False}),\n",
       " Prediction(uid='Marina', iid=\"Huawei P9 Lite Smartphone, LTE, Display 5.2'' FHD, Processore Octa-Core Kirin 650, 16 GB Memoria Interna, 3GB RAM, Fotocamera 13 MP, Single-SIM, Android 6.0 Marshmallow, Nero [Italia]\", r_ui=10.0, est=9.006604191839347, details={'actual_k': 4, 'was_impossible': False}),\n",
       " Prediction(uid='Ð\\x95Ð»ÐµÐ½Ð°', iid='Sony Xperia M (Ñ\\x84Ð¸Ð¾Ð»ÐµÑ\\x82Ð¾Ð²Ñ\\x8bÐ¹)', r_ui=3.0, est=6.32985319435838, details={'actual_k': 18, 'was_impossible': False}),\n",
       " Prediction(uid='Peter', iid='APPLE iPhone 7 - Silver, 128 GB', r_ui=8.0, est=8.628639029165637, details={'actual_k': 39, 'was_impossible': False}),\n",
       " Prediction(uid='Roger', iid='MICROSOFT Lumia 650 - 16 GB, Black', r_ui=3.0, est=6.469770626579743, details={'actual_k': 9, 'was_impossible': False}),\n",
       " Prediction(uid='Ð\\x92Ð¸ÐºÑ\\x82Ð¾Ñ\\x80Ð¸Ñ\\x8f', iid='Sony Xperia L (ÐºÑ\\x80Ð°Ñ\\x81Ð½Ñ\\x8bÐ¹)', r_ui=10.0, est=8.890945271438323, details={'actual_k': 25, 'was_impossible': False}),\n",
       " Prediction(uid='Ð¡ÐµÑ\\x80Ð³ÐµÐ¹', iid='Samsung Galaxy S5 SM-G900F 16GB (Ð±ÐµÐ»Ñ\\x8bÐ¹)', r_ui=9.0, est=6.91913016221358, details={'actual_k': 17, 'was_impossible': False}),\n",
       " Prediction(uid='Ð®Ð»Ð¸Ñ\\x8f', iid='Sony Xperia C (Ñ\\x87ÐµÑ\\x80Ð½Ñ\\x8bÐ¹)', r_ui=10.0, est=8.65465835231688, details={'actual_k': 32, 'was_impossible': False}),\n",
       " Prediction(uid='Ð\\x92Ð¸ÐºÑ\\x82Ð¾Ñ\\x80Ð¸Ñ\\x8f', iid='Sony Xperia J (Ñ\\x87ÐµÑ\\x80Ð½Ñ\\x8bÐ¹)', r_ui=9.0, est=8.055758102556911, details={'actual_k': 35, 'was_impossible': False}),\n",
       " Prediction(uid='Ð¡Ð²ÐµÑ\\x82Ð»Ð°Ð½Ð°', iid='Sony Xperia C (Ñ\\x87ÐµÑ\\x80Ð½Ñ\\x8bÐ¹)', r_ui=8.0, est=8.951265080907241, details={'actual_k': 39, 'was_impossible': False}),\n",
       " Prediction(uid='Ð\\xa0Ð¾Ð¼Ð°Ð½', iid='Samsung Galaxy S4 mini Duos GT-I9192 (Ð±ÐµÐ»Ñ\\x8bÐ¹)', r_ui=8.0, est=4.1996409466542435, details={'actual_k': 25, 'was_impossible': False}),\n",
       " Prediction(uid='Ð\\x92Ð»Ð°Ð´Ð¸Ñ\\x81Ð»Ð°Ð²', iid='Sony Xperia Z1 (Ñ\\x84Ð¸Ð¾Ð»ÐµÑ\\x82Ð¾Ð²Ñ\\x8bÐ¹)', r_ui=9.0, est=9.984638229655065, details={'actual_k': 28, 'was_impossible': False}),\n",
       " Prediction(uid='Ð\\x94Ð°Ñ\\x80Ñ\\x8cÑ\\x8f', iid='Sony Xperia C (Ð±ÐµÐ»Ñ\\x8bÐ¹)', r_ui=9.0, est=8.559376631339289, details={'actual_k': 29, 'was_impossible': False}),\n",
       " Prediction(uid='Gabriele', iid='WIKO Fever 4G Smartphone, 16 GB, Dual SIM, Bianco', r_ui=10.0, est=8.476351518819909, details={'actual_k': 17, 'was_impossible': False}),\n",
       " Prediction(uid='Andrea', iid=\"Huawei P9 Lite Smartphone, LTE, Display 5.2'' FHD, Processore Octa-Core Kirin 650, 16 GB Memoria Interna, 3GB RAM, Fotocamera 13 MP, Single-SIM, Android 6.0 Marshmallow, Nero [Italia]\", r_ui=8.0, est=7.82900961782232, details={'actual_k': 35, 'was_impossible': False}),\n",
       " Prediction(uid='Luca', iid='Huawei P8 lite Smartphone, Display 5.0\" IPS, Dual Sim, Processore Octa-Core, Memoria 16 GB, Fotocamera 13 MP, Android 5.0, Bianco', r_ui=4.0, est=8.057904961067724, details={'actual_k': 48, 'was_impossible': False}),\n",
       " Prediction(uid='Ð\\x9cÐ°ÐºÑ\\x81Ð¸Ð¼', iid='Samsung Galaxy S4 mini Duos GT-I9192 (Ñ\\x87ÐµÑ\\x80Ð½Ñ\\x8bÐ¹)', r_ui=8.0, est=9.276529851507865, details={'actual_k': 24, 'was_impossible': False}),\n",
       " Prediction(uid='Giovanni', iid='Huawei P8 lite Smartphone, Display 5.0\" IPS, Dual Sim, Processore Octa-Core, Memoria 16 GB, Fotocamera 13 MP, Android 5.0, Bianco', r_ui=8.0, est=9.021087134212749, details={'actual_k': 50, 'was_impossible': False}),\n",
       " Prediction(uid='unknown', iid='Sony Xperia Z1 Compact (Ñ\\x87ÐµÑ\\x80Ð½Ñ\\x8bÐ¹)', r_ui=9.0, est=9.036283720033662, details={'actual_k': 26, 'was_impossible': False}),\n",
       " Prediction(uid='Chris', iid='APPLE iPhone 7 - Silver, 128 GB', r_ui=6.0, est=8.114973008785975, details={'actual_k': 29, 'was_impossible': False}),\n",
       " Prediction(uid='Simone', iid='Asus ZE551ML-2A760WW Smartphone ZenFone 2 Deluxe, 5.5\", 4 GB RAM, 64 GB, Intel Quad-Core Z3580, Dual SIM, Illusion Purple', r_ui=8.0, est=8.901219593726644, details={'actual_k': 18, 'was_impossible': False}),\n",
       " Prediction(uid='Ð\\x95Ð»ÐµÐ½Ð°', iid='Sony Xperia Z (Ð±ÐµÐ»Ñ\\x8bÐ¹)', r_ui=9.0, est=8.799869005129437, details={'actual_k': 48, 'was_impossible': False}),\n",
       " Prediction(uid='Patricia', iid='Samsung Galaxy S7 Edge goud / 32 GB', r_ui=8.0, est=9.727698903660611, details={'actual_k': 13, 'was_impossible': False}),\n",
       " Prediction(uid='Anthony', iid='APPLE iPhone 7 - Silver, 128 GB', r_ui=8.0, est=6.792161064776481, details={'actual_k': 28, 'was_impossible': False}),\n",
       " Prediction(uid='Rob', iid='Huawei P8 Lite goud, wit / 16 GB', r_ui=9.0, est=8.945184575911021, details={'actual_k': 22, 'was_impossible': False}),\n",
       " Prediction(uid='Alan', iid='APPLE iPhone 6s Plus - 128 GB, Rose Gold', r_ui=10.0, est=9.806490892603023, details={'actual_k': 14, 'was_impossible': False}),\n",
       " Prediction(uid='Patrick', iid='Huawei P8lite zwart / 16 GB', r_ui=9.0, est=7.820758586709491, details={'actual_k': 8, 'was_impossible': False}),\n",
       " Prediction(uid='Tim', iid='Samsung Galaxy S7 Edge zwart / 32 GB', r_ui=9.0, est=8.868554139777647, details={'actual_k': 4, 'was_impossible': False}),\n",
       " Prediction(uid='Enrico', iid='Lenovo Motorola Moto G 4G (2 Generazione) Smartphone, Display 5 Pollici, LTE, Fotocamera 8 MP, Memoria 8 GB, Android 5 Lollipop, Nero [Italia]', r_ui=2.0, est=9.357550099796395, details={'actual_k': 41, 'was_impossible': False}),\n",
       " Prediction(uid='Ð\\x9cÐ°ÐºÑ\\x81Ð¸Ð¼', iid='Sony Xperia Z1 (Ð±ÐµÐ»Ñ\\x8bÐ¹)', r_ui=9.0, est=7.159456959324019, details={'actual_k': 24, 'was_impossible': False}),\n",
       " Prediction(uid='Ð\\x90Ð»ÐµÐºÑ\\x81Ð°Ð½Ð´Ñ\\x80', iid='Apple iPhone 5s 16GB (Ñ\\x81ÐµÑ\\x80ÐµÐ±Ñ\\x80Ð¸Ñ\\x81Ñ\\x82Ñ\\x8bÐ¹)', r_ui=7.0, est=7.091684983354108, details={'actual_k': 50, 'was_impossible': False}),\n",
       " Prediction(uid='Danny', iid='Motorola Moto X Pure Edition Unlocked Smartphone, 64 GB Black XT1575, 5.7\" Quad HD display, 21 MP Camera, Quad-core 1.8GHz', r_ui=10.0, est=8.440468413477543, details={'actual_k': 10, 'was_impossible': False}),\n",
       " Prediction(uid='Tom', iid='APPLE iPhone 7 - Silver, 32 GB', r_ui=10.0, est=7.974168179367694, details={'actual_k': 23, 'was_impossible': False}),\n",
       " Prediction(uid='Ryan', iid='APPLE iPhone 7 - Silver, 32 GB', r_ui=10.0, est=2.364733842410792, details={'actual_k': 19, 'was_impossible': False}),\n",
       " Prediction(uid='Ð\\x94Ð¼Ð¸Ñ\\x82Ñ\\x80Ð¸Ð¹', iid='Sony Xperia Z (Ð±ÐµÐ»Ñ\\x8bÐ¹)', r_ui=7.0, est=7.9898311890933105, details={'actual_k': 49, 'was_impossible': False}),\n",
       " Prediction(uid='Ð\\x90Ð»ÐµÐºÑ\\x81Ð°Ð½Ð´Ñ\\x80', iid='Sony Xperia L (Ð±ÐµÐ»Ñ\\x8bÐ¹)', r_ui=7.0, est=8.453778126136688, details={'actual_k': 21, 'was_impossible': False}),\n",
       " Prediction(uid='Laura', iid='Samsung Galaxy S7 Edge zwart / 32 GB', r_ui=8.0, est=7.7940607133018105, details={'actual_k': 22, 'was_impossible': False}),\n",
       " Prediction(uid='Ð\\x90Ð½Ð°Ñ\\x81Ñ\\x82Ð°Ñ\\x81Ð¸Ñ\\x8f', iid='Sony Xperia J (Ñ\\x87ÐµÑ\\x80Ð½Ñ\\x8bÐ¹)', r_ui=9.0, est=7.674023444849327, details={'actual_k': 38, 'was_impossible': False}),\n",
       " Prediction(uid='Ð\\x94ÐµÐ½Ð¸Ñ\\x81', iid='Samsung Galaxy S4 mini Duos GT-I9192 (Ð±ÐµÐ»Ñ\\x8bÐ¹)', r_ui=10.0, est=8.502339751153011, details={'actual_k': 22, 'was_impossible': False}),\n",
       " Prediction(uid='Amazon Customer', iid='Samsung Galaxy S4 mini Duos GT-I9192 (Ð±ÐµÐ»Ñ\\x8bÐ¹)', r_ui=5.0, est=6.752259917556993, details={'actual_k': 28, 'was_impossible': False}),\n",
       " Prediction(uid='Claudia', iid='Samsung Galaxy S7 Edge zwart / 32 GB', r_ui=10.0, est=9.496580645310315, details={'actual_k': 12, 'was_impossible': False}),\n",
       " Prediction(uid='Ð\\x94Ð¸Ð¼Ð°', iid='Sony Xperia SP (Ð±ÐµÐ»Ñ\\x8bÐ¹)', r_ui=8.0, est=9.56082190065997, details={'actual_k': 35, 'was_impossible': False}),\n",
       " Prediction(uid='Salvatore', iid='Lenovo Motorola Moto G Smartphone, 4,5 pollici display HD, processore Qualcomm, memoria 16GB, MicroSIM, Android 4.3 OS, fotocamera da 5 MP, Nero [Germania]', r_ui=10.0, est=8.807539921181078, details={'actual_k': 36, 'was_impossible': False}),\n",
       " Prediction(uid='Ð\\x94Ð¼Ð¸Ñ\\x82Ñ\\x80Ð¸Ð¹', iid='Sony Xperia J (Ñ\\x87ÐµÑ\\x80Ð½Ñ\\x8bÐ¹)', r_ui=8.0, est=6.605511213618841, details={'actual_k': 41, 'was_impossible': False}),\n",
       " Prediction(uid='Laura', iid='Lenovo Motorola Moto G 4G (2 Generazione) Smartphone, Display 5 Pollici, LTE, Fotocamera 8 MP, Memoria 8 GB, Android 5 Lollipop, Nero [Italia]', r_ui=10.0, est=8.082375195797006, details={'actual_k': 41, 'was_impossible': False}),\n",
       " Prediction(uid='Barbara', iid='Lenovo Motorola Moto G LTE Smartphone, Display 4.5\", Fotocamera 5 MP, Memoria 8 GB, Quad-Core 1.2 GHz, 1 GB RAM, Micro SD, Android 4.4.3, Bianco [Italia]', r_ui=8.0, est=7.874894098147506, details={'actual_k': 21, 'was_impossible': False}),\n",
       " Prediction(uid='Markus', iid='Samsung Galaxy S3 mini (GT-I8200) Smartphone (4 Zoll (10,2 cm) Touch-Display, 8 GB Speicher, Android 4.2) blau', r_ui=10.0, est=8.051281801530015, details={'actual_k': 12, 'was_impossible': False}),\n",
       " Prediction(uid='Giorgio', iid='Lenovo Motorola Moto G Smartphone, Display HD 4,5\", Processore Qualcomm, Memoria 8 GB, MicroSIM, Android 4.4 OS, Fotocamera da 5 MP, Nero [Germania]', r_ui=10.0, est=9.834583431381864, details={'actual_k': 21, 'was_impossible': False}),\n",
       " Prediction(uid='Daniel', iid='Huawei P8 Lite wit / 16 GB', r_ui=8.0, est=8.203667813471482, details={'actual_k': 20, 'was_impossible': False}),\n",
       " Prediction(uid='John', iid='Samsung Galaxy S7 goud, roze / 32 GB', r_ui=8.0, est=7.784563616830293, details={'actual_k': 22, 'was_impossible': False}),\n",
       " Prediction(uid='Ð\\x9dÐ¸ÐºÐ¸Ñ\\x82Ð°', iid='Sony Xperia ZR (Ñ\\x87ÐµÑ\\x80Ð½Ñ\\x8bÐ¹)', r_ui=8.0, est=9.51796016984113, details={'actual_k': 25, 'was_impossible': False}),\n",
       " Prediction(uid='Ð\\x95Ð²Ð³ÐµÐ½Ð¸Ð¹', iid='Sony Xperia L (Ð±ÐµÐ»Ñ\\x8bÐ¹)', r_ui=10.0, est=8.811987625456059, details={'actual_k': 14, 'was_impossible': False}),\n",
       " Prediction(uid='Adrian', iid='Samsung Galaxy S6', r_ui=10.0, est=9.594157772346687, details={'actual_k': 4, 'was_impossible': False}),\n",
       " Prediction(uid='David', iid='APPLE iPhone 6s Plus - 128 GB, Rose Gold', r_ui=10.0, est=9.655113518335225, details={'actual_k': 14, 'was_impossible': False}),\n",
       " Prediction(uid='Kevin', iid='Samsung Galaxy Centura Android Prepaid Phone (TracFone)', r_ui=4.0, est=6.783649172325649, details={'actual_k': 14, 'was_impossible': False}),\n",
       " Prediction(uid='Marco', iid='Huawei Ascend P8 Smartphone, Display 5.2\" FHD, Memoria RAM da 3 GB, Processore HiSilicon Kirin 930 Octa-Core, Fotocamera Principale 13 MP, Grigio', r_ui=8.0, est=9.875758259587721, details={'actual_k': 21, 'was_impossible': False}),\n",
       " Prediction(uid='Ð\\x94Ð¼Ð¸Ñ\\x82Ñ\\x80Ð¸Ð¹', iid='Sony Xperia Z1 (Ñ\\x87ÐµÑ\\x80Ð½Ñ\\x8bÐ¹)', r_ui=8.0, est=7.859912723582068, details={'actual_k': 35, 'was_impossible': False}),\n",
       " Prediction(uid='Ð\\x94Ð¼Ð¸Ñ\\x82Ñ\\x80Ð¸Ð¹', iid='Samsung Galaxy S4 mini Duos GT-I9192 (Ñ\\x87ÐµÑ\\x80Ð½Ñ\\x8bÐ¹)', r_ui=9.0, est=7.708359308489038, details={'actual_k': 28, 'was_impossible': False}),\n",
       " Prediction(uid='Ð\\x9eÐ»ÐµÐ³', iid='Sony Xperia Z1 Compact (Ð»Ð°Ð¹Ð¼)', r_ui=10.0, est=9.037540797642656, details={'actual_k': 28, 'was_impossible': False}),\n",
       " Prediction(uid='Ð\\x90Ð½Ñ\\x82Ð¾Ð½', iid='Sony Xperia SP (Ñ\\x87ÐµÑ\\x80Ð½Ñ\\x8bÐ¹)', r_ui=9.0, est=8.46717203969467, details={'actual_k': 32, 'was_impossible': False}),\n",
       " Prediction(uid='Jane', iid='Huawei P8 Lite wit / 16 GB', r_ui=8.0, est=7.800000000000001, details={'actual_k': 1, 'was_impossible': False}),\n",
       " Prediction(uid='mario', iid='Alcatel One Touch 20-04G Telefono Cellulare, Nero', r_ui=10.0, est=8.88025442266855, details={'actual_k': 39, 'was_impossible': False}),\n",
       " Prediction(uid='Ð\\x92Ð°Ð´Ð¸Ð¼', iid='Samsung N7100 Galaxy Note II 16GB (Ñ\\x81ÐµÑ\\x80Ñ\\x8bÐ¹)', r_ui=9.0, est=8.306209683013195, details={'actual_k': 30, 'was_impossible': False}),\n",
       " Prediction(uid='Melanie', iid='Samsung Galaxy S7 Edge goud / 32 GB', r_ui=9.0, est=8.873410408502671, details={'actual_k': 4, 'was_impossible': False}),\n",
       " Prediction(uid='Ð\\x9eÐ»Ñ\\x8cÐ³Ð°', iid='Apple iPhone 5s 16GB (Ñ\\x81ÐµÑ\\x80ÐµÐ±Ñ\\x80Ð¸Ñ\\x81Ñ\\x82Ñ\\x8bÐ¹)', r_ui=8.0, est=9.450101092611934, details={'actual_k': 47, 'was_impossible': False}),\n",
       " Prediction(uid='Ð\\x95ÐºÐ°Ñ\\x82ÐµÑ\\x80Ð¸Ð½Ð°', iid='Sony Xperia Z1 (Ñ\\x87ÐµÑ\\x80Ð½Ñ\\x8bÐ¹)', r_ui=10.0, est=8.607227477416972, details={'actual_k': 39, 'was_impossible': False}),\n",
       " Prediction(uid='Ð\\x92Ð°Ð´Ð¸Ð¼', iid='Sony Xperia Z1 Compact (Ñ\\x80Ð¾Ð·Ð¾Ð²Ñ\\x8bÐ¹)', r_ui=8.0, est=9.26614967204203, details={'actual_k': 21, 'was_impossible': False}),\n",
       " Prediction(uid='Ð\\xa0Ñ\\x83Ñ\\x81Ð»Ð°Ð½', iid='Apple iPhone 5s 16GB (Ñ\\x81ÐµÑ\\x80ÐµÐ±Ñ\\x80Ð¸Ñ\\x81Ñ\\x82Ñ\\x8bÐ¹)', r_ui=10.0, est=9.256591540723207, details={'actual_k': 50, 'was_impossible': False}),\n",
       " Prediction(uid='Ð¢Ð°Ñ\\x82Ñ\\x8cÑ\\x8fÐ½Ð°', iid='Sony Xperia C (Ñ\\x87ÐµÑ\\x80Ð½Ñ\\x8bÐ¹)', r_ui=10.0, est=8.104953496627697, details={'actual_k': 34, 'was_impossible': False}),\n",
       " Prediction(uid='Kevin', iid='APPLE iPhone 7 - Silver, 128 GB', r_ui=10.0, est=8.449489355087318, details={'actual_k': 31, 'was_impossible': False}),\n",
       " Prediction(uid='Ð¡ÐµÑ\\x80Ð³ÐµÐ¹', iid='Sony Xperia C (Ð±ÐµÐ»Ñ\\x8bÐ¹)', r_ui=9.0, est=8.18116372297062, details={'actual_k': 25, 'was_impossible': False}),\n",
       " Prediction(uid='Rene', iid='Huawei P8lite zwart / 16 GB', r_ui=8.0, est=9.040797109113308, details={'actual_k': 46, 'was_impossible': False}),\n",
       " Prediction(uid='Nicola', iid='Huawei P8 Lite Smartphone, Display 5\" IPS, Processore Octa-Core 1.5 GHz, Memoria Interna da 16 GB, 2 GB RAM, Fotocamera 13 MP, monoSIM, Android 5.0, Bianco [Italia]', r_ui=10.0, est=7.455199970270836, details={'actual_k': 33, 'was_impossible': False}),\n",
       " Prediction(uid='James', iid='Huawei P8 Lite Smartphone, Display 5\" IPS, Processore Octa-Core 1.5 GHz, Memoria Interna da 16 GB, 2 GB RAM, Fotocamera 13 MP, monoSIM, Android 5.0, Bianco [Italia]', r_ui=8.0, est=6.407267362927658, details={'actual_k': 3, 'was_impossible': False}),\n",
       " Prediction(uid='Paul', iid='APPLE iPhone 7 - Silver, 32 GB', r_ui=5.0, est=8.251035269527396, details={'actual_k': 50, 'was_impossible': False}),\n",
       " Prediction(uid='Ð\\x95Ð²Ð³ÐµÐ½Ð¸Ð¹', iid='Sony Xperia SP (ÐºÑ\\x80Ð°Ñ\\x81Ð½Ñ\\x8bÐ¹)', r_ui=10.0, est=8.366869853007927, details={'actual_k': 29, 'was_impossible': False}),\n",
       " Prediction(uid='Simone', iid='Samsung G935 Galaxy S7 Edge Smartphone da 32GB, Argento [Italia]', r_ui=10.0, est=7.613379952953745, details={'actual_k': 30, 'was_impossible': False}),\n",
       " Prediction(uid='Ð\\x92Ð¸Ñ\\x82Ð°Ð»Ð¸Ð¹', iid='Samsung Galaxy S5 SM-G900F 16GB (Ñ\\x81Ð¸Ð½Ð¸Ð¹)', r_ui=9.0, est=7.759073370942534, details={'actual_k': 27, 'was_impossible': False}),\n",
       " Prediction(uid='Jorge', iid='Apple iPhone 5s GSM Unlocked Cellphone, 16 GB, Space Gray', r_ui=10.0, est=8.311113643424704, details={'actual_k': 8, 'was_impossible': False}),\n",
       " Prediction(uid='Ð\\x94ÐµÐ½Ð¸Ñ\\x81', iid='Sony Xperia L (Ð±ÐµÐ»Ñ\\x8bÐ¹)', r_ui=8.0, est=8.617524357812549, details={'actual_k': 19, 'was_impossible': False}),\n",
       " Prediction(uid='Ð\\x92Ð¸ÐºÑ\\x82Ð¾Ñ\\x80', iid='Sony Xperia L (Ð±ÐµÐ»Ñ\\x8bÐ¹)', r_ui=9.0, est=9.300950071731698, details={'actual_k': 28, 'was_impossible': False}),\n",
       " Prediction(uid='Ð\\x94Ð¼Ð¸Ñ\\x82Ñ\\x80Ð¸Ð¹', iid='Sony Xperia L (ÐºÑ\\x80Ð°Ñ\\x81Ð½Ñ\\x8bÐ¹)', r_ui=9.0, est=8.152635324530342, details={'actual_k': 19, 'was_impossible': False}),\n",
       " Prediction(uid='Ð\\x92Ð»Ð°Ð´Ð¸Ð¼Ð¸Ñ\\x80', iid='Samsung Galaxy A3', r_ui=6.0, est=7.991685865053101, details={'actual_k': 25, 'was_impossible': False}),\n",
       " Prediction(uid='Massimiliano', iid='LG G4 Smartphone Display IPS 5.5\" QHD, Fotocamera 16 MP, Memoria Interna 32 GB, 3 GB RAM, Colore Marrone', r_ui=6.0, est=9.897308122834621, details={'actual_k': 18, 'was_impossible': False}),\n",
       " Prediction(uid='Ð\\x90Ð½Ñ\\x82Ð¾Ð½', iid='Sony Xperia SP (Ñ\\x87ÐµÑ\\x80Ð½Ñ\\x8bÐ¹)', r_ui=7.0, est=8.46717203969467, details={'actual_k': 32, 'was_impossible': False}),\n",
       " Prediction(uid='Aaron', iid='Samsung Galaxy Centura Android Prepaid Phone (TracFone)', r_ui=10.0, est=2.3684210526315788, details={'actual_k': 2, 'was_impossible': False}),\n",
       " Prediction(uid='Cliente Amazon', iid='Asus ZenFone 2 Laser Smartphone, Display da 5\", 16 GB, Dual SIM, Nero [Italia]', r_ui=8.0, est=6.133711260673757, details={'actual_k': 21, 'was_impossible': False}),\n",
       " Prediction(uid='Amazon Customer', iid='Motorola Moto X Pure Edition Unlocked Smartphone, 64 GB Black XT1575, 5.7\" Quad HD display, 21 MP Camera, Quad-core 1.8GHz', r_ui=8.0, est=8.04714455857789, details={'actual_k': 24, 'was_impossible': False}),\n",
       " Prediction(uid='alberto', iid='Huawei Ascend P8 Smartphone, Display 5.2\" FHD, Memoria RAM da 3 GB, Processore HiSilicon Kirin 930 Octa-Core, Fotocamera Principale 13 MP, Grigio', r_ui=8.0, est=9.812209711393113, details={'actual_k': 19, 'was_impossible': False}),\n",
       " Prediction(uid='Ð\\x90Ð»ÐµÐºÑ\\x81Ð°Ð½Ð´Ñ\\x80', iid='Sony Xperia Z (Ð±ÐµÐ»Ñ\\x8bÐ¹)', r_ui=9.0, est=6.393048711759562, details={'actual_k': 44, 'was_impossible': False}),\n",
       " Prediction(uid='Paul', iid='APPLE iPhone 7 - Silver, 32 GB', r_ui=9.0, est=8.251035269527396, details={'actual_k': 50, 'was_impossible': False}),\n",
       " Prediction(uid='Chris', iid='Huawei P8 Lite wit / 16 GB', r_ui=8.0, est=7.532786891335977, details={'actual_k': 15, 'was_impossible': False}),\n",
       " Prediction(uid='Amazon Customer', iid='Samsung Galaxy S4 mini Duos GT-I9192 (Ð±ÐµÐ»Ñ\\x8bÐ¹)', r_ui=9.0, est=6.752259917556993, details={'actual_k': 28, 'was_impossible': False}),\n",
       " Prediction(uid='Carol', iid='MICROSOFT Lumia 650 - 16 GB, Black', r_ui=9.0, est=8.051160037354332, details={'actual_k': 17, 'was_impossible': False}),\n",
       " Prediction(uid='Melanie', iid='MICROSOFT Lumia 650 - 16 GB, Black', r_ui=10.0, est=7.1843354071896695, details={'actual_k': 15, 'was_impossible': False}),\n",
       " Prediction(uid='Lorenzo', iid='Samsung Galaxy A5 2016 Smartphone LTE, 16GB, Nero', r_ui=8.0, est=8.236966857906772, details={'actual_k': 12, 'was_impossible': False}),\n",
       " Prediction(uid='Alessio', iid='Lenovo Motorola Moto G LTE Smartphone, Display 4.5\", Fotocamera 5 MP, Memoria 8 GB, Quad-Core 1.2 GHz, 1 GB RAM, Micro SD, Android 4.4.3, Bianco [Italia]', r_ui=10.0, est=8.435689458967085, details={'actual_k': 33, 'was_impossible': False}),\n",
       " Prediction(uid='Ð\\x90Ð½Ð°Ñ\\x81Ñ\\x82Ð°Ñ\\x81Ð¸Ñ\\x8f', iid='Sony Xperia L (Ð±ÐµÐ»Ñ\\x8bÐ¹)', r_ui=8.0, est=8.99278366019201, details={'actual_k': 22, 'was_impossible': False}),\n",
       " Prediction(uid='Ð\\x90Ð»ÐµÐºÑ\\x81ÐµÐ¹', iid='Samsung Galaxy S4 GT-I9500 16GB (Ñ\\x87ÐµÑ\\x80Ð½Ñ\\x8bÐ¹)', r_ui=6.0, est=7.488892177234093, details={'actual_k': 34, 'was_impossible': False}),\n",
       " Prediction(uid='Ð\\x90Ð»ÐµÐºÑ\\x81ÐµÐ¹', iid='Samsung Galaxy A3', r_ui=6.0, est=8.640757443588742, details={'actual_k': 27, 'was_impossible': False}),\n",
       " Prediction(uid='Jeff', iid='Motorola Moto X Pure Edition Unlocked Smartphone, 64 GB Black XT1575, 5.7\" Quad HD display, 21 MP Camera, Quad-core 1.8GHz', r_ui=10.0, est=8.96067166121317, details={'actual_k': 4, 'was_impossible': False}),\n",
       " Prediction(uid='Michele', iid='LG G4 Smartphone Display IPS 5.5\" QHD, Fotocamera 16 MP, Memoria Interna 32 GB, 3 GB RAM, Colore Marrone', r_ui=10.0, est=8.015583188784092, details={'actual_k': 23, 'was_impossible': False}),\n",
       " Prediction(uid='Ð\\x9aÐ¸Ñ\\x80Ð¸Ð»Ð»', iid='Sony Xperia L (ÐºÑ\\x80Ð°Ñ\\x81Ð½Ñ\\x8bÐ¹)', r_ui=10.0, est=9.092208617810382, details={'actual_k': 32, 'was_impossible': False}),\n",
       " Prediction(uid='francesco', iid='Lenovo Motorola Moto G Smartphone, Display HD 4,5\", Processore Qualcomm, Memoria 8 GB, MicroSIM, Android 4.4 OS, Fotocamera da 5 MP, Nero [Germania]', r_ui=10.0, est=9.079636731025637, details={'actual_k': 25, 'was_impossible': False}),\n",
       " Prediction(uid='Rachel', iid='APPLE iPhone 7 - Silver, 32 GB', r_ui=8.0, est=8.961780905950954, details={'actual_k': 26, 'was_impossible': False}),\n",
       " Prediction(uid='matteo', iid='Asus ZenFone 2 Smartphone, Schermo da 5.5\" Full HD, Processore Quad Core 2,3 GHz, RAM 4 GB, 32 GB, 4G/LTE, Argento', r_ui=10.0, est=8.766466359476139, details={'actual_k': 28, 'was_impossible': False}),\n",
       " Prediction(uid='Charles', iid='Motorola Moto X Pure Edition Unlocked Smartphone, 64 GB Black XT1575, 5.7\" Quad HD display, 21 MP Camera, Quad-core 1.8GHz', r_ui=10.0, est=7.010900744227611, details={'actual_k': 4, 'was_impossible': False}),\n",
       " Prediction(uid='Ð\\x95Ð²Ð³ÐµÐ½Ð¸Ð¹', iid='Samsung N7100 Galaxy Note II 16GB (Ð±ÐµÐ»Ñ\\x8bÐ¹)', r_ui=9.0, est=9.249011807623289, details={'actual_k': 34, 'was_impossible': False}),\n",
       " Prediction(uid='Diana', iid='Samsung Galaxy Centura Android Prepaid Phone (TracFone)', r_ui=8.0, est=4.906172766271058, details={'actual_k': 4, 'was_impossible': False}),\n",
       " Prediction(uid='Ð\\x90Ð½Ð½Ð°', iid='Sony Xperia L (Ñ\\x87ÐµÑ\\x80Ð½Ñ\\x8bÐ¹)', r_ui=9.0, est=8.140095150604944, details={'actual_k': 19, 'was_impossible': False}),\n",
       " Prediction(uid='Cliente Amazon', iid='Asus ZenFone 2 Laser Smartphone, Display da 5\", 16 GB, Dual SIM, Nero [Italia]', r_ui=6.0, est=6.133711260673757, details={'actual_k': 21, 'was_impossible': False}),\n",
       " Prediction(uid='Ð\\x90Ð½Ñ\\x82Ð¾Ð½', iid='Apple iPhone 5s 16GB (Ñ\\x81ÐµÑ\\x80ÐµÐ±Ñ\\x80Ð¸Ñ\\x81Ñ\\x82Ñ\\x8bÐ¹)', r_ui=2.0, est=9.298212497625524, details={'actual_k': 50, 'was_impossible': False}),\n",
       " Prediction(uid='Ð\\x9dÐ¸ÐºÐ¸Ñ\\x82Ð°', iid='Sony Xperia ZR (Ð±ÐµÐ»Ñ\\x8bÐ¹)', r_ui=8.0, est=9.55247250980651, details={'actual_k': 28, 'was_impossible': False}),\n",
       " Prediction(uid='Ð\\x9aÑ\\x81ÐµÐ½Ð¸Ñ\\x8f', iid='Sony Xperia Z1 Compact (Ð»Ð°Ð¹Ð¼)', r_ui=10.0, est=9.334816655359848, details={'actual_k': 32, 'was_impossible': False}),\n",
       " Prediction(uid='Ann', iid='MICROSOFT Lumia 650 - 16 GB, Black', r_ui=10.0, est=8.339122517595717, details={'actual_k': 31, 'was_impossible': False}),\n",
       " Prediction(uid='MM Reviews', iid='LG G4 Smartphone Display IPS 5.5\" QHD, Fotocamera 16 MP, Memoria Interna 32 GB, 3 GB RAM, Colore Marrone', r_ui=10.0, est=6.0, details={'actual_k': 0, 'was_impossible': False}),\n",
       " Prediction(uid='Alessandro', iid=\"Huawei P9 Lite Smartphone, LTE, Display 5.2'' FHD, Processore Octa-Core Kirin 650, 16 GB Memoria Interna, 3GB RAM, Fotocamera 13 MP, Single-SIM, Android 6.0 Marshmallow, Bianco [Italia]\", r_ui=4.0, est=8.848674057207703, details={'actual_k': 50, 'was_impossible': False}),\n",
       " Prediction(uid='Max', iid='Huawei P8 grijs / 16 GB', r_ui=9.0, est=8.19224003226547, details={'actual_k': 5, 'was_impossible': False}),\n",
       " Prediction(uid='Peter', iid='APPLE iPhone 7 - Silver, 128 GB', r_ui=10.0, est=8.628639029165637, details={'actual_k': 39, 'was_impossible': False}),\n",
       " Prediction(uid='Kunde', iid='Sony Xperia Z1 Compact Smartphone (4,3 Zoll (10,9 cm) Touch-Display, 16 GB Speicher, Android 4.3) pink', r_ui=2.0, est=5.143573705199472, details={'actual_k': 5, 'was_impossible': False}),\n",
       " Prediction(uid='Ann', iid='Apple iPhone 5s GSM Unlocked Cellphone, 16 GB, Space Gray', r_ui=10.0, est=5.5326804644888785, details={'actual_k': 4, 'was_impossible': False}),\n",
       " Prediction(uid='Richard', iid='Huawei P8 Champagne / 16 GB - Overzicht', r_ui=9.0, est=8.69137959937315, details={'actual_k': 17, 'was_impossible': False}),\n",
       " Prediction(uid='Klaus', iid='Samsung Galaxy S5 Smartphone (5,1 Zoll (12,9 cm) Touch-Display, 16 GB Speicher, Android 4.4) electric blue', r_ui=10.0, est=9.333333333333334, details={'actual_k': 1, 'was_impossible': False}),\n",
       " Prediction(uid='Ð®Ð»Ð¸Ñ\\x8f', iid='Sony Xperia Z1 (Ñ\\x84Ð¸Ð¾Ð»ÐµÑ\\x82Ð¾Ð²Ñ\\x8bÐ¹)', r_ui=10.0, est=8.97781599865669, details={'actual_k': 25, 'was_impossible': False}),\n",
       " Prediction(uid='Ð\\x90Ð»ÐµÐºÑ\\x81Ð°Ð½Ð´Ñ\\x80', iid='Samsung Galaxy S5 SM-G900F 16GB (Ð·Ð¾Ð»Ð¾Ñ\\x82Ð¸Ñ\\x81Ñ\\x82Ñ\\x8bÐ¹)', r_ui=9.0, est=8.036170897877932, details={'actual_k': 28, 'was_impossible': False}),\n",
       " Prediction(uid='Massimo', iid='Alcatel One Touch 20-04G Telefono Cellulare, Nero', r_ui=8.0, est=10, details={'actual_k': 34, 'was_impossible': False}),\n",
       " Prediction(uid='Vincenzo', iid='Lenovo Motorola Moto G Smartphone, Display HD 4,5\", Processore Qualcomm, Memoria 8 GB, MicroSIM, Android 4.4 OS, Fotocamera da 5 MP, Nero [Germania]', r_ui=8.0, est=9.835582805016191, details={'actual_k': 35, 'was_impossible': False}),\n",
       " Prediction(uid='Elena', iid='Huawei P8 Lite Smartphone, Display 5\" IPS, Processore Octa-Core 1.5 GHz, Memoria Interna da 16 GB, 2 GB RAM, Fotocamera 13 MP, monoSIM, Android 5.0, Bianco [Italia]', r_ui=4.0, est=7.826430867506278, details={'actual_k': 50, 'was_impossible': False}),\n",
       " Prediction(uid='Ð®Ð»Ð¸Ñ\\x8f', iid='Sony Xperia Z1 Compact (Ñ\\x80Ð¾Ð·Ð¾Ð²Ñ\\x8bÐ¹)', r_ui=10.0, est=9.092506821767387, details={'actual_k': 30, 'was_impossible': False}),\n",
       " Prediction(uid='elena', iid='LG D802 G2 Smartphone, 16 GB, Nero [Italia]', r_ui=10.0, est=10, details={'actual_k': 10, 'was_impossible': False}),\n",
       " Prediction(uid='Francesco', iid='Lenovo Motorola Moto G 4G (2 Generazione) Smartphone, Display 5 Pollici, LTE, Fotocamera 8 MP, Memoria 8 GB, Android 5 Lollipop, Nero [Italia]', r_ui=6.0, est=9.047497636384774, details={'actual_k': 45, 'was_impossible': False}),\n",
       " Prediction(uid='Matthias', iid='Samsung Galaxy S3 mini (GT-I8200) Smartphone (4 Zoll (10,2 cm) Touch-Display, 8 GB Speicher, Android 4.2) blau', r_ui=10.0, est=3.333333333333334, details={'actual_k': 1, 'was_impossible': False}),\n",
       " Prediction(uid='Ð\\x90Ð»ÐµÐºÑ\\x81ÐµÐ¹', iid='Samsung N7100 Galaxy Note II 16GB (Ñ\\x81ÐµÑ\\x80Ñ\\x8bÐ¹)', r_ui=10.0, est=8.565495665937343, details={'actual_k': 23, 'was_impossible': False}),\n",
       " Prediction(uid='Leonardo', iid='Asus ZE551ML-2A760WW Smartphone ZenFone 2 Deluxe, 5.5\", 4 GB RAM, 64 GB, Intel Quad-Core Z3580, Dual SIM, Illusion Purple', r_ui=4.0, est=8.040623155143098, details={'actual_k': 20, 'was_impossible': False}),\n",
       " Prediction(uid='Davide', iid='Huawei P8 lite Smartphone, Display 5.0\" IPS, Dual Sim, Processore Octa-Core, Memoria 16 GB, Fotocamera 13 MP, Android 5.0, Bianco', r_ui=10.0, est=8.111860157353478, details={'actual_k': 50, 'was_impossible': False}),\n",
       " Prediction(uid='Rob', iid='Huawei P8 grijs / 16 GB', r_ui=8.0, est=8.91992063795135, details={'actual_k': 24, 'was_impossible': False}),\n",
       " Prediction(uid='Ð\\x95ÐºÐ°Ñ\\x82ÐµÑ\\x80Ð¸Ð½Ð°', iid='Sony Xperia ZR (Ð±ÐµÐ»Ñ\\x8bÐ¹)', r_ui=8.0, est=9.838790164754073, details={'actual_k': 19, 'was_impossible': False}),\n",
       " Prediction(uid='Ð\\x9dÐ°Ñ\\x82Ð°Ð»Ñ\\x8cÑ\\x8f', iid='Samsung N7100 Galaxy Note II 16GB (Ð±ÐµÐ»Ñ\\x8bÐ¹)', r_ui=10.0, est=8.393016529210934, details={'actual_k': 30, 'was_impossible': False}),\n",
       " Prediction(uid='Bob', iid='Sim Free Motorola Moto G 4th Generation Mobile Phone - Black', r_ui=10.0, est=10, details={'actual_k': 15, 'was_impossible': False}),\n",
       " Prediction(uid='Ð\\x98Ñ\\x80Ð¸Ð½Ð°', iid='Apple iPhone 5s 16GB (Ñ\\x81ÐµÑ\\x80Ñ\\x8bÐ¹ ÐºÐ¾Ñ\\x81Ð¼Ð¾Ñ\\x81)', r_ui=8.0, est=9.374850504411864, details={'actual_k': 47, 'was_impossible': False}),\n",
       " Prediction(uid='Ð\\x98Ð²Ð°Ð½', iid='Sony Xperia Z1 Compact (Ñ\\x80Ð¾Ð·Ð¾Ð²Ñ\\x8bÐ¹)', r_ui=10.0, est=8.951279831671803, details={'actual_k': 23, 'was_impossible': False}),\n",
       " Prediction(uid='Amazon Customer', iid='Apple iPhone 5s GSM Unlocked Cellphone, 16 GB, Space Gray', r_ui=8.0, est=5.027638124572201, details={'actual_k': 34, 'was_impossible': False}),\n",
       " Prediction(uid='Ð\\x98Ð³Ð¾Ñ\\x80Ñ\\x8c', iid='Sony Xperia Z1 (Ñ\\x87ÐµÑ\\x80Ð½Ñ\\x8bÐ¹)', r_ui=10.0, est=9.255822119895605, details={'actual_k': 36, 'was_impossible': False}),\n",
       " Prediction(uid='claudio', iid='Lenovo Motorola Moto G 4G (2 Generazione) Smartphone, Display 5 Pollici, LTE, Fotocamera 8 MP, Memoria 8 GB, Android 5 Lollipop, Nero [Italia]', r_ui=10.0, est=9.606767396395778, details={'actual_k': 40, 'was_impossible': False}),\n",
       " Prediction(uid='Filippo', iid='Samsung Galaxy A5 2016 Smartphone LTE, 16GB, Nero', r_ui=10.0, est=9.020873340312715, details={'actual_k': 14, 'was_impossible': False}),\n",
       " Prediction(uid='Tina', iid='Samsung Galaxy Ace S5830 Smartphone (8,9 cm (3,5 Zoll) Display, Touchscreen, Android OS, 5 Megapixel Kamera) weiÃ\\x9f', r_ui=10.0, est=10, details={'actual_k': 4, 'was_impossible': False}),\n",
       " Prediction(uid='matteo', iid='LG D802 G2 Smartphone, 16 GB, Nero [Italia]', r_ui=10.0, est=10, details={'actual_k': 22, 'was_impossible': False}),\n",
       " Prediction(uid='Matthew', iid='Huawei Honor 5X Unlocked Smartphone, 16GB Dark Grey (US Warranty)', r_ui=10.0, est=8.346893061907364, details={'actual_k': 5, 'was_impossible': False}),\n",
       " Prediction(uid='Ð\\x9cÐ°ÐºÑ\\x81Ð¸Ð¼', iid='Sony Xperia Z1 (Ñ\\x84Ð¸Ð¾Ð»ÐµÑ\\x82Ð¾Ð²Ñ\\x8bÐ¹)', r_ui=3.0, est=8.661553658723392, details={'actual_k': 29, 'was_impossible': False}),\n",
       " Prediction(uid='Max', iid='APPLE iPhone 7 - Silver, 32 GB', r_ui=8.0, est=7.777138136784652, details={'actual_k': 11, 'was_impossible': False}),\n",
       " Prediction(uid='Richard', iid='APPLE iPhone 7 - Silver, 128 GB', r_ui=7.0, est=5.664205379251568, details={'actual_k': 35, 'was_impossible': False}),\n",
       " Prediction(uid='Annie', iid='Huawei P8lite zwart / 16 GB', r_ui=9.0, est=9.765586889847063, details={'actual_k': 3, 'was_impossible': False}),\n",
       " Prediction(uid='maurizio', iid='Asus ZenFone 2 Laser 5.5\" Smartphone, 16 GB, Dual SIM, Nero [Italia]', r_ui=10.0, est=9.567146199001618, details={'actual_k': 20, 'was_impossible': False}),\n",
       " Prediction(uid='Roberto', iid='LG G4 Smartphone Display IPS 5.5\" QHD, Fotocamera 16 MP, Memoria Interna 32 GB, 3 GB RAM, Colore Marrone', r_ui=10.0, est=8.072867242538457, details={'actual_k': 22, 'was_impossible': False}),\n",
       " Prediction(uid='Angelo', iid='Lenovo Motorola Moto G Smartphone, 4,5 pollici display HD, processore Qualcomm, memoria 16GB, MicroSIM, Android 4.3 OS, fotocamera da 5 MP, Nero [Germania]', r_ui=10.0, est=9.38736324286825, details={'actual_k': 41, 'was_impossible': False}),\n",
       " Prediction(uid='Ð\\x92Ð°Ð´Ð¸Ð¼', iid='Sony Xperia ZR (Ñ\\x87ÐµÑ\\x80Ð½Ñ\\x8bÐ¹)', r_ui=9.0, est=9.820613849532295, details={'actual_k': 19, 'was_impossible': False}),\n",
       " Prediction(uid='Massimo', iid='Huawei P8 Lite Smartphone, Display 5\" IPS, Processore Octa-Core 1.5 GHz, Memoria Interna da 16 GB, 2 GB RAM, Fotocamera 13 MP, monoSIM, Android 5.0, Bianco [Italia]', r_ui=10.0, est=8.651531650272105, details={'actual_k': 50, 'was_impossible': False}),\n",
       " Prediction(uid='Daniele', iid='Lenovo Motorola Moto G LTE Smartphone, Display 4.5\", Fotocamera 5 MP, Memoria 8 GB, Quad-Core 1.2 GHz, 1 GB RAM, Micro SD, Android 4.4.3, Bianco [Italia]', r_ui=8.0, est=7.149982796793268, details={'actual_k': 32, 'was_impossible': False}),\n",
       " Prediction(uid='John', iid='Huawei Honor 5X Unlocked Smartphone, 16GB Dark Grey (US Warranty)', r_ui=8.0, est=8.330273272099035, details={'actual_k': 8, 'was_impossible': False}),\n",
       " Prediction(uid='Anita', iid='Huawei P8lite zwart / 16 GB', r_ui=10.0, est=8.021971838036633, details={'actual_k': 40, 'was_impossible': False}),\n",
       " Prediction(uid='Ð\\x90Ð½Ñ\\x82Ð¾Ð½', iid='Sony Xperia ZR (Ð±ÐµÐ»Ñ\\x8bÐ¹)', r_ui=9.0, est=8.956472280733257, details={'actual_k': 26, 'was_impossible': False}),\n",
       " Prediction(uid='Ð\\x9cÐ¸Ñ\\x85Ð°Ð¸Ð»', iid='Samsung Galaxy S5 SM-G900F 16GB (Ñ\\x87ÐµÑ\\x80Ð½Ñ\\x8bÐ¹)', r_ui=10.0, est=7.724191073749054, details={'actual_k': 21, 'was_impossible': False}),\n",
       " Prediction(uid='Ð\\x90Ð½Ð°Ñ\\x81Ñ\\x82Ð°Ñ\\x81Ð¸Ñ\\x8f', iid='Sony Xperia L (ÐºÑ\\x80Ð°Ñ\\x81Ð½Ñ\\x8bÐ¹)', r_ui=8.0, est=8.332945605597612, details={'actual_k': 22, 'was_impossible': False}),\n",
       " Prediction(uid='Ð\\x94Ð¼Ð¸Ñ\\x82Ñ\\x80Ð¸Ð¹', iid='Sony Xperia C (Ð±ÐµÐ»Ñ\\x8bÐ¹)', r_ui=6.0, est=9.006340295502131, details={'actual_k': 23, 'was_impossible': False}),\n",
       " Prediction(uid='Ð\\x95Ð²Ð³ÐµÐ½Ð¸Ð¹', iid='Sony Xperia L (Ñ\\x87ÐµÑ\\x80Ð½Ñ\\x8bÐ¹)', r_ui=10.0, est=8.842809757644206, details={'actual_k': 23, 'was_impossible': False}),\n",
       " Prediction(uid='Ð\\x98Ñ\\x80Ð¸Ð½Ð°', iid='Sony Xperia Z1 Compact (Ñ\\x87ÐµÑ\\x80Ð½Ñ\\x8bÐ¹)', r_ui=10.0, est=8.971211483344659, details={'actual_k': 27, 'was_impossible': False}),\n",
       " Prediction(uid='Anthony', iid='MICROSOFT Lumia 650 - 16 GB, Black', r_ui=10.0, est=3.922346555605633, details={'actual_k': 50, 'was_impossible': False}),\n",
       " Prediction(uid='Silvia', iid='Huawei P8 Lite Smartphone, Display 5\" IPS, Processore Octa-Core 1.5 GHz, Memoria Interna da 16 GB, 2 GB RAM, Fotocamera 13 MP, monoSIM, Android 5.0, Bianco [Italia]', r_ui=10.0, est=5.231279517102074, details={'actual_k': 50, 'was_impossible': False}),\n",
       " Prediction(uid='Giuseppe', iid=\"Huawei P9 Lite Smartphone, LTE, Display 5.2'' FHD, Processore Octa-Core Kirin 650, 16 GB Memoria Interna, 3GB RAM, Fotocamera 13 MP, Single-SIM, Android 6.0 Marshmallow, Bianco [Italia]\", r_ui=10.0, est=8.704424263870342, details={'actual_k': 50, 'was_impossible': False}),\n",
       " Prediction(uid='Ð\\x94ÐµÐ½Ð¸Ñ\\x81', iid='Sony Xperia Z (Ð±ÐµÐ»Ñ\\x8bÐ¹)', r_ui=7.0, est=8.192310229588138, details={'actual_k': 47, 'was_impossible': False}),\n",
       " Prediction(uid='luca', iid='Lenovo Motorola Moto G 4G (2 Generazione) Smartphone, Display 5 Pollici, LTE, Fotocamera 8 MP, Memoria 8 GB, Android 5 Lollipop, Nero [Italia]', r_ui=10.0, est=8.846273205276448, details={'actual_k': 39, 'was_impossible': False}),\n",
       " Prediction(uid='Ð\\x9fÐ°Ð²ÐµÐ»', iid='Sony Xperia Z1 Compact (Ð±ÐµÐ»Ñ\\x8bÐ¹)', r_ui=9.0, est=9.28965566385092, details={'actual_k': 24, 'was_impossible': False}),\n",
       " Prediction(uid='Anton', iid='Sony Xperia SP (Ð±ÐµÐ»Ñ\\x8bÐ¹)', r_ui=8.0, est=7.657238130464224, details={'actual_k': 36, 'was_impossible': False}),\n",
       " Prediction(uid='Cliente Amazon', iid='Samsung G935 Galaxy S7 Edge Smartphone da 32GB, Argento [Italia]', r_ui=10.0, est=4.643622422021342, details={'actual_k': 29, 'was_impossible': False}),\n",
       " Prediction(uid='Ð¢Ð°Ñ\\x82Ñ\\x8cÑ\\x8fÐ½Ð°', iid='Sony Xperia SP (Ð±ÐµÐ»Ñ\\x8bÐ¹)', r_ui=5.0, est=8.226177545388822, details={'actual_k': 37, 'was_impossible': False}),\n",
       " Prediction(uid='Ð\\x9dÐ°Ñ\\x82Ð°Ð»Ñ\\x8cÑ\\x8f', iid='Samsung N7100 Galaxy Note II 16GB (Ñ\\x81ÐµÑ\\x80Ñ\\x8bÐ¹)', r_ui=10.0, est=8.504930107320218, details={'actual_k': 28, 'was_impossible': False}),\n",
       " Prediction(uid='Ð\\x90Ñ\\x80Ñ\\x82Ñ\\x83Ñ\\x80', iid='Samsung Galaxy S4 GT-I9500 16GB (Ñ\\x87ÐµÑ\\x80Ð½Ñ\\x8bÐ¹)', r_ui=10.0, est=9.021589923722852, details={'actual_k': 28, 'was_impossible': False}),\n",
       " Prediction(uid='Rick', iid='Samsung Galaxy S7 Edge zwart / 32 GB', r_ui=8.0, est=7.739394975204801, details={'actual_k': 18, 'was_impossible': False}),\n",
       " Prediction(uid='Cliente Amazon', iid=\"Huawei P9 Lite Smartphone, LTE, Display 5.2'' FHD, Processore Octa-Core Kirin 650, 16 GB Memoria Interna, 3GB RAM, Fotocamera 13 MP, Single-SIM, Android 6.0 Marshmallow, Nero [Italia]\", r_ui=8.0, est=4.183644089846412, details={'actual_k': 35, 'was_impossible': False}),\n",
       " Prediction(uid='Salvatore', iid='Huawei Y6 Smartphone, Display 5.0\" HD, IPS, 2 GB RAM, 8 GB Memoria Interna, Dual SIM, Fotocamera 8 MP, Android 5.1, Nero', r_ui=10.0, est=9.498444641092437, details={'actual_k': 14, 'was_impossible': False}),\n",
       " Prediction(uid='Ð\\x9cÐ°Ñ\\x80Ð¸Ð½Ð°', iid='Samsung Galaxy S6', r_ui=10.0, est=7.832195179233757, details={'actual_k': 11, 'was_impossible': False}),\n",
       " Prediction(uid='Kevin', iid='Samsung Galaxy S7 zwart / 32 GB', r_ui=9.0, est=8.886649683204611, details={'actual_k': 8, 'was_impossible': False}),\n",
       " Prediction(uid='David', iid='APPLE iPhone 7 - Silver, 32 GB', r_ui=10.0, est=6.146835771492586, details={'actual_k': 42, 'was_impossible': False}),\n",
       " Prediction(uid='Christopher', iid='Alcatel OneTouch Idol 3 Global Unlocked 4G LTE Smartphone, 5.5 HD IPS Display, 16GB (GSM - US Warranty)', r_ui=6.0, est=7.242277470150314, details={'actual_k': 9, 'was_impossible': False}),\n",
       " Prediction(uid='Karin', iid='Samsung Galaxy S7 zwart / 32 GB', r_ui=8.0, est=9.010100245003184, details={'actual_k': 26, 'was_impossible': False}),\n",
       " Prediction(uid='Ð\\x90Ð»ÐµÐºÑ\\x81Ð°Ð½Ð´Ñ\\x80', iid='Samsung Galaxy S5 SM-G900F 16GB (Ñ\\x87ÐµÑ\\x80Ð½Ñ\\x8bÐ¹)', r_ui=8.0, est=7.579023828968628, details={'actual_k': 27, 'was_impossible': False}),\n",
       " Prediction(uid='Alfredo', iid='Asus ZenFone 2 Laser 5.5\" Smartphone, 16 GB, Dual SIM, Nero [Italia]', r_ui=10.0, est=9.042952626852385, details={'actual_k': 11, 'was_impossible': False}),\n",
       " Prediction(uid='Ð\\x94Ð¼Ð¸Ñ\\x82Ñ\\x80Ð¸Ð¹', iid='Apple iPhone 5s 16GB (Ñ\\x81ÐµÑ\\x80ÐµÐ±Ñ\\x80Ð¸Ñ\\x81Ñ\\x82Ñ\\x8bÐ¹)', r_ui=7.0, est=6.683100552518587, details={'actual_k': 50, 'was_impossible': False}),\n",
       " Prediction(uid='Ð\\x92Ð»Ð°Ð´Ð¸Ð¼Ð¸Ñ\\x80', iid='Apple iPhone 5s 16GB (Ñ\\x81ÐµÑ\\x80ÐµÐ±Ñ\\x80Ð¸Ñ\\x81Ñ\\x82Ñ\\x8bÐ¹)', r_ui=8.0, est=8.395892306808072, details={'actual_k': 50, 'was_impossible': False}),\n",
       " Prediction(uid='Ð\\x9cÐ¸Ñ\\x85Ð°Ð¸Ð»', iid='Sony Xperia C (Ð±ÐµÐ»Ñ\\x8bÐ¹)', r_ui=6.0, est=9.56091530403781, details={'actual_k': 24, 'was_impossible': False}),\n",
       " Prediction(uid='Angelo', iid=\"Huawei P9 Lite Smartphone, LTE, Display 5.2'' FHD, Processore Octa-Core Kirin 650, 16 GB Memoria Interna, 3GB RAM, Fotocamera 13 MP, Single-SIM, Android 6.0 Marshmallow, Nero [Italia]\", r_ui=10.0, est=8.668936903113142, details={'actual_k': 28, 'was_impossible': False}),\n",
       " Prediction(uid='Ð®Ñ\\x80Ð¸Ð¹', iid='Sony Xperia Z1 (Ñ\\x84Ð¸Ð¾Ð»ÐµÑ\\x82Ð¾Ð²Ñ\\x8bÐ¹)', r_ui=10.0, est=8.837216853056459, details={'actual_k': 27, 'was_impossible': False}),\n",
       " Prediction(uid='Ð\\x90Ð½Ð´Ñ\\x80ÐµÐ¹', iid='Samsung Galaxy S5 SM-G900F 16GB (Ð·Ð¾Ð»Ð¾Ñ\\x82Ð¸Ñ\\x81Ñ\\x82Ñ\\x8bÐ¹)', r_ui=6.0, est=5.126731104611945, details={'actual_k': 31, 'was_impossible': False}),\n",
       " Prediction(uid='Stephen', iid='Sim Free Motorola Moto G 4th Generation Mobile Phone - Black', r_ui=10.0, est=8.954172497000727, details={'actual_k': 9, 'was_impossible': False}),\n",
       " Prediction(uid='Ð\\x90Ð»ÐµÐºÑ\\x81Ð°Ð½Ð´Ñ\\x80', iid='Samsung Galaxy S5 SM-G900F 16GB (Ð±ÐµÐ»Ñ\\x8bÐ¹)', r_ui=5.0, est=8.413355281691066, details={'actual_k': 25, 'was_impossible': False}),\n",
       " Prediction(uid='Ð\\x9aÐ¾Ð½Ñ\\x81Ñ\\x82Ð°Ð½Ñ\\x82Ð¸Ð½', iid='Samsung Galaxy S5 SM-G900F 16GB (Ñ\\x87ÐµÑ\\x80Ð½Ñ\\x8bÐ¹)', r_ui=9.0, est=8.950179444759497, details={'actual_k': 18, 'was_impossible': False}),\n",
       " Prediction(uid='Ð\\x9dÐ°Ð´ÐµÐ¶Ð´Ð°', iid='Sony Xperia Z1 (Ñ\\x87ÐµÑ\\x80Ð½Ñ\\x8bÐ¹)', r_ui=9.0, est=10, details={'actual_k': 25, 'was_impossible': False}),\n",
       " Prediction(uid='Ð\\x90Ð»ÐµÐºÑ\\x81Ð°Ð½Ð´Ñ\\x80', iid='Samsung Galaxy S4 mini Duos GT-I9192 (Ð±ÐµÐ»Ñ\\x8bÐ¹)', r_ui=10.0, est=6.72925743272464, details={'actual_k': 31, 'was_impossible': False}),\n",
       " Prediction(uid='Ð\\x9fÐ°Ð²ÐµÐ»', iid='Samsung Galaxy S4 GT-I9500 16GB (Ð±ÐµÐ»Ñ\\x8bÐ¹)', r_ui=10.0, est=8.087955779753543, details={'actual_k': 31, 'was_impossible': False}),\n",
       " Prediction(uid='Ð\\x98Ð³Ð¾Ñ\\x80Ñ\\x8c', iid='Sony Xperia Z1 Compact (Ð»Ð°Ð¹Ð¼)', r_ui=9.0, est=9.529245197328311, details={'actual_k': 34, 'was_impossible': False}),\n",
       " Prediction(uid='Ð\\x9eÐ»ÐµÐ³', iid='Sony Xperia M (Ð±ÐµÐ»Ñ\\x8bÐ¹)', r_ui=10.0, est=9.219246043101135, details={'actual_k': 12, 'was_impossible': False}),\n",
       " Prediction(uid='Ð\\x9dÐ°Ñ\\x82Ð°Ð»Ñ\\x8cÑ\\x8f', iid='Sony Xperia J (Ñ\\x87ÐµÑ\\x80Ð½Ñ\\x8bÐ¹)', r_ui=10.0, est=6.377725930655136, details={'actual_k': 28, 'was_impossible': False}),\n",
       " Prediction(uid='Giorgio', iid='LG D802 G2 Smartphone, 16 GB, Nero [Italia]', r_ui=10.0, est=9.571188857177214, details={'actual_k': 21, 'was_impossible': False}),\n",
       " Prediction(uid='Amazon Customer', iid='Alcatel OneTouch Idol 3 Global Unlocked 4G LTE Smartphone, 5.5 HD IPS Display, 16GB (GSM - US Warranty)', r_ui=8.0, est=5.075160512272899, details={'actual_k': 16, 'was_impossible': False}),\n",
       " Prediction(uid='Vincenzo', iid='Huawei P8 lite Smartphone, Display 5.0\" IPS, Dual Sim, Processore Octa-Core, Memoria 16 GB, Fotocamera 13 MP, Android 5.0, Bianco', r_ui=10.0, est=9.261045265907816, details={'actual_k': 50, 'was_impossible': False}),\n",
       " Prediction(uid='Jane', iid='APPLE iPhone 7 - Silver, 32 GB', r_ui=10.0, est=9.350188604406236, details={'actual_k': 30, 'was_impossible': False}),\n",
       " Prediction(uid='Ð\\x90Ñ\\x80Ñ\\x82Ñ\\x91Ð¼', iid='Apple iPhone 5s 16GB (Ñ\\x81ÐµÑ\\x80Ñ\\x8bÐ¹ ÐºÐ¾Ñ\\x81Ð¼Ð¾Ñ\\x81)', r_ui=10.0, est=8.4116210244444, details={'actual_k': 46, 'was_impossible': False}),\n",
       " Prediction(uid='Ð\\xa0Ð¾Ð¼Ð°Ð½', iid='Samsung Galaxy S4 GT-I9500 16GB (Ð±ÐµÐ»Ñ\\x8bÐ¹)', r_ui=8.0, est=9.094152303056674, details={'actual_k': 27, 'was_impossible': False}),\n",
       " Prediction(uid='giovanni', iid='Lenovo Motorola Moto G LTE Smartphone, Display 4.5\", Fotocamera 5 MP, Memoria 8 GB, Quad-Core 1.2 GHz, 1 GB RAM, Micro SD, Android 4.4.3, Bianco [Italia]', r_ui=8.0, est=9.647977075066542, details={'actual_k': 36, 'was_impossible': False}),\n",
       " Prediction(uid='Amazon Customer', iid=\"Huawei P9 Lite Smartphone, LTE, Display 5.2'' FHD, Processore Octa-Core Kirin 650, 16 GB Memoria Interna, 3GB RAM, Fotocamera 13 MP, Single-SIM, Android 6.0 Marshmallow, Bianco [Italia]\", r_ui=8.0, est=7.907662520415684, details={'actual_k': 50, 'was_impossible': False}),\n",
       " Prediction(uid='luca', iid='Samsung Galaxy A5 2016 Smartphone LTE, 16GB, Nero', r_ui=10.0, est=9.737789200839146, details={'actual_k': 11, 'was_impossible': False}),\n",
       " Prediction(uid='Andrea', iid='LG D802 G2 Smartphone, 16 GB, Nero [Italia]', r_ui=8.0, est=9.586517114009999, details={'actual_k': 19, 'was_impossible': False}),\n",
       " Prediction(uid='Ð\\x90Ð½Ð´Ñ\\x80ÐµÐ¹', iid='Samsung Galaxy S5 SM-G900F 16GB (Ð·Ð¾Ð»Ð¾Ñ\\x82Ð¸Ñ\\x81Ñ\\x82Ñ\\x8bÐ¹)', r_ui=4.0, est=5.126731104611945, details={'actual_k': 31, 'was_impossible': False}),\n",
       " Prediction(uid='francesca', iid='LG G4 Smartphone Display IPS 5.5\" QHD, Fotocamera 16 MP, Memoria Interna 32 GB, 3 GB RAM, Colore Marrone', r_ui=10.0, est=8.887850048122957, details={'actual_k': 18, 'was_impossible': False}),\n",
       " Prediction(uid='Claudio', iid='Samsung G935 Galaxy S7 Edge Smartphone da 32GB, Argento [Italia]', r_ui=2.0, est=9.246140508105317, details={'actual_k': 26, 'was_impossible': False}),\n",
       " Prediction(uid='Robert', iid='APPLE iPhone 6s Plus - 128 GB, Rose Gold', r_ui=10.0, est=9.424312249266215, details={'actual_k': 11, 'was_impossible': False}),\n",
       " Prediction(uid='Lucia', iid='Samsung G935 Galaxy S7 Edge Smartphone da 32GB, Argento [Italia]', r_ui=10.0, est=5.748419430793965, details={'actual_k': 15, 'was_impossible': False}),\n",
       " Prediction(uid='Ron', iid='Samsung Galaxy S7 goud, roze / 32 GB', r_ui=7.0, est=9.133911856344323, details={'actual_k': 26, 'was_impossible': False}),\n",
       " Prediction(uid='fabio', iid='Asus ZE551ML-2A760WW Smartphone ZenFone 2 Deluxe, 5.5\", 4 GB RAM, 64 GB, Intel Quad-Core Z3580, Dual SIM, Illusion Purple', r_ui=10.0, est=8.168931775459077, details={'actual_k': 16, 'was_impossible': False}),\n",
       " Prediction(uid='stefano', iid='LG D802 G2 Smartphone, 16 GB, Nero [Italia]', r_ui=8.0, est=8.702421035453963, details={'actual_k': 25, 'was_impossible': False}),\n",
       " Prediction(uid='Ð¯Ð½Ð°', iid='Sony Xperia SP (Ñ\\x87ÐµÑ\\x80Ð½Ñ\\x8bÐ¹)', r_ui=9.0, est=7.148411162984527, details={'actual_k': 17, 'was_impossible': False}),\n",
       " Prediction(uid='John', iid='Apple iPhone 5 Unlocked Cellphone, 32GB, Black', r_ui=8.0, est=9.577212813500882, details={'actual_k': 4, 'was_impossible': False}),\n",
       " Prediction(uid='Steven', iid='Samsung Galaxy S7 goud, roze / 32 GB', r_ui=9.0, est=9.484109508575328, details={'actual_k': 8, 'was_impossible': False}),\n",
       " Prediction(uid='Ð\\x9cÐ¸Ñ\\x85Ð°Ð¸Ð»', iid='Apple iPhone 5s 16GB (Ñ\\x81ÐµÑ\\x80Ñ\\x8bÐ¹ ÐºÐ¾Ñ\\x81Ð¼Ð¾Ñ\\x81)', r_ui=9.0, est=8.36079537484278, details={'actual_k': 37, 'was_impossible': False}),\n",
       " Prediction(uid='Paolo', iid='Lenovo Motorola Moto E Smartphone, Display 4.3 pollici qHD, Processore Qualcomm Dual-Core 1.2GHz, Memoria 4GB, 1GB RAM, Fotocamera 5MP, Android 4.4.2 KitKat, Bluetooth, WiFi, Bianco [Spagna]', r_ui=8.0, est=8.556754174180332, details={'actual_k': 24, 'was_impossible': False}),\n",
       " Prediction(uid='Martin', iid='Huawei P8 Lite wit / 16 GB', r_ui=10.0, est=8.115438806417304, details={'actual_k': 24, 'was_impossible': False}),\n",
       " Prediction(uid='Ð\\x98Ð³Ð¾Ñ\\x80Ñ\\x8c', iid='Sony Xperia M (Ñ\\x84Ð¸Ð¾Ð»ÐµÑ\\x82Ð¾Ð²Ñ\\x8bÐ¹)', r_ui=10.0, est=9.179732899843085, details={'actual_k': 20, 'was_impossible': False}),\n",
       " Prediction(uid='Kate', iid='Apple iPhone 5s 16GB (Ñ\\x81ÐµÑ\\x80ÐµÐ±Ñ\\x80Ð¸Ñ\\x81Ñ\\x82Ñ\\x8bÐ¹)', r_ui=9.0, est=8.721885829342806, details={'actual_k': 37, 'was_impossible': False}),\n",
       " Prediction(uid='salvatore', iid='Asus ZenFone 2 Laser 5.5\" Smartphone, 16 GB, Dual SIM, Nero [Italia]', r_ui=10.0, est=9.91345533494729, details={'actual_k': 11, 'was_impossible': False}),\n",
       " Prediction(uid='Claudio', iid='Huawei P8 lite Smartphone, Display 5.0\" IPS, Dual Sim, Processore Octa-Core, Memoria 16 GB, Fotocamera 13 MP, Android 5.0, Bianco', r_ui=8.0, est=9.374880610876865, details={'actual_k': 49, 'was_impossible': False}),\n",
       " Prediction(uid='Ð\\x95Ð»ÐµÐ½Ð°', iid='Nokia 101 Premium Black', r_ui=10.0, est=8.073539933840195, details={'actual_k': 15, 'was_impossible': False}),\n",
       " Prediction(uid='Ð\\x98Ð²Ð°Ð½', iid='Samsung Galaxy S4 GT-I9500 16GB (Ñ\\x87ÐµÑ\\x80Ð½Ñ\\x8bÐ¹)', r_ui=6.0, est=8.701290644078938, details={'actual_k': 35, 'was_impossible': False}),\n",
       " Prediction(uid='Luciano', iid='Huawei P8 Lite Smartphone, Display 5\" IPS, Processore Octa-Core 1.5 GHz, Memoria Interna da 16 GB, 2 GB RAM, Fotocamera 13 MP, monoSIM, Android 5.0, Bianco [Italia]', r_ui=2.0, est=7.763163474609242, details={'actual_k': 50, 'was_impossible': False}),\n",
       " Prediction(uid='claudia', iid='Samsung Galaxy Ace S5830 Smartphone (8,9 cm (3,5 Zoll) Display, Touchscreen, Android OS, 5 Megapixel Kamera) weiÃ\\x9f', r_ui=8.0, est=6.983920163685569, details={'actual_k': 8, 'was_impossible': False}),\n",
       " Prediction(uid='Melanie', iid='Samsung Galaxy S7 Edge zwart / 32 GB', r_ui=9.0, est=8.210775444987208, details={'actual_k': 9, 'was_impossible': False}),\n",
       " Prediction(uid='Massimo', iid='Asus ZenFone 2 Laser 5.5\" Smartphone, 16 GB, Dual SIM, Nero [Italia]', r_ui=10.0, est=8.591061590446454, details={'actual_k': 12, 'was_impossible': False}),\n",
       " Prediction(uid='jose', iid='Apple iPhone 5 Unlocked Cellphone, 32GB, Black', r_ui=2.0, est=6.133598567142596, details={'actual_k': 5, 'was_impossible': False}),\n",
       " Prediction(uid='Petra', iid='Samsung Galaxy A5 2016 Smartphone LTE, 16GB, Nero', r_ui=10.0, est=3.4000000000000004, details={'actual_k': 2, 'was_impossible': False}),\n",
       " Prediction(uid='Peter', iid='SAMSUNG Galaxy A3 (2017) - 16 GB, Black', r_ui=10.0, est=8.67597538217522, details={'actual_k': 24, 'was_impossible': False}),\n",
       " Prediction(uid='Valerio', iid='Huawei P8 lite Smartphone, Display 5.0\" IPS, Dual Sim, Processore Octa-Core, Memoria 16 GB, Fotocamera 13 MP, Android 5.0, Bianco', r_ui=10.0, est=7.680538766642716, details={'actual_k': 34, 'was_impossible': False}),\n",
       " Prediction(uid='Max', iid='Samsung Galaxy A5 2016 Smartphone LTE, 16GB, Nero', r_ui=10.0, est=8.840552500400225, details={'actual_k': 10, 'was_impossible': False}),\n",
       " Prediction(uid='Andrew', iid='APPLE iPhone 6s Plus - 128 GB, Rose Gold', r_ui=10.0, est=9.481474232469205, details={'actual_k': 18, 'was_impossible': False}),\n",
       " Prediction(uid='daniele', iid='Huawei P8 Lite Smartphone, Display 5\" IPS, Processore Octa-Core 1.5 GHz, Memoria Interna da 16 GB, 2 GB RAM, Fotocamera 13 MP, monoSIM, Android 5.0, Bianco [Italia]', r_ui=10.0, est=7.511792874046989, details={'actual_k': 36, 'was_impossible': False}),\n",
       " Prediction(uid='Ð\\x98Ñ\\x80Ð¸Ð½Ð°', iid='Sony Xperia SP (ÐºÑ\\x80Ð°Ñ\\x81Ð½Ñ\\x8bÐ¹)', r_ui=8.0, est=9.541357493351589, details={'actual_k': 31, 'was_impossible': False}),\n",
       " Prediction(uid='Elisa', iid='Lenovo Motorola Moto G LTE Smartphone, Display 4.5\", Fotocamera 5 MP, Memoria 8 GB, Quad-Core 1.2 GHz, 1 GB RAM, Micro SD, Android 4.4.3, Bianco [Italia]', r_ui=10.0, est=8.85965105298507, details={'actual_k': 30, 'was_impossible': False}),\n",
       " Prediction(uid='Ð\\x94Ð¼Ð¸Ñ\\x82Ñ\\x80Ð¸Ð¹', iid='Sony Xperia Z1 Compact (Ð±ÐµÐ»Ñ\\x8bÐ¹)', r_ui=9.0, est=8.987753271285948, details={'actual_k': 21, 'was_impossible': False}),\n",
       " Prediction(uid='Paolo', iid='Huawei P8 lite Smartphone, Display 5.0\" IPS, Dual Sim, Processore Octa-Core, Memoria 16 GB, Fotocamera 13 MP, Android 5.0, Bianco', r_ui=6.0, est=8.834023041726734, details={'actual_k': 50, 'was_impossible': False}),\n",
       " Prediction(uid='eduardo', iid='Huawei P8 Lite-AM08 - Pack Smartphone Huawei P8 Lite negro con Altavoz portÃ¡til AM08 Gold (2 GB de RAM, 16 GB de memoria interna, cÃ¡mara 13 Mpxs/8Mpx), color negro', r_ui=10.0, est=10, details={'actual_k': 1, 'was_impossible': False}),\n",
       " Prediction(uid='Lee', iid='Alcatel OneTouch Idol 3 Global Unlocked 4G LTE Smartphone, 5.5 HD IPS Display, 16GB (GSM - US Warranty)', r_ui=6.0, est=7.7431324235504, details={'actual_k': 8, 'was_impossible': False}),\n",
       " Prediction(uid='Ð\\x90Ð½Ð°Ñ\\x81Ñ\\x82Ð°Ñ\\x81Ð¸Ñ\\x8f', iid='Sony Xperia SP (Ñ\\x87ÐµÑ\\x80Ð½Ñ\\x8bÐ¹)', r_ui=9.0, est=8.280612048017435, details={'actual_k': 36, 'was_impossible': False}),\n",
       " Prediction(uid='Ð\\x90Ñ\\x80Ñ\\x82Ñ\\x91Ð¼', iid='Sony Xperia Z (Ð±ÐµÐ»Ñ\\x8bÐ¹)', r_ui=9.0, est=8.115097442484863, details={'actual_k': 46, 'was_impossible': False}),\n",
       " Prediction(uid='Ð\\x92Ð»Ð°Ð´', iid='Samsung N7100 Galaxy Note II 16GB (Ñ\\x81ÐµÑ\\x80Ñ\\x8bÐ¹)', r_ui=10.0, est=7.940720496202112, details={'actual_k': 29, 'was_impossible': False}),\n",
       " Prediction(uid='Gary', iid='APPLE iPhone 7 - Silver, 32 GB', r_ui=4.0, est=9.937727033849944, details={'actual_k': 49, 'was_impossible': False}),\n",
       " Prediction(uid='Roberto', iid='Asus ZenFone 2 Smartphone, Schermo da 5.5\" Full HD, Processore Quad Core 2,3 GHz, RAM 4 GB, 32 GB, 4G/LTE, Argento', r_ui=10.0, est=7.569028966349141, details={'actual_k': 34, 'was_impossible': False}),\n",
       " Prediction(uid='Ð\\x95Ð²Ð³ÐµÐ½Ð¸Ñ\\x8f', iid='Samsung Galaxy S5 SM-G900F 16GB (Ð·Ð¾Ð»Ð¾Ñ\\x82Ð¸Ñ\\x81Ñ\\x82Ñ\\x8bÐ¹)', r_ui=9.0, est=6.85676539512434, details={'actual_k': 28, 'was_impossible': False}),\n",
       " Prediction(uid='Julia', iid='APPLE iPhone 7 - Silver, 32 GB', r_ui=10.0, est=8.692958705476062, details={'actual_k': 38, 'was_impossible': False}),\n",
       " Prediction(uid='Ð®Ð»Ð¸Ñ\\x8f', iid='Sony Xperia SP (ÐºÑ\\x80Ð°Ñ\\x81Ð½Ñ\\x8bÐ¹)', r_ui=8.0, est=8.573484485033443, details={'actual_k': 24, 'was_impossible': False}),\n",
       " Prediction(uid='Lorenzo', iid=\"Huawei P9 Lite Smartphone, LTE, Display 5.2'' FHD, Processore Octa-Core Kirin 650, 16 GB Memoria Interna, 3GB RAM, Fotocamera 13 MP, Single-SIM, Android 6.0 Marshmallow, Bianco [Italia]\", r_ui=8.0, est=9.581642540131872, details={'actual_k': 40, 'was_impossible': False}),\n",
       " Prediction(uid='Victor', iid='Alcatel OneTouch Idol 3 Global Unlocked 4G LTE Smartphone, 5.5 HD IPS Display, 16GB (GSM - US Warranty)', r_ui=10.0, est=5.248311088626509, details={'actual_k': 5, 'was_impossible': False}),\n",
       " Prediction(uid='Jean', iid='MICROSOFT Lumia 650 - 16 GB, Black', r_ui=10.0, est=4.300000000000001, details={'actual_k': 2, 'was_impossible': False}),\n",
       " Prediction(uid='Ð\\x9cÐ°ÐºÑ\\x81Ð¸Ð¼', iid='Samsung Galaxy S5 SM-G900F 16GB (Ð±ÐµÐ»Ñ\\x8bÐ¹)', r_ui=7.0, est=5.057240063685931, details={'actual_k': 15, 'was_impossible': False}),\n",
       " Prediction(uid='Ð¡ÐµÑ\\x80Ð³ÐµÐ¹', iid='Sony Xperia SP (Ñ\\x87ÐµÑ\\x80Ð½Ñ\\x8bÐ¹)', r_ui=10.0, est=8.37092179361995, details={'actual_k': 27, 'was_impossible': False}),\n",
       " Prediction(uid='Anne', iid='Huawei P8lite zwart / 16 GB', r_ui=7.0, est=8.074317325013025, details={'actual_k': 19, 'was_impossible': False}),\n",
       " Prediction(uid='David', iid='Samsung Galaxy S7 Edge goud / 32 GB', r_ui=9.0, est=7.852701599144484, details={'actual_k': 6, 'was_impossible': False}),\n",
       " Prediction(uid='luca', iid='Huawei Y6 Smartphone, Display 5.0\" HD, IPS, 2 GB RAM, 8 GB Memoria Interna, Dual SIM, Fotocamera 8 MP, Android 5.1, Nero', r_ui=4.0, est=9.926019659818444, details={'actual_k': 15, 'was_impossible': False}),\n",
       " Prediction(uid='Ð\\x98Ð»Ñ\\x8cÑ\\x8f', iid='Apple iPhone 5s 16GB (Ñ\\x81ÐµÑ\\x80Ñ\\x8bÐ¹ ÐºÐ¾Ñ\\x81Ð¼Ð¾Ñ\\x81)', r_ui=10.0, est=8.609578367430077, details={'actual_k': 34, 'was_impossible': False}),\n",
       " Prediction(uid='Ð\\x92Ð°Ñ\\x81Ð¸Ð»Ð¸Ð¹', iid='Sony Xperia SP (Ñ\\x87ÐµÑ\\x80Ð½Ñ\\x8bÐ¹)', r_ui=7.0, est=7.596134870898977, details={'actual_k': 29, 'was_impossible': False}),\n",
       " Prediction(uid='Harry', iid='Huawei P8lite zwart / 16 GB', r_ui=8.0, est=9.211529706812186, details={'actual_k': 5, 'was_impossible': False}),\n",
       " Prediction(uid='Ð\\x93Ð¾Ñ\\x81Ñ\\x82Ñ\\x8c', iid='Samsung Galaxy A3', r_ui=10.0, est=8.199246580220526, details={'actual_k': 19, 'was_impossible': False}),\n",
       " Prediction(uid='vincent', iid='Motorola Moto X Pure Edition Unlocked Smartphone, 64 GB Black XT1575, 5.7\" Quad HD display, 21 MP Camera, Quad-core 1.8GHz', r_ui=10.0, est=8.0, details={'actual_k': 0, 'was_impossible': False}),\n",
       " Prediction(uid='marco', iid='Asus ZenFone 2 Laser Smartphone, Display da 5\", 16 GB, Dual SIM, Nero [Italia]', r_ui=2.0, est=9.780778728425105, details={'actual_k': 22, 'was_impossible': False}),\n",
       " Prediction(uid='Alvaro', iid='Motorola Moto X Pure Edition Unlocked Smartphone, 64 GB Black XT1575, 5.7\" Quad HD display, 21 MP Camera, Quad-core 1.8GHz', r_ui=10.0, est=8.421091445427729, details={'was_impossible': True, 'reason': 'User and/or item is unknown.'}),\n",
       " Prediction(uid='Ð\\x98Ð²Ð°Ð½', iid='Samsung Galaxy S5 SM-G900F 16GB (Ð·Ð¾Ð»Ð¾Ñ\\x82Ð¸Ñ\\x81Ñ\\x82Ñ\\x8bÐ¹)', r_ui=10.0, est=3.8405845788625133, details={'actual_k': 25, 'was_impossible': False}),\n",
       " Prediction(uid='Andrew', iid='SAMSUNG Galaxy A3 (2017) - 16 GB, Black', r_ui=9.0, est=8.058204951945436, details={'actual_k': 26, 'was_impossible': False}),\n",
       " Prediction(uid='Jeroen', iid='Samsung Galaxy S7 goud, roze / 32 GB', r_ui=10.0, est=8.577673562155853, details={'actual_k': 18, 'was_impossible': False}),\n",
       " Prediction(uid='AJ', iid='Sim Free Motorola Moto G 4th Generation Mobile Phone - Black', r_ui=8.0, est=9.846153846153847, details={'actual_k': 2, 'was_impossible': False}),\n",
       " Prediction(uid='mike', iid='Sony Xperia Z (Ñ\\x87ÐµÑ\\x80Ð½Ñ\\x8bÐ¹)', r_ui=10.0, est=8.8, details={'actual_k': 0, 'was_impossible': False}),\n",
       " Prediction(uid='patricia', iid='Huawei P8 Lite wit / 16 GB', r_ui=8.0, est=7.923134296601765, details={'actual_k': 4, 'was_impossible': False}),\n",
       " Prediction(uid='Cliente Amazon', iid='Samsung Galaxy J5 Smartphone, Oro [Italia]', r_ui=6.0, est=5.445098444257599, details={'actual_k': 21, 'was_impossible': False}),\n",
       " Prediction(uid='Claudia', iid='Lenovo Motorola Moto G Smartphone, 4,5 pollici display HD, processore Qualcomm, memoria 16GB, MicroSIM, Android 4.3 OS, fotocamera da 5 MP, Nero [Germania]', r_ui=10.0, est=8.242584442188285, details={'actual_k': 48, 'was_impossible': False}),\n",
       " Prediction(uid='Ð\\x94Ð°Ñ\\x80Ñ\\x8cÑ\\x8f', iid='Sony Xperia SP (Ð±ÐµÐ»Ñ\\x8bÐ¹)', r_ui=8.0, est=8.382426925529058, details={'actual_k': 29, 'was_impossible': False}),\n",
       " Prediction(uid='Ð\\x90Ð»ÐµÐºÑ\\x81Ð°Ð½Ð´Ñ\\x80', iid='Samsung Galaxy S4 mini Duos GT-I9192 (Ñ\\x87ÐµÑ\\x80Ð½Ñ\\x8bÐ¹)', r_ui=8.0, est=7.5616309384073475, details={'actual_k': 24, 'was_impossible': False}),\n",
       " Prediction(uid='Ð\\x98Ð³Ð¾Ñ\\x80Ñ\\x8c', iid='Samsung Galaxy S4 GT-I9500 16GB (Ñ\\x87ÐµÑ\\x80Ð½Ñ\\x8bÐ¹)', r_ui=8.0, est=7.267755964422017, details={'actual_k': 35, 'was_impossible': False}),\n",
       " Prediction(uid='Ð\\x94Ð°Ñ\\x80Ñ\\x8cÑ\\x8f', iid='Apple iPhone 5s 16GB (Ñ\\x81ÐµÑ\\x80ÐµÐ±Ñ\\x80Ð¸Ñ\\x81Ñ\\x82Ñ\\x8bÐ¹)', r_ui=10.0, est=8.217680803621422, details={'actual_k': 50, 'was_impossible': False}),\n",
       " Prediction(uid='Antonio', iid='Alcatel One Touch 20-04G Telefono Cellulare, Nero', r_ui=4.0, est=8.863651871227834, details={'actual_k': 34, 'was_impossible': False}),\n",
       " Prediction(uid='Nico', iid='Huawei P8 Champagne / 16 GB - Overzicht', r_ui=9.0, est=9.187860721064137, details={'actual_k': 13, 'was_impossible': False}),\n",
       " Prediction(uid='Elena', iid='Sony Xperia L (Ñ\\x87ÐµÑ\\x80Ð½Ñ\\x8bÐ¹)', r_ui=9.0, est=9.512126621342606, details={'actual_k': 22, 'was_impossible': False}),\n",
       " Prediction(uid='Cliente Amazon', iid='Huawei P8 Lite Smartphone, Display 5\" IPS, Processore Octa-Core 1.5 GHz, Memoria Interna da 16 GB, 2 GB RAM, Fotocamera 13 MP, monoSIM, Android 5.0, Bianco [Italia]', r_ui=2.0, est=6.728446864030619, details={'actual_k': 50, 'was_impossible': False}),\n",
       " Prediction(uid='Ð\\x92Ñ\\x8fÑ\\x87ÐµÑ\\x81Ð»Ð°Ð²', iid='Apple iPhone 5s 16GB (Ñ\\x81ÐµÑ\\x80Ñ\\x8bÐ¹ ÐºÐ¾Ñ\\x81Ð¼Ð¾Ñ\\x81)', r_ui=8.0, est=8.940121915248302, details={'actual_k': 43, 'was_impossible': False}),\n",
       " Prediction(uid='Federico', iid='Lenovo Motorola Moto G Smartphone, 4,5 pollici display HD, processore Qualcomm, memoria 16GB, MicroSIM, Android 4.3 OS, fotocamera da 5 MP, Nero [Germania]', r_ui=10.0, est=8.66474837939165, details={'actual_k': 31, 'was_impossible': False}),\n",
       " Prediction(uid='Ð\\x98Ð»Ñ\\x8cÑ\\x8f', iid='Sony Xperia Z1 (Ð±ÐµÐ»Ñ\\x8bÐ¹)', r_ui=9.0, est=9.634566516568917, details={'actual_k': 28, 'was_impossible': False}),\n",
       " Prediction(uid='Andy', iid='APPLE iPhone 7 - Silver, 128 GB', r_ui=10.0, est=5.235613535831451, details={'actual_k': 20, 'was_impossible': False}),\n",
       " Prediction(uid='Ð\\x90Ð»ÐµÐºÑ\\x81Ð°Ð½Ð´Ñ\\x80', iid='Samsung Galaxy S4 GT-I9500 16GB (Ñ\\x87ÐµÑ\\x80Ð½Ñ\\x8bÐ¹)', r_ui=8.0, est=7.274803175290557, details={'actual_k': 34, 'was_impossible': False}),\n",
       " Prediction(uid='frank', iid='Samsung Galaxy S5 Smartphone (5,1 Zoll (12,9 cm) Touch-Display, 16 GB Speicher, Android 4.4) electric blue', r_ui=8.0, est=2.8534986601508385, details={'actual_k': 2, 'was_impossible': False}),\n",
       " Prediction(uid='Cliente Amazon', iid='Lenovo Motorola Moto G 4G 3 Generazione Smartphone, Display 5\", Fotocamera 13 MP, Memoria 16 GB, Android 6 Lollipop, Nero [Italia]', r_ui=10.0, est=7.725364868322381, details={'actual_k': 30, 'was_impossible': False}),\n",
       " Prediction(uid='Marcus', iid='SAMSUNG Galaxy A3 (2017) - 16 GB, Black', r_ui=9.0, est=9.392349052727727, details={'actual_k': 15, 'was_impossible': False}),\n",
       " Prediction(uid='Ð\\x95Ð²Ð³ÐµÐ½Ð¸Ð¹', iid='Apple iPhone 5s 16GB (Ñ\\x81ÐµÑ\\x80Ñ\\x8bÐ¹ ÐºÐ¾Ñ\\x81Ð¼Ð¾Ñ\\x81)', r_ui=8.0, est=9.046902975884398, details={'actual_k': 41, 'was_impossible': False}),\n",
       " Prediction(uid='Hans', iid='Huawei P8lite zwart / 16 GB', r_ui=7.0, est=8.968642611582975, details={'actual_k': 47, 'was_impossible': False}),\n",
       " Prediction(uid='Manuela', iid='Huawei Ascend P8 Smartphone, Display 5.2\" FHD, Memoria RAM da 3 GB, Processore HiSilicon Kirin 930 Octa-Core, Fotocamera Principale 13 MP, Grigio', r_ui=10.0, est=8.218218096684513, details={'actual_k': 21, 'was_impossible': False}),\n",
       " Prediction(uid='Ronald', iid='Samsung Galaxy S7 Edge goud / 32 GB', r_ui=6.0, est=8.992092283523672, details={'actual_k': 12, 'was_impossible': False}),\n",
       " Prediction(uid='luca', iid='Lenovo Motorola Moto G Smartphone, 4,5 pollici display HD, processore Qualcomm, memoria 16GB, MicroSIM, Android 4.3 OS, fotocamera da 5 MP, Nero [Germania]', r_ui=8.0, est=9.90533822696582, details={'actual_k': 35, 'was_impossible': False}),\n",
       " Prediction(uid='Amazon Kunde', iid='Samsung Galaxy S5 Smartphone (5,1 Zoll (12,9 cm) Touch-Display, 16 GB Speicher, Android 4.4) electric blue', r_ui=2.0, est=9.823839173710418, details={'actual_k': 16, 'was_impossible': False}),\n",
       " Prediction(uid='Ð\\x9cÐ°ÐºÑ\\x81', iid='Sony Xperia L (Ð±ÐµÐ»Ñ\\x8bÐ¹)', r_ui=9.0, est=9.136118472623105, details={'actual_k': 27, 'was_impossible': False}),\n",
       " Prediction(uid='Martin', iid='Sony Xperia Z1 Compact Smartphone (4,3 Zoll (10,9 cm) Touch-Display, 16 GB Speicher, Android 4.3) pink', r_ui=2.0, est=6.996999219897456, details={'actual_k': 23, 'was_impossible': False}),\n",
       " Prediction(uid='Ð\\x9dÐ¸ÐºÐ¾Ð»Ð°Ð¹', iid='Samsung N7100 Galaxy Note II 16GB (Ñ\\x81ÐµÑ\\x80Ñ\\x8bÐ¹)', r_ui=9.0, est=9.695800200725529, details={'actual_k': 42, 'was_impossible': False}),\n",
       " Prediction(uid='Ð\\x9fÐ°Ð²ÐµÐ»', iid='Sony Xperia Z1 Compact (Ñ\\x87ÐµÑ\\x80Ð½Ñ\\x8bÐ¹)', r_ui=9.0, est=9.605343924850688, details={'actual_k': 34, 'was_impossible': False}),\n",
       " Prediction(uid='Sandra', iid='Samsung Galaxy S7 zwart / 32 GB', r_ui=8.0, est=8.572098673379154, details={'actual_k': 16, 'was_impossible': False}),\n",
       " Prediction(uid='Ð\\x95ÐºÐ°Ñ\\x82ÐµÑ\\x80Ð¸Ð½Ð°', iid='Samsung Galaxy S5 SM-G900F 16GB (Ñ\\x81Ð¸Ð½Ð¸Ð¹)', r_ui=6.0, est=7.304596773058113, details={'actual_k': 29, 'was_impossible': False}),\n",
       " Prediction(uid='Ð\\x92Ð¸ÐºÑ\\x82Ð¾Ñ\\x80Ð¸Ñ\\x8f', iid='Sony Xperia SP (Ð±ÐµÐ»Ñ\\x8bÐ¹)', r_ui=9.0, est=8.910545248442252, details={'actual_k': 31, 'was_impossible': False}),\n",
       " Prediction(uid='Ð\\x92Ð»Ð°Ð´Ð¸Ð¼Ð¸Ñ\\x80', iid='Sony Xperia Z (Ð±ÐµÐ»Ñ\\x8bÐ¹)', r_ui=9.0, est=8.474136119994101, details={'actual_k': 48, 'was_impossible': False}),\n",
       " Prediction(uid='antonio', iid='Lenovo Motorola Moto E Smartphone, Display 4.3 pollici qHD, Processore Qualcomm Dual-Core 1.2GHz, Memoria 4GB, 1GB RAM, Fotocamera 5MP, Android 4.4.2 KitKat, Bluetooth, WiFi, Bianco [Spagna]', r_ui=10.0, est=9.60756952737117, details={'actual_k': 26, 'was_impossible': False}),\n",
       " Prediction(uid='Pietro', iid=\"Huawei P9 Lite Smartphone, LTE, Display 5.2'' FHD, Processore Octa-Core Kirin 650, 16 GB Memoria Interna, 3GB RAM, Fotocamera 13 MP, Single-SIM, Android 6.0 Marshmallow, Bianco [Italia]\", r_ui=8.0, est=10, details={'actual_k': 50, 'was_impossible': False}),\n",
       " Prediction(uid='Jessica', iid='Huawei Y6 Smartphone, Display 5.0\" HD, IPS, 2 GB RAM, 8 GB Memoria Interna, Dual SIM, Fotocamera 8 MP, Android 5.1, Nero', r_ui=8.0, est=9.728694861431372, details={'actual_k': 8, 'was_impossible': False}),\n",
       " Prediction(uid='Ð\\x9dÐ¸ÐºÐ¾Ð»Ð°Ð¹', iid='Samsung Galaxy S4 GT-I9500 16GB (Ð±ÐµÐ»Ñ\\x8bÐ¹)', r_ui=10.0, est=7.9658195834908465, details={'actual_k': 40, 'was_impossible': False}),\n",
       " Prediction(uid='Amazon Customer', iid='Sony Xperia L (Ñ\\x87ÐµÑ\\x80Ð½Ñ\\x8bÐ¹)', r_ui=7.0, est=9.20770067157093, details={'actual_k': 27, 'was_impossible': False}),\n",
       " Prediction(uid='Robert', iid='MICROSOFT Lumia 650 - 16 GB, Black', r_ui=6.0, est=8.718026300001684, details={'actual_k': 35, 'was_impossible': False}),\n",
       " Prediction(uid='Leonardo', iid='Lenovo Motorola Moto G Smartphone, 4,5 pollici display HD, processore Qualcomm, memoria 16GB, MicroSIM, Android 4.3 OS, fotocamera da 5 MP, Nero [Germania]', r_ui=10.0, est=9.101508983481542, details={'actual_k': 50, 'was_impossible': False}),\n",
       " Prediction(uid='Ð\\x95Ð²Ð³ÐµÐ½Ð¸Ñ\\x8f', iid='Sony Xperia Z (Ñ\\x87ÐµÑ\\x80Ð½Ñ\\x8bÐ¹)', r_ui=10.0, est=8.623859556735843, details={'actual_k': 48, 'was_impossible': False}),\n",
       " Prediction(uid='Paul', iid='APPLE iPhone 6s Plus - 128 GB, Rose Gold', r_ui=8.0, est=9.529043496405029, details={'actual_k': 32, 'was_impossible': False}),\n",
       " Prediction(uid='Jack', iid='Huawei Honor 5X Unlocked Smartphone, 16GB Dark Grey (US Warranty)', r_ui=6.0, est=8.63183376686063, details={'actual_k': 4, 'was_impossible': False}),\n",
       " Prediction(uid='Sergio', iid='Lenovo Motorola Moto G 4G 3 Generazione Smartphone, Display 5\", Fotocamera 13 MP, Memoria 16 GB, Android 6 Lollipop, Nero [Italia]', r_ui=10.0, est=9.178517544242196, details={'actual_k': 37, 'was_impossible': False}),\n",
       " Prediction(uid='roberto', iid='Samsung Galaxy J5 Smartphone, Oro [Italia]', r_ui=10.0, est=8.352137665731561, details={'actual_k': 19, 'was_impossible': False}),\n",
       " Prediction(uid='Ð\\x98Ñ\\x80Ð¸Ð½Ð°', iid='Samsung Galaxy S4 mini Duos GT-I9192 (Ñ\\x87ÐµÑ\\x80Ð½Ñ\\x8bÐ¹)', r_ui=10.0, est=9.393688540781433, details={'actual_k': 21, 'was_impossible': False}),\n",
       " Prediction(uid='Mike', iid='MICROSOFT Lumia 650 - 16 GB, Black', r_ui=8.0, est=7.2576071520011025, details={'actual_k': 22, 'was_impossible': False}),\n",
       " Prediction(uid='Ð\\x90Ð»ÐµÐºÑ\\x81Ð°Ð½Ð´Ñ\\x80', iid='Samsung Galaxy S5 SM-G900F 16GB (Ñ\\x87ÐµÑ\\x80Ð½Ñ\\x8bÐ¹)', r_ui=9.0, est=7.579023828968628, details={'actual_k': 27, 'was_impossible': False}),\n",
       " Prediction(uid='Ð®Ð»Ð¸Ñ\\x8f', iid='Sony Xperia C (Ñ\\x87ÐµÑ\\x80Ð½Ñ\\x8bÐ¹)', r_ui=7.0, est=8.65465835231688, details={'actual_k': 32, 'was_impossible': False}),\n",
       " Prediction(uid='unknown', iid='Sony Xperia Z1 Compact (Ñ\\x80Ð¾Ð·Ð¾Ð²Ñ\\x8bÐ¹)', r_ui=9.0, est=9.274485454535565, details={'actual_k': 27, 'was_impossible': False}),\n",
       " Prediction(uid='K', iid='Huawei P8 Lite goud, wit / 16 GB', r_ui=8.0, est=7.6323521318362335, details={'actual_k': 9, 'was_impossible': False}),\n",
       " Prediction(uid='Ð\\x98Ð²Ð°Ð½', iid='Sony Xperia Z1 (Ð±ÐµÐ»Ñ\\x8bÐ¹)', r_ui=9.0, est=7.6643813082152565, details={'actual_k': 25, 'was_impossible': False}),\n",
       " Prediction(uid='Elisa', iid='Lenovo Motorola Moto G 4G (2 Generazione) Smartphone, Display 5 Pollici, LTE, Fotocamera 8 MP, Memoria 8 GB, Android 5 Lollipop, Nero [Italia]', r_ui=10.0, est=8.993605821145513, details={'actual_k': 40, 'was_impossible': False}),\n",
       " Prediction(uid='Steve', iid='Sim Free Motorola Moto G 4th Generation Mobile Phone - Black', r_ui=10.0, est=9.152798815907998, details={'actual_k': 4, 'was_impossible': False}),\n",
       " Prediction(uid='Dan', iid='Huawei Honor 5X Unlocked Smartphone, 16GB Dark Grey (US Warranty)', r_ui=10.0, est=7.063749411266545, details={'actual_k': 4, 'was_impossible': False}),\n",
       " Prediction(uid='Ð\\x9dÐ°Ñ\\x82Ð°Ð»Ñ\\x8cÑ\\x8f', iid='Sony Xperia Z1 Compact (Ñ\\x80Ð¾Ð·Ð¾Ð²Ñ\\x8bÐ¹)', r_ui=6.0, est=8.120632335161165, details={'actual_k': 18, 'was_impossible': False}),\n",
       " Prediction(uid='Henry', iid='Samsung Galaxy S7 zwart / 32 GB', r_ui=10.0, est=9.933083857207038, details={'actual_k': 3, 'was_impossible': False}),\n",
       " Prediction(uid='Sam', iid='Sim Free Motorola Moto G 4th Generation Mobile Phone - Black', r_ui=10.0, est=8.498010466453062, details={'actual_k': 3, 'was_impossible': False}),\n",
       " Prediction(uid='Ð\\x90Ð»ÐµÐºÑ\\x81ÐµÐ¹', iid='Sony Xperia Z1 Compact (Ð±ÐµÐ»Ñ\\x8bÐ¹)', r_ui=10.0, est=8.296355689035535, details={'actual_k': 18, 'was_impossible': False}),\n",
       " Prediction(uid='Christian', iid='Lenovo Motorola Moto G Smartphone, Display HD 4,5\", Processore Qualcomm, Memoria 8 GB, MicroSIM, Android 4.4 OS, Fotocamera da 5 MP, Nero [Germania]', r_ui=10.0, est=9.146484051295936, details={'actual_k': 20, 'was_impossible': False}),\n",
       " Prediction(uid='Ð\\x92Ñ\\x8fÑ\\x87ÐµÑ\\x81Ð»Ð°Ð²', iid='Sony Xperia Z1 (Ñ\\x84Ð¸Ð¾Ð»ÐµÑ\\x82Ð¾Ð²Ñ\\x8bÐ¹)', r_ui=10.0, est=8.800490277082432, details={'actual_k': 31, 'was_impossible': False}),\n",
       " Prediction(uid='Ð\\x90Ð½Ð°Ñ\\x81Ñ\\x82Ð°Ñ\\x81Ð¸Ñ\\x8f', iid='Apple iPhone 5s 16GB (Ñ\\x81ÐµÑ\\x80ÐµÐ±Ñ\\x80Ð¸Ñ\\x81Ñ\\x82Ñ\\x8bÐ¹)', r_ui=10.0, est=6.98547858919061, details={'actual_k': 50, 'was_impossible': False}),\n",
       " Prediction(uid='Ð\\x90Ð½Ð°Ñ\\x82Ð¾Ð»Ð¸Ð¹', iid='Apple iPhone 5s 16GB (Ñ\\x81ÐµÑ\\x80ÐµÐ±Ñ\\x80Ð¸Ñ\\x81Ñ\\x82Ñ\\x8bÐ¹)', r_ui=7.0, est=9.446839468811472, details={'actual_k': 50, 'was_impossible': False}),\n",
       " Prediction(uid='Roberta', iid='Asus ZE551ML-2A760WW Smartphone ZenFone 2 Deluxe, 5.5\", 4 GB RAM, 64 GB, Intel Quad-Core Z3580, Dual SIM, Illusion Purple', r_ui=10.0, est=7.757645178672356, details={'actual_k': 18, 'was_impossible': False}),\n",
       " Prediction(uid='Jose', iid='Alcatel OneTouch Idol 3 Global Unlocked 4G LTE Smartphone, 5.5 HD IPS Display, 16GB (GSM - US Warranty)', r_ui=6.0, est=9.0, details={'actual_k': 0, 'was_impossible': False}),\n",
       " Prediction(uid='enrico', iid='Lenovo Motorola Moto G Smartphone, Display HD 4,5\", Processore Qualcomm, Memoria 8 GB, MicroSIM, Android 4.4 OS, Fotocamera da 5 MP, Nero [Germania]', r_ui=10.0, est=8.302561774119198, details={'actual_k': 38, 'was_impossible': False}),\n",
       " Prediction(uid='Rafael', iid='Sony Xperia Z1 Compact (Ñ\\x80Ð¾Ð·Ð¾Ð²Ñ\\x8bÐ¹)', r_ui=9.0, est=9.468084958269447, details={'actual_k': 17, 'was_impossible': False}),\n",
       " Prediction(uid='Jose', iid='Huawei Honor 5X Unlocked Smartphone, 16GB Dark Grey (US Warranty)', r_ui=6.0, est=9.635203609966993, details={'actual_k': 2, 'was_impossible': False}),\n",
       " Prediction(uid='Julia', iid='Huawei P8 Champagne / 16 GB - Overzicht', r_ui=8.0, est=8.040137750207686, details={'actual_k': 8, 'was_impossible': False}),\n",
       " Prediction(uid='Alfredo', iid='Lenovo Motorola Moto G 4G (2 Generazione) Smartphone, Display 5 Pollici, LTE, Fotocamera 8 MP, Memoria 8 GB, Android 5 Lollipop, Nero [Italia]', r_ui=4.0, est=7.727587916787713, details={'actual_k': 23, 'was_impossible': False}),\n",
       " Prediction(uid='Ð\\x90Ð½Ñ\\x82Ð¾Ð½', iid='Sony Xperia L (ÐºÑ\\x80Ð°Ñ\\x81Ð½Ñ\\x8bÐ¹)', r_ui=10.0, est=9.058094642452, details={'actual_k': 29, 'was_impossible': False}),\n",
       " Prediction(uid='Ð®Ñ\\x80Ð¸Ð¹', iid='Samsung Galaxy S4 GT-I9500 16GB (Ñ\\x87ÐµÑ\\x80Ð½Ñ\\x8bÐ¹)', r_ui=10.0, est=7.686995006463217, details={'actual_k': 29, 'was_impossible': False}),\n",
       " Prediction(uid='Mirko', iid='Lenovo Motorola Moto G 4G (2 Generazione) Smartphone, Display 5 Pollici, LTE, Fotocamera 8 MP, Memoria 8 GB, Android 5 Lollipop, Nero [Italia]', r_ui=6.0, est=9.384086404710573, details={'actual_k': 50, 'was_impossible': False}),\n",
       " Prediction(uid='Ð\\x92Ð»Ð°Ð´', iid='Sony Xperia M (Ð±ÐµÐ»Ñ\\x8bÐ¹)', r_ui=9.0, est=8.505883870757325, details={'actual_k': 13, 'was_impossible': False}),\n",
       " Prediction(uid='laura', iid='Samsung Galaxy A5 2016 Smartphone LTE, 16GB, Nero', r_ui=10.0, est=10, details={'actual_k': 3, 'was_impossible': False}),\n",
       " Prediction(uid='Rene', iid='Huawei P8 Champagne / 16 GB - Overzicht', r_ui=9.0, est=9.479372616983268, details={'actual_k': 14, 'was_impossible': False}),\n",
       " Prediction(uid='Ð\\x95Ð²Ð³ÐµÐ½Ð¸Ñ\\x8f', iid='Sony Xperia Z (Ð±ÐµÐ»Ñ\\x8bÐ¹)', r_ui=8.0, est=9.486058861713387, details={'actual_k': 50, 'was_impossible': False}),\n",
       " Prediction(uid='Elena', iid='Asus ZenFone 2 Laser Smartphone, Display da 5\", 16 GB, Dual SIM, Nero [Italia]', r_ui=4.0, est=10, details={'actual_k': 23, 'was_impossible': False}),\n",
       " Prediction(uid='Ð¡ÐµÑ\\x80Ð³ÐµÐ¹', iid='Samsung Galaxy S4 GT-I9500 16GB (Ð±ÐµÐ»Ñ\\x8bÐ¹)', r_ui=8.0, est=4.528087654486214, details={'actual_k': 31, 'was_impossible': False}),\n",
       " Prediction(uid='francesco', iid='Lenovo Motorola Moto G LTE Smartphone, Display 4.5\", Fotocamera 5 MP, Memoria 8 GB, Quad-Core 1.2 GHz, 1 GB RAM, Micro SD, Android 4.4.3, Bianco [Italia]', r_ui=10.0, est=8.942891382572833, details={'actual_k': 27, 'was_impossible': False}),\n",
       " Prediction(uid='Ð\\x9aÐ¸Ñ\\x80Ð¸Ð»Ð»', iid='Apple iPhone 5s 16GB (Ñ\\x81ÐµÑ\\x80Ñ\\x8bÐ¹ ÐºÐ¾Ñ\\x81Ð¼Ð¾Ñ\\x81)', r_ui=10.0, est=9.244118258231936, details={'actual_k': 45, 'was_impossible': False}),\n",
       " Prediction(uid='Ð\\x9cÐ°ÐºÑ\\x81Ð¸Ð¼', iid='Sony Xperia Z (Ð±ÐµÐ»Ñ\\x8bÐ¹)', r_ui=8.0, est=9.249708540188665, details={'actual_k': 38, 'was_impossible': False}),\n",
       " Prediction(uid='Ð\\x9dÐ°Ñ\\x82Ð°Ð»Ñ\\x8cÑ\\x8f', iid='Sony Xperia J (Ñ\\x87ÐµÑ\\x80Ð½Ñ\\x8bÐ¹)', r_ui=9.0, est=6.377725930655136, details={'actual_k': 28, 'was_impossible': False}),\n",
       " Prediction(uid='Federico', iid='Asus ZE551ML-2A760WW Smartphone ZenFone 2 Deluxe, 5.5\", 4 GB RAM, 64 GB, Intel Quad-Core Z3580, Dual SIM, Illusion Purple', r_ui=10.0, est=8.5315005201419, details={'actual_k': 16, 'was_impossible': False}),\n",
       " Prediction(uid='Simone', iid='Lenovo Motorola Moto G Smartphone, 4,5 pollici display HD, processore Qualcomm, memoria 16GB, MicroSIM, Android 4.3 OS, fotocamera da 5 MP, Nero [Germania]', r_ui=10.0, est=8.295203620429378, details={'actual_k': 36, 'was_impossible': False}),\n",
       " Prediction(uid='Ð\\x92Ð¸Ñ\\x82Ð°Ð»Ð¸Ð¹', iid='Samsung Galaxy S5 SM-G900F 16GB (Ð·Ð¾Ð»Ð¾Ñ\\x82Ð¸Ñ\\x81Ñ\\x82Ñ\\x8bÐ¹)', r_ui=5.0, est=7.628282572669177, details={'actual_k': 29, 'was_impossible': False}),\n",
       " Prediction(uid='Ð\\x9cÐ°ÐºÑ\\x81', iid='Sony Xperia Z (Ð±ÐµÐ»Ñ\\x8bÐ¹)', r_ui=10.0, est=8.811799899952655, details={'actual_k': 42, 'was_impossible': False}),\n",
       " Prediction(uid='Daniel', iid='Samsung Galaxy S7 goud, roze / 32 GB', r_ui=9.0, est=8.51318068600457, details={'actual_k': 22, 'was_impossible': False}),\n",
       " Prediction(uid='Patrick', iid='MICROSOFT Lumia 650 - 16 GB, Black', r_ui=6.0, est=9.474121200360134, details={'actual_k': 24, 'was_impossible': False}),\n",
       " Prediction(uid='Adam', iid='APPLE iPhone 7 - Silver, 128 GB', r_ui=10.0, est=9.177070058763208, details={'actual_k': 21, 'was_impossible': False}),\n",
       " Prediction(uid='Sandra', iid='Samsung Galaxy S7 zwart / 32 GB', r_ui=9.0, est=8.572098673379154, details={'actual_k': 16, 'was_impossible': False}),\n",
       " Prediction(uid='matteo', iid=\"Huawei P9 Lite Smartphone, LTE, Display 5.2'' FHD, Processore Octa-Core Kirin 650, 16 GB Memoria Interna, 3GB RAM, Fotocamera 13 MP, Single-SIM, Android 6.0 Marshmallow, Nero [Italia]\", r_ui=10.0, est=9.35784458332972, details={'actual_k': 31, 'was_impossible': False}),\n",
       " Prediction(uid='Michael', iid='Lenovo Motorola Moto G Smartphone, 4,5 pollici display HD, processore Qualcomm, memoria 16GB, MicroSIM, Android 4.3 OS, fotocamera da 5 MP, Nero [Germania]', r_ui=10.0, est=8.937658124224125, details={'actual_k': 28, 'was_impossible': False}),\n",
       " Prediction(uid='JÃ¼rgen', iid='Samsung Galaxy S3 mini (GT-I8200) Smartphone (4 Zoll (10,2 cm) Touch-Display, 8 GB Speicher, Android 4.2) blau', r_ui=10.0, est=6.695381661930561, details={'actual_k': 4, 'was_impossible': False}),\n",
       " Prediction(uid='Peter', iid='Samsung Galaxy S5 Smartphone (5,1 Zoll (12,9 cm) Touch-Display, 16 GB Speicher, Android 4.4) electric blue', r_ui=10.0, est=4.670679974827843, details={'actual_k': 19, 'was_impossible': False}),\n",
       " Prediction(uid='Henry', iid='Huawei P8 Champagne / 16 GB', r_ui=9.0, est=10, details={'actual_k': 8, 'was_impossible': False}),\n",
       " Prediction(uid='Danilo', iid='LG G4 Smartphone Display IPS 5.5\" QHD, Fotocamera 16 MP, Memoria Interna 32 GB, 3 GB RAM, Colore Marrone', r_ui=10.0, est=2.607718499659587, details={'actual_k': 22, 'was_impossible': False}),\n",
       " Prediction(uid='Francesco', iid='WIKO Fever 4G Smartphone, 16 GB, Dual SIM, Bianco', r_ui=10.0, est=8.642683731598844, details={'actual_k': 18, 'was_impossible': False}),\n",
       " Prediction(uid='Alessio', iid='WIKO Fever 4G Smartphone, 16 GB, Dual SIM, Bianco', r_ui=10.0, est=4.626199787689274, details={'actual_k': 15, 'was_impossible': False}),\n",
       " Prediction(uid='Steve', iid='APPLE iPhone 7 - Silver, 32 GB', r_ui=4.0, est=6.834755706270607, details={'actual_k': 11, 'was_impossible': False}),\n",
       " Prediction(uid='Ashley', iid='MICROSOFT Lumia 650 - 16 GB, Black', r_ui=1.0, est=5.65140811695042, details={'actual_k': 11, 'was_impossible': False}),\n",
       " Prediction(uid='Ð\\x90Ð½Ð´Ñ\\x80ÐµÐ¹', iid='Sony Xperia L (Ñ\\x87ÐµÑ\\x80Ð½Ñ\\x8bÐ¹)', r_ui=8.0, est=8.935226591505787, details={'actual_k': 27, 'was_impossible': False}),\n",
       " Prediction(uid='Ð\\xa0Ð¾Ð¼Ð°Ð½', iid='Sony Xperia SP (ÐºÑ\\x80Ð°Ñ\\x81Ð½Ñ\\x8bÐ¹)', r_ui=9.0, est=7.3446621436666435, details={'actual_k': 23, 'was_impossible': False}),\n",
       " Prediction(uid='Ð\\xa0Ð¾Ð¼Ð°Ð½', iid='Sony Xperia Z1 (Ñ\\x84Ð¸Ð¾Ð»ÐµÑ\\x82Ð¾Ð²Ñ\\x8bÐ¹)', r_ui=9.0, est=5.214731254573636, details={'actual_k': 25, 'was_impossible': False}),\n",
       " Prediction(uid='Ð\\x90Ð½Ð½Ð°', iid='Sony Xperia Z1 (Ð±ÐµÐ»Ñ\\x8bÐ¹)', r_ui=10.0, est=8.424242772164716, details={'actual_k': 23, 'was_impossible': False}),\n",
       " Prediction(uid='Nick', iid='MICROSOFT Lumia 650 - 16 GB, Black', r_ui=9.0, est=6.746853312022893, details={'actual_k': 16, 'was_impossible': False}),\n",
       " Prediction(uid='Ð\\x92Ð»Ð°Ð´Ð¸Ð¼Ð¸Ñ\\x80', iid='Sony Xperia Z1 (Ð±ÐµÐ»Ñ\\x8bÐ¹)', r_ui=9.0, est=8.415107982330277, details={'actual_k': 32, 'was_impossible': False}),\n",
       " Prediction(uid='Ð\\x9aÐ¾Ð½Ñ\\x81Ñ\\x82Ð°Ð½Ñ\\x82Ð¸Ð½', iid='Apple iPhone 5s 16GB (Ñ\\x81ÐµÑ\\x80ÐµÐ±Ñ\\x80Ð¸Ñ\\x81Ñ\\x82Ñ\\x8bÐ¹)', r_ui=10.0, est=6.703541088873649, details={'actual_k': 50, 'was_impossible': False}),\n",
       " Prediction(uid='Maria', iid='Apple iPhone 5 Unlocked Cellphone, 32GB, Black', r_ui=2.0, est=9.940341402107975, details={'actual_k': 10, 'was_impossible': False}),\n",
       " Prediction(uid='jesus', iid='Motorola Moto G (3Âª GeneraciÃ³n) + Carcasa Oficial color turquesa - Smartphone libre Android 6 (4G, pantalla 5\", cÃ¡mara 13 Mp, 16 GB, Quad Core 1.4 GHz, 2 GB de RAM), negro', r_ui=10.0, est=7.823369506620135, details={'actual_k': 24, 'was_impossible': False}),\n",
       " Prediction(uid='Ð\\x95Ð²Ð³ÐµÐ½Ð¸Ð¹', iid='Sony Xperia Z1 (Ð±ÐµÐ»Ñ\\x8bÐ¹)', r_ui=9.0, est=7.753810440138337, details={'actual_k': 25, 'was_impossible': False}),\n",
       " Prediction(uid='Ð\\xa0Ð¾Ð¼Ð°Ð½', iid='Samsung Galaxy S5 SM-G900F 16GB (Ð±ÐµÐ»Ñ\\x8bÐ¹)', r_ui=9.0, est=7.477706451524613, details={'actual_k': 15, 'was_impossible': False}),\n",
       " Prediction(uid='Ð\\x9aÐ¸Ñ\\x80Ð¸Ð»Ð»', iid='Sony Xperia Z (Ñ\\x87ÐµÑ\\x80Ð½Ñ\\x8bÐ¹)', r_ui=10.0, est=8.71388905800959, details={'actual_k': 50, 'was_impossible': False}),\n",
       " Prediction(uid='Ð\\x9aÑ\\x80Ð¸Ñ\\x81Ñ\\x82Ð¸Ð½Ð°', iid='Sony Xperia M (Ñ\\x87ÐµÑ\\x80Ð½Ñ\\x8bÐ¹)', r_ui=7.0, est=9.582147521051338, details={'actual_k': 31, 'was_impossible': False}),\n",
       " Prediction(uid='Ð\\x9fÐ°Ð²ÐµÐ»', iid='Sony Xperia J (Ñ\\x87ÐµÑ\\x80Ð½Ñ\\x8bÐ¹)', r_ui=7.0, est=9.292476809838051, details={'actual_k': 42, 'was_impossible': False}),\n",
       " Prediction(uid='Ð\\x90Ð½Ð´Ñ\\x80ÐµÐ¹', iid='Sony Xperia C (Ñ\\x87ÐµÑ\\x80Ð½Ñ\\x8bÐ¹)', r_ui=10.0, est=7.535958674170798, details={'actual_k': 23, 'was_impossible': False}),\n",
       " Prediction(uid='nicola', iid='Huawei P8 Lite Smartphone, Display 5\" IPS, Processore Octa-Core 1.5 GHz, Memoria Interna da 16 GB, 2 GB RAM, Fotocamera 13 MP, monoSIM, Android 5.0, Bianco [Italia]', r_ui=6.0, est=7.216242445396798, details={'actual_k': 31, 'was_impossible': False}),\n",
       " Prediction(uid='Roberto', iid='Lenovo Motorola Moto G Smartphone, 4,5 pollici display HD, processore Qualcomm, memoria 16GB, MicroSIM, Android 4.3 OS, fotocamera da 5 MP, Nero [Germania]', r_ui=6.0, est=9.810950870170187, details={'actual_k': 44, 'was_impossible': False}),\n",
       " Prediction(uid='Ð\\x94Ð¼Ð¸Ñ\\x82Ñ\\x80Ð¸Ð¹', iid='Sony Xperia Z (Ñ\\x87ÐµÑ\\x80Ð½Ñ\\x8bÐ¹)', r_ui=10.0, est=6.44753861720543, details={'actual_k': 48, 'was_impossible': False}),\n",
       " Prediction(uid='Marcel', iid='Huawei P8 Lite goud, wit / 16 GB', r_ui=9.0, est=8.032371618824826, details={'actual_k': 22, 'was_impossible': False}),\n",
       " Prediction(uid='Ð\\x94ÐµÐ½Ð¸Ñ\\x81', iid='Sony Xperia SP (ÐºÑ\\x80Ð°Ñ\\x81Ð½Ñ\\x8bÐ¹)', r_ui=10.0, est=7.971399873852869, details={'actual_k': 27, 'was_impossible': False}),\n",
       " Prediction(uid='Ð\\x90Ð½Ð´Ñ\\x80ÐµÐ¹', iid='Samsung N7100 Galaxy Note II 16GB (Ñ\\x81ÐµÑ\\x80Ñ\\x8bÐ¹)', r_ui=5.0, est=8.986079598014587, details={'actual_k': 31, 'was_impossible': False}),\n",
       " Prediction(uid='Luigi', iid='Alcatel One Touch 20-04G Telefono Cellulare, Nero', r_ui=6.0, est=8.050359915045519, details={'actual_k': 35, 'was_impossible': False}),\n",
       " Prediction(uid='Chris', iid='Alcatel OneTouch Idol 3 Global Unlocked 4G LTE Smartphone, 5.5 HD IPS Display, 16GB (GSM - US Warranty)', r_ui=2.0, est=4.37730817119869, details={'actual_k': 15, 'was_impossible': False}),\n",
       " Prediction(uid='M', iid='Alcatel OneTouch Idol 3 Global Unlocked 4G LTE Smartphone, 5.5 HD IPS Display, 16GB (GSM - US Warranty)', r_ui=2.0, est=10, details={'actual_k': 6, 'was_impossible': False}),\n",
       " Prediction(uid='Ð\\x90Ð½Ð´Ñ\\x80ÐµÐ¹', iid='Samsung Galaxy S4 GT-I9500 16GB (Ð±ÐµÐ»Ñ\\x8bÐ¹)', r_ui=2.0, est=7.074789280160757, details={'actual_k': 31, 'was_impossible': False}),\n",
       " Prediction(uid='Ð¯Ð½Ð°', iid='Apple iPhone 5s 16GB (Ñ\\x81ÐµÑ\\x80Ñ\\x8bÐ¹ ÐºÐ¾Ñ\\x81Ð¼Ð¾Ñ\\x81)', r_ui=8.0, est=7.502675329242257, details={'actual_k': 18, 'was_impossible': False}),\n",
       " Prediction(uid='Ð\\x9fÐ°Ð²ÐµÐ»', iid='Sony Xperia J (Ñ\\x87ÐµÑ\\x80Ð½Ñ\\x8bÐ¹)', r_ui=8.0, est=9.292476809838051, details={'actual_k': 42, 'was_impossible': False}),\n",
       " Prediction(uid='Ð\\x9dÐ¸ÐºÐ¾Ð»Ð°Ð¹', iid='Samsung Galaxy S4 GT-I9500 16GB (Ñ\\x87ÐµÑ\\x80Ð½Ñ\\x8bÐ¹)', r_ui=10.0, est=8.341674109838095, details={'actual_k': 40, 'was_impossible': False}),\n",
       " Prediction(uid='giorgio', iid='Huawei Y6 Smartphone, Display 5.0\" HD, IPS, 2 GB RAM, 8 GB Memoria Interna, Dual SIM, Fotocamera 8 MP, Android 5.1, Nero', r_ui=8.0, est=9.416228135794777, details={'actual_k': 19, 'was_impossible': False}),\n",
       " Prediction(uid='Ivan', iid='LG D802 G2 Smartphone, 16 GB, Nero [Italia]', r_ui=4.0, est=9.616115908333256, details={'actual_k': 4, 'was_impossible': False}),\n",
       " Prediction(uid='Sandro', iid='Asus ZenFone 2 Laser 5.5\" Smartphone, 16 GB, Dual SIM, Nero [Italia]', r_ui=8.0, est=9.131155008274094, details={'actual_k': 8, 'was_impossible': False}),\n",
       " Prediction(uid='Dave', iid='Lenovo Motorola Moto G 4G (2 Generazione) Smartphone, Display 5 Pollici, LTE, Fotocamera 8 MP, Memoria 8 GB, Android 5 Lollipop, Nero [Italia]', r_ui=10.0, est=8.83189300879796, details={'actual_k': 27, 'was_impossible': False}),\n",
       " Prediction(uid='Matthew', iid='APPLE iPhone 7 - Silver, 128 GB', r_ui=7.0, est=8.510235245094703, details={'actual_k': 17, 'was_impossible': False}),\n",
       " Prediction(uid='Cliente Amazon', iid='Lenovo Motorola Moto E Smartphone, Display 4.3 pollici qHD, Processore Qualcomm Dual-Core 1.2GHz, Memoria 4GB, 1GB RAM, Fotocamera 5MP, Android 4.4.2 KitKat, Bluetooth, WiFi, Bianco [Spagna]', r_ui=10.0, est=7.287469143325328, details={'actual_k': 17, 'was_impossible': False}),\n",
       " Prediction(uid='Alex', iid='Samsung Galaxy S4 mini Duos GT-I9192 (Ð±ÐµÐ»Ñ\\x8bÐ¹)', r_ui=10.0, est=8.496809077844174, details={'actual_k': 29, 'was_impossible': False}),\n",
       " Prediction(uid='Ð\\x94ÐµÐ½Ð¸Ñ\\x81', iid='Samsung Galaxy S4 GT-I9500 16GB (Ð±ÐµÐ»Ñ\\x8bÐ¹)', r_ui=7.0, est=5.944509766992454, details={'actual_k': 31, 'was_impossible': False}),\n",
       " Prediction(uid='Jan', iid='Huawei P8 grijs / 16 GB', r_ui=8.0, est=8.950863088770403, details={'actual_k': 30, 'was_impossible': False}),\n",
       " Prediction(uid='Luis', iid='Huawei P8 Lite-AM08 - Pack Smartphone Huawei P8 Lite negro con Altavoz portÃ¡til AM08 Gold (2 GB de RAM, 16 GB de memoria interna, cÃ¡mara 13 Mpxs/8Mpx), color negro', r_ui=4.0, est=2.0693148657824327, details={'actual_k': 11, 'was_impossible': False}),\n",
       " Prediction(uid='Claudio', iid='Samsung G935 Galaxy S7 Edge Smartphone da 32GB, Argento [Italia]', r_ui=10.0, est=9.246140508105317, details={'actual_k': 26, 'was_impossible': False}),\n",
       " Prediction(uid='Peter', iid='SAMSUNG Galaxy A3 (2017) - 16 GB, Black', r_ui=8.0, est=8.67597538217522, details={'actual_k': 24, 'was_impossible': False}),\n",
       " Prediction(uid='francesco', iid=\"Huawei P9 Lite Smartphone, LTE, Display 5.2'' FHD, Processore Octa-Core Kirin 650, 16 GB Memoria Interna, 3GB RAM, Fotocamera 13 MP, Single-SIM, Android 6.0 Marshmallow, Bianco [Italia]\", r_ui=8.0, est=9.722644851779245, details={'actual_k': 47, 'was_impossible': False}),\n",
       " Prediction(uid='Adam', iid='APPLE iPhone 7 - Silver, 128 GB', r_ui=9.0, est=9.177070058763208, details={'actual_k': 21, 'was_impossible': False}),\n",
       " Prediction(uid='Monica', iid='Alcatel One Touch 20-04G Telefono Cellulare, Nero', r_ui=10.0, est=9.704918032786885, details={'actual_k': 3, 'was_impossible': False}),\n",
       " Prediction(uid='Ð¯Ð½Ð°', iid='Sony Xperia Z1 (Ð±ÐµÐ»Ñ\\x8bÐ¹)', r_ui=10.0, est=6.810372963890043, details={'actual_k': 15, 'was_impossible': False}),\n",
       " Prediction(uid='Ð\\x90Ð½Ð´Ñ\\x80ÐµÐ¹', iid='Samsung Galaxy S5 SM-G900F 16GB (Ð±ÐµÐ»Ñ\\x8bÐ¹)', r_ui=10.0, est=4.939135522960061, details={'actual_k': 19, 'was_impossible': False}),\n",
       " Prediction(uid='Ð\\x9dÐ°Ñ\\x82Ð°Ð»Ñ\\x8cÑ\\x8f', iid='Sony Xperia ZR (Ñ\\x87ÐµÑ\\x80Ð½Ñ\\x8bÐ¹)', r_ui=10.0, est=7.624769910380233, details={'actual_k': 16, 'was_impossible': False}),\n",
       " Prediction(uid='Pietro', iid='Asus ZenFone 2 Laser 5.5\" Smartphone, 16 GB, Dual SIM, Nero [Italia]', r_ui=8.0, est=8.347963928274117, details={'actual_k': 16, 'was_impossible': False}),\n",
       " Prediction(uid='Erik', iid='Samsung Galaxy S7 zwart / 32 GB', r_ui=8.0, est=8.175701106116449, details={'actual_k': 20, 'was_impossible': False}),\n",
       " Prediction(uid='Ð\\x9cÐ°Ñ\\x80Ð¸Ð½Ð°', iid='Sony Xperia J (Ñ\\x87ÐµÑ\\x80Ð½Ñ\\x8bÐ¹)', r_ui=10.0, est=7.471606507102147, details={'actual_k': 42, 'was_impossible': False}),\n",
       " Prediction(uid='Federico', iid='Motorola Moto X Pure Edition Unlocked Smartphone, 64 GB Black XT1575, 5.7\" Quad HD display, 21 MP Camera, Quad-core 1.8GHz', r_ui=10.0, est=9.445697181503988, details={'actual_k': 4, 'was_impossible': False}),\n",
       " Prediction(uid='Tom', iid='Samsung Galaxy S7 goud, roze / 32 GB', r_ui=10.0, est=8.444241475029532, details={'actual_k': 30, 'was_impossible': False}),\n",
       " Prediction(uid='Ð\\x90Ð½Ð´Ñ\\x80ÐµÐ¹', iid='Apple iPhone 5s 16GB (Ñ\\x81ÐµÑ\\x80ÐµÐ±Ñ\\x80Ð¸Ñ\\x81Ñ\\x82Ñ\\x8bÐ¹)', r_ui=10.0, est=7.7185618566195755, details={'actual_k': 47, 'was_impossible': False}),\n",
       " Prediction(uid='Ð¯Ð½Ð°', iid='Sony Xperia Z (Ñ\\x87ÐµÑ\\x80Ð½Ñ\\x8bÐ¹)', r_ui=10.0, est=6.924331514318216, details={'actual_k': 30, 'was_impossible': False}),\n",
       " Prediction(uid='Vanessa', iid='Lenovo Motorola Moto G Smartphone, 4,5 pollici display HD, processore Qualcomm, memoria 16GB, MicroSIM, Android 4.3 OS, fotocamera da 5 MP, Nero [Germania]', r_ui=10.0, est=9.060319201305314, details={'actual_k': 7, 'was_impossible': False}),\n",
       " Prediction(uid='Ð\\x9eÐ»Ñ\\x8cÐ³Ð°', iid='Samsung Galaxy S4 mini Duos GT-I9192 (Ð±ÐµÐ»Ñ\\x8bÐ¹)', r_ui=8.0, est=7.053025798431905, details={'actual_k': 21, 'was_impossible': False}),\n",
       " Prediction(uid='Ð\\x94Ð°Ñ\\x80Ñ\\x8cÑ\\x8f', iid='Sony Xperia L (Ñ\\x87ÐµÑ\\x80Ð½Ñ\\x8bÐ¹)', r_ui=5.0, est=7.928370878057419, details={'actual_k': 23, 'was_impossible': False}),\n",
       " Prediction(uid='Simone', iid='SAMSUNG Galaxy A3 (2017) - 16 GB, Black', r_ui=10.0, est=8.425114221207576, details={'actual_k': 3, 'was_impossible': False}),\n",
       " Prediction(uid='Tom', iid='Huawei P8lite zwart / 16 GB', r_ui=7.0, est=8.720915560436001, details={'actual_k': 48, 'was_impossible': False}),\n",
       " Prediction(uid='Ð\\x92Ð¸ÐºÑ\\x82Ð¾Ñ\\x80', iid='Sony Xperia ZR (Ñ\\x87ÐµÑ\\x80Ð½Ñ\\x8bÐ¹)', r_ui=10.0, est=9.242069459711312, details={'actual_k': 19, 'was_impossible': False}),\n",
       " Prediction(uid='Ð\\x90Ð½Ñ\\x82Ð¾Ð½', iid='Samsung N7100 Galaxy Note II 16GB (Ð±ÐµÐ»Ñ\\x8bÐ¹)', r_ui=9.0, est=9.533633243426568, details={'actual_k': 39, 'was_impossible': False}),\n",
       " Prediction(uid='Enzo', iid=\"Huawei P9 Lite Smartphone, LTE, Display 5.2'' FHD, Processore Octa-Core Kirin 650, 16 GB Memoria Interna, 3GB RAM, Fotocamera 13 MP, Single-SIM, Android 6.0 Marshmallow, Nero [Italia]\", r_ui=10.0, est=8.759779979219728, details={'actual_k': 18, 'was_impossible': False}),\n",
       " Prediction(uid='Ð\\x90Ñ\\x80Ñ\\x82ÐµÐ¼', iid='Sony Xperia Z1 Compact (Ð»Ð°Ð¹Ð¼)', r_ui=10.0, est=9.127190060576428, details={'actual_k': 28, 'was_impossible': False}),\n",
       " Prediction(uid='Ð¯Ð½Ð°', iid='Samsung N7100 Galaxy Note II 16GB (Ð±ÐµÐ»Ñ\\x8bÐ¹)', r_ui=10.0, est=5.569032530635216, details={'actual_k': 20, 'was_impossible': False}),\n",
       " Prediction(uid='Ð\\x92Ð°Ð´Ð¸Ð¼', iid='Samsung Galaxy S4 GT-I9500 16GB (Ð±ÐµÐ»Ñ\\x8bÐ¹)', r_ui=6.0, est=7.09026739789873, details={'actual_k': 27, 'was_impossible': False}),\n",
       " Prediction(uid='giorgio', iid='Lenovo Motorola Moto G LTE Smartphone, Display 4.5\", Fotocamera 5 MP, Memoria 8 GB, Quad-Core 1.2 GHz, 1 GB RAM, Micro SD, Android 4.4.3, Bianco [Italia]', r_ui=2.0, est=9.517413473164254, details={'actual_k': 31, 'was_impossible': False}),\n",
       " Prediction(uid='Ð\\x92Ð»Ð°Ð´Ð¸Ð¼Ð¸Ñ\\x80', iid='Apple iPhone 5s 16GB (Ñ\\x81ÐµÑ\\x80ÐµÐ±Ñ\\x80Ð¸Ñ\\x81Ñ\\x82Ñ\\x8bÐ¹)', r_ui=9.0, est=8.395892306808072, details={'actual_k': 50, 'was_impossible': False}),\n",
       " Prediction(uid='Ð\\x98Ð»Ñ\\x8cÑ\\x8f', iid='Samsung Galaxy S4 GT-I9500 16GB (Ð±ÐµÐ»Ñ\\x8bÐ¹)', r_ui=10.0, est=6.324434191001679, details={'actual_k': 33, 'was_impossible': False}),\n",
       " Prediction(uid='Ð¢Ð°Ñ\\x82Ñ\\x8cÑ\\x8fÐ½Ð°', iid='Samsung Galaxy A3', r_ui=10.0, est=5.528129600676008, details={'actual_k': 23, 'was_impossible': False}),\n",
       " Prediction(uid='Nicola', iid=\"Huawei P9 Lite Smartphone, LTE, Display 5.2'' FHD, Processore Octa-Core Kirin 650, 16 GB Memoria Interna, 3GB RAM, Fotocamera 13 MP, Single-SIM, Android 6.0 Marshmallow, Nero [Italia]\", r_ui=8.0, est=8.57815694453898, details={'actual_k': 23, 'was_impossible': False}),\n",
       " Prediction(uid='giovanni', iid='Lenovo Motorola Moto G Smartphone, 4,5 pollici display HD, processore Qualcomm, memoria 16GB, MicroSIM, Android 4.3 OS, fotocamera da 5 MP, Nero [Germania]', r_ui=10.0, est=9.799887292892382, details={'actual_k': 43, 'was_impossible': False}),\n",
       " Prediction(uid='Ð\\x95Ð³Ð¾Ñ\\x80', iid='Sony Xperia SP (ÐºÑ\\x80Ð°Ñ\\x81Ð½Ñ\\x8bÐ¹)', r_ui=6.0, est=8.415304244572388, details={'actual_k': 33, 'was_impossible': False}),\n",
       " Prediction(uid='Ð\\x90Ð»ÐµÐºÑ\\x81ÐµÐ¹', iid='Sony Xperia Z (Ð±ÐµÐ»Ñ\\x8bÐ¹)', r_ui=6.0, est=7.319257900870524, details={'actual_k': 44, 'was_impossible': False}),\n",
       " Prediction(uid='Ð\\x92Ñ\\x8fÑ\\x87ÐµÑ\\x81Ð»Ð°Ð²', iid='Sony Xperia Z1 (Ð±ÐµÐ»Ñ\\x8bÐ¹)', r_ui=10.0, est=8.86724333434231, details={'actual_k': 34, 'was_impossible': False}),\n",
       " Prediction(uid='Ð\\x90Ð½Ð½Ð°', iid='Samsung Galaxy S4 GT-I9500 16GB (Ð±ÐµÐ»Ñ\\x8bÐ¹)', r_ui=8.0, est=9.252420465865972, details={'actual_k': 25, 'was_impossible': False}),\n",
       " Prediction(uid='Cliente Amazon', iid='Asus ZenFone 2 Laser Smartphone, Display da 5\", 16 GB, Dual SIM, Nero [Italia]', r_ui=10.0, est=6.133711260673757, details={'actual_k': 21, 'was_impossible': False}),\n",
       " Prediction(uid='Ð\\x9eÐ»Ñ\\x8cÐ³Ð°', iid='Sony Xperia C (Ñ\\x84Ð¸Ð¾Ð»ÐµÑ\\x82Ð¾Ð²Ñ\\x8bÐ¹)', r_ui=9.0, est=9.231807583966445, details={'actual_k': 21, 'was_impossible': False}),\n",
       " Prediction(uid='mehmet', iid='Samsung Galaxy S7 Edge goud / 32 GB', r_ui=8.0, est=8.421091445427729, details={'was_impossible': True, 'reason': 'User and/or item is unknown.'}),\n",
       " Prediction(uid='Alex', iid='Sony Xperia SP (ÐºÑ\\x80Ð°Ñ\\x81Ð½Ñ\\x8bÐ¹)', r_ui=9.0, est=8.336578027217147, details={'actual_k': 29, 'was_impossible': False}),\n",
       " Prediction(uid='Kevin', iid='Samsung Galaxy S7 Edge goud / 32 GB', r_ui=10.0, est=8.143484102322294, details={'actual_k': 12, 'was_impossible': False}),\n",
       " Prediction(uid='Ð\\x92Ð°Ñ\\x81Ð¸Ð»Ð¸Ð¹', iid='Sony Xperia Z1 (Ð±ÐµÐ»Ñ\\x8bÐ¹)', r_ui=8.0, est=8.041966551496797, details={'actual_k': 26, 'was_impossible': False}),\n",
       " Prediction(uid='Ð¡Ð²ÐµÑ\\x82Ð»Ð°Ð½Ð°', iid='Apple iPhone 5s 16GB (Ñ\\x81ÐµÑ\\x80Ñ\\x8bÐ¹ ÐºÐ¾Ñ\\x81Ð¼Ð¾Ñ\\x81)', r_ui=8.0, est=9.490575195463327, details={'actual_k': 44, 'was_impossible': False}),\n",
       " Prediction(uid='Ð\\x92Ð°Ð»ÐµÑ\\x80Ð¸Ð¹', iid='Sony Xperia SP (Ð±ÐµÐ»Ñ\\x8bÐ¹)', r_ui=5.0, est=9.384926023295424, details={'actual_k': 20, 'was_impossible': False}),\n",
       " Prediction(uid='Federico', iid='Lenovo Motorola Moto G LTE Smartphone, Display 4.5\", Fotocamera 5 MP, Memoria 8 GB, Quad-Core 1.2 GHz, 1 GB RAM, Micro SD, Android 4.4.3, Bianco [Italia]', r_ui=8.0, est=8.517015691500303, details={'actual_k': 20, 'was_impossible': False}),\n",
       " Prediction(uid='Roberto', iid='Lenovo Motorola Moto G Smartphone, Display HD 4,5\", Processore Qualcomm, Memoria 8 GB, MicroSIM, Android 4.4 OS, Fotocamera da 5 MP, Nero [Germania]', r_ui=8.0, est=9.735396929942455, details={'actual_k': 30, 'was_impossible': False}),\n",
       " Prediction(uid='Paolo', iid='Lenovo Motorola Moto G Smartphone, 4,5 pollici display HD, processore Qualcomm, memoria 16GB, MicroSIM, Android 4.3 OS, fotocamera da 5 MP, Nero [Germania]', r_ui=10.0, est=8.423396338413719, details={'actual_k': 46, 'was_impossible': False}),\n",
       " Prediction(uid='Ð\\x9aÐ¾Ð½Ñ\\x81Ñ\\x82Ð°Ð½Ñ\\x82Ð¸Ð½', iid='Sony Xperia Z1 Compact (Ð±ÐµÐ»Ñ\\x8bÐ¹)', r_ui=10.0, est=9.12561858199826, details={'actual_k': 23, 'was_impossible': False}),\n",
       " Prediction(uid='Ð\\x90Ð»Ð¸Ð½Ð°', iid='Sony Xperia Z1 Compact (Ñ\\x87ÐµÑ\\x80Ð½Ñ\\x8bÐ¹)', r_ui=10.0, est=9.166558798876817, details={'actual_k': 35, 'was_impossible': False}),\n",
       " Prediction(uid='Anthony', iid='APPLE iPhone 7 - Silver, 32 GB', r_ui=10.0, est=8.092427685387605, details={'actual_k': 50, 'was_impossible': False}),\n",
       " Prediction(uid='Ð\\x9cÐ°Ñ\\x80Ð¸Ñ\\x8f', iid='Sony Xperia C (Ñ\\x84Ð¸Ð¾Ð»ÐµÑ\\x82Ð¾Ð²Ñ\\x8bÐ¹)', r_ui=10.0, est=8.200706447187045, details={'actual_k': 22, 'was_impossible': False}),\n",
       " Prediction(uid='Ð\\x9eÐ»ÐµÐ³', iid='Sony Xperia Z1 Compact (Ñ\\x87ÐµÑ\\x80Ð½Ñ\\x8bÐ¹)', r_ui=10.0, est=8.482749985200494, details={'actual_k': 27, 'was_impossible': False}),\n",
       " Prediction(uid='Ð\\x9dÐ¸ÐºÐ¾Ð»Ð°Ð¹', iid='Sony Xperia L (ÐºÑ\\x80Ð°Ñ\\x81Ð½Ñ\\x8bÐ¹)', r_ui=8.0, est=9.121947494095881, details={'actual_k': 20, 'was_impossible': False}),\n",
       " Prediction(uid='Antonio', iid='Huawei P8 lite Smartphone, Display 5.0\" IPS, Dual Sim, Processore Octa-Core, Memoria 16 GB, Fotocamera 13 MP, Android 5.0, Bianco', r_ui=10.0, est=8.280384149262876, details={'actual_k': 48, 'was_impossible': False}),\n",
       " Prediction(uid='Alessandro', iid='Huawei P8 Lite Smartphone, Display 5\" IPS, Processore Octa-Core 1.5 GHz, Memoria Interna da 16 GB, 2 GB RAM, Fotocamera 13 MP, monoSIM, Android 5.0, Bianco [Italia]', r_ui=10.0, est=5.136773309972085, details={'actual_k': 50, 'was_impossible': False}),\n",
       " Prediction(uid='Ð\\x9dÐ¸ÐºÐ¾Ð»Ð°Ð¹', iid='Samsung N7100 Galaxy Note II 16GB (Ð±ÐµÐ»Ñ\\x8bÐ¹)', r_ui=10.0, est=9.167259156383562, details={'actual_k': 36, 'was_impossible': False}),\n",
       " Prediction(uid='Laura', iid='Samsung Galaxy A5 2016 Smartphone LTE, 16GB, Nero', r_ui=10.0, est=8.10094033564502, details={'actual_k': 16, 'was_impossible': False}),\n",
       " Prediction(uid='Ð\\x90Ð½Ð´Ñ\\x80ÐµÐ¹', iid='Sony Xperia Z1 (Ð±ÐµÐ»Ñ\\x8bÐ¹)', r_ui=4.0, est=8.65657812172806, details={'actual_k': 29, 'was_impossible': False}),\n",
       " Prediction(uid='Federico', iid='Asus ZenFone 2 Smartphone, Schermo da 5.5\" Full HD, Processore Quad Core 2,3 GHz, RAM 4 GB, 32 GB, 4G/LTE, Argento', r_ui=10.0, est=8.019457876859178, details={'actual_k': 32, 'was_impossible': False}),\n",
       " Prediction(uid='Ð\\x9cÐ°ÐºÑ\\x81Ð¸Ð¼', iid='Samsung Galaxy S4 mini Duos GT-I9192 (Ð±ÐµÐ»Ñ\\x8bÐ¹)', r_ui=8.0, est=9.31373351760541, details={'actual_k': 24, 'was_impossible': False}),\n",
       " Prediction(uid='Daniela', iid='Huawei P8 lite Smartphone, Display 5.0\" IPS, Dual Sim, Processore Octa-Core, Memoria 16 GB, Fotocamera 13 MP, Android 5.0, Bianco', r_ui=10.0, est=9.567385823139446, details={'actual_k': 26, 'was_impossible': False}),\n",
       " Prediction(uid='Aaron', iid='Sony Xperia Z1 Compact Smartphone (4,3 Zoll (10,9 cm) Touch-Display, 16 GB Speicher, Android 4.3) pink', r_ui=10.0, est=1, details={'actual_k': 1, 'was_impossible': False}),\n",
       " Prediction(uid='Ð\\x93Ð¾Ñ\\x81Ñ\\x82Ñ\\x8c', iid='Sony Xperia C (Ñ\\x87ÐµÑ\\x80Ð½Ñ\\x8bÐ¹)', r_ui=10.0, est=8.01200114130715, details={'actual_k': 19, 'was_impossible': False}),\n",
       " Prediction(uid='Sophie', iid='APPLE iPhone 7 - Silver, 128 GB', r_ui=9.0, est=7.028859496768758, details={'actual_k': 25, 'was_impossible': False}),\n",
       " Prediction(uid='Ð\\x95ÐºÐ°Ñ\\x82ÐµÑ\\x80Ð¸Ð½Ð°', iid='Sony Xperia L (Ñ\\x87ÐµÑ\\x80Ð½Ñ\\x8bÐ¹)', r_ui=9.0, est=9.715545940100212, details={'actual_k': 29, 'was_impossible': False}),\n",
       " Prediction(uid='Alex', iid='Samsung Galaxy S5 SM-G900F 16GB (Ñ\\x81Ð¸Ð½Ð¸Ð¹)', r_ui=8.0, est=8.188507175152527, details={'actual_k': 26, 'was_impossible': False}),\n",
       " Prediction(uid='Ð\\x90Ð½Ð½Ð°', iid='Samsung Galaxy S4 GT-I9500 16GB (Ñ\\x87ÐµÑ\\x80Ð½Ñ\\x8bÐ¹)', r_ui=8.0, est=9.211113053573843, details={'actual_k': 22, 'was_impossible': False}),\n",
       " Prediction(uid='Ð\\xa0Ð¾Ð¼Ð°Ð½', iid='Sony Xperia Z1 Compact (Ñ\\x87ÐµÑ\\x80Ð½Ñ\\x8bÐ¹)', r_ui=10.0, est=8.607424326441027, details={'actual_k': 17, 'was_impossible': False}),\n",
       " Prediction(uid='Ð¡ÐµÑ\\x80Ð³ÐµÐ¹', iid='Samsung Galaxy S4 mini Duos GT-I9192 (Ð±ÐµÐ»Ñ\\x8bÐ¹)', r_ui=7.0, est=5.954999261154381, details={'actual_k': 19, 'was_impossible': False}),\n",
       " Prediction(uid='Ð\\x90Ð»ÐµÐºÑ\\x81Ð°Ð½Ð´Ñ\\x80Ð°', iid='Sony Xperia C (Ð±ÐµÐ»Ñ\\x8bÐ¹)', r_ui=8.0, est=9.455615474102041, details={'actual_k': 26, 'was_impossible': False}),\n",
       " Prediction(uid='Manu', iid='WIKO Fever 4G Smartphone, 16 GB, Dual SIM, Bianco', r_ui=6.0, est=8.310108973344734, details={'actual_k': 12, 'was_impossible': False}),\n",
       " Prediction(uid='Ð\\x90Ð½Ñ\\x82Ð¾Ð½', iid='Samsung Galaxy S4 GT-I9500 16GB (Ð±ÐµÐ»Ñ\\x8bÐ¹)', r_ui=10.0, est=7.917918033224032, details={'actual_k': 38, 'was_impossible': False}),\n",
       " Prediction(uid='Ð\\x94ÐµÐ½Ð¸Ñ\\x81', iid='Apple iPhone 5s 16GB (Ñ\\x81ÐµÑ\\x80ÐµÐ±Ñ\\x80Ð¸Ñ\\x81Ñ\\x82Ñ\\x8bÐ¹)', r_ui=8.0, est=8.970410537028751, details={'actual_k': 50, 'was_impossible': False}),\n",
       " Prediction(uid='A', iid='MICROSOFT Lumia 650 - 16 GB, Black', r_ui=9.0, est=8.393560620619985, details={'actual_k': 5, 'was_impossible': False}),\n",
       " Prediction(uid='Monica', iid='Huawei P8 Lite Smartphone, Display 5\" IPS, Processore Octa-Core 1.5 GHz, Memoria Interna da 16 GB, 2 GB RAM, Fotocamera 13 MP, monoSIM, Android 5.0, Bianco [Italia]', r_ui=10.0, est=10, details={'actual_k': 4, 'was_impossible': False}),\n",
       " Prediction(uid='Gianni', iid='Lenovo Motorola Moto G 4G 3 Generazione Smartphone, Display 5\", Fotocamera 13 MP, Memoria 16 GB, Android 6 Lollipop, Nero [Italia]', r_ui=8.0, est=8.65683889274352, details={'actual_k': 23, 'was_impossible': False}),\n",
       " Prediction(uid='Ð\\x95Ð²Ð³ÐµÐ½Ð¸Ð¹', iid='Sony Xperia M (Ñ\\x84Ð¸Ð¾Ð»ÐµÑ\\x82Ð¾Ð²Ñ\\x8bÐ¹)', r_ui=8.0, est=8.946166735124157, details={'actual_k': 23, 'was_impossible': False}),\n",
       " Prediction(uid='Ð\\x9eÐ»Ñ\\x8cÐ³Ð°', iid='Sony Xperia ZR (Ñ\\x87ÐµÑ\\x80Ð½Ñ\\x8bÐ¹)', r_ui=10.0, est=9.369843724884939, details={'actual_k': 13, 'was_impossible': False}),\n",
       " Prediction(uid='Ð\\xa0Ñ\\x83Ñ\\x81Ð»Ð°Ð½', iid='Apple iPhone 5s 16GB (Ñ\\x81ÐµÑ\\x80ÐµÐ±Ñ\\x80Ð¸Ñ\\x81Ñ\\x82Ñ\\x8bÐ¹)', r_ui=9.0, est=9.256591540723207, details={'actual_k': 50, 'was_impossible': False}),\n",
       " Prediction(uid='Simon', iid='Alcatel One Touch 20-04G Telefono Cellulare, Nero', r_ui=10.0, est=7.534403535555044, details={'actual_k': 20, 'was_impossible': False}),\n",
       " Prediction(uid='Mark', iid='APPLE iPhone 7 - Silver, 32 GB', r_ui=6.0, est=9.308150139843576, details={'actual_k': 24, 'was_impossible': False}),\n",
       " Prediction(uid='Ð®Ð»Ð¸Ñ\\x8f', iid='Samsung N7100 Galaxy Note II 16GB (Ñ\\x81ÐµÑ\\x80Ñ\\x8bÐ¹)', r_ui=10.0, est=9.13435583267074, details={'actual_k': 28, 'was_impossible': False}),\n",
       " Prediction(uid='Ð\\x90Ñ\\x80Ñ\\x82ÐµÐ¼', iid='Samsung Galaxy S4 mini Duos GT-I9192 (Ñ\\x87ÐµÑ\\x80Ð½Ñ\\x8bÐ¹)', r_ui=10.0, est=8.6487580406851, details={'actual_k': 25, 'was_impossible': False}),\n",
       " Prediction(uid='Ð\\x9dÐ°Ð´ÐµÐ¶Ð´Ð°', iid='Apple iPhone 5s 16GB (Ñ\\x81ÐµÑ\\x80Ñ\\x8bÐ¹ ÐºÐ¾Ñ\\x81Ð¼Ð¾Ñ\\x81)', r_ui=10.0, est=9.575033075927717, details={'actual_k': 42, 'was_impossible': False}),\n",
       " Prediction(uid='Ð\\x98Ð³Ð¾Ñ\\x80Ñ\\x8c', iid='Sony Xperia SP (Ñ\\x87ÐµÑ\\x80Ð½Ñ\\x8bÐ¹)', r_ui=9.0, est=7.754389270503688, details={'actual_k': 36, 'was_impossible': False}),\n",
       " Prediction(uid='Ð®Ñ\\x80Ð¸Ð¹', iid='Sony Xperia Z (Ñ\\x87ÐµÑ\\x80Ð½Ñ\\x8bÐ¹)', r_ui=9.0, est=8.498797838500723, details={'actual_k': 44, 'was_impossible': False}),\n",
       " Prediction(uid='Ð\\x92Ð»Ð°Ð´Ð¸Ð¼Ð¸Ñ\\x80', iid='Samsung N7100 Galaxy Note II 16GB (Ñ\\x81ÐµÑ\\x80Ñ\\x8bÐ¹)', r_ui=9.0, est=9.364772412655206, details={'actual_k': 35, 'was_impossible': False}),\n",
       " Prediction(uid='Mary', iid='SAMSUNG Galaxy A3 (2017) - 16 GB, Black', r_ui=9.0, est=8.091498342950176, details={'actual_k': 5, 'was_impossible': False}),\n",
       " Prediction(uid='Ð\\x90Ð»ÐµÐºÑ\\x81ÐµÐ¹', iid='Samsung N7100 Galaxy Note II 16GB (Ð±ÐµÐ»Ñ\\x8bÐ¹)', r_ui=10.0, est=8.544635190142657, details={'actual_k': 25, 'was_impossible': False}),\n",
       " Prediction(uid='Ð\\x9aÐ¸Ñ\\x80Ð¸Ð»Ð»', iid='Apple iPhone 5s 16GB (Ñ\\x81ÐµÑ\\x80Ñ\\x8bÐ¹ ÐºÐ¾Ñ\\x81Ð¼Ð¾Ñ\\x81)', r_ui=8.0, est=9.244118258231936, details={'actual_k': 45, 'was_impossible': False}),\n",
       " Prediction(uid='Ashley', iid='Samsung Galaxy Centura Android Prepaid Phone (TracFone)', r_ui=4.0, est=6.3678160919540225, details={'actual_k': 2, 'was_impossible': False}),\n",
       " Prediction(uid='Ð\\x94Ð¸Ð¼Ð°', iid='Apple iPhone 5s 16GB (Ñ\\x81ÐµÑ\\x80ÐµÐ±Ñ\\x80Ð¸Ñ\\x81Ñ\\x82Ñ\\x8bÐ¹)', r_ui=9.0, est=9.88590564742447, details={'actual_k': 50, 'was_impossible': False}),\n",
       " Prediction(uid='diego', iid='Lenovo Motorola Moto G 4G (2 Generazione) Smartphone, Display 5 Pollici, LTE, Fotocamera 8 MP, Memoria 8 GB, Android 5 Lollipop, Nero [Italia]', r_ui=10.0, est=9.406580525537185, details={'actual_k': 15, 'was_impossible': False}),\n",
       " Prediction(uid='Ð\\x98Ð²Ð°Ð½', iid='Sony Xperia ZR (Ñ\\x87ÐµÑ\\x80Ð½Ñ\\x8bÐ¹)', r_ui=2.0, est=9.70544115537785, details={'actual_k': 14, 'was_impossible': False}),\n",
       " Prediction(uid='luca', iid='Huawei P8 lite Smartphone, Display 5.0\" IPS, Dual Sim, Processore Octa-Core, Memoria 16 GB, Fotocamera 13 MP, Android 5.0, Bianco', r_ui=2.0, est=8.877006753214381, details={'actual_k': 45, 'was_impossible': False}),\n",
       " Prediction(uid='Ð\\x92Ð»Ð°Ð´', iid='Apple iPhone 5s 16GB (Ñ\\x81ÐµÑ\\x80Ñ\\x8bÐ¹ ÐºÐ¾Ñ\\x81Ð¼Ð¾Ñ\\x81)', r_ui=8.0, est=8.093724508164083, details={'actual_k': 29, 'was_impossible': False}),\n",
       " Prediction(uid='Mary', iid='Lenovo Motorola Moto G 4G (2 Generazione) Smartphone, Display 5 Pollici, LTE, Fotocamera 8 MP, Memoria 8 GB, Android 5 Lollipop, Nero [Italia]', r_ui=4.0, est=7.959565130766898, details={'actual_k': 22, 'was_impossible': False}),\n",
       " Prediction(uid='Ð\\x90Ð½Ð½Ð°', iid='Sony Xperia SP (Ð±ÐµÐ»Ñ\\x8bÐ¹)', r_ui=8.0, est=8.597170680404297, details={'actual_k': 29, 'was_impossible': False}),\n",
       " Prediction(uid='Elena', iid='Asus ZenFone 2 Laser Smartphone, Display da 5\", 16 GB, Dual SIM, Nero [Italia]', r_ui=8.0, est=10, details={'actual_k': 23, 'was_impossible': False}),\n",
       " Prediction(uid='Ð¡ÐµÑ\\x80Ð³ÐµÐ¹', iid='Samsung N7100 Galaxy Note II 16GB (Ð±ÐµÐ»Ñ\\x8bÐ¹)', r_ui=8.0, est=6.318416183037064, details={'actual_k': 29, 'was_impossible': False}),\n",
       " Prediction(uid='Giacomo', iid='Huawei P8 Lite Smartphone, Display 5\" IPS, Processore Octa-Core 1.5 GHz, Memoria Interna da 16 GB, 2 GB RAM, Fotocamera 13 MP, monoSIM, Android 5.0, Bianco [Italia]', r_ui=10.0, est=8.652436689360705, details={'actual_k': 50, 'was_impossible': False}),\n",
       " Prediction(uid='Alessandro', iid='Lenovo Motorola Moto G 4G 3 Generazione Smartphone, Display 5\", Fotocamera 13 MP, Memoria 16 GB, Android 6 Lollipop, Nero [Italia]', r_ui=10.0, est=8.037647057706279, details={'actual_k': 25, 'was_impossible': False}),\n",
       " Prediction(uid='Ð\\x95Ð»ÐµÐ½Ð°', iid='Sony Xperia L (ÐºÑ\\x80Ð°Ñ\\x81Ð½Ñ\\x8bÐ¹)', r_ui=10.0, est=8.219807417186766, details={'actual_k': 24, 'was_impossible': False}),\n",
       " Prediction(uid='Carla', iid='Lenovo Motorola Moto G Smartphone, Display HD 4,5\", Processore Qualcomm, Memoria 8 GB, MicroSIM, Android 4.4 OS, Fotocamera da 5 MP, Nero [Germania]', r_ui=6.0, est=10, details={'actual_k': 1, 'was_impossible': False}),\n",
       " Prediction(uid='Ð\\x9eÐ»ÐµÐ³', iid='Samsung N7100 Galaxy Note II 16GB (Ð±ÐµÐ»Ñ\\x8bÐ¹)', r_ui=10.0, est=8.792243238358342, details={'actual_k': 29, 'was_impossible': False}),\n",
       " Prediction(uid='Ð\\x92Ð¸ÐºÑ\\x82Ð¾Ñ\\x80', iid='Sony Xperia Z1 Compact (Ð»Ð°Ð¹Ð¼)', r_ui=8.0, est=9.844564270515024, details={'actual_k': 28, 'was_impossible': False}),\n",
       " Prediction(uid='Michael', iid='MICROSOFT Lumia 650 - 16 GB, Black', r_ui=10.0, est=4.542446206940361, details={'actual_k': 50, 'was_impossible': False}),\n",
       " Prediction(uid=\"Client d'Amazon\", iid='Samsung Galaxy S5 Smartphone (5,1 Zoll (12,9 cm) Touch-Display, 16 GB Speicher, Android 4.4) electric blue', r_ui=2.0, est=7.63374206761997, details={'actual_k': 6, 'was_impossible': False}),\n",
       " Prediction(uid='giovanni', iid=\"Huawei P9 Lite Smartphone, LTE, Display 5.2'' FHD, Processore Octa-Core Kirin 650, 16 GB Memoria Interna, 3GB RAM, Fotocamera 13 MP, Single-SIM, Android 6.0 Marshmallow, Bianco [Italia]\", r_ui=10.0, est=9.407858783784345, details={'actual_k': 50, 'was_impossible': False}),\n",
       " Prediction(uid='Ð\\x9eÐ»ÐµÐ³', iid='Samsung Galaxy S4 GT-I9500 16GB (Ñ\\x87ÐµÑ\\x80Ð½Ñ\\x8bÐ¹)', r_ui=4.0, est=7.84629838726532, details={'actual_k': 39, 'was_impossible': False}),\n",
       " Prediction(uid='Yvonne', iid='Apple iPhone 5 Unlocked Cellphone, 32GB, Black', r_ui=10.0, est=9.122882897921974, details={'actual_k': 6, 'was_impossible': False}),\n",
       " Prediction(uid='Jenny', iid='Samsung Galaxy S3 mini (GT-I8200) Smartphone (4 Zoll (10,2 cm) Touch-Display, 8 GB Speicher, Android 4.2) blau', r_ui=10.0, est=6.768108311663114, details={'actual_k': 7, 'was_impossible': False}),\n",
       " Prediction(uid='Martin', iid='Huawei Ascend P8 Smartphone, Display 5.2\" FHD, Memoria RAM da 3 GB, Processore HiSilicon Kirin 930 Octa-Core, Fotocamera Principale 13 MP, Grigio', r_ui=10.0, est=9.211093057606448, details={'actual_k': 4, 'was_impossible': False}),\n",
       " Prediction(uid='anna', iid='Huawei P8 Lite Smartphone, Display 5\" IPS, Processore Octa-Core 1.5 GHz, Memoria Interna da 16 GB, 2 GB RAM, Fotocamera 13 MP, monoSIM, Android 5.0, Bianco [Italia]', r_ui=8.0, est=9.78821013974261, details={'actual_k': 50, 'was_impossible': False}),\n",
       " Prediction(uid='Will', iid='Alcatel OneTouch Idol 3 Global Unlocked 4G LTE Smartphone, 5.5 HD IPS Display, 16GB (GSM - US Warranty)', r_ui=10.0, est=7.8772812178238185, details={'actual_k': 3, 'was_impossible': False}),\n",
       " Prediction(uid='Ð\\x90Ð»ÐµÐºÑ\\x81Ð°Ð½Ð´Ñ\\x80', iid='Samsung Galaxy S4 mini Duos GT-I9192 (Ñ\\x87ÐµÑ\\x80Ð½Ñ\\x8bÐ¹)', r_ui=7.0, est=7.5616309384073475, details={'actual_k': 24, 'was_impossible': False}),\n",
       " Prediction(uid='Ð\\x9eÐ»Ñ\\x8cÐ³Ð°', iid='Sony Xperia Z1 (Ñ\\x87ÐµÑ\\x80Ð½Ñ\\x8bÐ¹)', r_ui=7.0, est=9.822910010779049, details={'actual_k': 24, 'was_impossible': False}),\n",
       " Prediction(uid='francesca', iid='Huawei P8 Lite Smartphone, Display 5\" IPS, Processore Octa-Core 1.5 GHz, Memoria Interna da 16 GB, 2 GB RAM, Fotocamera 13 MP, monoSIM, Android 5.0, Bianco [Italia]', r_ui=10.0, est=9.385731766262964, details={'actual_k': 50, 'was_impossible': False}),\n",
       " Prediction(uid='Ð\\x90Ñ\\x80Ñ\\x82Ñ\\x91Ð¼', iid='Sony Xperia C (Ñ\\x87ÐµÑ\\x80Ð½Ñ\\x8bÐ¹)', r_ui=10.0, est=8.725404435291455, details={'actual_k': 27, 'was_impossible': False}),\n",
       " Prediction(uid='Chris', iid='Huawei Honor 5X Unlocked Smartphone, 16GB Dark Grey (US Warranty)', r_ui=10.0, est=6.80358480721185, details={'actual_k': 11, 'was_impossible': False}),\n",
       " Prediction(uid='Fabio', iid='Lenovo Motorola Moto G Smartphone, 4,5 pollici display HD, processore Qualcomm, memoria 16GB, MicroSIM, Android 4.3 OS, fotocamera da 5 MP, Nero [Germania]', r_ui=8.0, est=9.810931241294652, details={'actual_k': 45, 'was_impossible': False}),\n",
       " Prediction(uid='Anne', iid='Samsung Galaxy S7 zwart / 32 GB', r_ui=9.0, est=7.934384093633984, details={'actual_k': 9, 'was_impossible': False}),\n",
       " Prediction(uid='Danny', iid='Huawei P8 Lite goud, wit / 16 GB', r_ui=9.0, est=8.490743023778528, details={'actual_k': 14, 'was_impossible': False}),\n",
       " Prediction(uid='giorgio', iid='Huawei P8 lite Smartphone, Display 5.0\" IPS, Dual Sim, Processore Octa-Core, Memoria 16 GB, Fotocamera 13 MP, Android 5.0, Bianco', r_ui=10.0, est=9.205858038150962, details={'actual_k': 50, 'was_impossible': False}),\n",
       " Prediction(uid='Ð\\x92Ñ\\x8fÑ\\x87ÐµÑ\\x81Ð»Ð°Ð²', iid='Sony Xperia Z1 Compact (Ñ\\x80Ð¾Ð·Ð¾Ð²Ñ\\x8bÐ¹)', r_ui=10.0, est=8.46513812654297, details={'actual_k': 28, 'was_impossible': False}),\n",
       " Prediction(uid='Daniela', iid='Huawei Ascend P8 Smartphone, Display 5.2\" FHD, Memoria RAM da 3 GB, Processore HiSilicon Kirin 930 Octa-Core, Fotocamera Principale 13 MP, Grigio', r_ui=10.0, est=9.244255296311403, details={'actual_k': 12, 'was_impossible': False}),\n",
       " Prediction(uid='Ð\\xa0Ñ\\x83Ñ\\x81Ð»Ð°Ð½', iid='Samsung Galaxy S6', r_ui=10.0, est=9.90799679051808, details={'actual_k': 12, 'was_impossible': False}),\n",
       " Prediction(uid='Ð\\x90Ð½Ñ\\x82Ð¾Ð½', iid='Sony Xperia L (Ð±ÐµÐ»Ñ\\x8bÐ¹)', r_ui=9.0, est=9.673947970073769, details={'actual_k': 23, 'was_impossible': False}),\n",
       " Prediction(uid='Ð\\x90Ð½Ð´Ñ\\x80ÐµÐ¹', iid='Sony Xperia Z1 Compact (Ñ\\x80Ð¾Ð·Ð¾Ð²Ñ\\x8bÐ¹)', r_ui=10.0, est=7.349826099526872, details={'actual_k': 23, 'was_impossible': False}),\n",
       " Prediction(uid='Frank', iid='Samsung Galaxy S7 goud, roze / 32 GB', r_ui=9.0, est=8.173030973586018, details={'actual_k': 23, 'was_impossible': False}),\n",
       " Prediction(uid='Ð¡Ñ\\x82Ð°Ð½Ð¸Ñ\\x81Ð»Ð°Ð²', iid='Samsung Galaxy S5 SM-G900F 16GB (Ñ\\x87ÐµÑ\\x80Ð½Ñ\\x8bÐ¹)', r_ui=9.0, est=9.27906461726289, details={'actual_k': 22, 'was_impossible': False}),\n",
       " Prediction(uid='Ð\\x9dÐ°Ñ\\x82Ð°Ð»Ñ\\x8cÑ\\x8f', iid='Sony Xperia Z (Ñ\\x87ÐµÑ\\x80Ð½Ñ\\x8bÐ¹)', r_ui=10.0, est=8.482181523725414, details={'actual_k': 33, 'was_impossible': False}),\n",
       " Prediction(uid='Ð®Ñ\\x80Ð¸Ð¹', iid='Sony Xperia SP (Ð±ÐµÐ»Ñ\\x8bÐ¹)', r_ui=8.0, est=9.505704404746819, details={'actual_k': 30, 'was_impossible': False}),\n",
       " Prediction(uid='patrick', iid='Samsung Galaxy S7 zwart / 32 GB', r_ui=8.0, est=8.970195917388995, details={'actual_k': 16, 'was_impossible': False}),\n",
       " Prediction(uid='Ð\\x9dÐ¸ÐºÐ¾Ð»Ð°Ð¹', iid='Sony Xperia SP (Ð±ÐµÐ»Ñ\\x8bÐ¹)', r_ui=9.0, est=9.812434157354144, details={'actual_k': 29, 'was_impossible': False}),\n",
       " Prediction(uid='Ð\\x95Ð²Ð³ÐµÐ½Ð¸Ñ\\x8f', iid='Sony Xperia L (Ñ\\x87ÐµÑ\\x80Ð½Ñ\\x8bÐ¹)', r_ui=9.0, est=10, details={'actual_k': 28, 'was_impossible': False}),\n",
       " Prediction(uid='Ð\\x90Ð»ÐµÐºÑ\\x81ÐµÐ¹', iid='Samsung Galaxy S4 mini Duos GT-I9192 (Ð±ÐµÐ»Ñ\\x8bÐ¹)', r_ui=10.0, est=8.35494290903305, details={'actual_k': 27, 'was_impossible': False}),\n",
       " Prediction(uid='Samantha', iid='Huawei P8 Lite goud, wit / 16 GB', r_ui=6.0, est=7.550965120103353, details={'actual_k': 8, 'was_impossible': False}),\n",
       " Prediction(uid='Ð®Ð»Ð¸Ñ\\x8f', iid='Samsung Galaxy S5 SM-G900F 16GB (Ð·Ð¾Ð»Ð¾Ñ\\x82Ð¸Ñ\\x81Ñ\\x82Ñ\\x8bÐ¹)', r_ui=10.0, est=8.844804155983788, details={'actual_k': 21, 'was_impossible': False}),\n",
       " Prediction(uid='Ð¢Ð°Ñ\\x82Ñ\\x8cÑ\\x8fÐ½Ð°', iid='Samsung N7100 Galaxy Note II 16GB (Ñ\\x81ÐµÑ\\x80Ñ\\x8bÐ¹)', r_ui=8.0, est=9.532496133712366, details={'actual_k': 27, 'was_impossible': False}),\n",
       " Prediction(uid='Ð\\x9eÐ»Ñ\\x8cÐ³Ð°', iid='Sony Xperia Z1 Compact (Ð»Ð°Ð¹Ð¼)', r_ui=9.0, est=9.674552848304836, details={'actual_k': 30, 'was_impossible': False}),\n",
       " Prediction(uid='patrick', iid='Samsung Galaxy S7 goud, roze / 32 GB', r_ui=9.0, est=8.023810271983105, details={'actual_k': 21, 'was_impossible': False}),\n",
       " Prediction(uid='Ð\\x9eÐ»Ñ\\x8cÐ³Ð°', iid='Sony Xperia C (Ñ\\x84Ð¸Ð¾Ð»ÐµÑ\\x82Ð¾Ð²Ñ\\x8bÐ¹)', r_ui=10.0, est=9.231807583966445, details={'actual_k': 21, 'was_impossible': False}),\n",
       " Prediction(uid='Ð\\x98Ñ\\x80Ð¸Ð½Ð°', iid='Samsung Galaxy S6', r_ui=10.0, est=9.07851158690631, details={'actual_k': 16, 'was_impossible': False}),\n",
       " Prediction(uid='Ð\\x90Ð½Ð°Ñ\\x81Ñ\\x82Ð°Ñ\\x81Ð¸Ñ\\x8f', iid='Sony Xperia Z (Ñ\\x87ÐµÑ\\x80Ð½Ñ\\x8bÐ¹)', r_ui=9.0, est=7.64542559552978, details={'actual_k': 49, 'was_impossible': False}),\n",
       " Prediction(uid='Rose', iid='APPLE iPhone 6s Plus - 128 GB, Rose Gold', r_ui=10.0, est=8.421091445427729, details={'was_impossible': True, 'reason': 'User and/or item is unknown.'}),\n",
       " Prediction(uid='Ð\\x9eÐ»ÐµÐ³', iid='Samsung Galaxy S4 mini Duos GT-I9192 (Ñ\\x87ÐµÑ\\x80Ð½Ñ\\x8bÐ¹)', r_ui=10.0, est=8.796551195304062, details={'actual_k': 22, 'was_impossible': False}),\n",
       " Prediction(uid='Ð\\x98Ð»Ñ\\x8cÑ\\x8f', iid='Sony Xperia L (Ñ\\x87ÐµÑ\\x80Ð½Ñ\\x8bÐ¹)', r_ui=8.0, est=9.39926705764463, details={'actual_k': 21, 'was_impossible': False}),\n",
       " Prediction(uid='Ð\\x98Ð»Ñ\\x8cÑ\\x8f', iid='Sony Xperia ZR (Ð±ÐµÐ»Ñ\\x8bÐ¹)', r_ui=9.0, est=9.30656533714742, details={'actual_k': 23, 'was_impossible': False}),\n",
       " Prediction(uid='Elena', iid='Samsung Galaxy J5 Smartphone, Oro [Italia]', r_ui=10.0, est=10, details={'actual_k': 14, 'was_impossible': False}),\n",
       " Prediction(uid='Ð\\x98Ñ\\x80Ð¸Ð½Ð°', iid='Sony Xperia Z1 Compact (Ñ\\x87ÐµÑ\\x80Ð½Ñ\\x8bÐ¹)', r_ui=9.0, est=8.971211483344659, details={'actual_k': 27, 'was_impossible': False}),\n",
       " Prediction(uid='Cliente Amazon', iid='Alcatel One Touch 20-04G Telefono Cellulare, Nero', r_ui=2.0, est=5.957716523667269, details={'actual_k': 44, 'was_impossible': False}),\n",
       " Prediction(uid='Christian', iid=\"Huawei P9 Lite Smartphone, LTE, Display 5.2'' FHD, Processore Octa-Core Kirin 650, 16 GB Memoria Interna, 3GB RAM, Fotocamera 13 MP, Single-SIM, Android 6.0 Marshmallow, Bianco [Italia]\", r_ui=10.0, est=7.721337968812117, details={'actual_k': 50, 'was_impossible': False}),\n",
       " Prediction(uid='mike', iid='Samsung Galaxy S7 zwart / 32 GB', r_ui=10.0, est=8.937325238687167, details={'actual_k': 7, 'was_impossible': False}),\n",
       " Prediction(uid='Leo', iid='Samsung Galaxy S7 zwart / 32 GB', r_ui=9.0, est=8.63624124657916, details={'actual_k': 11, 'was_impossible': False}),\n",
       " Prediction(uid='Mirko', iid='Lenovo Motorola Moto G 4G (2 Generazione) Smartphone, Display 5 Pollici, LTE, Fotocamera 8 MP, Memoria 8 GB, Android 5 Lollipop, Nero [Italia]', r_ui=10.0, est=9.384086404710573, details={'actual_k': 50, 'was_impossible': False}),\n",
       " Prediction(uid='Ð\\x90Ð»Ð¸Ð½Ð°', iid='Sony Xperia L (Ñ\\x87ÐµÑ\\x80Ð½Ñ\\x8bÐ¹)', r_ui=10.0, est=10, details={'actual_k': 37, 'was_impossible': False}),\n",
       " Prediction(uid='Ð¯Ð½Ð°', iid='Sony Xperia Z1 (Ñ\\x84Ð¸Ð¾Ð»ÐµÑ\\x82Ð¾Ð²Ñ\\x8bÐ¹)', r_ui=10.0, est=7.290051845194909, details={'actual_k': 22, 'was_impossible': False}),\n",
       " Prediction(uid='Angelo', iid='Asus ZenFone 2 Laser Smartphone, Display da 5\", 16 GB, Dual SIM, Nero [Italia]', r_ui=10.0, est=9.405130727927558, details={'actual_k': 16, 'was_impossible': False}),\n",
       " Prediction(uid='Ð\\x90Ð½Ð´Ñ\\x80ÐµÐ¹', iid='Samsung Galaxy S4 mini Duos GT-I9192 (Ð±ÐµÐ»Ñ\\x8bÐ¹)', r_ui=9.0, est=7.4064696834433414, details={'actual_k': 26, 'was_impossible': False}),\n",
       " Prediction(uid='Mario', iid='Huawei Honor 5X Unlocked Smartphone, 16GB Dark Grey (US Warranty)', r_ui=10.0, est=10, details={'actual_k': 2, 'was_impossible': False}),\n",
       " Prediction(uid='Elena', iid='Alcatel One Touch 20-04G Telefono Cellulare, Nero', r_ui=10.0, est=8.856050412417527, details={'actual_k': 35, 'was_impossible': False}),\n",
       " Prediction(uid='giuseppe', iid='Huawei P8 Lite Smartphone, Display 5\" IPS, Processore Octa-Core 1.5 GHz, Memoria Interna da 16 GB, 2 GB RAM, Fotocamera 13 MP, monoSIM, Android 5.0, Bianco [Italia]', r_ui=10.0, est=7.628218893052702, details={'actual_k': 50, 'was_impossible': False}),\n",
       " Prediction(uid='Thomas', iid='Lenovo Motorola Moto G Smartphone, Display HD 4,5\", Processore Qualcomm, Memoria 8 GB, MicroSIM, Android 4.4 OS, Fotocamera da 5 MP, Nero [Germania]', r_ui=10.0, est=7.750625298039523, details={'actual_k': 4, 'was_impossible': False}),\n",
       " Prediction(uid='Andrea', iid=\"Huawei P9 Lite Smartphone, LTE, Display 5.2'' FHD, Processore Octa-Core Kirin 650, 16 GB Memoria Interna, 3GB RAM, Fotocamera 13 MP, Single-SIM, Android 6.0 Marshmallow, Bianco [Italia]\", r_ui=10.0, est=8.114378112043216, details={'actual_k': 50, 'was_impossible': False}),\n",
       " Prediction(uid='Amazon Customer', iid='Huawei Honor 5X Unlocked Smartphone, 16GB Dark Grey (US Warranty)', r_ui=8.0, est=2.4103008643187938, details={'actual_k': 15, 'was_impossible': False}),\n",
       " Prediction(uid='Daniel', iid='Samsung Galaxy S5 Smartphone (5,1 Zoll (12,9 cm) Touch-Display, 16 GB Speicher, Android 4.4) electric blue', r_ui=10.0, est=5.274899356201402, details={'actual_k': 19, 'was_impossible': False}),\n",
       " Prediction(uid='Ð\\x9eÐ»Ñ\\x8cÐ³Ð°', iid='Sony Xperia L (Ð±ÐµÐ»Ñ\\x8bÐ¹)', r_ui=10.0, est=8.851808193108855, details={'actual_k': 19, 'was_impossible': False}),\n",
       " Prediction(uid='Guillermo', iid='Huawei P8 Lite-AM08 - Pack Smartphone Huawei P8 Lite negro con Altavoz portÃ¡til AM08 Gold (2 GB de RAM, 16 GB de memoria interna, cÃ¡mara 13 Mpxs/8Mpx), color negro', r_ui=10.0, est=6.0, details={'actual_k': 0, 'was_impossible': False}),\n",
       " Prediction(uid='Mo', iid='Huawei P8 Champagne / 16 GB', r_ui=9.0, est=8.5, details={'actual_k': 1, 'was_impossible': False}),\n",
       " Prediction(uid='Alessandro', iid='Lenovo Motorola Moto G Smartphone, Display HD 4,5\", Processore Qualcomm, Memoria 8 GB, MicroSIM, Android 4.4 OS, Fotocamera da 5 MP, Nero [Germania]', r_ui=8.0, est=9.68413290323795, details={'actual_k': 24, 'was_impossible': False}),\n",
       " Prediction(uid='Kim', iid='Huawei P8 Champagne / 16 GB - Overzicht', r_ui=9.0, est=9.601553837605994, details={'actual_k': 11, 'was_impossible': False}),\n",
       " Prediction(uid='Ð\\x90Ð½Ñ\\x82Ð¾Ð½', iid='Samsung Galaxy S4 GT-I9500 16GB (Ñ\\x87ÐµÑ\\x80Ð½Ñ\\x8bÐ¹)', r_ui=2.0, est=7.35492977669573, details={'actual_k': 40, 'was_impossible': False}),\n",
       " Prediction(uid='Ð\\x9aÐ¾Ð½Ñ\\x81Ñ\\x82Ð°Ð½Ñ\\x82Ð¸Ð½', iid='Samsung Galaxy S4 GT-I9500 16GB (Ñ\\x87ÐµÑ\\x80Ð½Ñ\\x8bÐ¹)', r_ui=8.0, est=8.266692880356135, details={'actual_k': 25, 'was_impossible': False}),\n",
       " Prediction(uid='Eduardo', iid='Huawei P8 Lite-AM08 - Pack Smartphone Huawei P8 Lite negro con Altavoz portÃ¡til AM08 Gold (2 GB de RAM, 16 GB de memoria interna, cÃ¡mara 13 Mpxs/8Mpx), color negro', r_ui=10.0, est=9.588752251815512, details={'actual_k': 7, 'was_impossible': False}),\n",
       " Prediction(uid='Alan', iid='MICROSOFT Lumia 650 - 16 GB, Black', r_ui=7.0, est=7.781505872860375, details={'actual_k': 50, 'was_impossible': False}),\n",
       " Prediction(uid='Ð\\x95Ð²Ð³ÐµÐ½Ð¸Ñ\\x8f', iid='Samsung Galaxy A3', r_ui=10.0, est=8.995486930995597, details={'actual_k': 25, 'was_impossible': False}),\n",
       " Prediction(uid='Ð\\x95Ð²Ð³ÐµÐ½Ð¸Ð¹', iid='Sony Xperia L (ÐºÑ\\x80Ð°Ñ\\x81Ð½Ñ\\x8bÐ¹)', r_ui=9.0, est=8.410601749920218, details={'actual_k': 19, 'was_impossible': False}),\n",
       " Prediction(uid='Ð\\x95Ð²Ð³ÐµÐ½Ð¸Ð¹', iid='Sony Xperia Z1 Compact (Ð»Ð°Ð¹Ð¼)', r_ui=10.0, est=8.682126531524503, details={'actual_k': 28, 'was_impossible': False}),\n",
       " Prediction(uid='Ð\\x9fÐ°Ð²ÐµÐ»', iid='Samsung Galaxy S4 mini Duos GT-I9192 (Ð±ÐµÐ»Ñ\\x8bÐ¹)', r_ui=8.0, est=9.676916826853448, details={'actual_k': 27, 'was_impossible': False}),\n",
       " Prediction(uid='paolo', iid='Huawei P8 Lite Smartphone, Display 5\" IPS, Processore Octa-Core 1.5 GHz, Memoria Interna da 16 GB, 2 GB RAM, Fotocamera 13 MP, monoSIM, Android 5.0, Bianco [Italia]', r_ui=8.0, est=9.876964387522907, details={'actual_k': 50, 'was_impossible': False}),\n",
       " Prediction(uid='Linda', iid='Huawei P8 Lite goud, wit / 16 GB', r_ui=9.0, est=8.74382064064221, details={'actual_k': 15, 'was_impossible': False}),\n",
       " Prediction(uid='Ð\\x94Ð¼Ð¸Ñ\\x82Ñ\\x80Ð¸Ð¹', iid='Samsung Galaxy S4 mini Duos GT-I9192 (Ð±ÐµÐ»Ñ\\x8bÐ¹)', r_ui=10.0, est=8.06600143932393, details={'actual_k': 28, 'was_impossible': False}),\n",
       " Prediction(uid='Martina', iid='Lenovo Motorola Moto E Smartphone, Display 4.3 pollici qHD, Processore Qualcomm Dual-Core 1.2GHz, Memoria 4GB, 1GB RAM, Fotocamera 5MP, Android 4.4.2 KitKat, Bluetooth, WiFi, Bianco [Spagna]', r_ui=6.0, est=8.465936499851152, details={'actual_k': 16, 'was_impossible': False}),\n",
       " Prediction(uid='Jan', iid='Huawei P8 Lite wit / 16 GB', r_ui=8.0, est=8.757573247707729, details={'actual_k': 21, 'was_impossible': False}),\n",
       " Prediction(uid='Bruno', iid=\"Huawei P9 Lite Smartphone, LTE, Display 5.2'' FHD, Processore Octa-Core Kirin 650, 16 GB Memoria Interna, 3GB RAM, Fotocamera 13 MP, Single-SIM, Android 6.0 Marshmallow, Bianco [Italia]\", r_ui=10.0, est=10, details={'actual_k': 17, 'was_impossible': False}),\n",
       " Prediction(uid='Raquel', iid='Huawei P8 Lite-AM08 - Pack Smartphone Huawei P8 Lite negro con Altavoz portÃ¡til AM08 Gold (2 GB de RAM, 16 GB de memoria interna, cÃ¡mara 13 Mpxs/8Mpx), color negro', r_ui=8.0, est=8.421091445427729, details={'was_impossible': True, 'reason': 'User and/or item is unknown.'}),\n",
       " Prediction(uid='Jason', iid='Motorola Moto X Pure Edition Unlocked Smartphone, 64 GB Black XT1575, 5.7\" Quad HD display, 21 MP Camera, Quad-core 1.8GHz', r_ui=10.0, est=6.594118689018371, details={'actual_k': 10, 'was_impossible': False}),\n",
       " Prediction(uid='Ð\\x95ÐºÐ°Ñ\\x82ÐµÑ\\x80Ð¸Ð½Ð°', iid='Sony Xperia Z1 (Ñ\\x84Ð¸Ð¾Ð»ÐµÑ\\x82Ð¾Ð²Ñ\\x8bÐ¹)', r_ui=8.0, est=8.427288927400191, details={'actual_k': 34, 'was_impossible': False}),\n",
       " Prediction(uid='Ð¡ÐµÑ\\x80Ð³ÐµÐ¹', iid='Samsung Galaxy S4 GT-I9500 16GB (Ð±ÐµÐ»Ñ\\x8bÐ¹)', r_ui=9.0, est=4.528087654486214, details={'actual_k': 31, 'was_impossible': False}),\n",
       " Prediction(uid='Ð\\x9cÐ¸Ñ\\x85Ð°Ð¸Ð»', iid='Sony Xperia Z (Ð±ÐµÐ»Ñ\\x8bÐ¹)', r_ui=2.0, est=7.900851352816448, details={'actual_k': 49, 'was_impossible': False}),\n",
       " Prediction(uid='Marion', iid='APPLE iPhone 7 - Silver, 128 GB', r_ui=10.0, est=8.421091445427729, details={'was_impossible': True, 'reason': 'User and/or item is unknown.'}),\n",
       " Prediction(uid='Ð¡ÐµÑ\\x80Ð³ÐµÐ¹', iid='Sony Xperia Z1 Compact (Ð»Ð°Ð¹Ð¼)', r_ui=9.0, est=8.936789528460924, details={'actual_k': 21, 'was_impossible': False}),\n",
       " Prediction(uid='Ð\\x90Ð½Ñ\\x82Ð¾Ð½', iid='Samsung Galaxy S4 GT-I9500 16GB (Ð±ÐµÐ»Ñ\\x8bÐ¹)', r_ui=2.0, est=7.917918033224032, details={'actual_k': 38, 'was_impossible': False}),\n",
       " Prediction(uid='Ð\\x95ÐºÐ°Ñ\\x82ÐµÑ\\x80Ð¸Ð½Ð°', iid='Samsung Galaxy A3', r_ui=9.0, est=7.381511644565094, details={'actual_k': 25, 'was_impossible': False}),\n",
       " Prediction(uid='Ð\\xa0Ð¾Ð¼Ð°Ð½', iid='Nokia 101 Premium Black', r_ui=10.0, est=7.940554417088727, details={'actual_k': 20, 'was_impossible': False}),\n",
       " Prediction(uid='Ð\\x95Ð²Ð³ÐµÐ½Ð¸Ð¹', iid='Apple iPhone 5s 16GB (Ñ\\x81ÐµÑ\\x80Ñ\\x8bÐ¹ ÐºÐ¾Ñ\\x81Ð¼Ð¾Ñ\\x81)', r_ui=9.0, est=9.046902975884398, details={'actual_k': 41, 'was_impossible': False}),\n",
       " Prediction(uid='Ð\\x9cÐ°Ñ\\x80Ð¸Ñ\\x8f', iid='Samsung Galaxy S4 GT-I9500 16GB (Ð±ÐµÐ»Ñ\\x8bÐ¹)', r_ui=9.0, est=8.21487852308331, details={'actual_k': 32, 'was_impossible': False}),\n",
       " Prediction(uid='sonia', iid='Lenovo Motorola Moto G Smartphone, 4,5 pollici display HD, processore Qualcomm, memoria 16GB, MicroSIM, Android 4.3 OS, fotocamera da 5 MP, Nero [Germania]', r_ui=8.0, est=7.5912311610097065, details={'actual_k': 16, 'was_impossible': False}),\n",
       " Prediction(uid='Ð\\x90Ð»ÐµÐºÑ\\x81Ð°Ð½Ð´Ñ\\x80', iid='Sony Xperia L (Ð±ÐµÐ»Ñ\\x8bÐ¹)', r_ui=10.0, est=8.453778126136688, details={'actual_k': 21, 'was_impossible': False}),\n",
       " Prediction(uid='Ð\\x92Ð°Ð»ÐµÑ\\x80Ð¸Ð¹', iid='Sony Xperia C (Ñ\\x84Ð¸Ð¾Ð»ÐµÑ\\x82Ð¾Ð²Ñ\\x8bÐ¹)', r_ui=9.0, est=8.551650783889922, details={'actual_k': 25, 'was_impossible': False}),\n",
       " Prediction(uid='Jessica', iid='Huawei P8 Lite goud, wit / 16 GB', r_ui=8.0, est=9.42918996760438, details={'actual_k': 20, 'was_impossible': False}),\n",
       " Prediction(uid='Amazon Customer', iid='Huawei P8 Lite Smartphone, Display 5\" IPS, Processore Octa-Core 1.5 GHz, Memoria Interna da 16 GB, 2 GB RAM, Fotocamera 13 MP, monoSIM, Android 5.0, Bianco [Italia]', r_ui=10.0, est=4.966034078824563, details={'actual_k': 50, 'was_impossible': False}),\n",
       " Prediction(uid='Bill', iid='Alcatel OneTouch Idol 3 Global Unlocked 4G LTE Smartphone, 5.5 HD IPS Display, 16GB (GSM - US Warranty)', r_ui=10.0, est=4.368421052631579, details={'actual_k': 1, 'was_impossible': False}),\n",
       " Prediction(uid='Ð\\x90Ð½Ð°Ñ\\x82Ð¾Ð»Ð¸Ð¹', iid='Sony Xperia Z1 Compact (Ñ\\x80Ð¾Ð·Ð¾Ð²Ñ\\x8bÐ¹)', r_ui=10.0, est=8.289925021792314, details={'actual_k': 29, 'was_impossible': False}),\n",
       " Prediction(uid='marco', iid='Huawei P8 lite Smartphone, Display 5.0\" IPS, Dual Sim, Processore Octa-Core, Memoria 16 GB, Fotocamera 13 MP, Android 5.0, Bianco', r_ui=10.0, est=8.27571513958551, details={'actual_k': 50, 'was_impossible': False}),\n",
       " Prediction(uid='AJ', iid='Sony Xperia Z1 Compact Smartphone (4,3 Zoll (10,9 cm) Touch-Display, 16 GB Speicher, Android 4.3) pink', r_ui=10.0, est=7.3678160919540225, details={'actual_k': 3, 'was_impossible': False}),\n",
       " Prediction(uid='Ð\\x90Ð½Ð´Ñ\\x80ÐµÐ¹', iid='Samsung Galaxy S4 mini Duos GT-I9192 (Ñ\\x87ÐµÑ\\x80Ð½Ñ\\x8bÐ¹)', r_ui=8.0, est=6.622675751376331, details={'actual_k': 23, 'was_impossible': False}),\n",
       " Prediction(uid='Ð\\x9cÐ°Ñ\\x80Ð¸Ñ\\x8f', iid='Sony Xperia Z1 Compact (Ð»Ð°Ð¹Ð¼)', r_ui=8.0, est=9.511505138594378, details={'actual_k': 28, 'was_impossible': False}),\n",
       " Prediction(uid='Daniel', iid='Samsung Galaxy Ace S5830 Smartphone (8,9 cm (3,5 Zoll) Display, Touchscreen, Android OS, 5 Megapixel Kamera) weiÃ\\x9f', r_ui=10.0, est=7.978518485105227, details={'actual_k': 15, 'was_impossible': False}),\n",
       " Prediction(uid='Stefan', iid='Huawei P8 Champagne / 16 GB - Overzicht', r_ui=8.0, est=8.999349874548352, details={'actual_k': 13, 'was_impossible': False}),\n",
       " Prediction(uid='Ð\\x90Ð»ÐµÐºÑ\\x81Ð°Ð½Ð´Ñ\\x80', iid='Sony Xperia Z1 (Ñ\\x84Ð¸Ð¾Ð»ÐµÑ\\x82Ð¾Ð²Ñ\\x8bÐ¹)', r_ui=8.0, est=7.417765299714017, details={'actual_k': 28, 'was_impossible': False}),\n",
       " Prediction(uid='Bruno', iid='LG D802 G2 Smartphone, 16 GB, Nero [Italia]', r_ui=10.0, est=10, details={'actual_k': 5, 'was_impossible': False}),\n",
       " Prediction(uid='Ð\\xa0Ñ\\x83Ñ\\x81Ð»Ð°Ð½', iid='Sony Xperia SP (Ð±ÐµÐ»Ñ\\x8bÐ¹)', r_ui=7.0, est=9.230433935562633, details={'actual_k': 27, 'was_impossible': False}),\n",
       " Prediction(uid='Ð\\x90Ð½Ð°Ñ\\x82Ð¾Ð»Ð¸Ð¹', iid='Samsung Galaxy A3', r_ui=10.0, est=8.691847642414864, details={'actual_k': 26, 'was_impossible': False}),\n",
       " Prediction(uid='Ð\\x90Ñ\\x80Ñ\\x82ÐµÐ¼', iid='Samsung Galaxy S4 mini Duos GT-I9192 (Ð±ÐµÐ»Ñ\\x8bÐ¹)', r_ui=10.0, est=8.713305359597175, details={'actual_k': 22, 'was_impossible': False}),\n",
       " Prediction(uid='Oscar', iid='Motorola Moto G (3Âª GeneraciÃ³n) + Carcasa Oficial color turquesa - Smartphone libre Android 6 (4G, pantalla 5\", cÃ¡mara 13 Mp, 16 GB, Quad Core 1.4 GHz, 2 GB de RAM), negro', r_ui=10.0, est=8.421091445427729, details={'was_impossible': True, 'reason': 'User and/or item is unknown.'}),\n",
       " Prediction(uid='Peter', iid='Samsung Galaxy S5 Smartphone (5,1 Zoll (12,9 cm) Touch-Display, 16 GB Speicher, Android 4.4) electric blue', r_ui=2.0, est=4.670679974827843, details={'actual_k': 19, 'was_impossible': False}),\n",
       " Prediction(uid='Cliente Amazon', iid='Huawei P8 lite Smartphone, Display 5.0\" IPS, Dual Sim, Processore Octa-Core, Memoria 16 GB, Fotocamera 13 MP, Android 5.0, Bianco', r_ui=10.0, est=6.028779476498848, details={'actual_k': 50, 'was_impossible': False}),\n",
       " Prediction(uid='Ð¡ÐµÑ\\x80Ð³ÐµÐ¹', iid='Sony Xperia Z1 Compact (Ð±ÐµÐ»Ñ\\x8bÐ¹)', r_ui=10.0, est=8.403510145623859, details={'actual_k': 21, 'was_impossible': False}),\n",
       " Prediction(uid='Frank', iid='APPLE iPhone 7 - Silver, 128 GB', r_ui=1.0, est=8.554350091168198, details={'actual_k': 26, 'was_impossible': False}),\n",
       " Prediction(uid='Stefano', iid='Lenovo Motorola Moto G Smartphone, Display HD 4,5\", Processore Qualcomm, Memoria 8 GB, MicroSIM, Android 4.4 OS, Fotocamera da 5 MP, Nero [Germania]', r_ui=8.0, est=9.69832189043126, details={'actual_k': 32, 'was_impossible': False}),\n",
       " Prediction(uid='Francesco', iid='Lenovo Motorola Moto E Smartphone, Display 4.3 pollici qHD, Processore Qualcomm Dual-Core 1.2GHz, Memoria 4GB, 1GB RAM, Fotocamera 5MP, Android 4.4.2 KitKat, Bluetooth, WiFi, Bianco [Spagna]', r_ui=8.0, est=9.228409302993366, details={'actual_k': 20, 'was_impossible': False}),\n",
       " Prediction(uid='Amazon Customer', iid='Lenovo Motorola Moto G Smartphone, 4,5 pollici display HD, processore Qualcomm, memoria 16GB, MicroSIM, Android 4.3 OS, fotocamera da 5 MP, Nero [Germania]', r_ui=10.0, est=7.969686549155972, details={'actual_k': 41, 'was_impossible': False}),\n",
       " Prediction(uid='robert', iid='MICROSOFT Lumia 650 - 16 GB, Black', r_ui=8.0, est=9.0, details={'actual_k': 0, 'was_impossible': False}),\n",
       " Prediction(uid='Ð\\x98Ð³Ð¾Ñ\\x80Ñ\\x8c', iid='Sony Xperia L (Ð±ÐµÐ»Ñ\\x8bÐ¹)', r_ui=9.0, est=9.79888335693196, details={'actual_k': 23, 'was_impossible': False}),\n",
       " Prediction(uid='Lorenzo', iid='Lenovo Motorola Moto G Smartphone, Display HD 4,5\", Processore Qualcomm, Memoria 8 GB, MicroSIM, Android 4.4 OS, Fotocamera da 5 MP, Nero [Germania]', r_ui=10.0, est=8.006725620373448, details={'actual_k': 20, 'was_impossible': False}),\n",
       " Prediction(uid='laura', iid=\"Huawei P9 Lite Smartphone, LTE, Display 5.2'' FHD, Processore Octa-Core Kirin 650, 16 GB Memoria Interna, 3GB RAM, Fotocamera 13 MP, Single-SIM, Android 6.0 Marshmallow, Bianco [Italia]\", r_ui=10.0, est=9.539621514354893, details={'actual_k': 12, 'was_impossible': False}),\n",
       " Prediction(uid='Ð\\x9aÑ\\x80Ð¸Ñ\\x81Ñ\\x82Ð¸Ð½Ð°', iid='Sony Xperia Z1 Compact (Ð±ÐµÐ»Ñ\\x8bÐ¹)', r_ui=10.0, est=9.352881018860886, details={'actual_k': 25, 'was_impossible': False}),\n",
       " Prediction(uid='Lorenzo', iid='Lenovo Motorola Moto G Smartphone, 4,5 pollici display HD, processore Qualcomm, memoria 16GB, MicroSIM, Android 4.3 OS, fotocamera da 5 MP, Nero [Germania]', r_ui=2.0, est=8.477008627367171, details={'actual_k': 34, 'was_impossible': False}),\n",
       " Prediction(uid='Peter', iid='MICROSOFT Lumia 650 - 16 GB, Black', r_ui=1.0, est=7.2954827029629765, details={'actual_k': 43, 'was_impossible': False}),\n",
       " Prediction(uid='Marco', iid='WIKO Fever 4G Smartphone, 16 GB, Dual SIM, Bianco', r_ui=2.0, est=9.0292612878393, details={'actual_k': 19, 'was_impossible': False}),\n",
       " Prediction(uid='Ð\\xa0Ñ\\x83Ñ\\x81Ð»Ð°Ð½', iid='Samsung Galaxy S4 GT-I9500 16GB (Ñ\\x87ÐµÑ\\x80Ð½Ñ\\x8bÐ¹)', r_ui=9.0, est=8.850424386866303, details={'actual_k': 26, 'was_impossible': False}),\n",
       " Prediction(uid='Ð\\x9eÐ»Ñ\\x8cÐ³Ð°', iid='Samsung N7100 Galaxy Note II 16GB (Ñ\\x81ÐµÑ\\x80Ñ\\x8bÐ¹)', r_ui=10.0, est=9.296630104472943, details={'actual_k': 22, 'was_impossible': False}),\n",
       " Prediction(uid='Ð\\x9eÐºÑ\\x81Ð°Ð½Ð°', iid='Sony Xperia J (Ñ\\x87ÐµÑ\\x80Ð½Ñ\\x8bÐ¹)', r_ui=9.0, est=8.693483243840273, details={'actual_k': 30, 'was_impossible': False}),\n",
       " Prediction(uid='Ð\\x90Ð½Ð´Ñ\\x80ÐµÐ¹', iid='Samsung Galaxy S4 GT-I9500 16GB (Ñ\\x87ÐµÑ\\x80Ð½Ñ\\x8bÐ¹)', r_ui=8.0, est=5.689320219428951, details={'actual_k': 44, 'was_impossible': False}),\n",
       " Prediction(uid='Ð¡ÐµÑ\\x80Ð³ÐµÐ¹', iid='Sony Xperia C (Ñ\\x84Ð¸Ð¾Ð»ÐµÑ\\x82Ð¾Ð²Ñ\\x8bÐ¹)', r_ui=9.0, est=8.857014540591384, details={'actual_k': 23, 'was_impossible': False}),\n",
       " Prediction(uid='Ð¢Ð°Ñ\\x82Ñ\\x8cÑ\\x8fÐ½Ð°', iid='Sony Xperia C (Ñ\\x84Ð¸Ð¾Ð»ÐµÑ\\x82Ð¾Ð²Ñ\\x8bÐ¹)', r_ui=9.0, est=9.081692632460387, details={'actual_k': 31, 'was_impossible': False}),\n",
       " Prediction(uid='Ð¡ÐµÑ\\x80Ð³ÐµÐ¹', iid='Samsung Galaxy S5 SM-G900F 16GB (Ð±ÐµÐ»Ñ\\x8bÐ¹)', r_ui=2.0, est=6.91913016221358, details={'actual_k': 17, 'was_impossible': False}),\n",
       " Prediction(uid='John', iid='APPLE iPhone 7 - Silver, 128 GB', r_ui=9.0, est=9.515015809248073, details={'actual_k': 28, 'was_impossible': False}),\n",
       " Prediction(uid='Ð\\x9eÐ»Ñ\\x8cÐ³Ð°', iid='Sony Xperia J (Ñ\\x87ÐµÑ\\x80Ð½Ñ\\x8bÐ¹)', r_ui=9.0, est=9.265208845415493, details={'actual_k': 32, 'was_impossible': False}),\n",
       " Prediction(uid='Chris', iid='Huawei P8lite zwart / 16 GB', r_ui=8.0, est=8.638388623835652, details={'actual_k': 35, 'was_impossible': False}),\n",
       " Prediction(uid='Marcel', iid='Huawei P8 Lite wit / 16 GB', r_ui=8.0, est=8.912868495414642, details={'actual_k': 24, 'was_impossible': False}),\n",
       " Prediction(uid='Ð\\x92Ð¸ÐºÑ\\x82Ð¾Ñ\\x80', iid='Sony Xperia Z (Ð±ÐµÐ»Ñ\\x8bÐ¹)', r_ui=2.0, est=8.968387790638753, details={'actual_k': 50, 'was_impossible': False}),\n",
       " Prediction(uid='Ð\\x9aÐ¸Ñ\\x80Ð¸Ð»Ð»', iid='Samsung Galaxy S6', r_ui=8.0, est=8.30782352208839, details={'actual_k': 14, 'was_impossible': False}),\n",
       " Prediction(uid='Ð\\x90Ð½Ð°Ñ\\x82Ð¾Ð»Ð¸Ð¹', iid='Apple iPhone 5s 16GB (Ñ\\x81ÐµÑ\\x80Ñ\\x8bÐ¹ ÐºÐ¾Ñ\\x81Ð¼Ð¾Ñ\\x81)', r_ui=10.0, est=8.261094920714937, details={'actual_k': 40, 'was_impossible': False}),\n",
       " Prediction(uid='David', iid='Motorola Moto X Pure Edition Unlocked Smartphone, 64 GB Black XT1575, 5.7\" Quad HD display, 21 MP Camera, Quad-core 1.8GHz', r_ui=10.0, est=2.834328155825495, details={'actual_k': 16, 'was_impossible': False}),\n",
       " Prediction(uid='Silvia', iid='Lenovo Motorola Moto G 4G (2 Generazione) Smartphone, Display 5 Pollici, LTE, Fotocamera 8 MP, Memoria 8 GB, Android 5 Lollipop, Nero [Italia]', r_ui=2.0, est=8.946183017051975, details={'actual_k': 41, 'was_impossible': False}),\n",
       " Prediction(uid='Martin', iid='Samsung Galaxy S7 Edge goud / 32 GB', r_ui=9.0, est=9.77354129540334, details={'actual_k': 19, 'was_impossible': False}),\n",
       " Prediction(uid='Ð\\x9cÐ°ÐºÑ\\x81Ð¸Ð¼', iid='Samsung Galaxy S5 SM-G900F 16GB (Ñ\\x81Ð¸Ð½Ð¸Ð¹)', r_ui=7.0, est=8.326903242490456, details={'actual_k': 21, 'was_impossible': False}),\n",
       " Prediction(uid='Ð\\xa0Ñ\\x83Ñ\\x81Ð»Ð°Ð½', iid='Sony Xperia M (Ñ\\x84Ð¸Ð¾Ð»ÐµÑ\\x82Ð¾Ð²Ñ\\x8bÐ¹)', r_ui=10.0, est=9.983154736992848, details={'actual_k': 18, 'was_impossible': False}),\n",
       " Prediction(uid='peter', iid='Samsung Galaxy S7 goud, roze / 32 GB', r_ui=9.0, est=9.447552219572124, details={'actual_k': 25, 'was_impossible': False}),\n",
       " Prediction(uid='Amazon Customer', iid='Alcatel OneTouch Idol 3 Global Unlocked 4G LTE Smartphone, 5.5 HD IPS Display, 16GB (GSM - US Warranty)', r_ui=2.0, est=5.075160512272899, details={'actual_k': 16, 'was_impossible': False}),\n",
       " Prediction(uid='Ð\\x94Ð°Ñ\\x80Ñ\\x8cÑ\\x8f', iid='Samsung Galaxy A3', r_ui=10.0, est=7.162214950422834, details={'actual_k': 20, 'was_impossible': False}),\n",
       " Prediction(uid='Ð\\x9aÐ¾Ð½Ñ\\x81Ñ\\x82Ð°Ð½Ñ\\x82Ð¸Ð½', iid='Sony Xperia Z1 Compact (Ð»Ð°Ð¹Ð¼)', r_ui=10.0, est=9.61155604632656, details={'actual_k': 25, 'was_impossible': False}),\n",
       " Prediction(uid='Cliente Amazon', iid='Alcatel One Touch 20-04G Telefono Cellulare, Nero', r_ui=10.0, est=5.957716523667269, details={'actual_k': 44, 'was_impossible': False}),\n",
       " Prediction(uid='Ð\\x94Ð¼Ð¸Ñ\\x82Ñ\\x80Ð¸Ð¹', iid='Sony Xperia Z (Ð±ÐµÐ»Ñ\\x8bÐ¹)', r_ui=8.0, est=7.9898311890933105, details={'actual_k': 49, 'was_impossible': False}),\n",
       " Prediction(uid='Ricardo', iid='Apple iPhone 5 Unlocked Cellphone, 32GB, Black', r_ui=10.0, est=2.0451184316068414, details={'actual_k': 6, 'was_impossible': False}),\n",
       " Prediction(uid='James', iid='Samsung G935 Galaxy S7 Edge Smartphone da 32GB, Argento [Italia]', r_ui=10.0, est=9.618127196023366, details={'actual_k': 4, 'was_impossible': False}),\n",
       " ...]"
      ]
     },
     "execution_count": 55,
     "metadata": {
      "tags": []
     },
     "output_type": "execute_result"
    }
   ],
   "source": [
    "test_pred_user"
   ]
  },
  {
   "cell_type": "markdown",
   "metadata": {
    "id": "0Fz3fY4_vBf9"
   },
   "source": [
    "Evaluation-RMSE"
   ]
  },
  {
   "cell_type": "code",
   "execution_count": 56,
   "metadata": {
    "colab": {
     "base_uri": "https://localhost:8080/"
    },
    "id": "FOxn6QAQu4rD",
    "outputId": "88fe0aaf-eb47-4d87-f147-651d0f2669b8"
   },
   "outputs": [
    {
     "name": "stdout",
     "output_type": "stream",
     "text": [
      "User-based Model : Test Set\n",
      "RMSE: 2.4338\n"
     ]
    },
    {
     "data": {
      "text/plain": [
       "2.433815763757554"
      ]
     },
     "execution_count": 56,
     "metadata": {
      "tags": []
     },
     "output_type": "execute_result"
    }
   ],
   "source": [
    "# getting RMSE\n",
    "print(\"User-based Model : Test Set\")\n",
    "accuracy.rmse(test_pred_user, verbose=True)"
   ]
  },
  {
   "cell_type": "markdown",
   "metadata": {
    "id": "3TirVspGvLxq"
   },
   "source": [
    "Test Predictions for User Model"
   ]
  },
  {
   "cell_type": "code",
   "execution_count": 57,
   "metadata": {
    "id": "1O_pBmv1vD6s"
   },
   "outputs": [],
   "source": [
    "pred_df=pd.DataFrame(test_pred_user)"
   ]
  },
  {
   "cell_type": "code",
   "execution_count": 58,
   "metadata": {
    "colab": {
     "base_uri": "https://localhost:8080/",
     "height": 204
    },
    "id": "MHeamANLvT8q",
    "outputId": "60f5c786-fc47-43dc-e2c1-4cb82dec886c"
   },
   "outputs": [
    {
     "data": {
      "text/html": [
       "<div>\n",
       "<style scoped>\n",
       "    .dataframe tbody tr th:only-of-type {\n",
       "        vertical-align: middle;\n",
       "    }\n",
       "\n",
       "    .dataframe tbody tr th {\n",
       "        vertical-align: top;\n",
       "    }\n",
       "\n",
       "    .dataframe thead th {\n",
       "        text-align: right;\n",
       "    }\n",
       "</style>\n",
       "<table border=\"1\" class=\"dataframe\">\n",
       "  <thead>\n",
       "    <tr style=\"text-align: right;\">\n",
       "      <th></th>\n",
       "      <th>uid</th>\n",
       "      <th>iid</th>\n",
       "      <th>r_ui</th>\n",
       "      <th>est</th>\n",
       "      <th>details</th>\n",
       "    </tr>\n",
       "  </thead>\n",
       "  <tbody>\n",
       "    <tr>\n",
       "      <th>0</th>\n",
       "      <td>Ð¡ÐµÑÐ³ÐµÐ¹</td>\n",
       "      <td>Samsung N7100 Galaxy Note II 16GB (Ð±ÐµÐ»ÑÐ¹)</td>\n",
       "      <td>9.0</td>\n",
       "      <td>6.318416</td>\n",
       "      <td>{'actual_k': 29, 'was_impossible': False}</td>\n",
       "    </tr>\n",
       "    <tr>\n",
       "      <th>1</th>\n",
       "      <td>Alexander</td>\n",
       "      <td>Apple iPhone 5s GSM Unlocked Cellphone, 16 GB,...</td>\n",
       "      <td>6.0</td>\n",
       "      <td>1.530303</td>\n",
       "      <td>{'actual_k': 1, 'was_impossible': False}</td>\n",
       "    </tr>\n",
       "    <tr>\n",
       "      <th>2</th>\n",
       "      <td>ÐÐ¸Ñ",
       "Ð°Ð¸Ð»</td>\n",
       "      <td>Sony Xperia SP (ÑÐµÑÐ½ÑÐ¹)</td>\n",
       "      <td>10.0</td>\n",
       "      <td>8.738628</td>\n",
       "      <td>{'actual_k': 30, 'was_impossible': False}</td>\n",
       "    </tr>\n",
       "    <tr>\n",
       "      <th>3</th>\n",
       "      <td>Federica</td>\n",
       "      <td>LG D802 G2 Smartphone, 16 GB, Nero [Italia]</td>\n",
       "      <td>10.0</td>\n",
       "      <td>10.000000</td>\n",
       "      <td>{'actual_k': 18, 'was_impossible': False}</td>\n",
       "    </tr>\n",
       "    <tr>\n",
       "      <th>4</th>\n",
       "      <td>Davide</td>\n",
       "      <td>Lenovo Motorola Moto G Smartphone, 4,5 pollici...</td>\n",
       "      <td>8.0</td>\n",
       "      <td>9.030186</td>\n",
       "      <td>{'actual_k': 49, 'was_impossible': False}</td>\n",
       "    </tr>\n",
       "  </tbody>\n",
       "</table>\n",
       "</div>"
      ],
      "text/plain": [
       "            uid  ...                                    details\n",
       "0  Ð¡ÐµÑÐ³ÐµÐ¹  ...  {'actual_k': 29, 'was_impossible': False}\n",
       "1     Alexander  ...   {'actual_k': 1, 'was_impossible': False}\n",
       "2  ÐÐ¸Ñ\n",
       "Ð°Ð¸Ð»  ...  {'actual_k': 30, 'was_impossible': False}\n",
       "3      Federica  ...  {'actual_k': 18, 'was_impossible': False}\n",
       "4        Davide  ...  {'actual_k': 49, 'was_impossible': False}\n",
       "\n",
       "[5 rows x 5 columns]"
      ]
     },
     "execution_count": 58,
     "metadata": {
      "tags": []
     },
     "output_type": "execute_result"
    }
   ],
   "source": [
    "pred_df.head()"
   ]
  },
  {
   "cell_type": "markdown",
   "metadata": {
    "id": "KdLB0WmPvnlb"
   },
   "source": [
    "#### **Steps in User based Collaborative filtering model.**\n",
    "\n",
    "\n",
    "1.   Finding neighbours for the particular user based on the similarity measure.\n",
    "2.   50 neighbours are selected in this project.\n",
    "3.   Filter out the products which are already rated by the user\n",
    "4.   For remaining product find out the mean rating and sort the ratings in descending order and recommend to the user.\n",
    "5.   So user may get recommendation for the product which are highly rated by the user like him.\n",
    "6.   Also average rating for the product which is not rated by user can be estimated by its neighbours.\n",
    "\n",
    "\n",
    "\n",
    "\n",
    "\n",
    "\n"
   ]
  },
  {
   "cell_type": "markdown",
   "metadata": {
    "id": "0anl33cZwmRP"
   },
   "source": [
    "### **Item Based Model**"
   ]
  },
  {
   "cell_type": "markdown",
   "metadata": {
    "id": "QM05X3LwwtQI"
   },
   "source": [
    "**For Item based model all the above steps are same except user_based is set to False**"
   ]
  },
  {
   "cell_type": "code",
   "execution_count": 59,
   "metadata": {
    "colab": {
     "base_uri": "https://localhost:8080/"
    },
    "id": "F_9fW-hgvVuv",
    "outputId": "c68534d4-ba00-4c75-b575-abcfc1cdaa91"
   },
   "outputs": [
    {
     "name": "stdout",
     "output_type": "stream",
     "text": [
      "Estimating biases using als...\n",
      "Computing the pearson_baseline similarity matrix...\n",
      "Done computing similarity matrix.\n"
     ]
    },
    {
     "data": {
      "text/plain": [
       "<surprise.prediction_algorithms.knns.KNNWithMeans at 0x7ff52b802f10>"
      ]
     },
     "execution_count": 59,
     "metadata": {
      "tags": []
     },
     "output_type": "execute_result"
    }
   ],
   "source": [
    "algo_item = KNNWithMeans(k=50, sim_options={'name': 'pearson_baseline', 'user_based': False})\n",
    "algo_item.fit(trainset)"
   ]
  },
  {
   "cell_type": "markdown",
   "metadata": {
    "id": "aEvsX8uvwy6w"
   },
   "source": [
    "Predicting Average Rating for test data"
   ]
  },
  {
   "cell_type": "code",
   "execution_count": 60,
   "metadata": {
    "id": "pqa8WYIpwvlj"
   },
   "outputs": [],
   "source": [
    "# run the trained model against the testset\n",
    "test_pred_item = algo_item.test(testset)"
   ]
  },
  {
   "cell_type": "code",
   "execution_count": 61,
   "metadata": {
    "colab": {
     "base_uri": "https://localhost:8080/"
    },
    "id": "l1RgYl1Lw1aF",
    "outputId": "3b16156f-3574-4470-a6d1-13889e774366"
   },
   "outputs": [
    {
     "data": {
      "text/plain": [
       "[Prediction(uid='Ð¡ÐµÑ\\x80Ð³ÐµÐ¹', iid='Samsung N7100 Galaxy Note II 16GB (Ð±ÐµÐ»Ñ\\x8bÐ¹)', r_ui=9.0, est=5.511989840290157, details={'actual_k': 33, 'was_impossible': False}),\n",
       " Prediction(uid='Alexander', iid='Apple iPhone 5s GSM Unlocked Cellphone, 16 GB, Space Gray', r_ui=6.0, est=5.778152731625589, details={'actual_k': 2, 'was_impossible': False}),\n",
       " Prediction(uid='Ð\\x9cÐ¸Ñ\\x85Ð°Ð¸Ð»', iid='Sony Xperia SP (Ñ\\x87ÐµÑ\\x80Ð½Ñ\\x8bÐ¹)', r_ui=10.0, est=8.797268987393043, details={'actual_k': 17, 'was_impossible': False}),\n",
       " Prediction(uid='Federica', iid='LG D802 G2 Smartphone, 16 GB, Nero [Italia]', r_ui=10.0, est=9.255813953488373, details={'actual_k': 0, 'was_impossible': False}),\n",
       " Prediction(uid='Davide', iid='Lenovo Motorola Moto G Smartphone, 4,5 pollici display HD, processore Qualcomm, memoria 16GB, MicroSIM, Android 4.3 OS, fotocamera da 5 MP, Nero [Germania]', r_ui=8.0, est=9.593921768041566, details={'actual_k': 7, 'was_impossible': False}),\n",
       " Prediction(uid='Julie', iid='SAMSUNG Galaxy A3 (2017) - 16 GB, Black', r_ui=8.0, est=9.978819342824208, details={'actual_k': 4, 'was_impossible': False}),\n",
       " Prediction(uid='Ben', iid='Huawei P8 Champagne / 16 GB - Overzicht', r_ui=8.0, est=8.427983596827039, details={'actual_k': 4, 'was_impossible': False}),\n",
       " Prediction(uid='Ð\\x90Ð»ÐµÐºÑ\\x81ÐµÐ¹', iid='Sony Xperia SP (ÐºÑ\\x80Ð°Ñ\\x81Ð½Ñ\\x8bÐ¹)', r_ui=7.0, est=8.245514800047841, details={'actual_k': 31, 'was_impossible': False}),\n",
       " Prediction(uid='fabio', iid='Lenovo Motorola Moto E Smartphone, Display 4.3 pollici qHD, Processore Qualcomm Dual-Core 1.2GHz, Memoria 4GB, 1GB RAM, Fotocamera 5MP, Android 4.4.2 KitKat, Bluetooth, WiFi, Bianco [Spagna]', r_ui=10.0, est=8.007473528294287, details={'actual_k': 4, 'was_impossible': False}),\n",
       " Prediction(uid='Sergio', iid='Samsung Galaxy A5 2016 Smartphone LTE, 16GB, Nero', r_ui=10.0, est=8.794225035346377, details={'actual_k': 4, 'was_impossible': False}),\n",
       " Prediction(uid='antonio', iid='Samsung Galaxy J5 Smartphone, Oro [Italia]', r_ui=10.0, est=9.930512154556057, details={'actual_k': 2, 'was_impossible': False}),\n",
       " Prediction(uid='mark', iid='SAMSUNG Galaxy A3 (2017) - 16 GB, Black', r_ui=9.0, est=10, details={'actual_k': 2, 'was_impossible': False}),\n",
       " Prediction(uid='Alex', iid='Samsung Galaxy S6', r_ui=2.0, est=10, details={'actual_k': 16, 'was_impossible': False}),\n",
       " Prediction(uid='Peter', iid='Huawei P8 Champagne / 16 GB - Overzicht', r_ui=9.0, est=9.908675765106485, details={'actual_k': 8, 'was_impossible': False}),\n",
       " Prediction(uid='Stefano', iid='Lenovo Motorola Moto G 4G 3 Generazione Smartphone, Display 5\", Fotocamera 13 MP, Memoria 16 GB, Android 6 Lollipop, Nero [Italia]', r_ui=8.0, est=6.142254520440384, details={'actual_k': 4, 'was_impossible': False}),\n",
       " Prediction(uid='Ð\\x9dÐ¸ÐºÐ¾Ð»Ð°Ð¹', iid='Sony Xperia Z1 Compact (Ñ\\x80Ð¾Ð·Ð¾Ð²Ñ\\x8bÐ¹)', r_ui=9.0, est=9.847644159568647, details={'actual_k': 18, 'was_impossible': False}),\n",
       " Prediction(uid='Cliente Amazon', iid='Huawei Ascend P8 Smartphone, Display 5.2\" FHD, Memoria RAM da 3 GB, Processore HiSilicon Kirin 930 Octa-Core, Fotocamera Principale 13 MP, Grigio', r_ui=8.0, est=4.629861102181433, details={'actual_k': 45, 'was_impossible': False}),\n",
       " Prediction(uid='Florian', iid='Sony Xperia Z1 Compact Smartphone (4,3 Zoll (10,9 cm) Touch-Display, 16 GB Speicher, Android 4.3) pink', r_ui=8.0, est=8.421091445427729, details={'was_impossible': True, 'reason': 'User and/or item is unknown.'}),\n",
       " Prediction(uid='Maria', iid='Lenovo Motorola Moto G Smartphone, Display HD 4,5\", Processore Qualcomm, Memoria 8 GB, MicroSIM, Android 4.4 OS, Fotocamera da 5 MP, Nero [Germania]', r_ui=10.0, est=9.35484904197515, details={'actual_k': 5, 'was_impossible': False}),\n",
       " Prediction(uid='michele', iid='Samsung Galaxy A5 2016 Smartphone LTE, 16GB, Nero', r_ui=6.0, est=7.245913365459871, details={'actual_k': 3, 'was_impossible': False}),\n",
       " Prediction(uid='Albert', iid='Samsung Galaxy S7 zwart / 32 GB', r_ui=8.0, est=8.097896512474161, details={'actual_k': 3, 'was_impossible': False}),\n",
       " Prediction(uid='Ð\\x9cÐ¸Ñ\\x85Ð°Ð¸Ð»', iid='Sony Xperia J (Ñ\\x87ÐµÑ\\x80Ð½Ñ\\x8bÐ¹)', r_ui=9.0, est=8.28791780002627, details={'actual_k': 22, 'was_impossible': False}),\n",
       " Prediction(uid='Ð\\x90Ð½Ð½Ð°', iid='Sony Xperia L (ÐºÑ\\x80Ð°Ñ\\x81Ð½Ñ\\x8bÐ¹)', r_ui=7.0, est=6.840595379449656, details={'actual_k': 12, 'was_impossible': False}),\n",
       " Prediction(uid='Ð\\x92Ð°Ð´Ð¸Ð¼', iid='Sony Xperia J (Ñ\\x87ÐµÑ\\x80Ð½Ñ\\x8bÐ¹)', r_ui=8.0, est=8.351347445586502, details={'actual_k': 12, 'was_impossible': False}),\n",
       " Prediction(uid='A', iid='MICROSOFT Lumia 650 - 16 GB, Black', r_ui=5.0, est=7.139784946236559, details={'actual_k': 0, 'was_impossible': False}),\n",
       " Prediction(uid='Sandra', iid='Huawei P8 Lite Smartphone, Display 5\" IPS, Processore Octa-Core 1.5 GHz, Memoria Interna da 16 GB, 2 GB RAM, Fotocamera 13 MP, monoSIM, Android 5.0, Bianco [Italia]', r_ui=10.0, est=9.93393508738237, details={'actual_k': 1, 'was_impossible': False}),\n",
       " Prediction(uid='Ð\\x90Ð½Ð½Ð°', iid='Apple iPhone 5s 16GB (Ñ\\x81ÐµÑ\\x80ÐµÐ±Ñ\\x80Ð¸Ñ\\x81Ñ\\x82Ñ\\x8bÐ¹)', r_ui=9.0, est=8.93467209483352, details={'actual_k': 14, 'was_impossible': False}),\n",
       " Prediction(uid='enrico', iid='Asus ZenFone 2 Laser 5.5\" Smartphone, 16 GB, Dual SIM, Nero [Italia]', r_ui=10.0, est=9.952574525745257, details={'actual_k': 1, 'was_impossible': False}),\n",
       " Prediction(uid='Ð\\x94Ð¼Ð¸Ñ\\x82Ñ\\x80Ð¸Ð¹', iid='Samsung N7100 Galaxy Note II 16GB (Ñ\\x81ÐµÑ\\x80Ñ\\x8bÐ¹)', r_ui=5.0, est=8.117934966500004, details={'actual_k': 31, 'was_impossible': False}),\n",
       " Prediction(uid='Ð\\x92Ð°Ð´Ð¸Ð¼', iid='Samsung Galaxy S5 SM-G900F 16GB (Ð±ÐµÐ»Ñ\\x8bÐ¹)', r_ui=8.0, est=7.794710336763702, details={'actual_k': 7, 'was_impossible': False}),\n",
       " Prediction(uid='Ð\\x95Ð³Ð¾Ñ\\x80', iid='Sony Xperia C (Ð±ÐµÐ»Ñ\\x8bÐ¹)', r_ui=10.0, est=9.031933496820253, details={'actual_k': 11, 'was_impossible': False}),\n",
       " Prediction(uid='Ð\\x94Ð°Ñ\\x80Ñ\\x8cÑ\\x8f', iid='Sony Xperia M (Ñ\\x84Ð¸Ð¾Ð»ÐµÑ\\x82Ð¾Ð²Ñ\\x8bÐ¹)', r_ui=7.0, est=6.836570904948505, details={'actual_k': 13, 'was_impossible': False}),\n",
       " Prediction(uid='Patrick', iid='Samsung Galaxy Ace S5830 Smartphone (8,9 cm (3,5 Zoll) Display, Touchscreen, Android OS, 5 Megapixel Kamera) weiÃ\\x9f', r_ui=10.0, est=5.957603165520532, details={'actual_k': 2, 'was_impossible': False}),\n",
       " Prediction(uid='Angelo', iid='Samsung Galaxy A5 2016 Smartphone LTE, 16GB, Nero', r_ui=10.0, est=9.881416723242705, details={'actual_k': 3, 'was_impossible': False}),\n",
       " Prediction(uid='Mark', iid='Huawei P8 Lite goud, wit / 16 GB', r_ui=8.0, est=9.08342054254592, details={'actual_k': 6, 'was_impossible': False}),\n",
       " Prediction(uid='Ð\\x9eÐ»ÐµÐ³', iid='Samsung N7100 Galaxy Note II 16GB (Ð±ÐµÐ»Ñ\\x8bÐ¹)', r_ui=9.0, est=9.033350815950959, details={'actual_k': 22, 'was_impossible': False}),\n",
       " Prediction(uid='Ð\\x9aÐ¸Ñ\\x80Ð¸Ð»Ð»', iid='Sony Xperia SP (Ñ\\x87ÐµÑ\\x80Ð½Ñ\\x8bÐ¹)', r_ui=10.0, est=9.999716496600124, details={'actual_k': 8, 'was_impossible': False}),\n",
       " Prediction(uid='Martin', iid='APPLE iPhone 7 - Silver, 32 GB', r_ui=10.0, est=7.562893995214559, details={'actual_k': 10, 'was_impossible': False}),\n",
       " Prediction(uid='Valentina', iid='Asus ZenFone 2 Laser 5.5\" Smartphone, 16 GB, Dual SIM, Nero [Italia]', r_ui=10.0, est=9.540704235111559, details={'actual_k': 2, 'was_impossible': False}),\n",
       " Prediction(uid='Ð\\x9cÐ°Ñ\\x80Ð¸Ñ\\x8f', iid='Sony Xperia SP (Ñ\\x87ÐµÑ\\x80Ð½Ñ\\x8bÐ¹)', r_ui=10.0, est=9.172450617503662, details={'actual_k': 15, 'was_impossible': False}),\n",
       " Prediction(uid='Dave', iid=\"Huawei P9 Lite Smartphone, LTE, Display 5.2'' FHD, Processore Octa-Core Kirin 650, 16 GB Memoria Interna, 3GB RAM, Fotocamera 13 MP, Single-SIM, Android 6.0 Marshmallow, Bianco [Italia]\", r_ui=10.0, est=9.22655147240661, details={'actual_k': 4, 'was_impossible': False}),\n",
       " Prediction(uid='Mark', iid='APPLE iPhone 7 - Silver, 32 GB', r_ui=9.0, est=7.778770780039582, details={'actual_k': 5, 'was_impossible': False}),\n",
       " Prediction(uid='Elena', iid='Samsung Galaxy A5 2016 Smartphone LTE, 16GB, Nero', r_ui=10.0, est=10, details={'actual_k': 1, 'was_impossible': False}),\n",
       " Prediction(uid='Maria', iid='Huawei P8lite zwart / 16 GB', r_ui=9.0, est=8.456601254616572, details={'actual_k': 6, 'was_impossible': False}),\n",
       " Prediction(uid='Vanessa', iid='SAMSUNG Galaxy A3 (2017) - 16 GB, Black', r_ui=10.0, est=7.63000712820079, details={'actual_k': 2, 'was_impossible': False}),\n",
       " Prediction(uid='Manuela', iid='Alcatel One Touch 20-04G Telefono Cellulare, Nero', r_ui=10.0, est=10, details={'actual_k': 1, 'was_impossible': False}),\n",
       " Prediction(uid='Roy', iid='Samsung Galaxy S7 Edge zwart / 32 GB', r_ui=9.0, est=9.081199460916443, details={'actual_k': 1, 'was_impossible': False}),\n",
       " Prediction(uid='Michael', iid='Lenovo Motorola Moto G Smartphone, 4,5 pollici display HD, processore Qualcomm, memoria 16GB, MicroSIM, Android 4.3 OS, fotocamera da 5 MP, Nero [Germania]', r_ui=8.0, est=9.38614052405746, details={'actual_k': 8, 'was_impossible': False}),\n",
       " Prediction(uid='Danny', iid='Huawei P8 grijs / 16 GB', r_ui=9.0, est=8.079694569858143, details={'actual_k': 2, 'was_impossible': False}),\n",
       " Prediction(uid='Anne', iid='Samsung Galaxy S7 Edge zwart / 32 GB', r_ui=10.0, est=9.70360461853359, details={'actual_k': 3, 'was_impossible': False}),\n",
       " Prediction(uid='Michael', iid='Apple iPhone 5 Unlocked Cellphone, 32GB, Black', r_ui=4.0, est=6.3948902636808205, details={'actual_k': 7, 'was_impossible': False}),\n",
       " Prediction(uid='Richard', iid='Samsung Galaxy S7 zwart / 32 GB', r_ui=10.0, est=9.288652271181558, details={'actual_k': 10, 'was_impossible': False}),\n",
       " Prediction(uid='Ð\\x9cÐ°ÐºÑ\\x81Ð¸Ð¼', iid='Sony Xperia Z1 (Ñ\\x84Ð¸Ð¾Ð»ÐµÑ\\x82Ð¾Ð²Ñ\\x8bÐ¹)', r_ui=10.0, est=8.640752154611267, details={'actual_k': 30, 'was_impossible': False}),\n",
       " Prediction(uid='Ð\\x9cÐ°ÐºÑ\\x81Ð¸Ð¼', iid='Sony Xperia SP (Ñ\\x87ÐµÑ\\x80Ð½Ñ\\x8bÐ¹)', r_ui=8.0, est=8.539225277299073, details={'actual_k': 19, 'was_impossible': False}),\n",
       " Prediction(uid='Giovanni', iid='Samsung Galaxy A5 2016 Smartphone LTE, 16GB, Nero', r_ui=10.0, est=10, details={'actual_k': 4, 'was_impossible': False}),\n",
       " Prediction(uid='Ð\\x92Ð¸Ñ\\x82Ð°Ð»Ð¸Ð¹', iid='Sony Xperia SP (ÐºÑ\\x80Ð°Ñ\\x81Ð½Ñ\\x8bÐ¹)', r_ui=9.0, est=8.219113933836509, details={'actual_k': 16, 'was_impossible': False}),\n",
       " Prediction(uid='Alessandra', iid='Samsung Galaxy A5 2016 Smartphone LTE, 16GB, Nero', r_ui=10.0, est=9.058823529411764, details={'actual_k': 0, 'was_impossible': False}),\n",
       " Prediction(uid='Davide', iid='Samsung Galaxy J5 Smartphone, Oro [Italia]', r_ui=10.0, est=9.22466820161006, details={'actual_k': 9, 'was_impossible': False}),\n",
       " Prediction(uid='Ð\\x9eÐ»ÐµÐ³', iid='Sony Xperia Z1 Compact (Ð»Ð°Ð¹Ð¼)', r_ui=7.0, est=8.82834935646356, details={'actual_k': 18, 'was_impossible': False}),\n",
       " Prediction(uid='Thomas', iid='Huawei P8 Champagne / 16 GB', r_ui=8.0, est=8.050772451764226, details={'actual_k': 7, 'was_impossible': False}),\n",
       " Prediction(uid='Ð\\x98Ñ\\x80Ð¸Ð½Ð°', iid='Sony Xperia Z1 Compact (Ð»Ð°Ð¹Ð¼)', r_ui=9.0, est=9.517063373364241, details={'actual_k': 15, 'was_impossible': False}),\n",
       " Prediction(uid='Ð\\x94Ð¼Ð¸Ñ\\x82Ñ\\x80Ð¸Ð¹', iid='Sony Xperia SP (Ñ\\x87ÐµÑ\\x80Ð½Ñ\\x8bÐ¹)', r_ui=5.0, est=8.893576986864776, details={'actual_k': 27, 'was_impossible': False}),\n",
       " Prediction(uid='Ð\\x92Ñ\\x8fÑ\\x87ÐµÑ\\x81Ð»Ð°Ð²', iid='Sony Xperia Z1 Compact (Ð±ÐµÐ»Ñ\\x8bÐ¹)', r_ui=10.0, est=6.316209258058376, details={'actual_k': 13, 'was_impossible': False}),\n",
       " Prediction(uid='Ð¢Ð°Ñ\\x82Ñ\\x8cÑ\\x8fÐ½Ð°', iid='Sony Xperia C (Ð±ÐµÐ»Ñ\\x8bÐ¹)', r_ui=10.0, est=7.531456925376494, details={'actual_k': 19, 'was_impossible': False}),\n",
       " Prediction(uid='Sandro', iid='Asus ZenFone 2 Laser Smartphone, Display da 5\", 16 GB, Dual SIM, Nero [Italia]', r_ui=8.0, est=9.597222222222223, details={'actual_k': 1, 'was_impossible': False}),\n",
       " Prediction(uid='Ð\\x92Ð°Ð´Ð¸Ð¼', iid='Sony Xperia ZR (Ð±ÐµÐ»Ñ\\x8bÐ¹)', r_ui=10.0, est=8.897855884391026, details={'actual_k': 11, 'was_impossible': False}),\n",
       " Prediction(uid='Manuela', iid='Lenovo Motorola Moto G Smartphone, Display HD 4,5\", Processore Qualcomm, Memoria 8 GB, MicroSIM, Android 4.4 OS, Fotocamera da 5 MP, Nero [Germania]', r_ui=10.0, est=9.315068493150685, details={'actual_k': 0, 'was_impossible': False}),\n",
       " Prediction(uid='Ð\\x90Ñ\\x80Ñ\\x82Ñ\\x91Ð¼', iid='Samsung Galaxy S5 SM-G900F 16GB (Ð±ÐµÐ»Ñ\\x8bÐ¹)', r_ui=10.0, est=7.850833359455432, details={'actual_k': 10, 'was_impossible': False}),\n",
       " Prediction(uid='Filippo', iid='Huawei P8 lite Smartphone, Display 5.0\" IPS, Dual Sim, Processore Octa-Core, Memoria 16 GB, Fotocamera 13 MP, Android 5.0, Bianco', r_ui=10.0, est=8.302419036291127, details={'actual_k': 5, 'was_impossible': False}),\n",
       " Prediction(uid='Jesus', iid='Motorola Moto G (3Âª GeneraciÃ³n) + Carcasa Oficial color turquesa - Smartphone libre Android 6 (4G, pantalla 5\", cÃ¡mara 13 Mp, 16 GB, Quad Core 1.4 GHz, 2 GB de RAM), negro', r_ui=10.0, est=7.948268169810801, details={'actual_k': 2, 'was_impossible': False}),\n",
       " Prediction(uid='Ð\\x92Ñ\\x8fÑ\\x87ÐµÑ\\x81Ð»Ð°Ð²', iid='Sony Xperia Z1 Compact (Ñ\\x87ÐµÑ\\x80Ð½Ñ\\x8bÐ¹)', r_ui=5.0, est=7.8459033950051555, details={'actual_k': 11, 'was_impossible': False}),\n",
       " Prediction(uid='Amazon Customer', iid='Sony Xperia SP (ÐºÑ\\x80Ð°Ñ\\x81Ð½Ñ\\x8bÐ¹)', r_ui=9.0, est=7.6743340083988905, details={'actual_k': 17, 'was_impossible': False}),\n",
       " Prediction(uid='stefano', iid='WIKO Fever 4G Smartphone, 16 GB, Dual SIM, Bianco', r_ui=10.0, est=7.188712448955616, details={'actual_k': 5, 'was_impossible': False}),\n",
       " Prediction(uid='Ð\\x9cÐ¸Ñ\\x85Ð°Ð¸Ð»', iid='Apple iPhone 5s 16GB (Ñ\\x81ÐµÑ\\x80ÐµÐ±Ñ\\x80Ð¸Ñ\\x81Ñ\\x82Ñ\\x8bÐ¹)', r_ui=10.0, est=7.729908021482246, details={'actual_k': 26, 'was_impossible': False}),\n",
       " Prediction(uid='Michael', iid='Huawei Honor 5X Unlocked Smartphone, 16GB Dark Grey (US Warranty)', r_ui=10.0, est=8.30846616814383, details={'actual_k': 10, 'was_impossible': False}),\n",
       " Prediction(uid='Amazon Kunde', iid='Samsung Galaxy Ace S5830 Smartphone (8,9 cm (3,5 Zoll) Display, Touchscreen, Android OS, 5 Megapixel Kamera) weiÃ\\x9f', r_ui=8.0, est=7.888871342562579, details={'actual_k': 5, 'was_impossible': False}),\n",
       " Prediction(uid='Ð\\x9cÐ°ÐºÑ\\x81Ð¸Ð¼', iid='Sony Xperia M (Ð±ÐµÐ»Ñ\\x8bÐ¹)', r_ui=10.0, est=8.34829033930567, details={'actual_k': 9, 'was_impossible': False}),\n",
       " Prediction(uid='Ð\\x90Ð½Ñ\\x82Ð¾Ð½', iid='Sony Xperia Z1 (Ñ\\x84Ð¸Ð¾Ð»ÐµÑ\\x82Ð¾Ð²Ñ\\x8bÐ¹)', r_ui=10.0, est=7.7823316626429895, details={'actual_k': 27, 'was_impossible': False}),\n",
       " Prediction(uid='Ð\\x90Ð»ÐµÐºÑ\\x81ÐµÐ¹', iid='Sony Xperia SP (Ñ\\x87ÐµÑ\\x80Ð½Ñ\\x8bÐ¹)', r_ui=8.0, est=7.774600157631207, details={'actual_k': 36, 'was_impossible': False}),\n",
       " Prediction(uid='Emanuele', iid='Lenovo Motorola Moto G 4G 3 Generazione Smartphone, Display 5\", Fotocamera 13 MP, Memoria 16 GB, Android 6 Lollipop, Nero [Italia]', r_ui=6.0, est=9.15267415957891, details={'actual_k': 2, 'was_impossible': False}),\n",
       " Prediction(uid='Daniele', iid='Asus ZE551ML-2A760WW Smartphone ZenFone 2 Deluxe, 5.5\", 4 GB RAM, 64 GB, Intel Quad-Core Z3580, Dual SIM, Illusion Purple', r_ui=8.0, est=9.713389962548284, details={'actual_k': 12, 'was_impossible': False}),\n",
       " Prediction(uid='Carlo', iid='Lenovo Motorola Moto G 4G (2 Generazione) Smartphone, Display 5 Pollici, LTE, Fotocamera 8 MP, Memoria 8 GB, Android 5 Lollipop, Nero [Italia]', r_ui=10.0, est=7.760115143084235, details={'actual_k': 7, 'was_impossible': False}),\n",
       " Prediction(uid='Martina', iid='Huawei P8 Lite Smartphone, Display 5\" IPS, Processore Octa-Core 1.5 GHz, Memoria Interna da 16 GB, 2 GB RAM, Fotocamera 13 MP, monoSIM, Android 5.0, Bianco [Italia]', r_ui=10.0, est=5.52482939632546, details={'actual_k': 2, 'was_impossible': False}),\n",
       " Prediction(uid='sergio', iid='Asus ZenFone 2 Laser 5.5\" Smartphone, 16 GB, Dual SIM, Nero [Italia]', r_ui=10.0, est=6.404308972544858, details={'actual_k': 2, 'was_impossible': False}),\n",
       " Prediction(uid='Ð\\x90Ð»ÐµÐºÑ\\x81ÐµÐ¹', iid='Sony Xperia SP (ÐºÑ\\x80Ð°Ñ\\x81Ð½Ñ\\x8bÐ¹)', r_ui=4.0, est=8.245514800047841, details={'actual_k': 31, 'was_impossible': False}),\n",
       " Prediction(uid='Antonio', iid='Samsung G935 Galaxy S7 Edge Smartphone da 32GB, Argento [Italia]', r_ui=10.0, est=7.078708649965565, details={'actual_k': 16, 'was_impossible': False}),\n",
       " Prediction(uid='John', iid='Apple iPhone 5 Unlocked Cellphone, 32GB, Black', r_ui=10.0, est=7.778912453967546, details={'actual_k': 4, 'was_impossible': False}),\n",
       " Prediction(uid='Ravi', iid='Samsung Galaxy Centura Android Prepaid Phone (TracFone)', r_ui=4.0, est=8.421091445427729, details={'was_impossible': True, 'reason': 'User and/or item is unknown.'}),\n",
       " Prediction(uid='Alex', iid='Asus ZenFone 2 Smartphone, Schermo da 5.5\" Full HD, Processore Quad Core 2,3 GHz, RAM 4 GB, 32 GB, 4G/LTE, Argento', r_ui=10.0, est=8.295791324066602, details={'actual_k': 12, 'was_impossible': False}),\n",
       " Prediction(uid='Ð\\x9dÐ°Ñ\\x82Ð°Ð»Ñ\\x8cÑ\\x8f', iid='Sony Xperia Z (Ð±ÐµÐ»Ñ\\x8bÐ¹)', r_ui=8.0, est=8.880696996346602, details={'actual_k': 19, 'was_impossible': False}),\n",
       " Prediction(uid='Ð\\x94Ð¸Ð¼Ð°', iid='Sony Xperia SP (ÐºÑ\\x80Ð°Ñ\\x81Ð½Ñ\\x8bÐ¹)', r_ui=8.0, est=9.540789972841285, details={'actual_k': 9, 'was_impossible': False}),\n",
       " Prediction(uid='Miguel', iid='Motorola Moto G (3Âª GeneraciÃ³n) + Carcasa Oficial color turquesa - Smartphone libre Android 6 (4G, pantalla 5\", cÃ¡mara 13 Mp, 16 GB, Quad Core 1.4 GHz, 2 GB de RAM), negro', r_ui=10.0, est=8.19277108433735, details={'actual_k': 0, 'was_impossible': False}),\n",
       " Prediction(uid='Ð\\x9cÐ°Ñ\\x80Ð¸Ñ\\x8f', iid='Sony Xperia SP (Ñ\\x87ÐµÑ\\x80Ð½Ñ\\x8bÐ¹)', r_ui=8.0, est=9.172450617503662, details={'actual_k': 15, 'was_impossible': False}),\n",
       " Prediction(uid='Giuseppe', iid='Lenovo Motorola Moto G LTE Smartphone, Display 4.5\", Fotocamera 5 MP, Memoria 8 GB, Quad-Core 1.2 GHz, 1 GB RAM, Micro SD, Android 4.4.3, Bianco [Italia]', r_ui=8.0, est=9.958340097815404, details={'actual_k': 6, 'was_impossible': False}),\n",
       " Prediction(uid='Amazon Customer', iid='Samsung Galaxy S3 mini (GT-I8200) Smartphone (4 Zoll (10,2 cm) Touch-Display, 8 GB Speicher, Android 4.2) blau', r_ui=10.0, est=5.353229216371779, details={'actual_k': 46, 'was_impossible': False}),\n",
       " Prediction(uid='Rafael', iid='Sony Xperia Z1 Compact (Ñ\\x87ÐµÑ\\x80Ð½Ñ\\x8bÐ¹)', r_ui=9.0, est=8.998968008255934, details={'actual_k': 1, 'was_impossible': False}),\n",
       " Prediction(uid='Jeff', iid='APPLE iPhone 7 - Silver, 128 GB', r_ui=10.0, est=10, details={'actual_k': 2, 'was_impossible': False}),\n",
       " Prediction(uid='Marion', iid='Huawei P8 grijs / 16 GB', r_ui=9.0, est=8.421091445427729, details={'was_impossible': True, 'reason': 'User and/or item is unknown.'}),\n",
       " Prediction(uid='Ð\\x90Ð»ÐµÐºÑ\\x81Ð°Ð½Ð´Ñ\\x80', iid='Sony Xperia Z1 (Ñ\\x87ÐµÑ\\x80Ð½Ñ\\x8bÐ¹)', r_ui=9.0, est=8.404511477930104, details={'actual_k': 36, 'was_impossible': False}),\n",
       " Prediction(uid='S', iid='Huawei P8lite zwart / 16 GB', r_ui=10.0, est=7.0, details={'actual_k': 2, 'was_impossible': False}),\n",
       " Prediction(uid='Michele', iid='Samsung Galaxy J5 Smartphone, Oro [Italia]', r_ui=8.0, est=6.765055275760973, details={'actual_k': 12, 'was_impossible': False}),\n",
       " Prediction(uid='Fred', iid='MICROSOFT Lumia 650 - 16 GB, Black', r_ui=9.0, est=7.38992344639871, details={'actual_k': 5, 'was_impossible': False}),\n",
       " Prediction(uid='Sven', iid='Samsung Galaxy S7 zwart / 32 GB', r_ui=8.0, est=8.826415546105572, details={'actual_k': 3, 'was_impossible': False}),\n",
       " Prediction(uid='Ð\\x9dÐ°Ð´ÐµÐ¶Ð´Ð°', iid='Samsung Galaxy S5 SM-G900F 16GB (Ñ\\x81Ð¸Ð½Ð¸Ð¹)', r_ui=10.0, est=9.560887310889534, details={'actual_k': 5, 'was_impossible': False}),\n",
       " Prediction(uid='vincenzo', iid='Samsung G935 Galaxy S7 Edge Smartphone da 32GB, Argento [Italia]', r_ui=8.0, est=8.831123906203842, details={'actual_k': 2, 'was_impossible': False}),\n",
       " Prediction(uid='Jeroen', iid='Samsung Galaxy S7 Edge zwart / 32 GB', r_ui=10.0, est=8.686314511012222, details={'actual_k': 5, 'was_impossible': False}),\n",
       " Prediction(uid='Max', iid='Huawei P8lite zwart / 16 GB', r_ui=8.0, est=9.35790368085417, details={'actual_k': 5, 'was_impossible': False}),\n",
       " Prediction(uid='Andrea', iid='Lenovo Motorola Moto G Smartphone, Display HD 4,5\", Processore Qualcomm, Memoria 8 GB, MicroSIM, Android 4.4 OS, Fotocamera da 5 MP, Nero [Germania]', r_ui=6.0, est=9.963569089883366, details={'actual_k': 11, 'was_impossible': False}),\n",
       " Prediction(uid='Ð\\x94ÐµÐ½Ð¸Ñ\\x81', iid='Samsung Galaxy S5 SM-G900F 16GB (Ñ\\x87ÐµÑ\\x80Ð½Ñ\\x8bÐ¹)', r_ui=3.0, est=3.090025039008883, details={'actual_k': 28, 'was_impossible': False}),\n",
       " Prediction(uid='Jerry', iid='Samsung G935 Galaxy S7 Edge Smartphone da 32GB, Argento [Italia]', r_ui=8.0, est=8.421091445427729, details={'was_impossible': True, 'reason': 'User and/or item is unknown.'}),\n",
       " Prediction(uid='Ð¡ÐµÑ\\x80Ð³ÐµÐ¹', iid='Sony Xperia Z1 (Ñ\\x84Ð¸Ð¾Ð»ÐµÑ\\x82Ð¾Ð²Ñ\\x8bÐ¹)', r_ui=8.0, est=8.352530905542078, details={'actual_k': 39, 'was_impossible': False}),\n",
       " Prediction(uid='Ð\\x92Ð¸ÐºÑ\\x82Ð¾Ñ\\x80Ð¸Ñ\\x8f', iid='Sony Xperia J (Ñ\\x87ÐµÑ\\x80Ð½Ñ\\x8bÐ¹)', r_ui=10.0, est=8.00704950265652, details={'actual_k': 16, 'was_impossible': False}),\n",
       " Prediction(uid='marco', iid='Alcatel One Touch 20-04G Telefono Cellulare, Nero', r_ui=8.0, est=7.945429068871754, details={'actual_k': 8, 'was_impossible': False}),\n",
       " Prediction(uid='jose', iid='Motorola Moto X Pure Edition Unlocked Smartphone, 64 GB Black XT1575, 5.7\" Quad HD display, 21 MP Camera, Quad-core 1.8GHz', r_ui=10.0, est=8.195121951219512, details={'actual_k': 0, 'was_impossible': False}),\n",
       " Prediction(uid='Andrew', iid='Apple iPhone 5 Unlocked Cellphone, 32GB, Black', r_ui=8.0, est=7.809106431677936, details={'actual_k': 4, 'was_impossible': False}),\n",
       " Prediction(uid='Jessica', iid='Huawei P8 Champagne / 16 GB', r_ui=9.0, est=9.311442427188188, details={'actual_k': 5, 'was_impossible': False}),\n",
       " Prediction(uid='Ð¡ÐµÑ\\x80Ð³ÐµÐ¹', iid='Sony Xperia Z1 (Ñ\\x87ÐµÑ\\x80Ð½Ñ\\x8bÐ¹)', r_ui=7.0, est=8.323132420163262, details={'actual_k': 33, 'was_impossible': False}),\n",
       " Prediction(uid='Ð¡Ð²ÐµÑ\\x82Ð»Ð°Ð½Ð°', iid='Sony Xperia L (ÐºÑ\\x80Ð°Ñ\\x81Ð½Ñ\\x8bÐ¹)', r_ui=10.0, est=9.24840581587347, details={'actual_k': 12, 'was_impossible': False}),\n",
       " Prediction(uid='Luis', iid='Samsung Galaxy S6', r_ui=8.0, est=6.034620709483496, details={'actual_k': 4, 'was_impossible': False}),\n",
       " Prediction(uid='Marco', iid='Asus ZenFone 2 Smartphone, Schermo da 5.5\" Full HD, Processore Quad Core 2,3 GHz, RAM 4 GB, 32 GB, 4G/LTE, Argento', r_ui=10.0, est=8.206379317113429, details={'actual_k': 21, 'was_impossible': False}),\n",
       " Prediction(uid='Anita', iid='Huawei P8 Lite goud, wit / 16 GB', r_ui=8.0, est=7.968936664490506, details={'actual_k': 4, 'was_impossible': False}),\n",
       " Prediction(uid='Tim', iid='APPLE iPhone 7 - Silver, 128 GB', r_ui=6.0, est=10, details={'actual_k': 1, 'was_impossible': False}),\n",
       " Prediction(uid='Ð®Ñ\\x80Ð¸Ð¹', iid='Sony Xperia SP (Ñ\\x87ÐµÑ\\x80Ð½Ñ\\x8bÐ¹)', r_ui=10.0, est=8.353003093885999, details={'actual_k': 14, 'was_impossible': False}),\n",
       " Prediction(uid='Riccardo', iid='Huawei P8 lite Smartphone, Display 5.0\" IPS, Dual Sim, Processore Octa-Core, Memoria 16 GB, Fotocamera 13 MP, Android 5.0, Bianco', r_ui=2.0, est=10, details={'actual_k': 3, 'was_impossible': False}),\n",
       " Prediction(uid='Davide', iid='Asus ZE551ML-2A760WW Smartphone ZenFone 2 Deluxe, 5.5\", 4 GB RAM, 64 GB, Intel Quad-Core Z3580, Dual SIM, Illusion Purple', r_ui=10.0, est=9.168625571225512, details={'actual_k': 10, 'was_impossible': False}),\n",
       " Prediction(uid='Kim', iid='Huawei P8 grijs / 16 GB', r_ui=9.0, est=8.525930608466323, details={'actual_k': 2, 'was_impossible': False}),\n",
       " Prediction(uid='Ð\\x9eÐ»Ñ\\x8cÐ³Ð°', iid='Samsung Galaxy S4 GT-I9500 16GB (Ñ\\x87ÐµÑ\\x80Ð½Ñ\\x8bÐ¹)', r_ui=8.0, est=8.356890418421353, details={'actual_k': 17, 'was_impossible': False}),\n",
       " Prediction(uid='Ð\\x94Ð¼Ð¸Ñ\\x82Ñ\\x80Ð¸Ð¹', iid='Sony Xperia Z (Ñ\\x87ÐµÑ\\x80Ð½Ñ\\x8bÐ¹)', r_ui=8.0, est=6.249962462424474, details={'actual_k': 33, 'was_impossible': False}),\n",
       " Prediction(uid='Paolo', iid='Asus ZenFone 2 Laser 5.5\" Smartphone, 16 GB, Dual SIM, Nero [Italia]', r_ui=10.0, est=6.166355673513103, details={'actual_k': 8, 'was_impossible': False}),\n",
       " Prediction(uid='claudia', iid='Lenovo Motorola Moto G Smartphone, 4,5 pollici display HD, processore Qualcomm, memoria 16GB, MicroSIM, Android 4.3 OS, fotocamera da 5 MP, Nero [Germania]', r_ui=10.0, est=10, details={'actual_k': 3, 'was_impossible': False}),\n",
       " Prediction(uid='Ivan', iid='Motorola Moto G (3Âª GeneraciÃ³n) + Carcasa Oficial color turquesa - Smartphone libre Android 6 (4G, pantalla 5\", cÃ¡mara 13 Mp, 16 GB, Quad Core 1.4 GHz, 2 GB de RAM), negro', r_ui=10.0, est=10, details={'actual_k': 1, 'was_impossible': False}),\n",
       " Prediction(uid='davide', iid='Samsung G935 Galaxy S7 Edge Smartphone da 32GB, Argento [Italia]', r_ui=10.0, est=9.338764711633495, details={'actual_k': 3, 'was_impossible': False}),\n",
       " Prediction(uid='Ð\\x90Ð»ÐµÐºÑ\\x81ÐµÐ¹', iid='Apple iPhone 5s 16GB (Ñ\\x81ÐµÑ\\x80Ñ\\x8bÐ¹ ÐºÐ¾Ñ\\x81Ð¼Ð¾Ñ\\x81)', r_ui=8.0, est=9.320761884025062, details={'actual_k': 37, 'was_impossible': False}),\n",
       " Prediction(uid='Petra', iid='Huawei P8lite zwart / 16 GB', r_ui=7.0, est=3.834684055178415, details={'actual_k': 2, 'was_impossible': False}),\n",
       " Prediction(uid='Amazon Customer', iid='Sony Xperia ZR (Ð±ÐµÐ»Ñ\\x8bÐ¹)', r_ui=8.0, est=6.169684918123832, details={'actual_k': 42, 'was_impossible': False}),\n",
       " Prediction(uid='Ð\\x9fÐ°Ð²ÐµÐ»', iid='Samsung N7100 Galaxy Note II 16GB (Ñ\\x81ÐµÑ\\x80Ñ\\x8bÐ¹)', r_ui=9.0, est=9.5516016627113, details={'actual_k': 19, 'was_impossible': False}),\n",
       " Prediction(uid='Michael', iid='MICROSOFT Lumia 650 - 16 GB, Black', r_ui=9.0, est=3.7374557759776774, details={'actual_k': 10, 'was_impossible': False}),\n",
       " Prediction(uid='Ð\\x90Ð»Ð¸Ð½Ð°', iid='Samsung Galaxy S4 GT-I9500 16GB (Ñ\\x87ÐµÑ\\x80Ð½Ñ\\x8bÐ¹)', r_ui=8.0, est=8.756930843211315, details={'actual_k': 5, 'was_impossible': False}),\n",
       " Prediction(uid='Ð\\x90Ð»ÐµÐºÑ\\x81Ð°Ð½Ð´Ñ\\x80', iid='Samsung N7100 Galaxy Note II 16GB (Ð±ÐµÐ»Ñ\\x8bÐ¹)', r_ui=10.0, est=8.115925671711814, details={'actual_k': 50, 'was_impossible': False}),\n",
       " Prediction(uid='Ð¢Ð°Ñ\\x82Ñ\\x8cÑ\\x8fÐ½Ð°', iid='Sony Xperia M (Ð±ÐµÐ»Ñ\\x8bÐ¹)', r_ui=5.0, est=8.584752796949093, details={'actual_k': 15, 'was_impossible': False}),\n",
       " Prediction(uid='Ð\\x9aÐ¾Ð½Ñ\\x81Ñ\\x82Ð°Ð½Ñ\\x82Ð¸Ð½', iid='Sony Xperia C (Ñ\\x84Ð¸Ð¾Ð»ÐµÑ\\x82Ð¾Ð²Ñ\\x8bÐ¹)', r_ui=8.0, est=8.596904349461878, details={'actual_k': 8, 'was_impossible': False}),\n",
       " Prediction(uid='Cliente Amazon', iid='Lenovo Motorola Moto G 4G (2 Generazione) Smartphone, Display 5 Pollici, LTE, Fotocamera 8 MP, Memoria 8 GB, Android 5 Lollipop, Nero [Italia]', r_ui=4.0, est=8.01628954706042, details={'actual_k': 14, 'was_impossible': False}),\n",
       " Prediction(uid='Amazon Customer', iid='Asus ZenFone 2 Laser Smartphone, Display da 5\", 16 GB, Dual SIM, Nero [Italia]', r_ui=10.0, est=7.929777605527124, details={'actual_k': 26, 'was_impossible': False}),\n",
       " Prediction(uid='Ð\\x9aÐ¾Ð½Ñ\\x81Ñ\\x82Ð°Ð½Ñ\\x82Ð¸Ð½', iid='Samsung Galaxy S4 GT-I9500 16GB (Ñ\\x87ÐµÑ\\x80Ð½Ñ\\x8bÐ¹)', r_ui=9.0, est=8.183776456895137, details={'actual_k': 12, 'was_impossible': False}),\n",
       " Prediction(uid='Cliente Amazon', iid='Asus ZE551ML-2A760WW Smartphone ZenFone 2 Deluxe, 5.5\", 4 GB RAM, 64 GB, Intel Quad-Core Z3580, Dual SIM, Illusion Purple', r_ui=6.0, est=5.918538020724126, details={'actual_k': 35, 'was_impossible': False}),\n",
       " Prediction(uid='A', iid='APPLE iPhone 7 - Silver, 128 GB', r_ui=10.0, est=8.39517060367454, details={'actual_k': 1, 'was_impossible': False}),\n",
       " Prediction(uid='Mike', iid='Huawei Honor 5X Unlocked Smartphone, 16GB Dark Grey (US Warranty)', r_ui=10.0, est=7.942329735720401, details={'actual_k': 4, 'was_impossible': False}),\n",
       " Prediction(uid='Ð\\x90Ð½Ð½Ð°', iid='Sony Xperia SP (ÐºÑ\\x80Ð°Ñ\\x81Ð½Ñ\\x8bÐ¹)', r_ui=9.0, est=8.330923789477698, details={'actual_k': 16, 'was_impossible': False}),\n",
       " Prediction(uid='Ð\\x9cÐ°Ñ\\x80Ð¸Ñ\\x8f', iid='Sony Xperia Z1 Compact (Ð±ÐµÐ»Ñ\\x8bÐ¹)', r_ui=8.0, est=9.045822650381558, details={'actual_k': 22, 'was_impossible': False}),\n",
       " Prediction(uid='Ð\\x94ÐµÐ½Ð¸Ñ\\x81', iid='Samsung Galaxy S5 SM-G900F 16GB (Ñ\\x87ÐµÑ\\x80Ð½Ñ\\x8bÐ¹)', r_ui=10.0, est=3.090025039008883, details={'actual_k': 28, 'was_impossible': False}),\n",
       " Prediction(uid='Samantha', iid='Lenovo Motorola Moto G Smartphone, Display HD 4,5\", Processore Qualcomm, Memoria 8 GB, MicroSIM, Android 4.4 OS, Fotocamera da 5 MP, Nero [Germania]', r_ui=10.0, est=10, details={'actual_k': 1, 'was_impossible': False}),\n",
       " Prediction(uid='AJ', iid='Sim Free Motorola Moto G 4th Generation Mobile Phone - Black', r_ui=10.0, est=9.244444444444444, details={'actual_k': 0, 'was_impossible': False}),\n",
       " Prediction(uid='Ð\\x9aÐ¾Ð½Ñ\\x81Ñ\\x82Ð°Ð½Ñ\\x82Ð¸Ð½', iid='Samsung N7100 Galaxy Note II 16GB (Ð±ÐµÐ»Ñ\\x8bÐ¹)', r_ui=9.0, est=8.810487540283697, details={'actual_k': 9, 'was_impossible': False}),\n",
       " Prediction(uid='Dennis', iid='Huawei P8lite zwart / 16 GB', r_ui=8.0, est=9.013116590991231, details={'actual_k': 5, 'was_impossible': False}),\n",
       " Prediction(uid='Eric', iid='Alcatel OneTouch Idol 3 Global Unlocked 4G LTE Smartphone, 5.5 HD IPS Display, 16GB (GSM - US Warranty)', r_ui=8.0, est=3.5539654144305297, details={'actual_k': 1, 'was_impossible': False}),\n",
       " Prediction(uid='Amazon-Kunde', iid='Sony Xperia Z1 Compact Smartphone (4,3 Zoll (10,9 cm) Touch-Display, 16 GB Speicher, Android 4.3) pink', r_ui=2.0, est=10, details={'actual_k': 1, 'was_impossible': False}),\n",
       " Prediction(uid='Amanda', iid=\"Huawei P9 Lite Smartphone, LTE, Display 5.2'' FHD, Processore Octa-Core Kirin 650, 16 GB Memoria Interna, 3GB RAM, Fotocamera 13 MP, Single-SIM, Android 6.0 Marshmallow, Bianco [Italia]\", r_ui=6.0, est=8.740157480314961, details={'actual_k': 0, 'was_impossible': False}),\n",
       " Prediction(uid='Kelly', iid='Samsung Galaxy S7 goud, roze / 32 GB', r_ui=9.0, est=9.305555555555555, details={'actual_k': 1, 'was_impossible': False}),\n",
       " Prediction(uid='Gianni', iid='Lenovo Motorola Moto G Smartphone, Display HD 4,5\", Processore Qualcomm, Memoria 8 GB, MicroSIM, Android 4.4 OS, Fotocamera da 5 MP, Nero [Germania]', r_ui=10.0, est=9.577770730433235, details={'actual_k': 2, 'was_impossible': False}),\n",
       " Prediction(uid='Danilo', iid='WIKO Fever 4G Smartphone, 16 GB, Dual SIM, Bianco', r_ui=10.0, est=8.689330885606322, details={'actual_k': 3, 'was_impossible': False}),\n",
       " Prediction(uid='Jessica', iid='Samsung Galaxy S5 Smartphone (5,1 Zoll (12,9 cm) Touch-Display, 16 GB Speicher, Android 4.4) electric blue', r_ui=4.0, est=9.940435699213129, details={'actual_k': 5, 'was_impossible': False}),\n",
       " Prediction(uid='Ð\\x92Ð»Ð°Ð´Ð¸Ñ\\x81Ð»Ð°Ð²', iid='Sony Xperia SP (Ñ\\x87ÐµÑ\\x80Ð½Ñ\\x8bÐ¹)', r_ui=10.0, est=9.684621021982409, details={'actual_k': 6, 'was_impossible': False}),\n",
       " Prediction(uid='Gianni', iid='Asus ZenFone 2 Laser Smartphone, Display da 5\", 16 GB, Dual SIM, Nero [Italia]', r_ui=10.0, est=9.528676644255656, details={'actual_k': 3, 'was_impossible': False}),\n",
       " Prediction(uid='Cristina', iid='WIKO Fever 4G Smartphone, 16 GB, Dual SIM, Bianco', r_ui=8.0, est=9.809092217681629, details={'actual_k': 3, 'was_impossible': False}),\n",
       " Prediction(uid='Ð\\x90Ð½Ð°Ñ\\x81Ñ\\x82Ð°Ñ\\x81Ð¸Ñ\\x8f', iid='Sony Xperia Z1 (Ð±ÐµÐ»Ñ\\x8bÐ¹)', r_ui=10.0, est=8.288898047672786, details={'actual_k': 21, 'was_impossible': False}),\n",
       " Prediction(uid='Matteo', iid='Lenovo Motorola Moto G 4G 3 Generazione Smartphone, Display 5\", Fotocamera 13 MP, Memoria 16 GB, Android 6 Lollipop, Nero [Italia]', r_ui=10.0, est=9.39591439257006, details={'actual_k': 6, 'was_impossible': False}),\n",
       " Prediction(uid='Andrew', iid='Alcatel OneTouch Idol 3 Global Unlocked 4G LTE Smartphone, 5.5 HD IPS Display, 16GB (GSM - US Warranty)', r_ui=2.0, est=8.0358737857609, details={'actual_k': 8, 'was_impossible': False}),\n",
       " Prediction(uid='Lee', iid='SAMSUNG Galaxy A3 (2017) - 16 GB, Black', r_ui=10.0, est=9.09550238261079, details={'actual_k': 3, 'was_impossible': False}),\n",
       " Prediction(uid='Ð\\x93Ð¾Ñ\\x81Ñ\\x82Ñ\\x8c', iid='Sony Xperia C (Ð±ÐµÐ»Ñ\\x8bÐ¹)', r_ui=10.0, est=8.179645331380033, details={'actual_k': 4, 'was_impossible': False}),\n",
       " Prediction(uid='Andrea', iid='Lenovo Motorola Moto G Smartphone, 4,5 pollici display HD, processore Qualcomm, memoria 16GB, MicroSIM, Android 4.3 OS, fotocamera da 5 MP, Nero [Germania]', r_ui=8.0, est=9.860272534101131, details={'actual_k': 17, 'was_impossible': False}),\n",
       " Prediction(uid='Ð¡Ñ\\x82Ð°Ð½Ð¸Ñ\\x81Ð»Ð°Ð²', iid='Samsung Galaxy S5 SM-G900F 16GB (Ñ\\x87ÐµÑ\\x80Ð½Ñ\\x8bÐ¹)', r_ui=10.0, est=9.74433178430019, details={'actual_k': 3, 'was_impossible': False}),\n",
       " Prediction(uid='Francesco', iid=\"Huawei P9 Lite Smartphone, LTE, Display 5.2'' FHD, Processore Octa-Core Kirin 650, 16 GB Memoria Interna, 3GB RAM, Fotocamera 13 MP, Single-SIM, Android 6.0 Marshmallow, Nero [Italia]\", r_ui=6.0, est=9.857350339003462, details={'actual_k': 11, 'was_impossible': False}),\n",
       " Prediction(uid='Ð\\x98Ð»Ñ\\x8cÑ\\x8f', iid='Sony Xperia SP (Ð±ÐµÐ»Ñ\\x8bÐ¹)', r_ui=9.0, est=8.7339069693316, details={'actual_k': 17, 'was_impossible': False}),\n",
       " Prediction(uid='Barbara', iid='Huawei P8 Lite Smartphone, Display 5\" IPS, Processore Octa-Core 1.5 GHz, Memoria Interna da 16 GB, 2 GB RAM, Fotocamera 13 MP, monoSIM, Android 5.0, Bianco [Italia]', r_ui=8.0, est=2.249507243094456, details={'actual_k': 4, 'was_impossible': False}),\n",
       " Prediction(uid='Paula', iid='APPLE iPhone 7 - Silver, 128 GB', r_ui=6.0, est=8.426666666666666, details={'actual_k': 0, 'was_impossible': False}),\n",
       " Prediction(uid='Cliente Amazon', iid='LG G4 Smartphone Display IPS 5.5\" QHD, Fotocamera 16 MP, Memoria Interna 32 GB, 3 GB RAM, Colore Marrone', r_ui=4.0, est=9.041569199148963, details={'actual_k': 23, 'was_impossible': False}),\n",
       " Prediction(uid='Ð\\x9fÐ°Ð²ÐµÐ»', iid='Apple iPhone 5s 16GB (Ñ\\x81ÐµÑ\\x80ÐµÐ±Ñ\\x80Ð¸Ñ\\x81Ñ\\x82Ñ\\x8bÐ¹)', r_ui=2.0, est=8.971797235393531, details={'actual_k': 27, 'was_impossible': False}),\n",
       " Prediction(uid='Tony', iid='Sim Free Motorola Moto G 4th Generation Mobile Phone - Black', r_ui=10.0, est=9.719002380877827, details={'actual_k': 3, 'was_impossible': False}),\n",
       " Prediction(uid='Ð¡ÐµÑ\\x80Ð³ÐµÐ¹', iid='Sony Xperia M (Ñ\\x84Ð¸Ð¾Ð»ÐµÑ\\x82Ð¾Ð²Ñ\\x8bÐ¹)', r_ui=9.0, est=9.344024650142645, details={'actual_k': 21, 'was_impossible': False}),\n",
       " Prediction(uid='Ð\\x95ÐºÐ°Ñ\\x82ÐµÑ\\x80Ð¸Ð½Ð°', iid='Samsung Galaxy S5 SM-G900F 16GB (Ð±ÐµÐ»Ñ\\x8bÐ¹)', r_ui=6.0, est=7.061873975288696, details={'actual_k': 14, 'was_impossible': False}),\n",
       " Prediction(uid='claudio', iid='Asus ZenFone 2 Laser 5.5\" Smartphone, 16 GB, Dual SIM, Nero [Italia]', r_ui=10.0, est=9.569102314832461, details={'actual_k': 5, 'was_impossible': False}),\n",
       " Prediction(uid='monica', iid='Asus ZenFone 2 Laser 5.5\" Smartphone, 16 GB, Dual SIM, Nero [Italia]', r_ui=10.0, est=8.421091445427729, details={'was_impossible': True, 'reason': 'User and/or item is unknown.'}),\n",
       " Prediction(uid='Ð\\x94Ð¼Ð¸Ñ\\x82Ñ\\x80Ð¸Ð¹', iid='Samsung Galaxy S6', r_ui=8.0, est=9.219714084102868, details={'actual_k': 39, 'was_impossible': False}),\n",
       " Prediction(uid='Sara', iid='Huawei P8 lite Smartphone, Display 5.0\" IPS, Dual Sim, Processore Octa-Core, Memoria 16 GB, Fotocamera 13 MP, Android 5.0, Bianco', r_ui=10.0, est=8.808547182293992, details={'actual_k': 5, 'was_impossible': False}),\n",
       " Prediction(uid='Anne', iid='SAMSUNG Galaxy A3 (2017) - 16 GB, Black', r_ui=9.0, est=3.4503789881896703, details={'actual_k': 1, 'was_impossible': False}),\n",
       " Prediction(uid='Sven', iid='Samsung Galaxy S7 goud, roze / 32 GB', r_ui=8.0, est=8.260204081632653, details={'actual_k': 1, 'was_impossible': False}),\n",
       " Prediction(uid='claudio', iid='Huawei P8 lite Smartphone, Display 5.0\" IPS, Dual Sim, Processore Octa-Core, Memoria 16 GB, Fotocamera 13 MP, Android 5.0, Bianco', r_ui=8.0, est=10, details={'actual_k': 2, 'was_impossible': False}),\n",
       " Prediction(uid='Linda', iid='Samsung Galaxy S7 Edge zwart / 32 GB', r_ui=9.0, est=8.123227087557504, details={'actual_k': 6, 'was_impossible': False}),\n",
       " Prediction(uid='Ð\\x9cÐ°ÐºÑ\\x81Ð¸Ð¼', iid='Samsung Galaxy S5 SM-G900F 16GB (Ñ\\x81Ð¸Ð½Ð¸Ð¹)', r_ui=5.0, est=8.18039227960844, details={'actual_k': 26, 'was_impossible': False}),\n",
       " Prediction(uid='Michele', iid='Lenovo Motorola Moto G Smartphone, 4,5 pollici display HD, processore Qualcomm, memoria 16GB, MicroSIM, Android 4.3 OS, fotocamera da 5 MP, Nero [Germania]', r_ui=8.0, est=8.049256722505252, details={'actual_k': 9, 'was_impossible': False}),\n",
       " Prediction(uid='stefano', iid='Lenovo Motorola Moto G Smartphone, 4,5 pollici display HD, processore Qualcomm, memoria 16GB, MicroSIM, Android 4.3 OS, fotocamera da 5 MP, Nero [Germania]', r_ui=10.0, est=10, details={'actual_k': 5, 'was_impossible': False}),\n",
       " Prediction(uid='claudio', iid='Lenovo Motorola Moto G 4G 3 Generazione Smartphone, Display 5\", Fotocamera 13 MP, Memoria 16 GB, Android 6 Lollipop, Nero [Italia]', r_ui=10.0, est=9.495344031114277, details={'actual_k': 2, 'was_impossible': False}),\n",
       " Prediction(uid='fabio', iid='Asus ZenFone 2 Laser 5.5\" Smartphone, 16 GB, Dual SIM, Nero [Italia]', r_ui=10.0, est=9.753520183003301, details={'actual_k': 2, 'was_impossible': False}),\n",
       " Prediction(uid='Marcel', iid='Huawei P8 Champagne / 16 GB', r_ui=8.0, est=8.004649900351671, details={'actual_k': 2, 'was_impossible': False}),\n",
       " Prediction(uid='Matteo', iid='Asus ZenFone 2 Laser 5.5\" Smartphone, 16 GB, Dual SIM, Nero [Italia]', r_ui=8.0, est=9.856938869880782, details={'actual_k': 8, 'was_impossible': False}),\n",
       " Prediction(uid='paolo', iid='Huawei Ascend P8 Smartphone, Display 5.2\" FHD, Memoria RAM da 3 GB, Processore HiSilicon Kirin 930 Octa-Core, Fotocamera Principale 13 MP, Grigio', r_ui=6.0, est=8.205419580612416, details={'actual_k': 7, 'was_impossible': False}),\n",
       " Prediction(uid='Sergio', iid='LG D802 G2 Smartphone, 16 GB, Nero [Italia]', r_ui=10.0, est=9.405804325511738, details={'actual_k': 2, 'was_impossible': False}),\n",
       " Prediction(uid='Ð\\x9cÐ°Ñ\\x80Ð¸Ñ\\x8f', iid='Sony Xperia L (ÐºÑ\\x80Ð°Ñ\\x81Ð½Ñ\\x8bÐ¹)', r_ui=10.0, est=8.588519315756734, details={'actual_k': 26, 'was_impossible': False}),\n",
       " Prediction(uid='Jeroen', iid='Samsung Galaxy S7 goud, roze / 32 GB', r_ui=8.0, est=8.108280930213162, details={'actual_k': 3, 'was_impossible': False}),\n",
       " Prediction(uid='Christian', iid='Motorola Moto G (3Âª GeneraciÃ³n) + Carcasa Oficial color turquesa - Smartphone libre Android 6 (4G, pantalla 5\", cÃ¡mara 13 Mp, 16 GB, Quad Core 1.4 GHz, 2 GB de RAM), negro', r_ui=10.0, est=10, details={'actual_k': 6, 'was_impossible': False}),\n",
       " Prediction(uid='Ð¡Ð²ÐµÑ\\x82Ð»Ð°Ð½Ð°', iid='Sony Xperia SP (Ñ\\x87ÐµÑ\\x80Ð½Ñ\\x8bÐ¹)', r_ui=9.0, est=8.233675199685045, details={'actual_k': 15, 'was_impossible': False}),\n",
       " Prediction(uid='Ð\\x9fÐ°Ð²ÐµÐ»', iid='Samsung Galaxy S4 mini Duos GT-I9192 (Ñ\\x87ÐµÑ\\x80Ð½Ñ\\x8bÐ¹)', r_ui=8.0, est=9.359199077416823, details={'actual_k': 24, 'was_impossible': False}),\n",
       " Prediction(uid='Enrico', iid='Lenovo Motorola Moto G 4G 3 Generazione Smartphone, Display 5\", Fotocamera 13 MP, Memoria 16 GB, Android 6 Lollipop, Nero [Italia]', r_ui=10.0, est=9.15267415957891, details={'actual_k': 2, 'was_impossible': False}),\n",
       " Prediction(uid='Ð®Ð»Ð¸Ñ\\x8f', iid='Sony Xperia Z (Ñ\\x87ÐµÑ\\x80Ð½Ñ\\x8bÐ¹)', r_ui=10.0, est=8.329466537557582, details={'actual_k': 16, 'was_impossible': False}),\n",
       " Prediction(uid='Bert', iid='Samsung Galaxy S7 zwart / 32 GB', r_ui=9.0, est=9.620405828851167, details={'actual_k': 6, 'was_impossible': False}),\n",
       " Prediction(uid='Ð\\x9aÐ¾Ð½Ñ\\x81Ñ\\x82Ð°Ð½Ñ\\x82Ð¸Ð½', iid='Sony Xperia C (Ñ\\x84Ð¸Ð¾Ð»ÐµÑ\\x82Ð¾Ð²Ñ\\x8bÐ¹)', r_ui=10.0, est=8.596904349461878, details={'actual_k': 8, 'was_impossible': False}),\n",
       " Prediction(uid='Ð\\x90Ð½Ð´Ñ\\x80ÐµÐ¹', iid='Sony Xperia C (Ñ\\x87ÐµÑ\\x80Ð½Ñ\\x8bÐ¹)', r_ui=8.0, est=8.20052614250782, details={'actual_k': 44, 'was_impossible': False}),\n",
       " Prediction(uid='Walter', iid='Samsung G935 Galaxy S7 Edge Smartphone da 32GB, Argento [Italia]', r_ui=10.0, est=8.119402985074627, details={'actual_k': 0, 'was_impossible': False}),\n",
       " Prediction(uid='Ð\\x94Ð¼Ð¸Ñ\\x82Ñ\\x80Ð¸Ð¹', iid='Samsung Galaxy S4 mini Duos GT-I9192 (Ñ\\x87ÐµÑ\\x80Ð½Ñ\\x8bÐ¹)', r_ui=10.0, est=7.598118144706075, details={'actual_k': 35, 'was_impossible': False}),\n",
       " Prediction(uid='George', iid='Apple iPhone 5 Unlocked Cellphone, 32GB, Black', r_ui=2.0, est=8.561866340308873, details={'actual_k': 3, 'was_impossible': False}),\n",
       " Prediction(uid='Laura', iid='APPLE iPhone 7 - Silver, 32 GB', r_ui=10.0, est=8.09768632009443, details={'actual_k': 9, 'was_impossible': False}),\n",
       " Prediction(uid='David', iid='Motorola Moto G (3Âª GeneraciÃ³n) + Carcasa Oficial color turquesa - Smartphone libre Android 6 (4G, pantalla 5\", cÃ¡mara 13 Mp, 16 GB, Quad Core 1.4 GHz, 2 GB de RAM), negro', r_ui=10.0, est=8.05448703022837, details={'actual_k': 9, 'was_impossible': False}),\n",
       " Prediction(uid='Ð¡ÐµÑ\\x80Ð³ÐµÐ¹', iid='Samsung N7100 Galaxy Note II 16GB (Ñ\\x81ÐµÑ\\x80Ñ\\x8bÐ¹)', r_ui=10.0, est=5.361085467514819, details={'actual_k': 21, 'was_impossible': False}),\n",
       " Prediction(uid='Hans', iid='Samsung Galaxy S7 Edge zwart / 32 GB', r_ui=9.0, est=8.854264741495568, details={'actual_k': 5, 'was_impossible': False}),\n",
       " Prediction(uid='Ð\\x98Ð³Ð¾Ñ\\x80Ñ\\x8c', iid='Samsung Galaxy S4 mini Duos GT-I9192 (Ñ\\x87ÐµÑ\\x80Ð½Ñ\\x8bÐ¹)', r_ui=10.0, est=8.353390673748002, details={'actual_k': 24, 'was_impossible': False}),\n",
       " Prediction(uid='Ð\\x98Ð³Ð¾Ñ\\x80Ñ\\x8c', iid='Sony Xperia Z1 Compact (Ð»Ð°Ð¹Ð¼)', r_ui=2.0, est=9.448853552804792, details={'actual_k': 18, 'was_impossible': False}),\n",
       " Prediction(uid='Ð\\x94Ð¼Ð¸Ñ\\x82Ñ\\x80Ð¸Ð¹', iid='Sony Xperia C (Ð±ÐµÐ»Ñ\\x8bÐ¹)', r_ui=9.0, est=8.701578636950055, details={'actual_k': 37, 'was_impossible': False}),\n",
       " Prediction(uid='Ð\\x90Ð»ÐµÐºÑ\\x81ÐµÐ¹', iid='Samsung Galaxy S6', r_ui=8.0, est=7.25320423492281, details={'actual_k': 37, 'was_impossible': False}),\n",
       " Prediction(uid='Rick', iid='Alcatel OneTouch Idol 3 Global Unlocked 4G LTE Smartphone, 5.5 HD IPS Display, 16GB (GSM - US Warranty)', r_ui=10.0, est=4.075275358772938, details={'actual_k': 2, 'was_impossible': False}),\n",
       " Prediction(uid='Ð\\x90Ð»ÐµÐºÑ\\x81Ð°Ð½Ð´Ñ\\x80', iid='Nokia 101 Premium Black', r_ui=8.0, est=7.108101827152989, details={'actual_k': 46, 'was_impossible': False}),\n",
       " Prediction(uid='Ð\\x92Ð»Ð°Ð´Ð¸Ð¼Ð¸Ñ\\x80', iid='Sony Xperia Z (Ð±ÐµÐ»Ñ\\x8bÐ¹)', r_ui=10.0, est=8.665706171004471, details={'actual_k': 22, 'was_impossible': False}),\n",
       " Prediction(uid='Ð\\x98Ð³Ð¾Ñ\\x80Ñ\\x8c', iid='Samsung Galaxy S6', r_ui=10.0, est=9.532898208790105, details={'actual_k': 18, 'was_impossible': False}),\n",
       " Prediction(uid='Ð\\x9eÐ»Ñ\\x8cÐ³Ð°', iid='Samsung Galaxy S5 SM-G900F 16GB (Ñ\\x87ÐµÑ\\x80Ð½Ñ\\x8bÐ¹)', r_ui=8.0, est=8.662599451685448, details={'actual_k': 15, 'was_impossible': False}),\n",
       " Prediction(uid='Karin', iid='Huawei P8lite zwart / 16 GB', r_ui=9.0, est=9.95645279455291, details={'actual_k': 4, 'was_impossible': False}),\n",
       " Prediction(uid='Ð\\x92Ð°Ñ\\x81Ð¸Ð»Ð¸Ð¹', iid='Apple iPhone 5s 16GB (Ñ\\x81ÐµÑ\\x80ÐµÐ±Ñ\\x80Ð¸Ñ\\x81Ñ\\x82Ñ\\x8bÐ¹)', r_ui=4.0, est=7.977656373068491, details={'actual_k': 9, 'was_impossible': False}),\n",
       " Prediction(uid='Michele', iid='Huawei Ascend P8 Smartphone, Display 5.2\" FHD, Memoria RAM da 3 GB, Processore HiSilicon Kirin 930 Octa-Core, Fotocamera Principale 13 MP, Grigio', r_ui=8.0, est=8.347518861256566, details={'actual_k': 11, 'was_impossible': False}),\n",
       " Prediction(uid='Ð\\x9dÐ°Ñ\\x82Ð°Ð»Ñ\\x8cÑ\\x8f', iid='Samsung Galaxy S5 SM-G900F 16GB (Ñ\\x81Ð¸Ð½Ð¸Ð¹)', r_ui=10.0, est=8.499519452708645, details={'actual_k': 11, 'was_impossible': False}),\n",
       " Prediction(uid='Ð\\x98Ð³Ð¾Ñ\\x80Ñ\\x8c', iid='Sony Xperia Z1 (Ñ\\x84Ð¸Ð¾Ð»ÐµÑ\\x82Ð¾Ð²Ñ\\x8bÐ¹)', r_ui=10.0, est=9.419145287452404, details={'actual_k': 24, 'was_impossible': False}),\n",
       " Prediction(uid='Ð\\x90Ð½Ñ\\x82Ð¾Ð½', iid='Sony Xperia C (Ñ\\x84Ð¸Ð¾Ð»ÐµÑ\\x82Ð¾Ð²Ñ\\x8bÐ¹)', r_ui=7.0, est=8.399742331978372, details={'actual_k': 17, 'was_impossible': False}),\n",
       " Prediction(uid='Ð\\x92Ð»Ð°Ð´', iid='Samsung N7100 Galaxy Note II 16GB (Ð±ÐµÐ»Ñ\\x8bÐ¹)', r_ui=9.0, est=7.264939413471916, details={'actual_k': 9, 'was_impossible': False}),\n",
       " Prediction(uid='Ð\\x95Ð»ÐµÐ½Ð°', iid='Sony Xperia L (Ð±ÐµÐ»Ñ\\x8bÐ¹)', r_ui=10.0, est=8.151516799415539, details={'actual_k': 12, 'was_impossible': False}),\n",
       " Prediction(uid='Ð\\x98Ð³Ð¾Ñ\\x80Ñ\\x8c', iid='Sony Xperia ZR (Ñ\\x87ÐµÑ\\x80Ð½Ñ\\x8bÐ¹)', r_ui=9.0, est=8.183410718183284, details={'actual_k': 17, 'was_impossible': False}),\n",
       " Prediction(uid='Rob', iid='Huawei P8 Champagne / 16 GB', r_ui=9.0, est=8.799879321007564, details={'actual_k': 5, 'was_impossible': False}),\n",
       " Prediction(uid='Anna', iid='Samsung Galaxy S7 goud, roze / 32 GB', r_ui=8.0, est=8.99830706351197, details={'actual_k': 6, 'was_impossible': False}),\n",
       " Prediction(uid='Luca', iid='Lenovo Motorola Moto E Smartphone, Display 4.3 pollici qHD, Processore Qualcomm Dual-Core 1.2GHz, Memoria 4GB, 1GB RAM, Fotocamera 5MP, Android 4.4.2 KitKat, Bluetooth, WiFi, Bianco [Spagna]', r_ui=10.0, est=8.074970364464885, details={'actual_k': 11, 'was_impossible': False}),\n",
       " Prediction(uid='simone', iid='Samsung Galaxy J5 Smartphone, Oro [Italia]', r_ui=10.0, est=9.977606412911394, details={'actual_k': 4, 'was_impossible': False}),\n",
       " Prediction(uid='Ð\\x92Ð¸Ñ\\x82Ð°Ð»Ð¸Ð¹', iid='Samsung N7100 Galaxy Note II 16GB (Ð±ÐµÐ»Ñ\\x8bÐ¹)', r_ui=10.0, est=9.017128424389757, details={'actual_k': 12, 'was_impossible': False}),\n",
       " Prediction(uid='Ð\\x90Ð½Ð½Ð°', iid='Sony Xperia Z (Ñ\\x87ÐµÑ\\x80Ð½Ñ\\x8bÐ¹)', r_ui=9.0, est=6.922766088314353, details={'actual_k': 12, 'was_impossible': False}),\n",
       " Prediction(uid='rahul', iid='Samsung Galaxy S6', r_ui=10.0, est=8.421091445427729, details={'was_impossible': True, 'reason': 'User and/or item is unknown.'}),\n",
       " Prediction(uid='Marc', iid='Samsung Galaxy Ace S5830 Smartphone (8,9 cm (3,5 Zoll) Display, Touchscreen, Android OS, 5 Megapixel Kamera) weiÃ\\x9f', r_ui=8.0, est=6.919225941457522, details={'actual_k': 2, 'was_impossible': False}),\n",
       " Prediction(uid='Ð\\x90Ð½Ð´Ñ\\x80ÐµÐ¹', iid='Sony Xperia M (Ñ\\x87ÐµÑ\\x80Ð½Ñ\\x8bÐ¹)', r_ui=8.0, est=8.845044447757225, details={'actual_k': 24, 'was_impossible': False}),\n",
       " Prediction(uid='thomas', iid='Samsung G935 Galaxy S7 Edge Smartphone da 32GB, Argento [Italia]', r_ui=10.0, est=8.119402985074627, details={'actual_k': 0, 'was_impossible': False}),\n",
       " Prediction(uid='Ð\\xa0Ð¾Ð¼Ð°Ð½', iid='Apple iPhone 5s 16GB (Ñ\\x81ÐµÑ\\x80ÐµÐ±Ñ\\x80Ð¸Ñ\\x81Ñ\\x82Ñ\\x8bÐ¹)', r_ui=9.0, est=9.41397401927854, details={'actual_k': 22, 'was_impossible': False}),\n",
       " Prediction(uid='Ð¡ÐµÑ\\x80Ð³ÐµÐ¹', iid='Sony Xperia Z1 (Ñ\\x87ÐµÑ\\x80Ð½Ñ\\x8bÐ¹)', r_ui=10.0, est=8.323132420163262, details={'actual_k': 33, 'was_impossible': False}),\n",
       " Prediction(uid='Matteo', iid='Lenovo Motorola Moto G 4G (2 Generazione) Smartphone, Display 5 Pollici, LTE, Fotocamera 8 MP, Memoria 8 GB, Android 5 Lollipop, Nero [Italia]', r_ui=8.0, est=9.473300935404326, details={'actual_k': 3, 'was_impossible': False}),\n",
       " Prediction(uid='Cliente Amazon', iid='Lenovo Motorola Moto E Smartphone, Display 4.3 pollici qHD, Processore Qualcomm Dual-Core 1.2GHz, Memoria 4GB, 1GB RAM, Fotocamera 5MP, Android 4.4.2 KitKat, Bluetooth, WiFi, Bianco [Spagna]', r_ui=2.0, est=7.188298593376228, details={'actual_k': 29, 'was_impossible': False}),\n",
       " Prediction(uid='Paolo', iid=\"Huawei P9 Lite Smartphone, LTE, Display 5.2'' FHD, Processore Octa-Core Kirin 650, 16 GB Memoria Interna, 3GB RAM, Fotocamera 13 MP, Single-SIM, Android 6.0 Marshmallow, Bianco [Italia]\", r_ui=2.0, est=7.833974220548894, details={'actual_k': 10, 'was_impossible': False}),\n",
       " Prediction(uid='David', iid='Apple iPhone 5s GSM Unlocked Cellphone, 16 GB, Space Gray', r_ui=10.0, est=2.4662823201370943, details={'actual_k': 10, 'was_impossible': False}),\n",
       " Prediction(uid='Alessandra', iid='Asus ZenFone 2 Smartphone, Schermo da 5.5\" Full HD, Processore Quad Core 2,3 GHz, RAM 4 GB, 32 GB, 4G/LTE, Argento', r_ui=10.0, est=6.198012133729186, details={'actual_k': 2, 'was_impossible': False}),\n",
       " Prediction(uid='Dani', iid='Samsung Galaxy S7 Edge zwart / 32 GB', r_ui=10.0, est=6.740272101073678, details={'actual_k': 2, 'was_impossible': False}),\n",
       " Prediction(uid='Valentina', iid='Lenovo Motorola Moto G 4G (2 Generazione) Smartphone, Display 5 Pollici, LTE, Fotocamera 8 MP, Memoria 8 GB, Android 5 Lollipop, Nero [Italia]', r_ui=8.0, est=9.296042617960426, details={'actual_k': 1, 'was_impossible': False}),\n",
       " Prediction(uid='Cliente Amazon', iid='Lenovo Motorola Moto E Smartphone, Display 4.3 pollici qHD, Processore Qualcomm Dual-Core 1.2GHz, Memoria 4GB, 1GB RAM, Fotocamera 5MP, Android 4.4.2 KitKat, Bluetooth, WiFi, Bianco [Spagna]', r_ui=8.0, est=7.188298593376228, details={'actual_k': 29, 'was_impossible': False}),\n",
       " Prediction(uid='Carlo', iid='Lenovo Motorola Moto G 4G 3 Generazione Smartphone, Display 5\", Fotocamera 13 MP, Memoria 16 GB, Android 6 Lollipop, Nero [Italia]', r_ui=10.0, est=7.585806638146519, details={'actual_k': 5, 'was_impossible': False}),\n",
       " Prediction(uid='Ð\\x90Ñ\\x80Ñ\\x82ÐµÐ¼', iid='Sony Xperia Z1 Compact (Ð»Ð°Ð¹Ð¼)', r_ui=9.0, est=9.697310730552633, details={'actual_k': 15, 'was_impossible': False}),\n",
       " Prediction(uid='Dave', iid='Huawei P8 Lite wit / 16 GB', r_ui=9.0, est=9.358482787054216, details={'actual_k': 1, 'was_impossible': False}),\n",
       " Prediction(uid='Ð\\x95Ð³Ð¾Ñ\\x80', iid='Apple iPhone 5s 16GB (Ñ\\x81ÐµÑ\\x80ÐµÐ±Ñ\\x80Ð¸Ñ\\x81Ñ\\x82Ñ\\x8bÐ¹)', r_ui=10.0, est=8.569019297836096, details={'actual_k': 10, 'was_impossible': False}),\n",
       " Prediction(uid='Ð\\x94Ð¼Ð¸Ñ\\x82Ñ\\x80Ð¸Ð¹', iid='Samsung Galaxy S5 SM-G900F 16GB (Ñ\\x87ÐµÑ\\x80Ð½Ñ\\x8bÐ¹)', r_ui=3.0, est=6.534520068335111, details={'actual_k': 35, 'was_impossible': False}),\n",
       " Prediction(uid='Alfredo', iid='Huawei P8 Lite Smartphone, Display 5\" IPS, Processore Octa-Core 1.5 GHz, Memoria Interna da 16 GB, 2 GB RAM, Fotocamera 13 MP, monoSIM, Android 5.0, Bianco [Italia]', r_ui=10.0, est=10, details={'actual_k': 1, 'was_impossible': False}),\n",
       " Prediction(uid='Alex', iid='Huawei P8lite zwart / 16 GB', r_ui=10.0, est=9.165331363924743, details={'actual_k': 12, 'was_impossible': False}),\n",
       " Prediction(uid='Ð\\x98Ð³Ð¾Ñ\\x80Ñ\\x8c', iid='Sony Xperia SP (Ð±ÐµÐ»Ñ\\x8bÐ¹)', r_ui=7.0, est=8.860557912137903, details={'actual_k': 25, 'was_impossible': False}),\n",
       " Prediction(uid='Ð¡Ð²ÐµÑ\\x82Ð»Ð°Ð½Ð°', iid='Sony Xperia Z1 Compact (Ñ\\x80Ð¾Ð·Ð¾Ð²Ñ\\x8bÐ¹)', r_ui=10.0, est=9.280217594470175, details={'actual_k': 16, 'was_impossible': False}),\n",
       " Prediction(uid='Christine', iid='SAMSUNG Galaxy A3 (2017) - 16 GB, Black', r_ui=8.0, est=8.728664752332708, details={'actual_k': 6, 'was_impossible': False}),\n",
       " Prediction(uid='Guido', iid='Lenovo Motorola Moto G 4G (2 Generazione) Smartphone, Display 5 Pollici, LTE, Fotocamera 8 MP, Memoria 8 GB, Android 5 Lollipop, Nero [Italia]', r_ui=2.0, est=8.019972897163711, details={'actual_k': 4, 'was_impossible': False}),\n",
       " Prediction(uid='Amazon Customer', iid='Sony Xperia ZR (Ð±ÐµÐ»Ñ\\x8bÐ¹)', r_ui=9.0, est=6.169684918123832, details={'actual_k': 42, 'was_impossible': False}),\n",
       " Prediction(uid='Ð¡ÐµÑ\\x80Ð³ÐµÐ¹', iid='Sony Xperia Z1 (Ð±ÐµÐ»Ñ\\x8bÐ¹)', r_ui=10.0, est=7.4624508307663024, details={'actual_k': 29, 'was_impossible': False}),\n",
       " Prediction(uid='Ð°Ð½Ð´Ñ\\x80ÐµÐ¹', iid='Sony Xperia Z1 (Ñ\\x87ÐµÑ\\x80Ð½Ñ\\x8bÐ¹)', r_ui=10.0, est=9.73287217517287, details={'actual_k': 11, 'was_impossible': False}),\n",
       " Prediction(uid='Ð\\x9dÐ°Ð´ÐµÐ¶Ð´Ð°', iid='Apple iPhone 5s 16GB (Ñ\\x81ÐµÑ\\x80ÐµÐ±Ñ\\x80Ð¸Ñ\\x81Ñ\\x82Ñ\\x8bÐ¹)', r_ui=9.0, est=8.557697606151969, details={'actual_k': 10, 'was_impossible': False}),\n",
       " Prediction(uid='Lisa', iid='Samsung Galaxy Centura Android Prepaid Phone (TracFone)', r_ui=2.0, est=9.959723278384928, details={'actual_k': 3, 'was_impossible': False}),\n",
       " Prediction(uid='Ð\\x9cÐ¸Ñ\\x85Ð°Ð¸Ð»', iid='Sony Xperia SP (ÐºÑ\\x80Ð°Ñ\\x81Ð½Ñ\\x8bÐ¹)', r_ui=9.0, est=8.881929875410224, details={'actual_k': 22, 'was_impossible': False}),\n",
       " Prediction(uid='Anna', iid='Apple iPhone 5s GSM Unlocked Cellphone, 16 GB, Space Gray', r_ui=10.0, est=6.429885592122892, details={'actual_k': 7, 'was_impossible': False}),\n",
       " Prediction(uid='Ð\\xa0Ð¾Ð¼Ð°Ð½', iid='Sony Xperia SP (Ñ\\x87ÐµÑ\\x80Ð½Ñ\\x8bÐ¹)', r_ui=9.0, est=7.463311695218943, details={'actual_k': 21, 'was_impossible': False}),\n",
       " Prediction(uid='Luigi', iid='Huawei P8 Lite Smartphone, Display 5\" IPS, Processore Octa-Core 1.5 GHz, Memoria Interna da 16 GB, 2 GB RAM, Fotocamera 13 MP, monoSIM, Android 5.0, Bianco [Italia]', r_ui=10.0, est=9.332450268666332, details={'actual_k': 2, 'was_impossible': False}),\n",
       " Prediction(uid='Amazon Kunde', iid='Samsung Galaxy S3 mini (GT-I8200) Smartphone (4 Zoll (10,2 cm) Touch-Display, 8 GB Speicher, Android 4.2) blau', r_ui=2.0, est=8.033366351219868, details={'actual_k': 4, 'was_impossible': False}),\n",
       " Prediction(uid='Ð¯Ð½Ð°', iid='Apple iPhone 5s 16GB (Ñ\\x81ÐµÑ\\x80ÐµÐ±Ñ\\x80Ð¸Ñ\\x81Ñ\\x82Ñ\\x8bÐ¹)', r_ui=10.0, est=8.457376290316033, details={'actual_k': 4, 'was_impossible': False}),\n",
       " Prediction(uid='Riccardo', iid='Asus ZenFone 2 Laser Smartphone, Display da 5\", 16 GB, Dual SIM, Nero [Italia]', r_ui=10.0, est=8.380534662667687, details={'actual_k': 3, 'was_impossible': False}),\n",
       " Prediction(uid='Ð\\x9aÑ\\x81ÐµÐ½Ð¸Ñ\\x8f', iid='Samsung Galaxy A3', r_ui=10.0, est=9.042114272688188, details={'actual_k': 4, 'was_impossible': False}),\n",
       " Prediction(uid='massimo', iid='Asus ZenFone 2 Laser Smartphone, Display da 5\", 16 GB, Dual SIM, Nero [Italia]', r_ui=10.0, est=2.565867837072452, details={'actual_k': 6, 'was_impossible': False}),\n",
       " Prediction(uid='Ð\\x90Ð½Ð°Ñ\\x81Ñ\\x82Ð°Ñ\\x81Ð¸Ñ\\x8f', iid='Samsung Galaxy S4 GT-I9500 16GB (Ð±ÐµÐ»Ñ\\x8bÐ¹)', r_ui=10.0, est=8.821903732291343, details={'actual_k': 15, 'was_impossible': False}),\n",
       " Prediction(uid='Ð\\x98Ð²Ð°Ð½', iid='Sony Xperia C (Ñ\\x84Ð¸Ð¾Ð»ÐµÑ\\x82Ð¾Ð²Ñ\\x8bÐ¹)', r_ui=7.0, est=8.018135423319219, details={'actual_k': 21, 'was_impossible': False}),\n",
       " Prediction(uid='monica', iid=\"Huawei P9 Lite Smartphone, LTE, Display 5.2'' FHD, Processore Octa-Core Kirin 650, 16 GB Memoria Interna, 3GB RAM, Fotocamera 13 MP, Single-SIM, Android 6.0 Marshmallow, Bianco [Italia]\", r_ui=8.0, est=8.421091445427729, details={'was_impossible': True, 'reason': 'User and/or item is unknown.'}),\n",
       " Prediction(uid='Ð\\x95Ð³Ð¾Ñ\\x80', iid='Apple iPhone 5s 16GB (Ñ\\x81ÐµÑ\\x80ÐµÐ±Ñ\\x80Ð¸Ñ\\x81Ñ\\x82Ñ\\x8bÐ¹)', r_ui=5.0, est=8.569019297836096, details={'actual_k': 10, 'was_impossible': False}),\n",
       " Prediction(uid='Ð¡Ð²ÐµÑ\\x82Ð»Ð°Ð½Ð°', iid='Samsung N7100 Galaxy Note II 16GB (Ñ\\x81ÐµÑ\\x80Ñ\\x8bÐ¹)', r_ui=9.0, est=9.834206395832913, details={'actual_k': 10, 'was_impossible': False}),\n",
       " Prediction(uid='Franco', iid='Huawei P8 Lite Smartphone, Display 5\" IPS, Processore Octa-Core 1.5 GHz, Memoria Interna da 16 GB, 2 GB RAM, Fotocamera 13 MP, monoSIM, Android 5.0, Bianco [Italia]', r_ui=10.0, est=6.975940507436571, details={'actual_k': 1, 'was_impossible': False}),\n",
       " Prediction(uid='Ð\\x94Ð°Ñ\\x80Ñ\\x8cÑ\\x8f', iid='Samsung Galaxy S4 mini Duos GT-I9192 (Ñ\\x87ÐµÑ\\x80Ð½Ñ\\x8bÐ¹)', r_ui=9.0, est=8.846472094436807, details={'actual_k': 9, 'was_impossible': False}),\n",
       " Prediction(uid='andrea', iid='Lenovo Motorola Moto G Smartphone, 4,5 pollici display HD, processore Qualcomm, memoria 16GB, MicroSIM, Android 4.3 OS, fotocamera da 5 MP, Nero [Germania]', r_ui=10.0, est=10, details={'actual_k': 3, 'was_impossible': False}),\n",
       " Prediction(uid='Michel', iid='Huawei P8lite zwart / 16 GB', r_ui=8.0, est=9.0, details={'actual_k': 1, 'was_impossible': False}),\n",
       " Prediction(uid='Ð¡Ñ\\x82Ð°Ð½Ð¸Ñ\\x81Ð»Ð°Ð²', iid='Sony Xperia Z (Ð±ÐµÐ»Ñ\\x8bÐ¹)', r_ui=6.0, est=7.957071728985452, details={'actual_k': 5, 'was_impossible': False}),\n",
       " Prediction(uid='Ð\\x90Ð½Ð´Ñ\\x80ÐµÐ¹', iid='Sony Xperia L (ÐºÑ\\x80Ð°Ñ\\x81Ð½Ñ\\x8bÐ¹)', r_ui=8.0, est=8.51808149715972, details={'actual_k': 31, 'was_impossible': False}),\n",
       " Prediction(uid='Ð\\x90Ð½Ð´Ñ\\x80ÐµÐ¹', iid='Apple iPhone 5s 16GB (Ñ\\x81ÐµÑ\\x80ÐµÐ±Ñ\\x80Ð¸Ñ\\x81Ñ\\x82Ñ\\x8bÐ¹)', r_ui=9.0, est=7.941672901314135, details={'actual_k': 32, 'was_impossible': False}),\n",
       " Prediction(uid='Ð\\x9dÐ°Ñ\\x82Ð°Ð»Ñ\\x8cÑ\\x8f', iid='Samsung Galaxy S4 mini Duos GT-I9192 (Ñ\\x87ÐµÑ\\x80Ð½Ñ\\x8bÐ¹)', r_ui=10.0, est=8.524147371110901, details={'actual_k': 21, 'was_impossible': False}),\n",
       " Prediction(uid='Cristina', iid='Huawei Honor 5X Unlocked Smartphone, 16GB Dark Grey (US Warranty)', r_ui=8.0, est=9.777492785364467, details={'actual_k': 5, 'was_impossible': False}),\n",
       " Prediction(uid='Luca', iid='Huawei P8 lite Smartphone, Display 5.0\" IPS, Dual Sim, Processore Octa-Core, Memoria 16 GB, Fotocamera 13 MP, Android 5.0, Bianco', r_ui=2.0, est=7.943321398350518, details={'actual_k': 10, 'was_impossible': False}),\n",
       " Prediction(uid='Ð¢Ð°Ñ\\x82Ñ\\x8cÑ\\x8fÐ½Ð°', iid='Sony Xperia C (Ñ\\x87ÐµÑ\\x80Ð½Ñ\\x8bÐ¹)', r_ui=6.0, est=8.084454780988256, details={'actual_k': 29, 'was_impossible': False}),\n",
       " Prediction(uid='Ð¡Ð°Ñ\\x88Ð°', iid='Nokia 101 Premium Black', r_ui=10.0, est=8.332480197945092, details={'actual_k': 3, 'was_impossible': False}),\n",
       " Prediction(uid='Ð\\x94Ð¸Ð¼Ð°', iid='Apple iPhone 5s 16GB (Ñ\\x81ÐµÑ\\x80ÐµÐ±Ñ\\x80Ð¸Ñ\\x81Ñ\\x82Ñ\\x8bÐ¹)', r_ui=7.0, est=9.97231399493167, details={'actual_k': 9, 'was_impossible': False}),\n",
       " Prediction(uid='Ð\\x90Ñ\\x80Ñ\\x82ÐµÐ¼', iid='Sony Xperia Z (Ñ\\x87ÐµÑ\\x80Ð½Ñ\\x8bÐ¹)', r_ui=10.0, est=8.067704806987653, details={'actual_k': 14, 'was_impossible': False}),\n",
       " Prediction(uid='Ð\\x92Ð»Ð°Ð´Ð¸Ð¼Ð¸Ñ\\x80', iid='Samsung Galaxy S4 GT-I9500 16GB (Ð±ÐµÐ»Ñ\\x8bÐ¹)', r_ui=7.0, est=7.069025831394842, details={'actual_k': 27, 'was_impossible': False}),\n",
       " Prediction(uid='Lorenzo', iid='Sim Free Motorola Moto G 4th Generation Mobile Phone - Black', r_ui=10.0, est=7.7392763844763115, details={'actual_k': 5, 'was_impossible': False}),\n",
       " Prediction(uid='Ronald', iid='SAMSUNG Galaxy A3 (2017) - 16 GB, Black', r_ui=1.0, est=9.058192741672787, details={'actual_k': 6, 'was_impossible': False}),\n",
       " Prediction(uid='Ð\\x9dÐ¸ÐºÐ¸Ñ\\x82Ð°', iid='Samsung Galaxy A3', r_ui=8.0, est=9.73140234355682, details={'actual_k': 10, 'was_impossible': False}),\n",
       " Prediction(uid='Alex', iid='Lenovo Motorola Moto G Smartphone, 4,5 pollici display HD, processore Qualcomm, memoria 16GB, MicroSIM, Android 4.3 OS, fotocamera da 5 MP, Nero [Germania]', r_ui=10.0, est=4.505420257161724, details={'actual_k': 14, 'was_impossible': False}),\n",
       " Prediction(uid='sam', iid='Huawei P8lite zwart / 16 GB', r_ui=8.0, est=8.442307692307692, details={'actual_k': 0, 'was_impossible': False}),\n",
       " Prediction(uid='Ð\\x9dÐ¸ÐºÐ¸Ñ\\x82Ð°', iid='Samsung Galaxy S5 SM-G900F 16GB (Ð·Ð¾Ð»Ð¾Ñ\\x82Ð¸Ñ\\x81Ñ\\x82Ñ\\x8bÐ¹)', r_ui=10.0, est=8.588243961509804, details={'actual_k': 12, 'was_impossible': False}),\n",
       " Prediction(uid='Ð\\x9cÐ°Ñ\\x80Ð¸Ñ\\x8f', iid='Sony Xperia C (Ñ\\x87ÐµÑ\\x80Ð½Ñ\\x8bÐ¹)', r_ui=9.0, est=8.513181065450759, details={'actual_k': 26, 'was_impossible': False}),\n",
       " Prediction(uid='Alessandro', iid='Lenovo Motorola Moto G LTE Smartphone, Display 4.5\", Fotocamera 5 MP, Memoria 8 GB, Quad-Core 1.2 GHz, 1 GB RAM, Micro SD, Android 4.4.3, Bianco [Italia]', r_ui=10.0, est=6.742353646910308, details={'actual_k': 10, 'was_impossible': False}),\n",
       " Prediction(uid='Ð\\x92Ð»Ð°Ð´Ð¸Ñ\\x81Ð»Ð°Ð²', iid='Sony Xperia Z (Ð±ÐµÐ»Ñ\\x8bÐ¹)', r_ui=10.0, est=9.581871693874655, details={'actual_k': 10, 'was_impossible': False}),\n",
       " Prediction(uid='Anita', iid='APPLE iPhone 6s Plus - 128 GB, Rose Gold', r_ui=10.0, est=8.52961730922918, details={'actual_k': 4, 'was_impossible': False}),\n",
       " Prediction(uid='Ð\\x94Ð¼Ð¸Ñ\\x82Ñ\\x80Ð¸Ð¹', iid='Sony Xperia Z1 Compact (Ð»Ð°Ð¹Ð¼)', r_ui=9.0, est=8.933013093102932, details={'actual_k': 40, 'was_impossible': False}),\n",
       " Prediction(uid='Ð\\x98Ð³Ð¾Ñ\\x80Ñ\\x8c', iid='Sony Xperia M (Ñ\\x84Ð¸Ð¾Ð»ÐµÑ\\x82Ð¾Ð²Ñ\\x8bÐ¹)', r_ui=9.0, est=9.25419853732583, details={'actual_k': 13, 'was_impossible': False}),\n",
       " Prediction(uid='Paolo', iid='Huawei P8 Lite Smartphone, Display 5\" IPS, Processore Octa-Core 1.5 GHz, Memoria Interna da 16 GB, 2 GB RAM, Fotocamera 13 MP, monoSIM, Android 5.0, Bianco [Italia]', r_ui=8.0, est=9.61901674357405, details={'actual_k': 7, 'was_impossible': False}),\n",
       " Prediction(uid='Ð¢Ð°Ñ\\x82Ñ\\x8cÑ\\x8fÐ½Ð°', iid='Sony Xperia M (Ñ\\x84Ð¸Ð¾Ð»ÐµÑ\\x82Ð¾Ð²Ñ\\x8bÐ¹)', r_ui=9.0, est=7.885923600419574, details={'actual_k': 20, 'was_impossible': False}),\n",
       " Prediction(uid='David', iid='Samsung Galaxy S7 goud, roze / 32 GB', r_ui=10.0, est=9.655270335142514, details={'actual_k': 8, 'was_impossible': False}),\n",
       " Prediction(uid='Peter', iid='Samsung Galaxy S7 Edge zwart / 32 GB', r_ui=10.0, est=8.080651605118904, details={'actual_k': 9, 'was_impossible': False}),\n",
       " Prediction(uid='Barbara', iid=\"Huawei P9 Lite Smartphone, LTE, Display 5.2'' FHD, Processore Octa-Core Kirin 650, 16 GB Memoria Interna, 3GB RAM, Fotocamera 13 MP, Single-SIM, Android 6.0 Marshmallow, Nero [Italia]\", r_ui=10.0, est=5.835630369084106, details={'actual_k': 4, 'was_impossible': False}),\n",
       " Prediction(uid='Ð\\x92Ð»Ð°Ð´Ð¸Ð¼Ð¸Ñ\\x80', iid='Samsung Galaxy S4 GT-I9500 16GB (Ñ\\x87ÐµÑ\\x80Ð½Ñ\\x8bÐ¹)', r_ui=8.0, est=6.629318036953064, details={'actual_k': 28, 'was_impossible': False}),\n",
       " Prediction(uid='Kevin', iid='SAMSUNG Galaxy A3 (2017) - 16 GB, Black', r_ui=7.0, est=8.977761196621874, details={'actual_k': 7, 'was_impossible': False}),\n",
       " Prediction(uid='Laura', iid='APPLE iPhone 7 - Silver, 128 GB', r_ui=9.0, est=8.223264347159956, details={'actual_k': 6, 'was_impossible': False}),\n",
       " Prediction(uid='Ð\\x9dÐ¸ÐºÐ¸Ñ\\x82Ð°', iid='Sony Xperia SP (Ð±ÐµÐ»Ñ\\x8bÐ¹)', r_ui=10.0, est=9.049246744322115, details={'actual_k': 14, 'was_impossible': False}),\n",
       " Prediction(uid='Ð\\x9cÐ¸Ñ\\x85Ð°Ð¸Ð»', iid='Samsung Galaxy S4 mini Duos GT-I9192 (Ð±ÐµÐ»Ñ\\x8bÐ¹)', r_ui=2.0, est=8.744957836967309, details={'actual_k': 23, 'was_impossible': False}),\n",
       " Prediction(uid='Anna', iid='Asus ZenFone 2 Laser 5.5\" Smartphone, 16 GB, Dual SIM, Nero [Italia]', r_ui=8.0, est=8.509116728905232, details={'actual_k': 8, 'was_impossible': False}),\n",
       " Prediction(uid='tony', iid='Huawei P8 Lite wit / 16 GB', r_ui=9.0, est=9.02762368706486, details={'actual_k': 2, 'was_impossible': False}),\n",
       " Prediction(uid='Ð\\x90Ð½Ð½Ð°', iid='Sony Xperia L (Ñ\\x87ÐµÑ\\x80Ð½Ñ\\x8bÐ¹)', r_ui=5.0, est=7.07963056765961, details={'actual_k': 9, 'was_impossible': False}),\n",
       " Prediction(uid='Ð\\x9eÐ»ÐµÐ³', iid='Sony Xperia M (Ñ\\x87ÐµÑ\\x80Ð½Ñ\\x8bÐ¹)', r_ui=10.0, est=9.502271655762787, details={'actual_k': 11, 'was_impossible': False}),\n",
       " Prediction(uid='Enrico', iid='Lenovo Motorola Moto G Smartphone, 4,5 pollici display HD, processore Qualcomm, memoria 16GB, MicroSIM, Android 4.3 OS, fotocamera da 5 MP, Nero [Germania]', r_ui=8.0, est=9.993638137447839, details={'actual_k': 3, 'was_impossible': False}),\n",
       " Prediction(uid='Roberto', iid='Huawei Y6 Smartphone, Display 5.0\" HD, IPS, 2 GB RAM, 8 GB Memoria Interna, Dual SIM, Fotocamera 8 MP, Android 5.1, Nero', r_ui=8.0, est=7.406117666087605, details={'actual_k': 6, 'was_impossible': False}),\n",
       " Prediction(uid='Alessandro', iid='LG G4 Smartphone Display IPS 5.5\" QHD, Fotocamera 16 MP, Memoria Interna 32 GB, 3 GB RAM, Colore Marrone', r_ui=8.0, est=6.376140609211797, details={'actual_k': 11, 'was_impossible': False}),\n",
       " Prediction(uid='Marina', iid=\"Huawei P9 Lite Smartphone, LTE, Display 5.2'' FHD, Processore Octa-Core Kirin 650, 16 GB Memoria Interna, 3GB RAM, Fotocamera 13 MP, Single-SIM, Android 6.0 Marshmallow, Nero [Italia]\", r_ui=10.0, est=9.572485666603088, details={'actual_k': 2, 'was_impossible': False}),\n",
       " Prediction(uid='Ð\\x95Ð»ÐµÐ½Ð°', iid='Sony Xperia M (Ñ\\x84Ð¸Ð¾Ð»ÐµÑ\\x82Ð¾Ð²Ñ\\x8bÐ¹)', r_ui=3.0, est=5.797036293744196, details={'actual_k': 12, 'was_impossible': False}),\n",
       " Prediction(uid='Peter', iid='APPLE iPhone 7 - Silver, 128 GB', r_ui=8.0, est=8.821444954509255, details={'actual_k': 6, 'was_impossible': False}),\n",
       " Prediction(uid='Roger', iid='MICROSOFT Lumia 650 - 16 GB, Black', r_ui=3.0, est=7.54962101181033, details={'actual_k': 1, 'was_impossible': False}),\n",
       " Prediction(uid='Ð\\x92Ð¸ÐºÑ\\x82Ð¾Ñ\\x80Ð¸Ñ\\x8f', iid='Sony Xperia L (ÐºÑ\\x80Ð°Ñ\\x81Ð½Ñ\\x8bÐ¹)', r_ui=10.0, est=8.923342701771054, details={'actual_k': 16, 'was_impossible': False}),\n",
       " Prediction(uid='Ð¡ÐµÑ\\x80Ð³ÐµÐ¹', iid='Samsung Galaxy S5 SM-G900F 16GB (Ð±ÐµÐ»Ñ\\x8bÐ¹)', r_ui=9.0, est=7.520069279593726, details={'actual_k': 28, 'was_impossible': False}),\n",
       " Prediction(uid='Ð®Ð»Ð¸Ñ\\x8f', iid='Sony Xperia C (Ñ\\x87ÐµÑ\\x80Ð½Ñ\\x8bÐ¹)', r_ui=10.0, est=8.64460463535354, details={'actual_k': 26, 'was_impossible': False}),\n",
       " Prediction(uid='Ð\\x92Ð¸ÐºÑ\\x82Ð¾Ñ\\x80Ð¸Ñ\\x8f', iid='Sony Xperia J (Ñ\\x87ÐµÑ\\x80Ð½Ñ\\x8bÐ¹)', r_ui=9.0, est=8.00704950265652, details={'actual_k': 16, 'was_impossible': False}),\n",
       " Prediction(uid='Ð¡Ð²ÐµÑ\\x82Ð»Ð°Ð½Ð°', iid='Sony Xperia C (Ñ\\x87ÐµÑ\\x80Ð½Ñ\\x8bÐ¹)', r_ui=8.0, est=8.859202113889635, details={'actual_k': 17, 'was_impossible': False}),\n",
       " Prediction(uid='Ð\\xa0Ð¾Ð¼Ð°Ð½', iid='Samsung Galaxy S4 mini Duos GT-I9192 (Ð±ÐµÐ»Ñ\\x8bÐ¹)', r_ui=8.0, est=4.688401686733188, details={'actual_k': 28, 'was_impossible': False}),\n",
       " Prediction(uid='Ð\\x92Ð»Ð°Ð´Ð¸Ñ\\x81Ð»Ð°Ð²', iid='Sony Xperia Z1 (Ñ\\x84Ð¸Ð¾Ð»ÐµÑ\\x82Ð¾Ð²Ñ\\x8bÐ¹)', r_ui=9.0, est=9.968649752014322, details={'actual_k': 9, 'was_impossible': False}),\n",
       " Prediction(uid='Ð\\x94Ð°Ñ\\x80Ñ\\x8cÑ\\x8f', iid='Sony Xperia C (Ð±ÐµÐ»Ñ\\x8bÐ¹)', r_ui=9.0, est=8.61500741304965, details={'actual_k': 15, 'was_impossible': False}),\n",
       " Prediction(uid='Gabriele', iid='WIKO Fever 4G Smartphone, 16 GB, Dual SIM, Bianco', r_ui=10.0, est=9.296785236848743, details={'actual_k': 4, 'was_impossible': False}),\n",
       " Prediction(uid='Andrea', iid=\"Huawei P9 Lite Smartphone, LTE, Display 5.2'' FHD, Processore Octa-Core Kirin 650, 16 GB Memoria Interna, 3GB RAM, Fotocamera 13 MP, Single-SIM, Android 6.0 Marshmallow, Nero [Italia]\", r_ui=8.0, est=7.790414365071233, details={'actual_k': 17, 'was_impossible': False}),\n",
       " Prediction(uid='Luca', iid='Huawei P8 lite Smartphone, Display 5.0\" IPS, Dual Sim, Processore Octa-Core, Memoria 16 GB, Fotocamera 13 MP, Android 5.0, Bianco', r_ui=4.0, est=7.943321398350518, details={'actual_k': 10, 'was_impossible': False}),\n",
       " Prediction(uid='Ð\\x9cÐ°ÐºÑ\\x81Ð¸Ð¼', iid='Samsung Galaxy S4 mini Duos GT-I9192 (Ñ\\x87ÐµÑ\\x80Ð½Ñ\\x8bÐ¹)', r_ui=8.0, est=9.357708956666999, details={'actual_k': 26, 'was_impossible': False}),\n",
       " Prediction(uid='Giovanni', iid='Huawei P8 lite Smartphone, Display 5.0\" IPS, Dual Sim, Processore Octa-Core, Memoria 16 GB, Fotocamera 13 MP, Android 5.0, Bianco', r_ui=8.0, est=9.752884348209424, details={'actual_k': 9, 'was_impossible': False}),\n",
       " Prediction(uid='unknown', iid='Sony Xperia Z1 Compact (Ñ\\x87ÐµÑ\\x80Ð½Ñ\\x8bÐ¹)', r_ui=9.0, est=8.867950512985251, details={'actual_k': 2, 'was_impossible': False}),\n",
       " Prediction(uid='Chris', iid='APPLE iPhone 7 - Silver, 128 GB', r_ui=6.0, est=6.529854405313634, details={'actual_k': 4, 'was_impossible': False}),\n",
       " Prediction(uid='Simone', iid='Asus ZE551ML-2A760WW Smartphone ZenFone 2 Deluxe, 5.5\", 4 GB RAM, 64 GB, Intel Quad-Core Z3580, Dual SIM, Illusion Purple', r_ui=8.0, est=8.792507889340985, details={'actual_k': 8, 'was_impossible': False}),\n",
       " Prediction(uid='Ð\\x95Ð»ÐµÐ½Ð°', iid='Sony Xperia Z (Ð±ÐµÐ»Ñ\\x8bÐ¹)', r_ui=9.0, est=8.929617451142953, details={'actual_k': 22, 'was_impossible': False}),\n",
       " Prediction(uid='Patricia', iid='Samsung Galaxy S7 Edge goud / 32 GB', r_ui=8.0, est=10, details={'actual_k': 3, 'was_impossible': False}),\n",
       " Prediction(uid='Anthony', iid='APPLE iPhone 7 - Silver, 128 GB', r_ui=8.0, est=8.426666666666666, details={'actual_k': 0, 'was_impossible': False}),\n",
       " Prediction(uid='Rob', iid='Huawei P8 Lite goud, wit / 16 GB', r_ui=9.0, est=8.559447573729619, details={'actual_k': 6, 'was_impossible': False}),\n",
       " Prediction(uid='Alan', iid='APPLE iPhone 6s Plus - 128 GB, Rose Gold', r_ui=10.0, est=10, details={'actual_k': 6, 'was_impossible': False}),\n",
       " Prediction(uid='Patrick', iid='Huawei P8lite zwart / 16 GB', r_ui=9.0, est=6.7619885224945175, details={'actual_k': 3, 'was_impossible': False}),\n",
       " Prediction(uid='Tim', iid='Samsung Galaxy S7 Edge zwart / 32 GB', r_ui=9.0, est=5.8279519050577875, details={'actual_k': 2, 'was_impossible': False}),\n",
       " Prediction(uid='Enrico', iid='Lenovo Motorola Moto G 4G (2 Generazione) Smartphone, Display 5 Pollici, LTE, Fotocamera 8 MP, Memoria 8 GB, Android 5 Lollipop, Nero [Italia]', r_ui=2.0, est=8.88470258344588, details={'actual_k': 4, 'was_impossible': False}),\n",
       " Prediction(uid='Ð\\x9cÐ°ÐºÑ\\x81Ð¸Ð¼', iid='Sony Xperia Z1 (Ð±ÐµÐ»Ñ\\x8bÐ¹)', r_ui=9.0, est=7.162226873282542, details={'actual_k': 29, 'was_impossible': False}),\n",
       " Prediction(uid='Ð\\x90Ð»ÐµÐºÑ\\x81Ð°Ð½Ð´Ñ\\x80', iid='Apple iPhone 5s 16GB (Ñ\\x81ÐµÑ\\x80ÐµÐ±Ñ\\x80Ð¸Ñ\\x81Ñ\\x82Ñ\\x8bÐ¹)', r_ui=7.0, est=7.1129639180423805, details={'actual_k': 38, 'was_impossible': False}),\n",
       " Prediction(uid='Danny', iid='Motorola Moto X Pure Edition Unlocked Smartphone, 64 GB Black XT1575, 5.7\" Quad HD display, 21 MP Camera, Quad-core 1.8GHz', r_ui=10.0, est=7.659986729662065, details={'actual_k': 3, 'was_impossible': False}),\n",
       " Prediction(uid='Tom', iid='APPLE iPhone 7 - Silver, 32 GB', r_ui=10.0, est=7.6101403257054665, details={'actual_k': 3, 'was_impossible': False}),\n",
       " Prediction(uid='Ryan', iid='APPLE iPhone 7 - Silver, 32 GB', r_ui=10.0, est=2.1699138562811715, details={'actual_k': 3, 'was_impossible': False}),\n",
       " Prediction(uid='Ð\\x94Ð¼Ð¸Ñ\\x82Ñ\\x80Ð¸Ð¹', iid='Sony Xperia Z (Ð±ÐµÐ»Ñ\\x8bÐ¹)', r_ui=7.0, est=7.956850437556695, details={'actual_k': 36, 'was_impossible': False}),\n",
       " Prediction(uid='Ð\\x90Ð»ÐµÐºÑ\\x81Ð°Ð½Ð´Ñ\\x80', iid='Sony Xperia L (Ð±ÐµÐ»Ñ\\x8bÐ¹)', r_ui=7.0, est=8.383597027938555, details={'actual_k': 27, 'was_impossible': False}),\n",
       " Prediction(uid='Laura', iid='Samsung Galaxy S7 Edge zwart / 32 GB', r_ui=8.0, est=6.198305692731672, details={'actual_k': 5, 'was_impossible': False}),\n",
       " Prediction(uid='Ð\\x90Ð½Ð°Ñ\\x81Ñ\\x82Ð°Ñ\\x81Ð¸Ñ\\x8f', iid='Sony Xperia J (Ñ\\x87ÐµÑ\\x80Ð½Ñ\\x8bÐ¹)', r_ui=9.0, est=7.636337776970448, details={'actual_k': 17, 'was_impossible': False}),\n",
       " Prediction(uid='Ð\\x94ÐµÐ½Ð¸Ñ\\x81', iid='Samsung Galaxy S4 mini Duos GT-I9192 (Ð±ÐµÐ»Ñ\\x8bÐ¹)', r_ui=10.0, est=8.423389658642101, details={'actual_k': 31, 'was_impossible': False}),\n",
       " Prediction(uid='Amazon Customer', iid='Samsung Galaxy S4 mini Duos GT-I9192 (Ð±ÐµÐ»Ñ\\x8bÐ¹)', r_ui=5.0, est=6.783801289467821, details={'actual_k': 50, 'was_impossible': False}),\n",
       " Prediction(uid='Claudia', iid='Samsung Galaxy S7 Edge zwart / 32 GB', r_ui=10.0, est=8.730321045265782, details={'actual_k': 5, 'was_impossible': False}),\n",
       " Prediction(uid='Ð\\x94Ð¸Ð¼Ð°', iid='Sony Xperia SP (Ð±ÐµÐ»Ñ\\x8bÐ¹)', r_ui=8.0, est=9.324319485883777, details={'actual_k': 7, 'was_impossible': False}),\n",
       " Prediction(uid='Salvatore', iid='Lenovo Motorola Moto G Smartphone, 4,5 pollici display HD, processore Qualcomm, memoria 16GB, MicroSIM, Android 4.3 OS, fotocamera da 5 MP, Nero [Germania]', r_ui=10.0, est=7.863177509206873, details={'actual_k': 4, 'was_impossible': False}),\n",
       " Prediction(uid='Ð\\x94Ð¼Ð¸Ñ\\x82Ñ\\x80Ð¸Ð¹', iid='Sony Xperia J (Ñ\\x87ÐµÑ\\x80Ð½Ñ\\x8bÐ¹)', r_ui=8.0, est=6.5059599986458085, details={'actual_k': 42, 'was_impossible': False}),\n",
       " Prediction(uid='Laura', iid='Lenovo Motorola Moto G 4G (2 Generazione) Smartphone, Display 5 Pollici, LTE, Fotocamera 8 MP, Memoria 8 GB, Android 5 Lollipop, Nero [Italia]', r_ui=10.0, est=8.575150529392618, details={'actual_k': 8, 'was_impossible': False}),\n",
       " Prediction(uid='Barbara', iid='Lenovo Motorola Moto G LTE Smartphone, Display 4.5\", Fotocamera 5 MP, Memoria 8 GB, Quad-Core 1.2 GHz, 1 GB RAM, Micro SD, Android 4.4.3, Bianco [Italia]', r_ui=8.0, est=6.210164432998038, details={'actual_k': 4, 'was_impossible': False}),\n",
       " Prediction(uid='Markus', iid='Samsung Galaxy S3 mini (GT-I8200) Smartphone (4 Zoll (10,2 cm) Touch-Display, 8 GB Speicher, Android 4.2) blau', r_ui=10.0, est=8.0, details={'actual_k': 1, 'was_impossible': False}),\n",
       " Prediction(uid='Giorgio', iid='Lenovo Motorola Moto G Smartphone, Display HD 4,5\", Processore Qualcomm, Memoria 8 GB, MicroSIM, Android 4.4 OS, Fotocamera da 5 MP, Nero [Germania]', r_ui=10.0, est=9.568913843870213, details={'actual_k': 5, 'was_impossible': False}),\n",
       " Prediction(uid='Daniel', iid='Huawei P8 Lite wit / 16 GB', r_ui=8.0, est=7.8364832307998515, details={'actual_k': 11, 'was_impossible': False}),\n",
       " Prediction(uid='John', iid='Samsung Galaxy S7 goud, roze / 32 GB', r_ui=8.0, est=7.912901699138503, details={'actual_k': 13, 'was_impossible': False}),\n",
       " Prediction(uid='Ð\\x9dÐ¸ÐºÐ¸Ñ\\x82Ð°', iid='Sony Xperia ZR (Ñ\\x87ÐµÑ\\x80Ð½Ñ\\x8bÐ¹)', r_ui=8.0, est=9.394943497404633, details={'actual_k': 22, 'was_impossible': False}),\n",
       " Prediction(uid='Ð\\x95Ð²Ð³ÐµÐ½Ð¸Ð¹', iid='Sony Xperia L (Ð±ÐµÐ»Ñ\\x8bÐ¹)', r_ui=10.0, est=8.620372355848845, details={'actual_k': 9, 'was_impossible': False}),\n",
       " Prediction(uid='Adrian', iid='Samsung Galaxy S6', r_ui=10.0, est=7.676715103919641, details={'actual_k': 3, 'was_impossible': False}),\n",
       " Prediction(uid='David', iid='APPLE iPhone 6s Plus - 128 GB, Rose Gold', r_ui=10.0, est=10, details={'actual_k': 10, 'was_impossible': False}),\n",
       " Prediction(uid='Kevin', iid='Samsung Galaxy Centura Android Prepaid Phone (TracFone)', r_ui=4.0, est=7.224416832304806, details={'actual_k': 5, 'was_impossible': False}),\n",
       " Prediction(uid='Marco', iid='Huawei Ascend P8 Smartphone, Display 5.2\" FHD, Memoria RAM da 3 GB, Processore HiSilicon Kirin 930 Octa-Core, Fotocamera Principale 13 MP, Grigio', r_ui=8.0, est=9.830981910632213, details={'actual_k': 12, 'was_impossible': False}),\n",
       " Prediction(uid='Ð\\x94Ð¼Ð¸Ñ\\x82Ñ\\x80Ð¸Ð¹', iid='Sony Xperia Z1 (Ñ\\x87ÐµÑ\\x80Ð½Ñ\\x8bÐ¹)', r_ui=8.0, est=7.7310274825004885, details={'actual_k': 43, 'was_impossible': False}),\n",
       " Prediction(uid='Ð\\x94Ð¼Ð¸Ñ\\x82Ñ\\x80Ð¸Ð¹', iid='Samsung Galaxy S4 mini Duos GT-I9192 (Ñ\\x87ÐµÑ\\x80Ð½Ñ\\x8bÐ¹)', r_ui=9.0, est=7.598118144706075, details={'actual_k': 35, 'was_impossible': False}),\n",
       " Prediction(uid='Ð\\x9eÐ»ÐµÐ³', iid='Sony Xperia Z1 Compact (Ð»Ð°Ð¹Ð¼)', r_ui=10.0, est=8.82834935646356, details={'actual_k': 18, 'was_impossible': False}),\n",
       " Prediction(uid='Ð\\x90Ð½Ñ\\x82Ð¾Ð½', iid='Sony Xperia SP (Ñ\\x87ÐµÑ\\x80Ð½Ñ\\x8bÐ¹)', r_ui=9.0, est=8.12066956413651, details={'actual_k': 14, 'was_impossible': False}),\n",
       " Prediction(uid='Jane', iid='Huawei P8 Lite wit / 16 GB', r_ui=8.0, est=8.489795918367347, details={'actual_k': 0, 'was_impossible': False}),\n",
       " Prediction(uid='mario', iid='Alcatel One Touch 20-04G Telefono Cellulare, Nero', r_ui=10.0, est=8.340031084559694, details={'actual_k': 3, 'was_impossible': False}),\n",
       " Prediction(uid='Ð\\x92Ð°Ð´Ð¸Ð¼', iid='Samsung N7100 Galaxy Note II 16GB (Ñ\\x81ÐµÑ\\x80Ñ\\x8bÐ¹)', r_ui=9.0, est=8.209011009995637, details={'actual_k': 6, 'was_impossible': False}),\n",
       " Prediction(uid='Melanie', iid='Samsung Galaxy S7 Edge goud / 32 GB', r_ui=9.0, est=8.857142857142858, details={'actual_k': 0, 'was_impossible': False}),\n",
       " Prediction(uid='Ð\\x9eÐ»Ñ\\x8cÐ³Ð°', iid='Apple iPhone 5s 16GB (Ñ\\x81ÐµÑ\\x80ÐµÐ±Ñ\\x80Ð¸Ñ\\x81Ñ\\x82Ñ\\x8bÐ¹)', r_ui=8.0, est=9.436309438756087, details={'actual_k': 20, 'was_impossible': False}),\n",
       " Prediction(uid='Ð\\x95ÐºÐ°Ñ\\x82ÐµÑ\\x80Ð¸Ð½Ð°', iid='Sony Xperia Z1 (Ñ\\x87ÐµÑ\\x80Ð½Ñ\\x8bÐ¹)', r_ui=10.0, est=8.472696057426862, details={'actual_k': 25, 'was_impossible': False}),\n",
       " Prediction(uid='Ð\\x92Ð°Ð´Ð¸Ð¼', iid='Sony Xperia Z1 Compact (Ñ\\x80Ð¾Ð·Ð¾Ð²Ñ\\x8bÐ¹)', r_ui=8.0, est=8.760148261240392, details={'actual_k': 9, 'was_impossible': False}),\n",
       " Prediction(uid='Ð\\xa0Ñ\\x83Ñ\\x81Ð»Ð°Ð½', iid='Apple iPhone 5s 16GB (Ñ\\x81ÐµÑ\\x80ÐµÐ±Ñ\\x80Ð¸Ñ\\x81Ñ\\x82Ñ\\x8bÐ¹)', r_ui=10.0, est=9.58990298704801, details={'actual_k': 7, 'was_impossible': False}),\n",
       " Prediction(uid='Ð¢Ð°Ñ\\x82Ñ\\x8cÑ\\x8fÐ½Ð°', iid='Sony Xperia C (Ñ\\x87ÐµÑ\\x80Ð½Ñ\\x8bÐ¹)', r_ui=10.0, est=8.084454780988256, details={'actual_k': 29, 'was_impossible': False}),\n",
       " Prediction(uid='Kevin', iid='APPLE iPhone 7 - Silver, 128 GB', r_ui=10.0, est=9.91446738620064, details={'actual_k': 2, 'was_impossible': False}),\n",
       " Prediction(uid='Ð¡ÐµÑ\\x80Ð³ÐµÐ¹', iid='Sony Xperia C (Ð±ÐµÐ»Ñ\\x8bÐ¹)', r_ui=9.0, est=8.06069615494727, details={'actual_k': 29, 'was_impossible': False}),\n",
       " Prediction(uid='Rene', iid='Huawei P8lite zwart / 16 GB', r_ui=8.0, est=9.075199600426167, details={'actual_k': 4, 'was_impossible': False}),\n",
       " Prediction(uid='Nicola', iid='Huawei P8 Lite Smartphone, Display 5\" IPS, Processore Octa-Core 1.5 GHz, Memoria Interna da 16 GB, 2 GB RAM, Fotocamera 13 MP, monoSIM, Android 5.0, Bianco [Italia]', r_ui=10.0, est=8.03480994018076, details={'actual_k': 5, 'was_impossible': False}),\n",
       " Prediction(uid='James', iid='Huawei P8 Lite Smartphone, Display 5\" IPS, Processore Octa-Core 1.5 GHz, Memoria Interna da 16 GB, 2 GB RAM, Fotocamera 13 MP, monoSIM, Android 5.0, Bianco [Italia]', r_ui=8.0, est=7.333110070653657, details={'actual_k': 2, 'was_impossible': False}),\n",
       " Prediction(uid='Paul', iid='APPLE iPhone 7 - Silver, 32 GB', r_ui=5.0, est=7.9362144257560345, details={'actual_k': 6, 'was_impossible': False}),\n",
       " Prediction(uid='Ð\\x95Ð²Ð³ÐµÐ½Ð¸Ð¹', iid='Sony Xperia SP (ÐºÑ\\x80Ð°Ñ\\x81Ð½Ñ\\x8bÐ¹)', r_ui=10.0, est=8.559951236988141, details={'actual_k': 18, 'was_impossible': False}),\n",
       " Prediction(uid='Simone', iid='Samsung G935 Galaxy S7 Edge Smartphone da 32GB, Argento [Italia]', r_ui=10.0, est=4.758143645917576, details={'actual_k': 3, 'was_impossible': False}),\n",
       " Prediction(uid='Ð\\x92Ð¸Ñ\\x82Ð°Ð»Ð¸Ð¹', iid='Samsung Galaxy S5 SM-G900F 16GB (Ñ\\x81Ð¸Ð½Ð¸Ð¹)', r_ui=9.0, est=7.726647624434222, details={'actual_k': 15, 'was_impossible': False}),\n",
       " Prediction(uid='Jorge', iid='Apple iPhone 5s GSM Unlocked Cellphone, 16 GB, Space Gray', r_ui=10.0, est=9.1416561580496, details={'actual_k': 1, 'was_impossible': False}),\n",
       " Prediction(uid='Ð\\x94ÐµÐ½Ð¸Ñ\\x81', iid='Sony Xperia L (Ð±ÐµÐ»Ñ\\x8bÐ¹)', r_ui=8.0, est=8.675919054435935, details={'actual_k': 14, 'was_impossible': False}),\n",
       " Prediction(uid='Ð\\x92Ð¸ÐºÑ\\x82Ð¾Ñ\\x80', iid='Sony Xperia L (Ð±ÐµÐ»Ñ\\x8bÐ¹)', r_ui=9.0, est=9.353642913336136, details={'actual_k': 10, 'was_impossible': False}),\n",
       " Prediction(uid='Ð\\x94Ð¼Ð¸Ñ\\x82Ñ\\x80Ð¸Ð¹', iid='Sony Xperia L (ÐºÑ\\x80Ð°Ñ\\x81Ð½Ñ\\x8bÐ¹)', r_ui=9.0, est=8.305832888330881, details={'actual_k': 33, 'was_impossible': False}),\n",
       " Prediction(uid='Ð\\x92Ð»Ð°Ð´Ð¸Ð¼Ð¸Ñ\\x80', iid='Samsung Galaxy A3', r_ui=6.0, est=8.01751958257877, details={'actual_k': 15, 'was_impossible': False}),\n",
       " Prediction(uid='Massimiliano', iid='LG G4 Smartphone Display IPS 5.5\" QHD, Fotocamera 16 MP, Memoria Interna 32 GB, 3 GB RAM, Colore Marrone', r_ui=6.0, est=9.813371692440032, details={'actual_k': 6, 'was_impossible': False}),\n",
       " Prediction(uid='Ð\\x90Ð½Ñ\\x82Ð¾Ð½', iid='Sony Xperia SP (Ñ\\x87ÐµÑ\\x80Ð½Ñ\\x8bÐ¹)', r_ui=7.0, est=8.12066956413651, details={'actual_k': 14, 'was_impossible': False}),\n",
       " Prediction(uid='Aaron', iid='Samsung Galaxy Centura Android Prepaid Phone (TracFone)', r_ui=10.0, est=6.85, details={'actual_k': 0, 'was_impossible': False}),\n",
       " Prediction(uid='Cliente Amazon', iid='Asus ZenFone 2 Laser Smartphone, Display da 5\", 16 GB, Dual SIM, Nero [Italia]', r_ui=8.0, est=5.648157913143893, details={'actual_k': 27, 'was_impossible': False}),\n",
       " Prediction(uid='Amazon Customer', iid='Motorola Moto X Pure Edition Unlocked Smartphone, 64 GB Black XT1575, 5.7\" Quad HD display, 21 MP Camera, Quad-core 1.8GHz', r_ui=8.0, est=8.028241156277648, details={'actual_k': 30, 'was_impossible': False}),\n",
       " Prediction(uid='alberto', iid='Huawei Ascend P8 Smartphone, Display 5.2\" FHD, Memoria RAM da 3 GB, Processore HiSilicon Kirin 930 Octa-Core, Fotocamera Principale 13 MP, Grigio', r_ui=8.0, est=10, details={'actual_k': 3, 'was_impossible': False}),\n",
       " Prediction(uid='Ð\\x90Ð»ÐµÐºÑ\\x81Ð°Ð½Ð´Ñ\\x80', iid='Sony Xperia Z (Ð±ÐµÐ»Ñ\\x8bÐ¹)', r_ui=9.0, est=6.320814813962425, details={'actual_k': 36, 'was_impossible': False}),\n",
       " Prediction(uid='Paul', iid='APPLE iPhone 7 - Silver, 32 GB', r_ui=9.0, est=7.9362144257560345, details={'actual_k': 6, 'was_impossible': False}),\n",
       " Prediction(uid='Chris', iid='Huawei P8 Lite wit / 16 GB', r_ui=8.0, est=6.447512043456406, details={'actual_k': 6, 'was_impossible': False}),\n",
       " Prediction(uid='Amazon Customer', iid='Samsung Galaxy S4 mini Duos GT-I9192 (Ð±ÐµÐ»Ñ\\x8bÐ¹)', r_ui=9.0, est=6.783801289467821, details={'actual_k': 50, 'was_impossible': False}),\n",
       " Prediction(uid='Carol', iid='MICROSOFT Lumia 650 - 16 GB, Black', r_ui=9.0, est=8.0, details={'actual_k': 1, 'was_impossible': False}),\n",
       " Prediction(uid='Melanie', iid='MICROSOFT Lumia 650 - 16 GB, Black', r_ui=10.0, est=7.834167334619568, details={'actual_k': 4, 'was_impossible': False}),\n",
       " Prediction(uid='Lorenzo', iid='Samsung Galaxy A5 2016 Smartphone LTE, 16GB, Nero', r_ui=8.0, est=7.114379084967321, details={'actual_k': 3, 'was_impossible': False}),\n",
       " Prediction(uid='Alessio', iid='Lenovo Motorola Moto G LTE Smartphone, Display 4.5\", Fotocamera 5 MP, Memoria 8 GB, Quad-Core 1.2 GHz, 1 GB RAM, Micro SD, Android 4.4.3, Bianco [Italia]', r_ui=10.0, est=8.236132040170338, details={'actual_k': 8, 'was_impossible': False}),\n",
       " Prediction(uid='Ð\\x90Ð½Ð°Ñ\\x81Ñ\\x82Ð°Ñ\\x81Ð¸Ñ\\x8f', iid='Sony Xperia L (Ð±ÐµÐ»Ñ\\x8bÐ¹)', r_ui=8.0, est=8.756847458435086, details={'actual_k': 15, 'was_impossible': False}),\n",
       " Prediction(uid='Ð\\x90Ð»ÐµÐºÑ\\x81ÐµÐ¹', iid='Samsung Galaxy S4 GT-I9500 16GB (Ñ\\x87ÐµÑ\\x80Ð½Ñ\\x8bÐ¹)', r_ui=6.0, est=7.444058224730248, details={'actual_k': 41, 'was_impossible': False}),\n",
       " Prediction(uid='Ð\\x90Ð»ÐµÐºÑ\\x81ÐµÐ¹', iid='Samsung Galaxy A3', r_ui=6.0, est=8.355837033359114, details={'actual_k': 20, 'was_impossible': False}),\n",
       " Prediction(uid='Jeff', iid='Motorola Moto X Pure Edition Unlocked Smartphone, 64 GB Black XT1575, 5.7\" Quad HD display, 21 MP Camera, Quad-core 1.8GHz', r_ui=10.0, est=8.195121951219512, details={'actual_k': 0, 'was_impossible': False}),\n",
       " Prediction(uid='Michele', iid='LG G4 Smartphone Display IPS 5.5\" QHD, Fotocamera 16 MP, Memoria Interna 32 GB, 3 GB RAM, Colore Marrone', r_ui=10.0, est=9.114796527597573, details={'actual_k': 6, 'was_impossible': False}),\n",
       " Prediction(uid='Ð\\x9aÐ¸Ñ\\x80Ð¸Ð»Ð»', iid='Sony Xperia L (ÐºÑ\\x80Ð°Ñ\\x81Ð½Ñ\\x8bÐ¹)', r_ui=10.0, est=9.01561457519474, details={'actual_k': 15, 'was_impossible': False}),\n",
       " Prediction(uid='francesco', iid='Lenovo Motorola Moto G Smartphone, Display HD 4,5\", Processore Qualcomm, Memoria 8 GB, MicroSIM, Android 4.4 OS, Fotocamera da 5 MP, Nero [Germania]', r_ui=10.0, est=10, details={'actual_k': 2, 'was_impossible': False}),\n",
       " Prediction(uid='Rachel', iid='APPLE iPhone 7 - Silver, 32 GB', r_ui=8.0, est=8.828066861943086, details={'actual_k': 3, 'was_impossible': False}),\n",
       " Prediction(uid='matteo', iid='Asus ZenFone 2 Smartphone, Schermo da 5.5\" Full HD, Processore Quad Core 2,3 GHz, RAM 4 GB, 32 GB, 4G/LTE, Argento', r_ui=10.0, est=9.17508907764007, details={'actual_k': 5, 'was_impossible': False}),\n",
       " Prediction(uid='Charles', iid='Motorola Moto X Pure Edition Unlocked Smartphone, 64 GB Black XT1575, 5.7\" Quad HD display, 21 MP Camera, Quad-core 1.8GHz', r_ui=10.0, est=7.978627105858688, details={'actual_k': 1, 'was_impossible': False}),\n",
       " Prediction(uid='Ð\\x95Ð²Ð³ÐµÐ½Ð¸Ð¹', iid='Samsung N7100 Galaxy Note II 16GB (Ð±ÐµÐ»Ñ\\x8bÐ¹)', r_ui=9.0, est=9.66549634127104, details={'actual_k': 20, 'was_impossible': False}),\n",
       " Prediction(uid='Diana', iid='Samsung Galaxy Centura Android Prepaid Phone (TracFone)', r_ui=8.0, est=6.85, details={'actual_k': 0, 'was_impossible': False}),\n",
       " Prediction(uid='Ð\\x90Ð½Ð½Ð°', iid='Sony Xperia L (Ñ\\x87ÐµÑ\\x80Ð½Ñ\\x8bÐ¹)', r_ui=9.0, est=7.07963056765961, details={'actual_k': 9, 'was_impossible': False}),\n",
       " Prediction(uid='Cliente Amazon', iid='Asus ZenFone 2 Laser Smartphone, Display da 5\", 16 GB, Dual SIM, Nero [Italia]', r_ui=6.0, est=5.648157913143893, details={'actual_k': 27, 'was_impossible': False}),\n",
       " Prediction(uid='Ð\\x90Ð½Ñ\\x82Ð¾Ð½', iid='Apple iPhone 5s 16GB (Ñ\\x81ÐµÑ\\x80ÐµÐ±Ñ\\x80Ð¸Ñ\\x81Ñ\\x82Ñ\\x8bÐ¹)', r_ui=2.0, est=9.374903082558072, details={'actual_k': 22, 'was_impossible': False}),\n",
       " Prediction(uid='Ð\\x9dÐ¸ÐºÐ¸Ñ\\x82Ð°', iid='Sony Xperia ZR (Ð±ÐµÐ»Ñ\\x8bÐ¹)', r_ui=8.0, est=9.418449378250427, details={'actual_k': 16, 'was_impossible': False}),\n",
       " Prediction(uid='Ð\\x9aÑ\\x81ÐµÐ½Ð¸Ñ\\x8f', iid='Sony Xperia Z1 Compact (Ð»Ð°Ð¹Ð¼)', r_ui=10.0, est=9.209893396616598, details={'actual_k': 9, 'was_impossible': False}),\n",
       " Prediction(uid='Ann', iid='MICROSOFT Lumia 650 - 16 GB, Black', r_ui=10.0, est=7.996318550276376, details={'actual_k': 2, 'was_impossible': False}),\n",
       " Prediction(uid='MM Reviews', iid='LG G4 Smartphone Display IPS 5.5\" QHD, Fotocamera 16 MP, Memoria Interna 32 GB, 3 GB RAM, Colore Marrone', r_ui=10.0, est=8.0, details={'actual_k': 0, 'was_impossible': False}),\n",
       " Prediction(uid='Alessandro', iid=\"Huawei P9 Lite Smartphone, LTE, Display 5.2'' FHD, Processore Octa-Core Kirin 650, 16 GB Memoria Interna, 3GB RAM, Fotocamera 13 MP, Single-SIM, Android 6.0 Marshmallow, Bianco [Italia]\", r_ui=4.0, est=9.045631848356948, details={'actual_k': 11, 'was_impossible': False}),\n",
       " Prediction(uid='Max', iid='Huawei P8 grijs / 16 GB', r_ui=9.0, est=9.73075202040812, details={'actual_k': 3, 'was_impossible': False}),\n",
       " Prediction(uid='Peter', iid='APPLE iPhone 7 - Silver, 128 GB', r_ui=10.0, est=8.821444954509255, details={'actual_k': 6, 'was_impossible': False}),\n",
       " Prediction(uid='Kunde', iid='Sony Xperia Z1 Compact Smartphone (4,3 Zoll (10,9 cm) Touch-Display, 16 GB Speicher, Android 4.3) pink', r_ui=2.0, est=6.651162790697675, details={'actual_k': 0, 'was_impossible': False}),\n",
       " Prediction(uid='Ann', iid='Apple iPhone 5s GSM Unlocked Cellphone, 16 GB, Space Gray', r_ui=10.0, est=8.458579234972678, details={'actual_k': 1, 'was_impossible': False}),\n",
       " Prediction(uid='Richard', iid='Huawei P8 Champagne / 16 GB - Overzicht', r_ui=9.0, est=9.24395162184962, details={'actual_k': 3, 'was_impossible': False}),\n",
       " Prediction(uid='Klaus', iid='Samsung Galaxy S5 Smartphone (5,1 Zoll (12,9 cm) Touch-Display, 16 GB Speicher, Android 4.4) electric blue', r_ui=10.0, est=8.041666666666666, details={'actual_k': 0, 'was_impossible': False}),\n",
       " Prediction(uid='Ð®Ð»Ð¸Ñ\\x8f', iid='Sony Xperia Z1 (Ñ\\x84Ð¸Ð¾Ð»ÐµÑ\\x82Ð¾Ð²Ñ\\x8bÐ¹)', r_ui=10.0, est=9.223291202384866, details={'actual_k': 22, 'was_impossible': False}),\n",
       " Prediction(uid='Ð\\x90Ð»ÐµÐºÑ\\x81Ð°Ð½Ð´Ñ\\x80', iid='Samsung Galaxy S5 SM-G900F 16GB (Ð·Ð¾Ð»Ð¾Ñ\\x82Ð¸Ñ\\x81Ñ\\x82Ñ\\x8bÐ¹)', r_ui=9.0, est=7.244366548098858, details={'actual_k': 26, 'was_impossible': False}),\n",
       " Prediction(uid='Massimo', iid='Alcatel One Touch 20-04G Telefono Cellulare, Nero', r_ui=8.0, est=9.92448280428475, details={'actual_k': 4, 'was_impossible': False}),\n",
       " Prediction(uid='Vincenzo', iid='Lenovo Motorola Moto G Smartphone, Display HD 4,5\", Processore Qualcomm, Memoria 8 GB, MicroSIM, Android 4.4 OS, Fotocamera da 5 MP, Nero [Germania]', r_ui=8.0, est=10, details={'actual_k': 2, 'was_impossible': False}),\n",
       " Prediction(uid='Elena', iid='Huawei P8 Lite Smartphone, Display 5\" IPS, Processore Octa-Core 1.5 GHz, Memoria Interna da 16 GB, 2 GB RAM, Fotocamera 13 MP, monoSIM, Android 5.0, Bianco [Italia]', r_ui=4.0, est=8.018097658964413, details={'actual_k': 7, 'was_impossible': False}),\n",
       " Prediction(uid='Ð®Ð»Ð¸Ñ\\x8f', iid='Sony Xperia Z1 Compact (Ñ\\x80Ð¾Ð·Ð¾Ð²Ñ\\x8bÐ¹)', r_ui=10.0, est=9.023788261454227, details={'actual_k': 20, 'was_impossible': False}),\n",
       " Prediction(uid='elena', iid='LG D802 G2 Smartphone, 16 GB, Nero [Italia]', r_ui=10.0, est=8.500258397932816, details={'actual_k': 1, 'was_impossible': False}),\n",
       " Prediction(uid='Francesco', iid='Lenovo Motorola Moto G 4G (2 Generazione) Smartphone, Display 5 Pollici, LTE, Fotocamera 8 MP, Memoria 8 GB, Android 5 Lollipop, Nero [Italia]', r_ui=6.0, est=9.052932265728034, details={'actual_k': 10, 'was_impossible': False}),\n",
       " Prediction(uid='Matthias', iid='Samsung Galaxy S3 mini (GT-I8200) Smartphone (4 Zoll (10,2 cm) Touch-Display, 8 GB Speicher, Android 4.2) blau', r_ui=10.0, est=7.083333333333333, details={'actual_k': 0, 'was_impossible': False}),\n",
       " Prediction(uid='Ð\\x90Ð»ÐµÐºÑ\\x81ÐµÐ¹', iid='Samsung N7100 Galaxy Note II 16GB (Ñ\\x81ÐµÑ\\x80Ñ\\x8bÐ¹)', r_ui=10.0, est=8.565541957121525, details={'actual_k': 24, 'was_impossible': False}),\n",
       " Prediction(uid='Leonardo', iid='Asus ZE551ML-2A760WW Smartphone ZenFone 2 Deluxe, 5.5\", 4 GB RAM, 64 GB, Intel Quad-Core Z3580, Dual SIM, Illusion Purple', r_ui=4.0, est=7.786836940755047, details={'actual_k': 10, 'was_impossible': False}),\n",
       " Prediction(uid='Davide', iid='Huawei P8 lite Smartphone, Display 5.0\" IPS, Dual Sim, Processore Octa-Core, Memoria 16 GB, Fotocamera 13 MP, Android 5.0, Bianco', r_ui=10.0, est=8.010417246195114, details={'actual_k': 8, 'was_impossible': False}),\n",
       " Prediction(uid='Rob', iid='Huawei P8 grijs / 16 GB', r_ui=8.0, est=8.818033455732355, details={'actual_k': 1, 'was_impossible': False}),\n",
       " Prediction(uid='Ð\\x95ÐºÐ°Ñ\\x82ÐµÑ\\x80Ð¸Ð½Ð°', iid='Sony Xperia ZR (Ð±ÐµÐ»Ñ\\x8bÐ¹)', r_ui=8.0, est=9.02650704475601, details={'actual_k': 22, 'was_impossible': False}),\n",
       " Prediction(uid='Ð\\x9dÐ°Ñ\\x82Ð°Ð»Ñ\\x8cÑ\\x8f', iid='Samsung N7100 Galaxy Note II 16GB (Ð±ÐµÐ»Ñ\\x8bÐ¹)', r_ui=10.0, est=9.056312752812662, details={'actual_k': 13, 'was_impossible': False}),\n",
       " Prediction(uid='Bob', iid='Sim Free Motorola Moto G 4th Generation Mobile Phone - Black', r_ui=10.0, est=10, details={'actual_k': 5, 'was_impossible': False}),\n",
       " Prediction(uid='Ð\\x98Ñ\\x80Ð¸Ð½Ð°', iid='Apple iPhone 5s 16GB (Ñ\\x81ÐµÑ\\x80Ñ\\x8bÐ¹ ÐºÐ¾Ñ\\x81Ð¼Ð¾Ñ\\x81)', r_ui=8.0, est=9.453826812360981, details={'actual_k': 14, 'was_impossible': False}),\n",
       " Prediction(uid='Ð\\x98Ð²Ð°Ð½', iid='Sony Xperia Z1 Compact (Ñ\\x80Ð¾Ð·Ð¾Ð²Ñ\\x8bÐ¹)', r_ui=10.0, est=9.219560110410438, details={'actual_k': 29, 'was_impossible': False}),\n",
       " Prediction(uid='Amazon Customer', iid='Apple iPhone 5s GSM Unlocked Cellphone, 16 GB, Space Gray', r_ui=8.0, est=5.048740726598777, details={'actual_k': 45, 'was_impossible': False}),\n",
       " Prediction(uid='Ð\\x98Ð³Ð¾Ñ\\x80Ñ\\x8c', iid='Sony Xperia Z1 (Ñ\\x87ÐµÑ\\x80Ð½Ñ\\x8bÐ¹)', r_ui=10.0, est=9.224086482083857, details={'actual_k': 22, 'was_impossible': False}),\n",
       " Prediction(uid='claudio', iid='Lenovo Motorola Moto G 4G (2 Generazione) Smartphone, Display 5 Pollici, LTE, Fotocamera 8 MP, Memoria 8 GB, Android 5 Lollipop, Nero [Italia]', r_ui=10.0, est=8.956502805189114, details={'actual_k': 3, 'was_impossible': False}),\n",
       " Prediction(uid='Filippo', iid='Samsung Galaxy A5 2016 Smartphone LTE, 16GB, Nero', r_ui=10.0, est=9.364431820495373, details={'actual_k': 6, 'was_impossible': False}),\n",
       " Prediction(uid='Tina', iid='Samsung Galaxy Ace S5830 Smartphone (8,9 cm (3,5 Zoll) Display, Touchscreen, Android OS, 5 Megapixel Kamera) weiÃ\\x9f', r_ui=10.0, est=8.511653116531166, details={'actual_k': 1, 'was_impossible': False}),\n",
       " Prediction(uid='matteo', iid='LG D802 G2 Smartphone, 16 GB, Nero [Italia]', r_ui=10.0, est=8.81546013292464, details={'actual_k': 3, 'was_impossible': False}),\n",
       " Prediction(uid='Matthew', iid='Huawei Honor 5X Unlocked Smartphone, 16GB Dark Grey (US Warranty)', r_ui=10.0, est=9.01264831289952, details={'actual_k': 2, 'was_impossible': False}),\n",
       " Prediction(uid='Ð\\x9cÐ°ÐºÑ\\x81Ð¸Ð¼', iid='Sony Xperia Z1 (Ñ\\x84Ð¸Ð¾Ð»ÐµÑ\\x82Ð¾Ð²Ñ\\x8bÐ¹)', r_ui=3.0, est=8.640752154611267, details={'actual_k': 30, 'was_impossible': False}),\n",
       " Prediction(uid='Max', iid='APPLE iPhone 7 - Silver, 32 GB', r_ui=8.0, est=10, details={'actual_k': 2, 'was_impossible': False}),\n",
       " Prediction(uid='Richard', iid='APPLE iPhone 7 - Silver, 128 GB', r_ui=7.0, est=5.237942975456131, details={'actual_k': 3, 'was_impossible': False}),\n",
       " Prediction(uid='Annie', iid='Huawei P8lite zwart / 16 GB', r_ui=9.0, est=8.442307692307692, details={'actual_k': 0, 'was_impossible': False}),\n",
       " Prediction(uid='maurizio', iid='Asus ZenFone 2 Laser 5.5\" Smartphone, 16 GB, Dual SIM, Nero [Italia]', r_ui=10.0, est=9.819593636462184, details={'actual_k': 4, 'was_impossible': False}),\n",
       " Prediction(uid='Roberto', iid='LG G4 Smartphone Display IPS 5.5\" QHD, Fotocamera 16 MP, Memoria Interna 32 GB, 3 GB RAM, Colore Marrone', r_ui=10.0, est=7.3717396762011465, details={'actual_k': 9, 'was_impossible': False}),\n",
       " Prediction(uid='Angelo', iid='Lenovo Motorola Moto G Smartphone, 4,5 pollici display HD, processore Qualcomm, memoria 16GB, MicroSIM, Android 4.3 OS, fotocamera da 5 MP, Nero [Germania]', r_ui=10.0, est=9.968590207436577, details={'actual_k': 2, 'was_impossible': False}),\n",
       " Prediction(uid='Ð\\x92Ð°Ð´Ð¸Ð¼', iid='Sony Xperia ZR (Ñ\\x87ÐµÑ\\x80Ð½Ñ\\x8bÐ¹)', r_ui=9.0, est=9.785102466087322, details={'actual_k': 15, 'was_impossible': False}),\n",
       " Prediction(uid='Massimo', iid='Huawei P8 Lite Smartphone, Display 5\" IPS, Processore Octa-Core 1.5 GHz, Memoria Interna da 16 GB, 2 GB RAM, Fotocamera 13 MP, monoSIM, Android 5.0, Bianco [Italia]', r_ui=10.0, est=8.130438009437857, details={'actual_k': 2, 'was_impossible': False}),\n",
       " Prediction(uid='Daniele', iid='Lenovo Motorola Moto G LTE Smartphone, Display 4.5\", Fotocamera 5 MP, Memoria 8 GB, Quad-Core 1.2 GHz, 1 GB RAM, Micro SD, Android 4.4.3, Bianco [Italia]', r_ui=8.0, est=6.907982742140004, details={'actual_k': 8, 'was_impossible': False}),\n",
       " Prediction(uid='John', iid='Huawei Honor 5X Unlocked Smartphone, 16GB Dark Grey (US Warranty)', r_ui=8.0, est=8.951531453083449, details={'actual_k': 6, 'was_impossible': False}),\n",
       " Prediction(uid='Anita', iid='Huawei P8lite zwart / 16 GB', r_ui=10.0, est=7.985635094386185, details={'actual_k': 4, 'was_impossible': False}),\n",
       " Prediction(uid='Ð\\x90Ð½Ñ\\x82Ð¾Ð½', iid='Sony Xperia ZR (Ð±ÐµÐ»Ñ\\x8bÐ¹)', r_ui=9.0, est=8.445422405502798, details={'actual_k': 14, 'was_impossible': False}),\n",
       " Prediction(uid='Ð\\x9cÐ¸Ñ\\x85Ð°Ð¸Ð»', iid='Samsung Galaxy S5 SM-G900F 16GB (Ñ\\x87ÐµÑ\\x80Ð½Ñ\\x8bÐ¹)', r_ui=10.0, est=8.546844832667912, details={'actual_k': 24, 'was_impossible': False}),\n",
       " Prediction(uid='Ð\\x90Ð½Ð°Ñ\\x81Ñ\\x82Ð°Ñ\\x81Ð¸Ñ\\x8f', iid='Sony Xperia L (ÐºÑ\\x80Ð°Ñ\\x81Ð½Ñ\\x8bÐ¹)', r_ui=8.0, est=8.480857029543483, details={'actual_k': 21, 'was_impossible': False}),\n",
       " Prediction(uid='Ð\\x94Ð¼Ð¸Ñ\\x82Ñ\\x80Ð¸Ð¹', iid='Sony Xperia C (Ð±ÐµÐ»Ñ\\x8bÐ¹)', r_ui=6.0, est=8.701578636950055, details={'actual_k': 37, 'was_impossible': False}),\n",
       " Prediction(uid='Ð\\x95Ð²Ð³ÐµÐ½Ð¸Ð¹', iid='Sony Xperia L (Ñ\\x87ÐµÑ\\x80Ð½Ñ\\x8bÐ¹)', r_ui=10.0, est=8.927187902631069, details={'actual_k': 15, 'was_impossible': False}),\n",
       " Prediction(uid='Ð\\x98Ñ\\x80Ð¸Ð½Ð°', iid='Sony Xperia Z1 Compact (Ñ\\x87ÐµÑ\\x80Ð½Ñ\\x8bÐ¹)', r_ui=10.0, est=9.382412269644846, details={'actual_k': 19, 'was_impossible': False}),\n",
       " Prediction(uid='Anthony', iid='MICROSOFT Lumia 650 - 16 GB, Black', r_ui=10.0, est=3.997918418347374, details={'actual_k': 3, 'was_impossible': False}),\n",
       " Prediction(uid='Silvia', iid='Huawei P8 Lite Smartphone, Display 5\" IPS, Processore Octa-Core 1.5 GHz, Memoria Interna da 16 GB, 2 GB RAM, Fotocamera 13 MP, monoSIM, Android 5.0, Bianco [Italia]', r_ui=10.0, est=5.348442377114813, details={'actual_k': 5, 'was_impossible': False}),\n",
       " Prediction(uid='Giuseppe', iid=\"Huawei P9 Lite Smartphone, LTE, Display 5.2'' FHD, Processore Octa-Core Kirin 650, 16 GB Memoria Interna, 3GB RAM, Fotocamera 13 MP, Single-SIM, Android 6.0 Marshmallow, Bianco [Italia]\", r_ui=10.0, est=8.652320101999235, details={'actual_k': 9, 'was_impossible': False}),\n",
       " Prediction(uid='Ð\\x94ÐµÐ½Ð¸Ñ\\x81', iid='Sony Xperia Z (Ð±ÐµÐ»Ñ\\x8bÐ¹)', r_ui=7.0, est=8.123717978623997, details={'actual_k': 26, 'was_impossible': False}),\n",
       " Prediction(uid='luca', iid='Lenovo Motorola Moto G 4G (2 Generazione) Smartphone, Display 5 Pollici, LTE, Fotocamera 8 MP, Memoria 8 GB, Android 5 Lollipop, Nero [Italia]', r_ui=10.0, est=9.855555555555554, details={'actual_k': 1, 'was_impossible': False}),\n",
       " Prediction(uid='Ð\\x9fÐ°Ð²ÐµÐ»', iid='Sony Xperia Z1 Compact (Ð±ÐµÐ»Ñ\\x8bÐ¹)', r_ui=9.0, est=9.183209373307758, details={'actual_k': 24, 'was_impossible': False}),\n",
       " Prediction(uid='Anton', iid='Sony Xperia SP (Ð±ÐµÐ»Ñ\\x8bÐ¹)', r_ui=8.0, est=7.921842215259741, details={'actual_k': 2, 'was_impossible': False}),\n",
       " Prediction(uid='Cliente Amazon', iid='Samsung G935 Galaxy S7 Edge Smartphone da 32GB, Argento [Italia]', r_ui=10.0, est=4.700953504712501, details={'actual_k': 32, 'was_impossible': False}),\n",
       " Prediction(uid='Ð¢Ð°Ñ\\x82Ñ\\x8cÑ\\x8fÐ½Ð°', iid='Sony Xperia SP (Ð±ÐµÐ»Ñ\\x8bÐ¹)', r_ui=5.0, est=8.183305978959925, details={'actual_k': 17, 'was_impossible': False}),\n",
       " Prediction(uid='Ð\\x9dÐ°Ñ\\x82Ð°Ð»Ñ\\x8cÑ\\x8f', iid='Samsung N7100 Galaxy Note II 16GB (Ñ\\x81ÐµÑ\\x80Ñ\\x8bÐ¹)', r_ui=10.0, est=9.240896248473222, details={'actual_k': 11, 'was_impossible': False}),\n",
       " Prediction(uid='Ð\\x90Ñ\\x80Ñ\\x82Ñ\\x83Ñ\\x80', iid='Samsung Galaxy S4 GT-I9500 16GB (Ñ\\x87ÐµÑ\\x80Ð½Ñ\\x8bÐ¹)', r_ui=10.0, est=8.395919803299526, details={'actual_k': 15, 'was_impossible': False}),\n",
       " Prediction(uid='Rick', iid='Samsung Galaxy S7 Edge zwart / 32 GB', r_ui=8.0, est=7.9853646917185594, details={'actual_k': 3, 'was_impossible': False}),\n",
       " Prediction(uid='Cliente Amazon', iid=\"Huawei P9 Lite Smartphone, LTE, Display 5.2'' FHD, Processore Octa-Core Kirin 650, 16 GB Memoria Interna, 3GB RAM, Fotocamera 13 MP, Single-SIM, Android 6.0 Marshmallow, Nero [Italia]\", r_ui=8.0, est=4.539927580519022, details={'actual_k': 37, 'was_impossible': False}),\n",
       " Prediction(uid='Salvatore', iid='Huawei Y6 Smartphone, Display 5.0\" HD, IPS, 2 GB RAM, 8 GB Memoria Interna, Dual SIM, Fotocamera 8 MP, Android 5.1, Nero', r_ui=10.0, est=10, details={'actual_k': 1, 'was_impossible': False}),\n",
       " Prediction(uid='Ð\\x9cÐ°Ñ\\x80Ð¸Ð½Ð°', iid='Samsung Galaxy S6', r_ui=10.0, est=9.207194407910421, details={'actual_k': 26, 'was_impossible': False}),\n",
       " Prediction(uid='Kevin', iid='Samsung Galaxy S7 zwart / 32 GB', r_ui=9.0, est=8.414023025715982, details={'actual_k': 4, 'was_impossible': False}),\n",
       " Prediction(uid='David', iid='APPLE iPhone 7 - Silver, 32 GB', r_ui=10.0, est=6.041911631582872, details={'actual_k': 8, 'was_impossible': False}),\n",
       " Prediction(uid='Christopher', iid='Alcatel OneTouch Idol 3 Global Unlocked 4G LTE Smartphone, 5.5 HD IPS Display, 16GB (GSM - US Warranty)', r_ui=6.0, est=7.719481369098491, details={'actual_k': 3, 'was_impossible': False}),\n",
       " Prediction(uid='Karin', iid='Samsung Galaxy S7 zwart / 32 GB', r_ui=8.0, est=8.995086103263464, details={'actual_k': 4, 'was_impossible': False}),\n",
       " Prediction(uid='Ð\\x90Ð»ÐµÐºÑ\\x81Ð°Ð½Ð´Ñ\\x80', iid='Samsung Galaxy S5 SM-G900F 16GB (Ñ\\x87ÐµÑ\\x80Ð½Ñ\\x8bÐ¹)', r_ui=8.0, est=7.486564252173912, details={'actual_k': 33, 'was_impossible': False}),\n",
       " Prediction(uid='Alfredo', iid='Asus ZenFone 2 Laser 5.5\" Smartphone, 16 GB, Dual SIM, Nero [Italia]', r_ui=10.0, est=10, details={'actual_k': 1, 'was_impossible': False}),\n",
       " Prediction(uid='Ð\\x94Ð¼Ð¸Ñ\\x82Ñ\\x80Ð¸Ð¹', iid='Apple iPhone 5s 16GB (Ñ\\x81ÐµÑ\\x80ÐµÐ±Ñ\\x80Ð¸Ñ\\x81Ñ\\x82Ñ\\x8bÐ¹)', r_ui=7.0, est=6.520725430492799, details={'actual_k': 36, 'was_impossible': False}),\n",
       " Prediction(uid='Ð\\x92Ð»Ð°Ð´Ð¸Ð¼Ð¸Ñ\\x80', iid='Apple iPhone 5s 16GB (Ñ\\x81ÐµÑ\\x80ÐµÐ±Ñ\\x80Ð¸Ñ\\x81Ñ\\x82Ñ\\x8bÐ¹)', r_ui=8.0, est=8.828684315236847, details={'actual_k': 24, 'was_impossible': False}),\n",
       " Prediction(uid='Ð\\x9cÐ¸Ñ\\x85Ð°Ð¸Ð»', iid='Sony Xperia C (Ð±ÐµÐ»Ñ\\x8bÐ¹)', r_ui=6.0, est=9.279661528345336, details={'actual_k': 18, 'was_impossible': False}),\n",
       " Prediction(uid='Angelo', iid=\"Huawei P9 Lite Smartphone, LTE, Display 5.2'' FHD, Processore Octa-Core Kirin 650, 16 GB Memoria Interna, 3GB RAM, Fotocamera 13 MP, Single-SIM, Android 6.0 Marshmallow, Nero [Italia]\", r_ui=10.0, est=9.493827243962949, details={'actual_k': 3, 'was_impossible': False}),\n",
       " Prediction(uid='Ð®Ñ\\x80Ð¸Ð¹', iid='Sony Xperia Z1 (Ñ\\x84Ð¸Ð¾Ð»ÐµÑ\\x82Ð¾Ð²Ñ\\x8bÐ¹)', r_ui=10.0, est=8.881536413201466, details={'actual_k': 17, 'was_impossible': False}),\n",
       " Prediction(uid='Ð\\x90Ð½Ð´Ñ\\x80ÐµÐ¹', iid='Samsung Galaxy S5 SM-G900F 16GB (Ð·Ð¾Ð»Ð¾Ñ\\x82Ð¸Ñ\\x81Ñ\\x82Ñ\\x8bÐ¹)', r_ui=6.0, est=5.295978414195089, details={'actual_k': 45, 'was_impossible': False}),\n",
       " Prediction(uid='Stephen', iid='Sim Free Motorola Moto G 4th Generation Mobile Phone - Black', r_ui=10.0, est=9.244444444444444, details={'actual_k': 0, 'was_impossible': False}),\n",
       " Prediction(uid='Ð\\x90Ð»ÐµÐºÑ\\x81Ð°Ð½Ð´Ñ\\x80', iid='Samsung Galaxy S5 SM-G900F 16GB (Ð±ÐµÐ»Ñ\\x8bÐ¹)', r_ui=5.0, est=8.201845824072468, details={'actual_k': 22, 'was_impossible': False}),\n",
       " Prediction(uid='Ð\\x9aÐ¾Ð½Ñ\\x81Ñ\\x82Ð°Ð½Ñ\\x82Ð¸Ð½', iid='Samsung Galaxy S5 SM-G900F 16GB (Ñ\\x87ÐµÑ\\x80Ð½Ñ\\x8bÐ¹)', r_ui=9.0, est=8.829153466396932, details={'actual_k': 6, 'was_impossible': False}),\n",
       " Prediction(uid='Ð\\x9dÐ°Ð´ÐµÐ¶Ð´Ð°', iid='Sony Xperia Z1 (Ñ\\x87ÐµÑ\\x80Ð½Ñ\\x8bÐ¹)', r_ui=9.0, est=9.95189731459311, details={'actual_k': 10, 'was_impossible': False}),\n",
       " Prediction(uid='Ð\\x90Ð»ÐµÐºÑ\\x81Ð°Ð½Ð´Ñ\\x80', iid='Samsung Galaxy S4 mini Duos GT-I9192 (Ð±ÐµÐ»Ñ\\x8bÐ¹)', r_ui=10.0, est=6.932581103805603, details={'actual_k': 43, 'was_impossible': False}),\n",
       " Prediction(uid='Ð\\x9fÐ°Ð²ÐµÐ»', iid='Samsung Galaxy S4 GT-I9500 16GB (Ð±ÐµÐ»Ñ\\x8bÐ¹)', r_ui=10.0, est=8.191816677100228, details={'actual_k': 23, 'was_impossible': False}),\n",
       " Prediction(uid='Ð\\x98Ð³Ð¾Ñ\\x80Ñ\\x8c', iid='Sony Xperia Z1 Compact (Ð»Ð°Ð¹Ð¼)', r_ui=9.0, est=9.448853552804792, details={'actual_k': 18, 'was_impossible': False}),\n",
       " Prediction(uid='Ð\\x9eÐ»ÐµÐ³', iid='Sony Xperia M (Ð±ÐµÐ»Ñ\\x8bÐ¹)', r_ui=10.0, est=9.34895085922581, details={'actual_k': 7, 'was_impossible': False}),\n",
       " Prediction(uid='Ð\\x9dÐ°Ñ\\x82Ð°Ð»Ñ\\x8cÑ\\x8f', iid='Sony Xperia J (Ñ\\x87ÐµÑ\\x80Ð½Ñ\\x8bÐ¹)', r_ui=10.0, est=6.29902950434572, details={'actual_k': 21, 'was_impossible': False}),\n",
       " Prediction(uid='Giorgio', iid='LG D802 G2 Smartphone, 16 GB, Nero [Italia]', r_ui=10.0, est=9.623854977026436, details={'actual_k': 4, 'was_impossible': False}),\n",
       " Prediction(uid='Amazon Customer', iid='Alcatel OneTouch Idol 3 Global Unlocked 4G LTE Smartphone, 5.5 HD IPS Display, 16GB (GSM - US Warranty)', r_ui=8.0, est=5.128427242023152, details={'actual_k': 50, 'was_impossible': False}),\n",
       " Prediction(uid='Vincenzo', iid='Huawei P8 lite Smartphone, Display 5.0\" IPS, Dual Sim, Processore Octa-Core, Memoria 16 GB, Fotocamera 13 MP, Android 5.0, Bianco', r_ui=10.0, est=9.517476932021946, details={'actual_k': 4, 'was_impossible': False}),\n",
       " Prediction(uid='Jane', iid='APPLE iPhone 7 - Silver, 32 GB', r_ui=10.0, est=8.626330910934595, details={'actual_k': 2, 'was_impossible': False}),\n",
       " Prediction(uid='Ð\\x90Ñ\\x80Ñ\\x82Ñ\\x91Ð¼', iid='Apple iPhone 5s 16GB (Ñ\\x81ÐµÑ\\x80Ñ\\x8bÐ¹ ÐºÐ¾Ñ\\x81Ð¼Ð¾Ñ\\x81)', r_ui=10.0, est=8.204964065775215, details={'actual_k': 10, 'was_impossible': False}),\n",
       " Prediction(uid='Ð\\xa0Ð¾Ð¼Ð°Ð½', iid='Samsung Galaxy S4 GT-I9500 16GB (Ð±ÐµÐ»Ñ\\x8bÐ¹)', r_ui=8.0, est=9.082654064064151, details={'actual_k': 24, 'was_impossible': False}),\n",
       " Prediction(uid='giovanni', iid='Lenovo Motorola Moto G LTE Smartphone, Display 4.5\", Fotocamera 5 MP, Memoria 8 GB, Quad-Core 1.2 GHz, 1 GB RAM, Micro SD, Android 4.4.3, Bianco [Italia]', r_ui=8.0, est=10, details={'actual_k': 1, 'was_impossible': False}),\n",
       " Prediction(uid='Amazon Customer', iid=\"Huawei P9 Lite Smartphone, LTE, Display 5.2'' FHD, Processore Octa-Core Kirin 650, 16 GB Memoria Interna, 3GB RAM, Fotocamera 13 MP, Single-SIM, Android 6.0 Marshmallow, Bianco [Italia]\", r_ui=8.0, est=8.114031865396578, details={'actual_k': 34, 'was_impossible': False}),\n",
       " Prediction(uid='luca', iid='Samsung Galaxy A5 2016 Smartphone LTE, 16GB, Nero', r_ui=10.0, est=10, details={'actual_k': 2, 'was_impossible': False}),\n",
       " Prediction(uid='Andrea', iid='LG D802 G2 Smartphone, 16 GB, Nero [Italia]', r_ui=8.0, est=9.964508517235904, details={'actual_k': 9, 'was_impossible': False}),\n",
       " Prediction(uid='Ð\\x90Ð½Ð´Ñ\\x80ÐµÐ¹', iid='Samsung Galaxy S5 SM-G900F 16GB (Ð·Ð¾Ð»Ð¾Ñ\\x82Ð¸Ñ\\x81Ñ\\x82Ñ\\x8bÐ¹)', r_ui=4.0, est=5.295978414195089, details={'actual_k': 45, 'was_impossible': False}),\n",
       " Prediction(uid='francesca', iid='LG G4 Smartphone Display IPS 5.5\" QHD, Fotocamera 16 MP, Memoria Interna 32 GB, 3 GB RAM, Colore Marrone', r_ui=10.0, est=9.059489864381552, details={'actual_k': 2, 'was_impossible': False}),\n",
       " Prediction(uid='Claudio', iid='Samsung G935 Galaxy S7 Edge Smartphone da 32GB, Argento [Italia]', r_ui=2.0, est=8.989875923526464, details={'actual_k': 3, 'was_impossible': False}),\n",
       " Prediction(uid='Robert', iid='APPLE iPhone 6s Plus - 128 GB, Rose Gold', r_ui=10.0, est=9.59302191477656, details={'actual_k': 6, 'was_impossible': False}),\n",
       " Prediction(uid='Lucia', iid='Samsung G935 Galaxy S7 Edge Smartphone da 32GB, Argento [Italia]', r_ui=10.0, est=8.119402985074627, details={'actual_k': 0, 'was_impossible': False}),\n",
       " Prediction(uid='Ron', iid='Samsung Galaxy S7 goud, roze / 32 GB', r_ui=7.0, est=8.932530126868688, details={'actual_k': 6, 'was_impossible': False}),\n",
       " Prediction(uid='fabio', iid='Asus ZE551ML-2A760WW Smartphone ZenFone 2 Deluxe, 5.5\", 4 GB RAM, 64 GB, Intel Quad-Core Z3580, Dual SIM, Illusion Purple', r_ui=10.0, est=7.702895501036403, details={'actual_k': 7, 'was_impossible': False}),\n",
       " Prediction(uid='stefano', iid='LG D802 G2 Smartphone, 16 GB, Nero [Italia]', r_ui=8.0, est=7.5246587686867255, details={'actual_k': 4, 'was_impossible': False}),\n",
       " Prediction(uid='Ð¯Ð½Ð°', iid='Sony Xperia SP (Ñ\\x87ÐµÑ\\x80Ð½Ñ\\x8bÐ¹)', r_ui=9.0, est=8.775505087452743, details={'actual_k': 2, 'was_impossible': False}),\n",
       " Prediction(uid='John', iid='Apple iPhone 5 Unlocked Cellphone, 32GB, Black', r_ui=8.0, est=7.778912453967546, details={'actual_k': 4, 'was_impossible': False}),\n",
       " Prediction(uid='Steven', iid='Samsung Galaxy S7 goud, roze / 32 GB', r_ui=9.0, est=10, details={'actual_k': 3, 'was_impossible': False}),\n",
       " Prediction(uid='Ð\\x9cÐ¸Ñ\\x85Ð°Ð¸Ð»', iid='Apple iPhone 5s 16GB (Ñ\\x81ÐµÑ\\x80Ñ\\x8bÐ¹ ÐºÐ¾Ñ\\x81Ð¼Ð¾Ñ\\x81)', r_ui=9.0, est=8.25017429497813, details={'actual_k': 25, 'was_impossible': False}),\n",
       " Prediction(uid='Paolo', iid='Lenovo Motorola Moto E Smartphone, Display 4.3 pollici qHD, Processore Qualcomm Dual-Core 1.2GHz, Memoria 4GB, 1GB RAM, Fotocamera 5MP, Android 4.4.2 KitKat, Bluetooth, WiFi, Bianco [Spagna]', r_ui=8.0, est=9.571154154760123, details={'actual_k': 4, 'was_impossible': False}),\n",
       " Prediction(uid='Martin', iid='Huawei P8 Lite wit / 16 GB', r_ui=10.0, est=8.245004603097028, details={'actual_k': 8, 'was_impossible': False}),\n",
       " Prediction(uid='Ð\\x98Ð³Ð¾Ñ\\x80Ñ\\x8c', iid='Sony Xperia M (Ñ\\x84Ð¸Ð¾Ð»ÐµÑ\\x82Ð¾Ð²Ñ\\x8bÐ¹)', r_ui=10.0, est=9.25419853732583, details={'actual_k': 13, 'was_impossible': False}),\n",
       " Prediction(uid='Kate', iid='Apple iPhone 5s 16GB (Ñ\\x81ÐµÑ\\x80ÐµÐ±Ñ\\x80Ð¸Ñ\\x81Ñ\\x82Ñ\\x8bÐ¹)', r_ui=9.0, est=9.103789652969981, details={'actual_k': 2, 'was_impossible': False}),\n",
       " Prediction(uid='salvatore', iid='Asus ZenFone 2 Laser 5.5\" Smartphone, 16 GB, Dual SIM, Nero [Italia]', r_ui=10.0, est=9.026445250119655, details={'actual_k': 4, 'was_impossible': False}),\n",
       " Prediction(uid='Claudio', iid='Huawei P8 lite Smartphone, Display 5.0\" IPS, Dual Sim, Processore Octa-Core, Memoria 16 GB, Fotocamera 13 MP, Android 5.0, Bianco', r_ui=8.0, est=9.022546149202476, details={'actual_k': 3, 'was_impossible': False}),\n",
       " Prediction(uid='Ð\\x95Ð»ÐµÐ½Ð°', iid='Nokia 101 Premium Black', r_ui=10.0, est=8.71397157574168, details={'actual_k': 19, 'was_impossible': False}),\n",
       " Prediction(uid='Ð\\x98Ð²Ð°Ð½', iid='Samsung Galaxy S4 GT-I9500 16GB (Ñ\\x87ÐµÑ\\x80Ð½Ñ\\x8bÐ¹)', r_ui=6.0, est=8.564451376535645, details={'actual_k': 33, 'was_impossible': False}),\n",
       " Prediction(uid='Luciano', iid='Huawei P8 Lite Smartphone, Display 5\" IPS, Processore Octa-Core 1.5 GHz, Memoria Interna da 16 GB, 2 GB RAM, Fotocamera 13 MP, monoSIM, Android 5.0, Bianco [Italia]', r_ui=2.0, est=8.498134149502597, details={'actual_k': 2, 'was_impossible': False}),\n",
       " Prediction(uid='claudia', iid='Samsung Galaxy Ace S5830 Smartphone (8,9 cm (3,5 Zoll) Display, Touchscreen, Android OS, 5 Megapixel Kamera) weiÃ\\x9f', r_ui=8.0, est=7.711736467094499, details={'actual_k': 3, 'was_impossible': False}),\n",
       " Prediction(uid='Melanie', iid='Samsung Galaxy S7 Edge zwart / 32 GB', r_ui=9.0, est=8.396414333652913, details={'actual_k': 2, 'was_impossible': False}),\n",
       " Prediction(uid='Massimo', iid='Asus ZenFone 2 Laser 5.5\" Smartphone, 16 GB, Dual SIM, Nero [Italia]', r_ui=10.0, est=9.108893889496793, details={'actual_k': 4, 'was_impossible': False}),\n",
       " Prediction(uid='jose', iid='Apple iPhone 5 Unlocked Cellphone, 32GB, Black', r_ui=2.0, est=7.201168309602044, details={'actual_k': 2, 'was_impossible': False}),\n",
       " Prediction(uid='Petra', iid='Samsung Galaxy A5 2016 Smartphone LTE, 16GB, Nero', r_ui=10.0, est=5.299830933641578, details={'actual_k': 2, 'was_impossible': False}),\n",
       " Prediction(uid='Peter', iid='SAMSUNG Galaxy A3 (2017) - 16 GB, Black', r_ui=10.0, est=8.943685858242414, details={'actual_k': 10, 'was_impossible': False}),\n",
       " Prediction(uid='Valerio', iid='Huawei P8 lite Smartphone, Display 5.0\" IPS, Dual Sim, Processore Octa-Core, Memoria 16 GB, Fotocamera 13 MP, Android 5.0, Bianco', r_ui=10.0, est=8.57391304347826, details={'actual_k': 0, 'was_impossible': False}),\n",
       " Prediction(uid='Max', iid='Samsung Galaxy A5 2016 Smartphone LTE, 16GB, Nero', r_ui=10.0, est=10, details={'actual_k': 1, 'was_impossible': False}),\n",
       " Prediction(uid='Andrew', iid='APPLE iPhone 6s Plus - 128 GB, Rose Gold', r_ui=10.0, est=8.970551809245128, details={'actual_k': 5, 'was_impossible': False}),\n",
       " Prediction(uid='daniele', iid='Huawei P8 Lite Smartphone, Display 5\" IPS, Processore Octa-Core 1.5 GHz, Memoria Interna da 16 GB, 2 GB RAM, Fotocamera 13 MP, monoSIM, Android 5.0, Bianco [Italia]', r_ui=10.0, est=6.177153543104364, details={'actual_k': 2, 'was_impossible': False}),\n",
       " Prediction(uid='Ð\\x98Ñ\\x80Ð¸Ð½Ð°', iid='Sony Xperia SP (ÐºÑ\\x80Ð°Ñ\\x81Ð½Ñ\\x8bÐ¹)', r_ui=8.0, est=9.857539598107179, details={'actual_k': 15, 'was_impossible': False}),\n",
       " Prediction(uid='Elisa', iid='Lenovo Motorola Moto G LTE Smartphone, Display 4.5\", Fotocamera 5 MP, Memoria 8 GB, Quad-Core 1.2 GHz, 1 GB RAM, Micro SD, Android 4.4.3, Bianco [Italia]', r_ui=10.0, est=9.125109631041393, details={'actual_k': 4, 'was_impossible': False}),\n",
       " Prediction(uid='Ð\\x94Ð¼Ð¸Ñ\\x82Ñ\\x80Ð¸Ð¹', iid='Sony Xperia Z1 Compact (Ð±ÐµÐ»Ñ\\x8bÐ¹)', r_ui=9.0, est=8.208685562665949, details={'actual_k': 39, 'was_impossible': False}),\n",
       " Prediction(uid='Paolo', iid='Huawei P8 lite Smartphone, Display 5.0\" IPS, Dual Sim, Processore Octa-Core, Memoria 16 GB, Fotocamera 13 MP, Android 5.0, Bianco', r_ui=6.0, est=8.998036543090496, details={'actual_k': 8, 'was_impossible': False}),\n",
       " Prediction(uid='eduardo', iid='Huawei P8 Lite-AM08 - Pack Smartphone Huawei P8 Lite negro con Altavoz portÃ¡til AM08 Gold (2 GB de RAM, 16 GB de memoria interna, cÃ¡mara 13 Mpxs/8Mpx), color negro', r_ui=10.0, est=8.398906062489402, details={'actual_k': 2, 'was_impossible': False}),\n",
       " Prediction(uid='Lee', iid='Alcatel OneTouch Idol 3 Global Unlocked 4G LTE Smartphone, 5.5 HD IPS Display, 16GB (GSM - US Warranty)', r_ui=6.0, est=8.76068376068376, details={'actual_k': 1, 'was_impossible': False}),\n",
       " Prediction(uid='Ð\\x90Ð½Ð°Ñ\\x81Ñ\\x82Ð°Ñ\\x81Ð¸Ñ\\x8f', iid='Sony Xperia SP (Ñ\\x87ÐµÑ\\x80Ð½Ñ\\x8bÐ¹)', r_ui=9.0, est=8.284890159204103, details={'actual_k': 19, 'was_impossible': False}),\n",
       " Prediction(uid='Ð\\x90Ñ\\x80Ñ\\x82Ñ\\x91Ð¼', iid='Sony Xperia Z (Ð±ÐµÐ»Ñ\\x8bÐ¹)', r_ui=9.0, est=8.105656928531621, details={'actual_k': 6, 'was_impossible': False}),\n",
       " Prediction(uid='Ð\\x92Ð»Ð°Ð´', iid='Samsung N7100 Galaxy Note II 16GB (Ñ\\x81ÐµÑ\\x80Ñ\\x8bÐ¹)', r_ui=10.0, est=8.021364312795699, details={'actual_k': 8, 'was_impossible': False}),\n",
       " Prediction(uid='Gary', iid='APPLE iPhone 7 - Silver, 32 GB', r_ui=4.0, est=9.966895414362757, details={'actual_k': 2, 'was_impossible': False}),\n",
       " Prediction(uid='Roberto', iid='Asus ZenFone 2 Smartphone, Schermo da 5.5\" Full HD, Processore Quad Core 2,3 GHz, RAM 4 GB, 32 GB, 4G/LTE, Argento', r_ui=10.0, est=7.579570157843919, details={'actual_k': 11, 'was_impossible': False}),\n",
       " Prediction(uid='Ð\\x95Ð²Ð³ÐµÐ½Ð¸Ñ\\x8f', iid='Samsung Galaxy S5 SM-G900F 16GB (Ð·Ð¾Ð»Ð¾Ñ\\x82Ð¸Ñ\\x81Ñ\\x82Ñ\\x8bÐ¹)', r_ui=9.0, est=7.263269802802548, details={'actual_k': 9, 'was_impossible': False}),\n",
       " Prediction(uid='Julia', iid='APPLE iPhone 7 - Silver, 32 GB', r_ui=10.0, est=8.960113491087602, details={'actual_k': 2, 'was_impossible': False}),\n",
       " Prediction(uid='Ð®Ð»Ð¸Ñ\\x8f', iid='Sony Xperia SP (ÐºÑ\\x80Ð°Ñ\\x81Ð½Ñ\\x8bÐ¹)', r_ui=8.0, est=8.553050017654252, details={'actual_k': 15, 'was_impossible': False}),\n",
       " Prediction(uid='Lorenzo', iid=\"Huawei P9 Lite Smartphone, LTE, Display 5.2'' FHD, Processore Octa-Core Kirin 650, 16 GB Memoria Interna, 3GB RAM, Fotocamera 13 MP, Single-SIM, Android 6.0 Marshmallow, Bianco [Italia]\", r_ui=8.0, est=10, details={'actual_k': 1, 'was_impossible': False}),\n",
       " Prediction(uid='Victor', iid='Alcatel OneTouch Idol 3 Global Unlocked 4G LTE Smartphone, 5.5 HD IPS Display, 16GB (GSM - US Warranty)', r_ui=10.0, est=6.012357120790854, details={'actual_k': 2, 'was_impossible': False}),\n",
       " Prediction(uid='Jean', iid='MICROSOFT Lumia 650 - 16 GB, Black', r_ui=10.0, est=7.139784946236559, details={'actual_k': 0, 'was_impossible': False}),\n",
       " Prediction(uid='Ð\\x9cÐ°ÐºÑ\\x81Ð¸Ð¼', iid='Samsung Galaxy S5 SM-G900F 16GB (Ð±ÐµÐ»Ñ\\x8bÐ¹)', r_ui=7.0, est=6.476850619963316, details={'actual_k': 22, 'was_impossible': False}),\n",
       " Prediction(uid='Ð¡ÐµÑ\\x80Ð³ÐµÐ¹', iid='Sony Xperia SP (Ñ\\x87ÐµÑ\\x80Ð½Ñ\\x8bÐ¹)', r_ui=10.0, est=8.435906922490814, details={'actual_k': 30, 'was_impossible': False}),\n",
       " Prediction(uid='Anne', iid='Huawei P8lite zwart / 16 GB', r_ui=7.0, est=8.070544872107757, details={'actual_k': 4, 'was_impossible': False}),\n",
       " Prediction(uid='David', iid='Samsung Galaxy S7 Edge goud / 32 GB', r_ui=9.0, est=7.383652524686325, details={'actual_k': 9, 'was_impossible': False}),\n",
       " Prediction(uid='luca', iid='Huawei Y6 Smartphone, Display 5.0\" HD, IPS, 2 GB RAM, 8 GB Memoria Interna, Dual SIM, Fotocamera 8 MP, Android 5.1, Nero', r_ui=4.0, est=9.9337412129655, details={'actual_k': 3, 'was_impossible': False}),\n",
       " Prediction(uid='Ð\\x98Ð»Ñ\\x8cÑ\\x8f', iid='Apple iPhone 5s 16GB (Ñ\\x81ÐµÑ\\x80Ñ\\x8bÐ¹ ÐºÐ¾Ñ\\x81Ð¼Ð¾Ñ\\x81)', r_ui=10.0, est=8.524133538435967, details={'actual_k': 22, 'was_impossible': False}),\n",
       " Prediction(uid='Ð\\x92Ð°Ñ\\x81Ð¸Ð»Ð¸Ð¹', iid='Sony Xperia SP (Ñ\\x87ÐµÑ\\x80Ð½Ñ\\x8bÐ¹)', r_ui=7.0, est=7.729893651562226, details={'actual_k': 6, 'was_impossible': False}),\n",
       " Prediction(uid='Harry', iid='Huawei P8lite zwart / 16 GB', r_ui=8.0, est=8.442307692307692, details={'actual_k': 0, 'was_impossible': False}),\n",
       " Prediction(uid='Ð\\x93Ð¾Ñ\\x81Ñ\\x82Ñ\\x8c', iid='Samsung Galaxy A3', r_ui=10.0, est=8.122320250123796, details={'actual_k': 3, 'was_impossible': False}),\n",
       " Prediction(uid='vincent', iid='Motorola Moto X Pure Edition Unlocked Smartphone, 64 GB Black XT1575, 5.7\" Quad HD display, 21 MP Camera, Quad-core 1.8GHz', r_ui=10.0, est=8.195121951219512, details={'actual_k': 0, 'was_impossible': False}),\n",
       " Prediction(uid='marco', iid='Asus ZenFone 2 Laser Smartphone, Display da 5\", 16 GB, Dual SIM, Nero [Italia]', r_ui=2.0, est=9.753527380697873, details={'actual_k': 9, 'was_impossible': False}),\n",
       " Prediction(uid='Alvaro', iid='Motorola Moto X Pure Edition Unlocked Smartphone, 64 GB Black XT1575, 5.7\" Quad HD display, 21 MP Camera, Quad-core 1.8GHz', r_ui=10.0, est=8.421091445427729, details={'was_impossible': True, 'reason': 'User and/or item is unknown.'}),\n",
       " Prediction(uid='Ð\\x98Ð²Ð°Ð½', iid='Samsung Galaxy S5 SM-G900F 16GB (Ð·Ð¾Ð»Ð¾Ñ\\x82Ð¸Ñ\\x81Ñ\\x82Ñ\\x8bÐ¹)', r_ui=10.0, est=4.542079066623495, details={'actual_k': 26, 'was_impossible': False}),\n",
       " Prediction(uid='Andrew', iid='SAMSUNG Galaxy A3 (2017) - 16 GB, Black', r_ui=9.0, est=8.031478848204515, details={'actual_k': 5, 'was_impossible': False}),\n",
       " Prediction(uid='Jeroen', iid='Samsung Galaxy S7 goud, roze / 32 GB', r_ui=10.0, est=8.108280930213162, details={'actual_k': 3, 'was_impossible': False}),\n",
       " Prediction(uid='AJ', iid='Sim Free Motorola Moto G 4th Generation Mobile Phone - Black', r_ui=8.0, est=9.244444444444444, details={'actual_k': 0, 'was_impossible': False}),\n",
       " Prediction(uid='mike', iid='Sony Xperia Z (Ñ\\x87ÐµÑ\\x80Ð½Ñ\\x8bÐ¹)', r_ui=10.0, est=8.363636363636363, details={'actual_k': 0, 'was_impossible': False}),\n",
       " Prediction(uid='patricia', iid='Huawei P8 Lite wit / 16 GB', r_ui=8.0, est=7.991560497682776, details={'actual_k': 3, 'was_impossible': False}),\n",
       " Prediction(uid='Cliente Amazon', iid='Samsung Galaxy J5 Smartphone, Oro [Italia]', r_ui=6.0, est=5.350061540297412, details={'actual_k': 36, 'was_impossible': False}),\n",
       " Prediction(uid='Claudia', iid='Lenovo Motorola Moto G Smartphone, 4,5 pollici display HD, processore Qualcomm, memoria 16GB, MicroSIM, Android 4.3 OS, fotocamera da 5 MP, Nero [Germania]', r_ui=10.0, est=8.15435314217417, details={'actual_k': 5, 'was_impossible': False}),\n",
       " Prediction(uid='Ð\\x94Ð°Ñ\\x80Ñ\\x8cÑ\\x8f', iid='Sony Xperia SP (Ð±ÐµÐ»Ñ\\x8bÐ¹)', r_ui=8.0, est=8.297972459246283, details={'actual_k': 13, 'was_impossible': False}),\n",
       " Prediction(uid='Ð\\x90Ð»ÐµÐºÑ\\x81Ð°Ð½Ð´Ñ\\x80', iid='Samsung Galaxy S4 mini Duos GT-I9192 (Ñ\\x87ÐµÑ\\x80Ð½Ñ\\x8bÐ¹)', r_ui=8.0, est=7.511314651251568, details={'actual_k': 38, 'was_impossible': False}),\n",
       " Prediction(uid='Ð\\x98Ð³Ð¾Ñ\\x80Ñ\\x8c', iid='Samsung Galaxy S4 GT-I9500 16GB (Ñ\\x87ÐµÑ\\x80Ð½Ñ\\x8bÐ¹)', r_ui=8.0, est=7.171461763825063, details={'actual_k': 28, 'was_impossible': False}),\n",
       " Prediction(uid='Ð\\x94Ð°Ñ\\x80Ñ\\x8cÑ\\x8f', iid='Apple iPhone 5s 16GB (Ñ\\x81ÐµÑ\\x80ÐµÐ±Ñ\\x80Ð¸Ñ\\x81Ñ\\x82Ñ\\x8bÐ¹)', r_ui=10.0, est=8.109866593074804, details={'actual_k': 13, 'was_impossible': False}),\n",
       " Prediction(uid='Antonio', iid='Alcatel One Touch 20-04G Telefono Cellulare, Nero', r_ui=4.0, est=8.897751653259983, details={'actual_k': 12, 'was_impossible': False}),\n",
       " Prediction(uid='Nico', iid='Huawei P8 Champagne / 16 GB - Overzicht', r_ui=9.0, est=9.133832395185838, details={'actual_k': 4, 'was_impossible': False}),\n",
       " Prediction(uid='Elena', iid='Sony Xperia L (Ñ\\x87ÐµÑ\\x80Ð½Ñ\\x8bÐ¹)', r_ui=9.0, est=9.147426305375987, details={'actual_k': 6, 'was_impossible': False}),\n",
       " Prediction(uid='Cliente Amazon', iid='Huawei P8 Lite Smartphone, Display 5\" IPS, Processore Octa-Core 1.5 GHz, Memoria Interna da 16 GB, 2 GB RAM, Fotocamera 13 MP, monoSIM, Android 5.0, Bianco [Italia]', r_ui=2.0, est=6.62318342274561, details={'actual_k': 27, 'was_impossible': False}),\n",
       " Prediction(uid='Ð\\x92Ñ\\x8fÑ\\x87ÐµÑ\\x81Ð»Ð°Ð²', iid='Apple iPhone 5s 16GB (Ñ\\x81ÐµÑ\\x80Ñ\\x8bÐ¹ ÐºÐ¾Ñ\\x81Ð¼Ð¾Ñ\\x81)', r_ui=8.0, est=8.939130928341562, details={'actual_k': 12, 'was_impossible': False}),\n",
       " Prediction(uid='Federico', iid='Lenovo Motorola Moto G Smartphone, 4,5 pollici display HD, processore Qualcomm, memoria 16GB, MicroSIM, Android 4.3 OS, fotocamera da 5 MP, Nero [Germania]', r_ui=10.0, est=9.722329690410612, details={'actual_k': 4, 'was_impossible': False}),\n",
       " Prediction(uid='Ð\\x98Ð»Ñ\\x8cÑ\\x8f', iid='Sony Xperia Z1 (Ð±ÐµÐ»Ñ\\x8bÐ¹)', r_ui=9.0, est=9.695307604166388, details={'actual_k': 20, 'was_impossible': False}),\n",
       " Prediction(uid='Andy', iid='APPLE iPhone 7 - Silver, 128 GB', r_ui=10.0, est=5.199542470116319, details={'actual_k': 4, 'was_impossible': False}),\n",
       " Prediction(uid='Ð\\x90Ð»ÐµÐºÑ\\x81Ð°Ð½Ð´Ñ\\x80', iid='Samsung Galaxy S4 GT-I9500 16GB (Ñ\\x87ÐµÑ\\x80Ð½Ñ\\x8bÐ¹)', r_ui=8.0, est=7.1897846199916975, details={'actual_k': 37, 'was_impossible': False}),\n",
       " Prediction(uid='frank', iid='Samsung Galaxy S5 Smartphone (5,1 Zoll (12,9 cm) Touch-Display, 16 GB Speicher, Android 4.4) electric blue', r_ui=8.0, est=7.551870748299319, details={'actual_k': 1, 'was_impossible': False}),\n",
       " Prediction(uid='Cliente Amazon', iid='Lenovo Motorola Moto G 4G 3 Generazione Smartphone, Display 5\", Fotocamera 13 MP, Memoria 16 GB, Android 6 Lollipop, Nero [Italia]', r_ui=10.0, est=7.828572507079937, details={'actual_k': 15, 'was_impossible': False}),\n",
       " Prediction(uid='Marcus', iid='SAMSUNG Galaxy A3 (2017) - 16 GB, Black', r_ui=9.0, est=8.59016393442623, details={'actual_k': 0, 'was_impossible': False}),\n",
       " Prediction(uid='Ð\\x95Ð²Ð³ÐµÐ½Ð¸Ð¹', iid='Apple iPhone 5s 16GB (Ñ\\x81ÐµÑ\\x80Ñ\\x8bÐ¹ ÐºÐ¾Ñ\\x81Ð¼Ð¾Ñ\\x81)', r_ui=8.0, est=9.230912000987194, details={'actual_k': 31, 'was_impossible': False}),\n",
       " Prediction(uid='Hans', iid='Huawei P8lite zwart / 16 GB', r_ui=7.0, est=9.014365011459821, details={'actual_k': 4, 'was_impossible': False}),\n",
       " Prediction(uid='Manuela', iid='Huawei Ascend P8 Smartphone, Display 5.2\" FHD, Memoria RAM da 3 GB, Processore HiSilicon Kirin 930 Octa-Core, Fotocamera Principale 13 MP, Grigio', r_ui=10.0, est=8.0, details={'actual_k': 1, 'was_impossible': False}),\n",
       " Prediction(uid='Ronald', iid='Samsung Galaxy S7 Edge goud / 32 GB', r_ui=6.0, est=8.179395684021125, details={'actual_k': 4, 'was_impossible': False}),\n",
       " Prediction(uid='luca', iid='Lenovo Motorola Moto G Smartphone, 4,5 pollici display HD, processore Qualcomm, memoria 16GB, MicroSIM, Android 4.3 OS, fotocamera da 5 MP, Nero [Germania]', r_ui=8.0, est=10, details={'actual_k': 3, 'was_impossible': False}),\n",
       " Prediction(uid='Amazon Kunde', iid='Samsung Galaxy S5 Smartphone (5,1 Zoll (12,9 cm) Touch-Display, 16 GB Speicher, Android 4.4) electric blue', r_ui=2.0, est=9.897519834895002, details={'actual_k': 4, 'was_impossible': False}),\n",
       " Prediction(uid='Ð\\x9cÐ°ÐºÑ\\x81', iid='Sony Xperia L (Ð±ÐµÐ»Ñ\\x8bÐ¹)', r_ui=9.0, est=8.933618862349732, details={'actual_k': 6, 'was_impossible': False}),\n",
       " Prediction(uid='Martin', iid='Sony Xperia Z1 Compact Smartphone (4,3 Zoll (10,9 cm) Touch-Display, 16 GB Speicher, Android 4.3) pink', r_ui=2.0, est=6.964183147425647, details={'actual_k': 6, 'was_impossible': False}),\n",
       " Prediction(uid='Ð\\x9dÐ¸ÐºÐ¾Ð»Ð°Ð¹', iid='Samsung N7100 Galaxy Note II 16GB (Ñ\\x81ÐµÑ\\x80Ñ\\x8bÐ¹)', r_ui=9.0, est=9.508384553889094, details={'actual_k': 12, 'was_impossible': False}),\n",
       " Prediction(uid='Ð\\x9fÐ°Ð²ÐµÐ»', iid='Sony Xperia Z1 Compact (Ñ\\x87ÐµÑ\\x80Ð½Ñ\\x8bÐ¹)', r_ui=9.0, est=9.664810517993132, details={'actual_k': 24, 'was_impossible': False}),\n",
       " Prediction(uid='Sandra', iid='Samsung Galaxy S7 zwart / 32 GB', r_ui=8.0, est=8.575301374335243, details={'actual_k': 6, 'was_impossible': False}),\n",
       " Prediction(uid='Ð\\x95ÐºÐ°Ñ\\x82ÐµÑ\\x80Ð¸Ð½Ð°', iid='Samsung Galaxy S5 SM-G900F 16GB (Ñ\\x81Ð¸Ð½Ð¸Ð¹)', r_ui=6.0, est=6.684619668364817, details={'actual_k': 21, 'was_impossible': False}),\n",
       " Prediction(uid='Ð\\x92Ð¸ÐºÑ\\x82Ð¾Ñ\\x80Ð¸Ñ\\x8f', iid='Sony Xperia SP (Ð±ÐµÐ»Ñ\\x8bÐ¹)', r_ui=9.0, est=9.094211066503988, details={'actual_k': 13, 'was_impossible': False}),\n",
       " Prediction(uid='Ð\\x92Ð»Ð°Ð´Ð¸Ð¼Ð¸Ñ\\x80', iid='Sony Xperia Z (Ð±ÐµÐ»Ñ\\x8bÐ¹)', r_ui=9.0, est=8.665706171004471, details={'actual_k': 22, 'was_impossible': False}),\n",
       " Prediction(uid='antonio', iid='Lenovo Motorola Moto E Smartphone, Display 4.3 pollici qHD, Processore Qualcomm Dual-Core 1.2GHz, Memoria 4GB, 1GB RAM, Fotocamera 5MP, Android 4.4.2 KitKat, Bluetooth, WiFi, Bianco [Spagna]', r_ui=10.0, est=10, details={'actual_k': 3, 'was_impossible': False}),\n",
       " Prediction(uid='Pietro', iid=\"Huawei P9 Lite Smartphone, LTE, Display 5.2'' FHD, Processore Octa-Core Kirin 650, 16 GB Memoria Interna, 3GB RAM, Fotocamera 13 MP, Single-SIM, Android 6.0 Marshmallow, Bianco [Italia]\", r_ui=8.0, est=9.91538787601495, details={'actual_k': 7, 'was_impossible': False}),\n",
       " Prediction(uid='Jessica', iid='Huawei Y6 Smartphone, Display 5.0\" HD, IPS, 2 GB RAM, 8 GB Memoria Interna, Dual SIM, Fotocamera 8 MP, Android 5.1, Nero', r_ui=8.0, est=8.534906826732833, details={'actual_k': 2, 'was_impossible': False}),\n",
       " Prediction(uid='Ð\\x9dÐ¸ÐºÐ¾Ð»Ð°Ð¹', iid='Samsung Galaxy S4 GT-I9500 16GB (Ð±ÐµÐ»Ñ\\x8bÐ¹)', r_ui=10.0, est=8.167410989075563, details={'actual_k': 18, 'was_impossible': False}),\n",
       " Prediction(uid='Amazon Customer', iid='Sony Xperia L (Ñ\\x87ÐµÑ\\x80Ð½Ñ\\x8bÐ¹)', r_ui=7.0, est=9.165222427881496, details={'actual_k': 37, 'was_impossible': False}),\n",
       " Prediction(uid='Robert', iid='MICROSOFT Lumia 650 - 16 GB, Black', r_ui=6.0, est=8.763628617812119, details={'actual_k': 10, 'was_impossible': False}),\n",
       " Prediction(uid='Leonardo', iid='Lenovo Motorola Moto G Smartphone, 4,5 pollici display HD, processore Qualcomm, memoria 16GB, MicroSIM, Android 4.3 OS, fotocamera da 5 MP, Nero [Germania]', r_ui=10.0, est=7.705005069760177, details={'actual_k': 5, 'was_impossible': False}),\n",
       " Prediction(uid='Ð\\x95Ð²Ð³ÐµÐ½Ð¸Ñ\\x8f', iid='Sony Xperia Z (Ñ\\x87ÐµÑ\\x80Ð½Ñ\\x8bÐ¹)', r_ui=10.0, est=9.055452162553745, details={'actual_k': 12, 'was_impossible': False}),\n",
       " Prediction(uid='Paul', iid='APPLE iPhone 6s Plus - 128 GB, Rose Gold', r_ui=8.0, est=9.535388150989373, details={'actual_k': 12, 'was_impossible': False}),\n",
       " Prediction(uid='Jack', iid='Huawei Honor 5X Unlocked Smartphone, 16GB Dark Grey (US Warranty)', r_ui=6.0, est=9.439769949945465, details={'actual_k': 4, 'was_impossible': False}),\n",
       " Prediction(uid='Sergio', iid='Lenovo Motorola Moto G 4G 3 Generazione Smartphone, Display 5\", Fotocamera 13 MP, Memoria 16 GB, Android 6 Lollipop, Nero [Italia]', r_ui=10.0, est=8.657142857142857, details={'actual_k': 0, 'was_impossible': False}),\n",
       " Prediction(uid='roberto', iid='Samsung Galaxy J5 Smartphone, Oro [Italia]', r_ui=10.0, est=7.7491482350148235, details={'actual_k': 4, 'was_impossible': False}),\n",
       " Prediction(uid='Ð\\x98Ñ\\x80Ð¸Ð½Ð°', iid='Samsung Galaxy S4 mini Duos GT-I9192 (Ñ\\x87ÐµÑ\\x80Ð½Ñ\\x8bÐ¹)', r_ui=10.0, est=9.363666425593417, details={'actual_k': 15, 'was_impossible': False}),\n",
       " Prediction(uid='Mike', iid='MICROSOFT Lumia 650 - 16 GB, Black', r_ui=8.0, est=6.525428860467599, details={'actual_k': 2, 'was_impossible': False}),\n",
       " Prediction(uid='Ð\\x90Ð»ÐµÐºÑ\\x81Ð°Ð½Ð´Ñ\\x80', iid='Samsung Galaxy S5 SM-G900F 16GB (Ñ\\x87ÐµÑ\\x80Ð½Ñ\\x8bÐ¹)', r_ui=9.0, est=7.486564252173912, details={'actual_k': 33, 'was_impossible': False}),\n",
       " Prediction(uid='Ð®Ð»Ð¸Ñ\\x8f', iid='Sony Xperia C (Ñ\\x87ÐµÑ\\x80Ð½Ñ\\x8bÐ¹)', r_ui=7.0, est=8.64460463535354, details={'actual_k': 26, 'was_impossible': False}),\n",
       " Prediction(uid='unknown', iid='Sony Xperia Z1 Compact (Ñ\\x80Ð¾Ð·Ð¾Ð²Ñ\\x8bÐ¹)', r_ui=9.0, est=9.131373014450178, details={'actual_k': 2, 'was_impossible': False}),\n",
       " Prediction(uid='K', iid='Huawei P8 Lite goud, wit / 16 GB', r_ui=8.0, est=8.013536843720335, details={'actual_k': 2, 'was_impossible': False}),\n",
       " Prediction(uid='Ð\\x98Ð²Ð°Ð½', iid='Sony Xperia Z1 (Ð±ÐµÐ»Ñ\\x8bÐ¹)', r_ui=9.0, est=7.547844563481185, details={'actual_k': 24, 'was_impossible': False}),\n",
       " Prediction(uid='Elisa', iid='Lenovo Motorola Moto G 4G (2 Generazione) Smartphone, Display 5 Pollici, LTE, Fotocamera 8 MP, Memoria 8 GB, Android 5 Lollipop, Nero [Italia]', r_ui=10.0, est=7.552287581699346, details={'actual_k': 1, 'was_impossible': False}),\n",
       " Prediction(uid='Steve', iid='Sim Free Motorola Moto G 4th Generation Mobile Phone - Black', r_ui=10.0, est=10, details={'actual_k': 2, 'was_impossible': False}),\n",
       " Prediction(uid='Dan', iid='Huawei Honor 5X Unlocked Smartphone, 16GB Dark Grey (US Warranty)', r_ui=10.0, est=6.1037296037296045, details={'actual_k': 1, 'was_impossible': False}),\n",
       " Prediction(uid='Ð\\x9dÐ°Ñ\\x82Ð°Ð»Ñ\\x8cÑ\\x8f', iid='Sony Xperia Z1 Compact (Ñ\\x80Ð¾Ð·Ð¾Ð²Ñ\\x8bÐ¹)', r_ui=6.0, est=7.3919308087843065, details={'actual_k': 10, 'was_impossible': False}),\n",
       " Prediction(uid='Henry', iid='Samsung Galaxy S7 zwart / 32 GB', r_ui=10.0, est=8.305791993843542, details={'actual_k': 2, 'was_impossible': False}),\n",
       " Prediction(uid='Sam', iid='Sim Free Motorola Moto G 4th Generation Mobile Phone - Black', r_ui=10.0, est=5.794843003397949, details={'actual_k': 3, 'was_impossible': False}),\n",
       " Prediction(uid='Ð\\x90Ð»ÐµÐºÑ\\x81ÐµÐ¹', iid='Sony Xperia Z1 Compact (Ð±ÐµÐ»Ñ\\x8bÐ¹)', r_ui=10.0, est=8.50892527014395, details={'actual_k': 35, 'was_impossible': False}),\n",
       " Prediction(uid='Christian', iid='Lenovo Motorola Moto G Smartphone, Display HD 4,5\", Processore Qualcomm, Memoria 8 GB, MicroSIM, Android 4.4 OS, Fotocamera da 5 MP, Nero [Germania]', r_ui=10.0, est=9.646950526867602, details={'actual_k': 5, 'was_impossible': False}),\n",
       " Prediction(uid='Ð\\x92Ñ\\x8fÑ\\x87ÐµÑ\\x81Ð»Ð°Ð²', iid='Sony Xperia Z1 (Ñ\\x84Ð¸Ð¾Ð»ÐµÑ\\x82Ð¾Ð²Ñ\\x8bÐ¹)', r_ui=10.0, est=9.132208326474055, details={'actual_k': 6, 'was_impossible': False}),\n",
       " Prediction(uid='Ð\\x90Ð½Ð°Ñ\\x81Ñ\\x82Ð°Ñ\\x81Ð¸Ñ\\x8f', iid='Apple iPhone 5s 16GB (Ñ\\x81ÐµÑ\\x80ÐµÐ±Ñ\\x80Ð¸Ñ\\x81Ñ\\x82Ñ\\x8bÐ¹)', r_ui=10.0, est=6.908949046549505, details={'actual_k': 21, 'was_impossible': False}),\n",
       " Prediction(uid='Ð\\x90Ð½Ð°Ñ\\x82Ð¾Ð»Ð¸Ð¹', iid='Apple iPhone 5s 16GB (Ñ\\x81ÐµÑ\\x80ÐµÐ±Ñ\\x80Ð¸Ñ\\x81Ñ\\x82Ñ\\x8bÐ¹)', r_ui=7.0, est=9.782273965292552, details={'actual_k': 4, 'was_impossible': False}),\n",
       " Prediction(uid='Roberta', iid='Asus ZE551ML-2A760WW Smartphone ZenFone 2 Deluxe, 5.5\", 4 GB RAM, 64 GB, Intel Quad-Core Z3580, Dual SIM, Illusion Purple', r_ui=10.0, est=6.750454012279281, details={'actual_k': 5, 'was_impossible': False}),\n",
       " Prediction(uid='Jose', iid='Alcatel OneTouch Idol 3 Global Unlocked 4G LTE Smartphone, 5.5 HD IPS Display, 16GB (GSM - US Warranty)', r_ui=6.0, est=10, details={'actual_k': 1, 'was_impossible': False}),\n",
       " Prediction(uid='enrico', iid='Lenovo Motorola Moto G Smartphone, Display HD 4,5\", Processore Qualcomm, Memoria 8 GB, MicroSIM, Android 4.4 OS, Fotocamera da 5 MP, Nero [Germania]', r_ui=10.0, est=8.043163259763475, details={'actual_k': 3, 'was_impossible': False}),\n",
       " Prediction(uid='Rafael', iid='Sony Xperia Z1 Compact (Ñ\\x80Ð¾Ð·Ð¾Ð²Ñ\\x8bÐ¹)', r_ui=9.0, est=9.22703818369453, details={'actual_k': 1, 'was_impossible': False}),\n",
       " Prediction(uid='Jose', iid='Huawei Honor 5X Unlocked Smartphone, 16GB Dark Grey (US Warranty)', r_ui=6.0, est=10, details={'actual_k': 2, 'was_impossible': False}),\n",
       " Prediction(uid='Julia', iid='Huawei P8 Champagne / 16 GB - Overzicht', r_ui=8.0, est=8.327779538185125, details={'actual_k': 2, 'was_impossible': False}),\n",
       " Prediction(uid='Alfredo', iid='Lenovo Motorola Moto G 4G (2 Generazione) Smartphone, Display 5 Pollici, LTE, Fotocamera 8 MP, Memoria 8 GB, Android 5 Lollipop, Nero [Italia]', r_ui=4.0, est=10, details={'actual_k': 1, 'was_impossible': False}),\n",
       " Prediction(uid='Ð\\x90Ð½Ñ\\x82Ð¾Ð½', iid='Sony Xperia L (ÐºÑ\\x80Ð°Ñ\\x81Ð½Ñ\\x8bÐ¹)', r_ui=10.0, est=9.128184850790356, details={'actual_k': 17, 'was_impossible': False}),\n",
       " Prediction(uid='Ð®Ñ\\x80Ð¸Ð¹', iid='Samsung Galaxy S4 GT-I9500 16GB (Ñ\\x87ÐµÑ\\x80Ð½Ñ\\x8bÐ¹)', r_ui=10.0, est=7.6793715570078716, details={'actual_k': 22, 'was_impossible': False}),\n",
       " Prediction(uid='Mirko', iid='Lenovo Motorola Moto G 4G (2 Generazione) Smartphone, Display 5 Pollici, LTE, Fotocamera 8 MP, Memoria 8 GB, Android 5 Lollipop, Nero [Italia]', r_ui=6.0, est=9.220886360672537, details={'actual_k': 4, 'was_impossible': False}),\n",
       " Prediction(uid='Ð\\x92Ð»Ð°Ð´', iid='Sony Xperia M (Ð±ÐµÐ»Ñ\\x8bÐ¹)', r_ui=9.0, est=8.499080381568099, details={'actual_k': 4, 'was_impossible': False}),\n",
       " Prediction(uid='laura', iid='Samsung Galaxy A5 2016 Smartphone LTE, 16GB, Nero', r_ui=10.0, est=10, details={'actual_k': 2, 'was_impossible': False}),\n",
       " Prediction(uid='Rene', iid='Huawei P8 Champagne / 16 GB - Overzicht', r_ui=9.0, est=9.299207273413352, details={'actual_k': 4, 'was_impossible': False}),\n",
       " Prediction(uid='Ð\\x95Ð²Ð³ÐµÐ½Ð¸Ñ\\x8f', iid='Sony Xperia Z (Ð±ÐµÐ»Ñ\\x8bÐ¹)', r_ui=8.0, est=9.705160316191536, details={'actual_k': 12, 'was_impossible': False}),\n",
       " Prediction(uid='Elena', iid='Asus ZenFone 2 Laser Smartphone, Display da 5\", 16 GB, Dual SIM, Nero [Italia]', r_ui=4.0, est=9.853481723308922, details={'actual_k': 8, 'was_impossible': False}),\n",
       " Prediction(uid='Ð¡ÐµÑ\\x80Ð³ÐµÐ¹', iid='Samsung Galaxy S4 GT-I9500 16GB (Ð±ÐµÐ»Ñ\\x8bÐ¹)', r_ui=8.0, est=4.535170114003874, details={'actual_k': 29, 'was_impossible': False}),\n",
       " Prediction(uid='francesco', iid='Lenovo Motorola Moto G LTE Smartphone, Display 4.5\", Fotocamera 5 MP, Memoria 8 GB, Quad-Core 1.2 GHz, 1 GB RAM, Micro SD, Android 4.4.3, Bianco [Italia]', r_ui=10.0, est=8.623735052798487, details={'actual_k': 5, 'was_impossible': False}),\n",
       " Prediction(uid='Ð\\x9aÐ¸Ñ\\x80Ð¸Ð»Ð»', iid='Apple iPhone 5s 16GB (Ñ\\x81ÐµÑ\\x80Ñ\\x8bÐ¹ ÐºÐ¾Ñ\\x81Ð¼Ð¾Ñ\\x81)', r_ui=10.0, est=8.905649574581686, details={'actual_k': 19, 'was_impossible': False}),\n",
       " Prediction(uid='Ð\\x9cÐ°ÐºÑ\\x81Ð¸Ð¼', iid='Sony Xperia Z (Ð±ÐµÐ»Ñ\\x8bÐ¹)', r_ui=8.0, est=9.645321059342278, details={'actual_k': 19, 'was_impossible': False}),\n",
       " Prediction(uid='Ð\\x9dÐ°Ñ\\x82Ð°Ð»Ñ\\x8cÑ\\x8f', iid='Sony Xperia J (Ñ\\x87ÐµÑ\\x80Ð½Ñ\\x8bÐ¹)', r_ui=9.0, est=6.29902950434572, details={'actual_k': 21, 'was_impossible': False}),\n",
       " Prediction(uid='Federico', iid='Asus ZE551ML-2A760WW Smartphone ZenFone 2 Deluxe, 5.5\", 4 GB RAM, 64 GB, Intel Quad-Core Z3580, Dual SIM, Illusion Purple', r_ui=10.0, est=9.506710164253903, details={'actual_k': 3, 'was_impossible': False}),\n",
       " Prediction(uid='Simone', iid='Lenovo Motorola Moto G Smartphone, 4,5 pollici display HD, processore Qualcomm, memoria 16GB, MicroSIM, Android 4.3 OS, fotocamera da 5 MP, Nero [Germania]', r_ui=10.0, est=7.918920725724509, details={'actual_k': 6, 'was_impossible': False}),\n",
       " Prediction(uid='Ð\\x92Ð¸Ñ\\x82Ð°Ð»Ð¸Ð¹', iid='Samsung Galaxy S5 SM-G900F 16GB (Ð·Ð¾Ð»Ð¾Ñ\\x82Ð¸Ñ\\x81Ñ\\x82Ñ\\x8bÐ¹)', r_ui=5.0, est=7.873307522249855, details={'actual_k': 11, 'was_impossible': False}),\n",
       " Prediction(uid='Ð\\x9cÐ°ÐºÑ\\x81', iid='Sony Xperia Z (Ð±ÐµÐ»Ñ\\x8bÐ¹)', r_ui=10.0, est=8.903711000659149, details={'actual_k': 6, 'was_impossible': False}),\n",
       " Prediction(uid='Daniel', iid='Samsung Galaxy S7 goud, roze / 32 GB', r_ui=9.0, est=8.770833044493894, details={'actual_k': 9, 'was_impossible': False}),\n",
       " Prediction(uid='Patrick', iid='MICROSOFT Lumia 650 - 16 GB, Black', r_ui=6.0, est=9.962532912658444, details={'actual_k': 4, 'was_impossible': False}),\n",
       " Prediction(uid='Adam', iid='APPLE iPhone 7 - Silver, 128 GB', r_ui=10.0, est=8.426666666666666, details={'actual_k': 0, 'was_impossible': False}),\n",
       " Prediction(uid='Sandra', iid='Samsung Galaxy S7 zwart / 32 GB', r_ui=9.0, est=8.575301374335243, details={'actual_k': 6, 'was_impossible': False}),\n",
       " Prediction(uid='matteo', iid=\"Huawei P9 Lite Smartphone, LTE, Display 5.2'' FHD, Processore Octa-Core Kirin 650, 16 GB Memoria Interna, 3GB RAM, Fotocamera 13 MP, Single-SIM, Android 6.0 Marshmallow, Nero [Italia]\", r_ui=10.0, est=9.894129479648713, details={'actual_k': 4, 'was_impossible': False}),\n",
       " Prediction(uid='Michael', iid='Lenovo Motorola Moto G Smartphone, 4,5 pollici display HD, processore Qualcomm, memoria 16GB, MicroSIM, Android 4.3 OS, fotocamera da 5 MP, Nero [Germania]', r_ui=10.0, est=9.38614052405746, details={'actual_k': 8, 'was_impossible': False}),\n",
       " Prediction(uid='JÃ¼rgen', iid='Samsung Galaxy S3 mini (GT-I8200) Smartphone (4 Zoll (10,2 cm) Touch-Display, 8 GB Speicher, Android 4.2) blau', r_ui=10.0, est=9.041666666666668, details={'actual_k': 1, 'was_impossible': False}),\n",
       " Prediction(uid='Peter', iid='Samsung Galaxy S5 Smartphone (5,1 Zoll (12,9 cm) Touch-Display, 16 GB Speicher, Android 4.4) electric blue', r_ui=10.0, est=4.35512867434168, details={'actual_k': 9, 'was_impossible': False}),\n",
       " Prediction(uid='Henry', iid='Huawei P8 Champagne / 16 GB', r_ui=9.0, est=9.876471545761579, details={'actual_k': 2, 'was_impossible': False}),\n",
       " Prediction(uid='Danilo', iid='LG G4 Smartphone Display IPS 5.5\" QHD, Fotocamera 16 MP, Memoria Interna 32 GB, 3 GB RAM, Colore Marrone', r_ui=10.0, est=2.082267100887792, details={'actual_k': 2, 'was_impossible': False}),\n",
       " Prediction(uid='Francesco', iid='WIKO Fever 4G Smartphone, 16 GB, Dual SIM, Bianco', r_ui=10.0, est=8.31323779411195, details={'actual_k': 9, 'was_impossible': False}),\n",
       " Prediction(uid='Alessio', iid='WIKO Fever 4G Smartphone, 16 GB, Dual SIM, Bianco', r_ui=10.0, est=4.708896625822026, details={'actual_k': 8, 'was_impossible': False}),\n",
       " Prediction(uid='Steve', iid='APPLE iPhone 7 - Silver, 32 GB', r_ui=4.0, est=4.021372894141312, details={'actual_k': 1, 'was_impossible': False}),\n",
       " Prediction(uid='Ashley', iid='MICROSOFT Lumia 650 - 16 GB, Black', r_ui=1.0, est=7.695340501792114, details={'actual_k': 1, 'was_impossible': False}),\n",
       " Prediction(uid='Ð\\x90Ð½Ð´Ñ\\x80ÐµÐ¹', iid='Sony Xperia L (Ñ\\x87ÐµÑ\\x80Ð½Ñ\\x8bÐ¹)', r_ui=8.0, est=9.276468981053704, details={'actual_k': 34, 'was_impossible': False}),\n",
       " Prediction(uid='Ð\\xa0Ð¾Ð¼Ð°Ð½', iid='Sony Xperia SP (ÐºÑ\\x80Ð°Ñ\\x81Ð½Ñ\\x8bÐ¹)', r_ui=9.0, est=7.453935470197307, details={'actual_k': 26, 'was_impossible': False}),\n",
       " Prediction(uid='Ð\\xa0Ð¾Ð¼Ð°Ð½', iid='Sony Xperia Z1 (Ñ\\x84Ð¸Ð¾Ð»ÐµÑ\\x82Ð¾Ð²Ñ\\x8bÐ¹)', r_ui=9.0, est=4.862244456285902, details={'actual_k': 26, 'was_impossible': False}),\n",
       " Prediction(uid='Ð\\x90Ð½Ð½Ð°', iid='Sony Xperia Z1 (Ð±ÐµÐ»Ñ\\x8bÐ¹)', r_ui=10.0, est=8.623381714022155, details={'actual_k': 14, 'was_impossible': False}),\n",
       " Prediction(uid='Nick', iid='MICROSOFT Lumia 650 - 16 GB, Black', r_ui=9.0, est=7.625310941345937, details={'actual_k': 2, 'was_impossible': False}),\n",
       " Prediction(uid='Ð\\x92Ð»Ð°Ð´Ð¸Ð¼Ð¸Ñ\\x80', iid='Sony Xperia Z1 (Ð±ÐµÐ»Ñ\\x8bÐ¹)', r_ui=9.0, est=8.848367523444175, details={'actual_k': 26, 'was_impossible': False}),\n",
       " Prediction(uid='Ð\\x9aÐ¾Ð½Ñ\\x81Ñ\\x82Ð°Ð½Ñ\\x82Ð¸Ð½', iid='Apple iPhone 5s 16GB (Ñ\\x81ÐµÑ\\x80ÐµÐ±Ñ\\x80Ð¸Ñ\\x81Ñ\\x82Ñ\\x8bÐ¹)', r_ui=10.0, est=5.643575033040659, details={'actual_k': 8, 'was_impossible': False}),\n",
       " Prediction(uid='Maria', iid='Apple iPhone 5 Unlocked Cellphone, 32GB, Black', r_ui=2.0, est=9.857317829524046, details={'actual_k': 6, 'was_impossible': False}),\n",
       " Prediction(uid='jesus', iid='Motorola Moto G (3Âª GeneraciÃ³n) + Carcasa Oficial color turquesa - Smartphone libre Android 6 (4G, pantalla 5\", cÃ¡mara 13 Mp, 16 GB, Quad Core 1.4 GHz, 2 GB de RAM), negro', r_ui=10.0, est=8.0, details={'actual_k': 1, 'was_impossible': False}),\n",
       " Prediction(uid='Ð\\x95Ð²Ð³ÐµÐ½Ð¸Ð¹', iid='Sony Xperia Z1 (Ð±ÐµÐ»Ñ\\x8bÐ¹)', r_ui=9.0, est=7.711566364325359, details={'actual_k': 26, 'was_impossible': False}),\n",
       " Prediction(uid='Ð\\xa0Ð¾Ð¼Ð°Ð½', iid='Samsung Galaxy S5 SM-G900F 16GB (Ð±ÐµÐ»Ñ\\x8bÐ¹)', r_ui=9.0, est=7.502684409224561, details={'actual_k': 22, 'was_impossible': False}),\n",
       " Prediction(uid='Ð\\x9aÐ¸Ñ\\x80Ð¸Ð»Ð»', iid='Sony Xperia Z (Ñ\\x87ÐµÑ\\x80Ð½Ñ\\x8bÐ¹)', r_ui=10.0, est=8.61070960299466, details={'actual_k': 16, 'was_impossible': False}),\n",
       " Prediction(uid='Ð\\x9aÑ\\x80Ð¸Ñ\\x81Ñ\\x82Ð¸Ð½Ð°', iid='Sony Xperia M (Ñ\\x87ÐµÑ\\x80Ð½Ñ\\x8bÐ¹)', r_ui=7.0, est=9.475799398562355, details={'actual_k': 15, 'was_impossible': False}),\n",
       " Prediction(uid='Ð\\x9fÐ°Ð²ÐµÐ»', iid='Sony Xperia J (Ñ\\x87ÐµÑ\\x80Ð½Ñ\\x8bÐ¹)', r_ui=7.0, est=9.132202843234955, details={'actual_k': 24, 'was_impossible': False}),\n",
       " Prediction(uid='Ð\\x90Ð½Ð´Ñ\\x80ÐµÐ¹', iid='Sony Xperia C (Ñ\\x87ÐµÑ\\x80Ð½Ñ\\x8bÐ¹)', r_ui=10.0, est=8.20052614250782, details={'actual_k': 44, 'was_impossible': False}),\n",
       " Prediction(uid='nicola', iid='Huawei P8 Lite Smartphone, Display 5\" IPS, Processore Octa-Core 1.5 GHz, Memoria Interna da 16 GB, 2 GB RAM, Fotocamera 13 MP, monoSIM, Android 5.0, Bianco [Italia]', r_ui=6.0, est=8.97594050743657, details={'actual_k': 1, 'was_impossible': False}),\n",
       " Prediction(uid='Roberto', iid='Lenovo Motorola Moto G Smartphone, 4,5 pollici display HD, processore Qualcomm, memoria 16GB, MicroSIM, Android 4.3 OS, fotocamera da 5 MP, Nero [Germania]', r_ui=6.0, est=9.78258819504029, details={'actual_k': 12, 'was_impossible': False}),\n",
       " Prediction(uid='Ð\\x94Ð¼Ð¸Ñ\\x82Ñ\\x80Ð¸Ð¹', iid='Sony Xperia Z (Ñ\\x87ÐµÑ\\x80Ð½Ñ\\x8bÐ¹)', r_ui=10.0, est=6.249962462424474, details={'actual_k': 33, 'was_impossible': False}),\n",
       " Prediction(uid='Marcel', iid='Huawei P8 Lite goud, wit / 16 GB', r_ui=9.0, est=8.134012817818773, details={'actual_k': 4, 'was_impossible': False}),\n",
       " Prediction(uid='Ð\\x94ÐµÐ½Ð¸Ñ\\x81', iid='Sony Xperia SP (ÐºÑ\\x80Ð°Ñ\\x81Ð½Ñ\\x8bÐ¹)', r_ui=10.0, est=7.850330039056075, details={'actual_k': 28, 'was_impossible': False}),\n",
       " Prediction(uid='Ð\\x90Ð½Ð´Ñ\\x80ÐµÐ¹', iid='Samsung N7100 Galaxy Note II 16GB (Ñ\\x81ÐµÑ\\x80Ñ\\x8bÐ¹)', r_ui=5.0, est=9.094872216705514, details={'actual_k': 28, 'was_impossible': False}),\n",
       " Prediction(uid='Luigi', iid='Alcatel One Touch 20-04G Telefono Cellulare, Nero', r_ui=6.0, est=7.502099749878855, details={'actual_k': 6, 'was_impossible': False}),\n",
       " Prediction(uid='Chris', iid='Alcatel OneTouch Idol 3 Global Unlocked 4G LTE Smartphone, 5.5 HD IPS Display, 16GB (GSM - US Warranty)', r_ui=2.0, est=4.275001570127528, details={'actual_k': 7, 'was_impossible': False}),\n",
       " Prediction(uid='M', iid='Alcatel OneTouch Idol 3 Global Unlocked 4G LTE Smartphone, 5.5 HD IPS Display, 16GB (GSM - US Warranty)', r_ui=2.0, est=8.737066948418912, details={'actual_k': 2, 'was_impossible': False}),\n",
       " Prediction(uid='Ð\\x90Ð½Ð´Ñ\\x80ÐµÐ¹', iid='Samsung Galaxy S4 GT-I9500 16GB (Ð±ÐµÐ»Ñ\\x8bÐ¹)', r_ui=2.0, est=7.124118608065234, details={'actual_k': 38, 'was_impossible': False}),\n",
       " Prediction(uid='Ð¯Ð½Ð°', iid='Apple iPhone 5s 16GB (Ñ\\x81ÐµÑ\\x80Ñ\\x8bÐ¹ ÐºÐ¾Ñ\\x81Ð¼Ð¾Ñ\\x81)', r_ui=8.0, est=9.004694494381878, details={'actual_k': 3, 'was_impossible': False}),\n",
       " Prediction(uid='Ð\\x9fÐ°Ð²ÐµÐ»', iid='Sony Xperia J (Ñ\\x87ÐµÑ\\x80Ð½Ñ\\x8bÐ¹)', r_ui=8.0, est=9.132202843234955, details={'actual_k': 24, 'was_impossible': False}),\n",
       " Prediction(uid='Ð\\x9dÐ¸ÐºÐ¾Ð»Ð°Ð¹', iid='Samsung Galaxy S4 GT-I9500 16GB (Ñ\\x87ÐµÑ\\x80Ð½Ñ\\x8bÐ¹)', r_ui=10.0, est=8.266876053117095, details={'actual_k': 24, 'was_impossible': False}),\n",
       " Prediction(uid='giorgio', iid='Huawei Y6 Smartphone, Display 5.0\" HD, IPS, 2 GB RAM, 8 GB Memoria Interna, Dual SIM, Fotocamera 8 MP, Android 5.1, Nero', r_ui=8.0, est=10, details={'actual_k': 1, 'was_impossible': False}),\n",
       " Prediction(uid='Ivan', iid='LG D802 G2 Smartphone, 16 GB, Nero [Italia]', r_ui=4.0, est=9.255813953488373, details={'actual_k': 0, 'was_impossible': False}),\n",
       " Prediction(uid='Sandro', iid='Asus ZenFone 2 Laser 5.5\" Smartphone, 16 GB, Dual SIM, Nero [Italia]', r_ui=8.0, est=9.83479674796748, details={'actual_k': 1, 'was_impossible': False}),\n",
       " Prediction(uid='Dave', iid='Lenovo Motorola Moto G 4G (2 Generazione) Smartphone, Display 5 Pollici, LTE, Fotocamera 8 MP, Memoria 8 GB, Android 5 Lollipop, Nero [Italia]', r_ui=10.0, est=8.98556529878404, details={'actual_k': 3, 'was_impossible': False}),\n",
       " Prediction(uid='Matthew', iid='APPLE iPhone 7 - Silver, 128 GB', r_ui=7.0, est=8.426666666666666, details={'actual_k': 0, 'was_impossible': False}),\n",
       " Prediction(uid='Cliente Amazon', iid='Lenovo Motorola Moto E Smartphone, Display 4.3 pollici qHD, Processore Qualcomm Dual-Core 1.2GHz, Memoria 4GB, 1GB RAM, Fotocamera 5MP, Android 4.4.2 KitKat, Bluetooth, WiFi, Bianco [Spagna]', r_ui=10.0, est=7.188298593376228, details={'actual_k': 29, 'was_impossible': False}),\n",
       " Prediction(uid='Alex', iid='Samsung Galaxy S4 mini Duos GT-I9192 (Ð±ÐµÐ»Ñ\\x8bÐ¹)', r_ui=10.0, est=9.29050172659298, details={'actual_k': 15, 'was_impossible': False}),\n",
       " Prediction(uid='Ð\\x94ÐµÐ½Ð¸Ñ\\x81', iid='Samsung Galaxy S4 GT-I9500 16GB (Ð±ÐµÐ»Ñ\\x8bÐ¹)', r_ui=7.0, est=5.740216676797719, details={'actual_k': 28, 'was_impossible': False}),\n",
       " Prediction(uid='Jan', iid='Huawei P8 grijs / 16 GB', r_ui=8.0, est=9.003517497670908, details={'actual_k': 2, 'was_impossible': False}),\n",
       " Prediction(uid='Luis', iid='Huawei P8 Lite-AM08 - Pack Smartphone Huawei P8 Lite negro con Altavoz portÃ¡til AM08 Gold (2 GB de RAM, 16 GB de memoria interna, cÃ¡mara 13 Mpxs/8Mpx), color negro', r_ui=4.0, est=2.2089709595118574, details={'actual_k': 4, 'was_impossible': False}),\n",
       " Prediction(uid='Claudio', iid='Samsung G935 Galaxy S7 Edge Smartphone da 32GB, Argento [Italia]', r_ui=10.0, est=8.989875923526464, details={'actual_k': 3, 'was_impossible': False}),\n",
       " Prediction(uid='Peter', iid='SAMSUNG Galaxy A3 (2017) - 16 GB, Black', r_ui=8.0, est=8.943685858242414, details={'actual_k': 10, 'was_impossible': False}),\n",
       " Prediction(uid='francesco', iid=\"Huawei P9 Lite Smartphone, LTE, Display 5.2'' FHD, Processore Octa-Core Kirin 650, 16 GB Memoria Interna, 3GB RAM, Fotocamera 13 MP, Single-SIM, Android 6.0 Marshmallow, Bianco [Italia]\", r_ui=8.0, est=9.9435958531508, details={'actual_k': 4, 'was_impossible': False}),\n",
       " Prediction(uid='Adam', iid='APPLE iPhone 7 - Silver, 128 GB', r_ui=9.0, est=8.426666666666666, details={'actual_k': 0, 'was_impossible': False}),\n",
       " Prediction(uid='Monica', iid='Alcatel One Touch 20-04G Telefono Cellulare, Nero', r_ui=10.0, est=8.097560975609756, details={'actual_k': 0, 'was_impossible': False}),\n",
       " Prediction(uid='Ð¯Ð½Ð°', iid='Sony Xperia Z1 (Ð±ÐµÐ»Ñ\\x8bÐ¹)', r_ui=10.0, est=7.420778393568407, details={'actual_k': 8, 'was_impossible': False}),\n",
       " Prediction(uid='Ð\\x90Ð½Ð´Ñ\\x80ÐµÐ¹', iid='Samsung Galaxy S5 SM-G900F 16GB (Ð±ÐµÐ»Ñ\\x8bÐ¹)', r_ui=10.0, est=5.711797950455907, details={'actual_k': 47, 'was_impossible': False}),\n",
       " Prediction(uid='Ð\\x9dÐ°Ñ\\x82Ð°Ð»Ñ\\x8cÑ\\x8f', iid='Sony Xperia ZR (Ñ\\x87ÐµÑ\\x80Ð½Ñ\\x8bÐ¹)', r_ui=10.0, est=7.233933854314774, details={'actual_k': 24, 'was_impossible': False}),\n",
       " Prediction(uid='Pietro', iid='Asus ZenFone 2 Laser 5.5\" Smartphone, 16 GB, Dual SIM, Nero [Italia]', r_ui=8.0, est=9.229640828218988, details={'actual_k': 5, 'was_impossible': False}),\n",
       " Prediction(uid='Erik', iid='Samsung Galaxy S7 zwart / 32 GB', r_ui=8.0, est=8.47657073239587, details={'actual_k': 3, 'was_impossible': False}),\n",
       " Prediction(uid='Ð\\x9cÐ°Ñ\\x80Ð¸Ð½Ð°', iid='Sony Xperia J (Ñ\\x87ÐµÑ\\x80Ð½Ñ\\x8bÐ¹)', r_ui=10.0, est=7.328607414119424, details={'actual_k': 19, 'was_impossible': False}),\n",
       " Prediction(uid='Federico', iid='Motorola Moto X Pure Edition Unlocked Smartphone, 64 GB Black XT1575, 5.7\" Quad HD display, 21 MP Camera, Quad-core 1.8GHz', r_ui=10.0, est=7.7108137030105075, details={'actual_k': 4, 'was_impossible': False}),\n",
       " Prediction(uid='Tom', iid='Samsung Galaxy S7 goud, roze / 32 GB', r_ui=10.0, est=8.4937487916708, details={'actual_k': 9, 'was_impossible': False}),\n",
       " Prediction(uid='Ð\\x90Ð½Ð´Ñ\\x80ÐµÐ¹', iid='Apple iPhone 5s 16GB (Ñ\\x81ÐµÑ\\x80ÐµÐ±Ñ\\x80Ð¸Ñ\\x81Ñ\\x82Ñ\\x8bÐ¹)', r_ui=10.0, est=7.941672901314135, details={'actual_k': 32, 'was_impossible': False}),\n",
       " Prediction(uid='Ð¯Ð½Ð°', iid='Sony Xperia Z (Ñ\\x87ÐµÑ\\x80Ð½Ñ\\x8bÐ¹)', r_ui=10.0, est=7.9561582935686275, details={'actual_k': 4, 'was_impossible': False}),\n",
       " Prediction(uid='Vanessa', iid='Lenovo Motorola Moto G Smartphone, 4,5 pollici display HD, processore Qualcomm, memoria 16GB, MicroSIM, Android 4.3 OS, fotocamera da 5 MP, Nero [Germania]', r_ui=10.0, est=9.970789532584673, details={'actual_k': 2, 'was_impossible': False}),\n",
       " Prediction(uid='Ð\\x9eÐ»Ñ\\x8cÐ³Ð°', iid='Samsung Galaxy S4 mini Duos GT-I9192 (Ð±ÐµÐ»Ñ\\x8bÐ¹)', r_ui=8.0, est=6.848460126100146, details={'actual_k': 19, 'was_impossible': False}),\n",
       " Prediction(uid='Ð\\x94Ð°Ñ\\x80Ñ\\x8cÑ\\x8f', iid='Sony Xperia L (Ñ\\x87ÐµÑ\\x80Ð½Ñ\\x8bÐ¹)', r_ui=5.0, est=7.4778708972902095, details={'actual_k': 13, 'was_impossible': False}),\n",
       " Prediction(uid='Simone', iid='SAMSUNG Galaxy A3 (2017) - 16 GB, Black', r_ui=10.0, est=4.905048942389129, details={'actual_k': 4, 'was_impossible': False}),\n",
       " Prediction(uid='Tom', iid='Huawei P8lite zwart / 16 GB', r_ui=7.0, est=9.057346981202059, details={'actual_k': 6, 'was_impossible': False}),\n",
       " Prediction(uid='Ð\\x92Ð¸ÐºÑ\\x82Ð¾Ñ\\x80', iid='Sony Xperia ZR (Ñ\\x87ÐµÑ\\x80Ð½Ñ\\x8bÐ¹)', r_ui=10.0, est=9.137145440511482, details={'actual_k': 8, 'was_impossible': False}),\n",
       " Prediction(uid='Ð\\x90Ð½Ñ\\x82Ð¾Ð½', iid='Samsung N7100 Galaxy Note II 16GB (Ð±ÐµÐ»Ñ\\x8bÐ¹)', r_ui=9.0, est=9.636807962623273, details={'actual_k': 16, 'was_impossible': False}),\n",
       " Prediction(uid='Enzo', iid=\"Huawei P9 Lite Smartphone, LTE, Display 5.2'' FHD, Processore Octa-Core Kirin 650, 16 GB Memoria Interna, 3GB RAM, Fotocamera 13 MP, Single-SIM, Android 6.0 Marshmallow, Nero [Italia]\", r_ui=10.0, est=7.7011866712768535, details={'actual_k': 3, 'was_impossible': False}),\n",
       " Prediction(uid='Ð\\x90Ñ\\x80Ñ\\x82ÐµÐ¼', iid='Sony Xperia Z1 Compact (Ð»Ð°Ð¹Ð¼)', r_ui=10.0, est=9.697310730552633, details={'actual_k': 15, 'was_impossible': False}),\n",
       " Prediction(uid='Ð¯Ð½Ð°', iid='Samsung N7100 Galaxy Note II 16GB (Ð±ÐµÐ»Ñ\\x8bÐ¹)', r_ui=10.0, est=5.4600922178894855, details={'actual_k': 5, 'was_impossible': False}),\n",
       " Prediction(uid='Ð\\x92Ð°Ð´Ð¸Ð¼', iid='Samsung Galaxy S4 GT-I9500 16GB (Ð±ÐµÐ»Ñ\\x8bÐ¹)', r_ui=6.0, est=7.034796000251649, details={'actual_k': 7, 'was_impossible': False}),\n",
       " Prediction(uid='giorgio', iid='Lenovo Motorola Moto G LTE Smartphone, Display 4.5\", Fotocamera 5 MP, Memoria 8 GB, Quad-Core 1.2 GHz, 1 GB RAM, Micro SD, Android 4.4.3, Bianco [Italia]', r_ui=2.0, est=10, details={'actual_k': 3, 'was_impossible': False}),\n",
       " Prediction(uid='Ð\\x92Ð»Ð°Ð´Ð¸Ð¼Ð¸Ñ\\x80', iid='Apple iPhone 5s 16GB (Ñ\\x81ÐµÑ\\x80ÐµÐ±Ñ\\x80Ð¸Ñ\\x81Ñ\\x82Ñ\\x8bÐ¹)', r_ui=9.0, est=8.828684315236847, details={'actual_k': 24, 'was_impossible': False}),\n",
       " Prediction(uid='Ð\\x98Ð»Ñ\\x8cÑ\\x8f', iid='Samsung Galaxy S4 GT-I9500 16GB (Ð±ÐµÐ»Ñ\\x8bÐ¹)', r_ui=10.0, est=6.215360115239998, details={'actual_k': 16, 'was_impossible': False}),\n",
       " Prediction(uid='Ð¢Ð°Ñ\\x82Ñ\\x8cÑ\\x8fÐ½Ð°', iid='Samsung Galaxy A3', r_ui=10.0, est=6.364808017043215, details={'actual_k': 20, 'was_impossible': False}),\n",
       " Prediction(uid='Nicola', iid=\"Huawei P9 Lite Smartphone, LTE, Display 5.2'' FHD, Processore Octa-Core Kirin 650, 16 GB Memoria Interna, 3GB RAM, Fotocamera 13 MP, Single-SIM, Android 6.0 Marshmallow, Nero [Italia]\", r_ui=8.0, est=8.255806607727095, details={'actual_k': 8, 'was_impossible': False}),\n",
       " Prediction(uid='giovanni', iid='Lenovo Motorola Moto G Smartphone, 4,5 pollici display HD, processore Qualcomm, memoria 16GB, MicroSIM, Android 4.3 OS, fotocamera da 5 MP, Nero [Germania]', r_ui=10.0, est=10, details={'actual_k': 1, 'was_impossible': False}),\n",
       " Prediction(uid='Ð\\x95Ð³Ð¾Ñ\\x80', iid='Sony Xperia SP (ÐºÑ\\x80Ð°Ñ\\x81Ð½Ñ\\x8bÐ¹)', r_ui=6.0, est=8.219275526598516, details={'actual_k': 11, 'was_impossible': False}),\n",
       " Prediction(uid='Ð\\x90Ð»ÐµÐºÑ\\x81ÐµÐ¹', iid='Sony Xperia Z (Ð±ÐµÐ»Ñ\\x8bÐ¹)', r_ui=6.0, est=7.187439994077129, details={'actual_k': 28, 'was_impossible': False}),\n",
       " Prediction(uid='Ð\\x92Ñ\\x8fÑ\\x87ÐµÑ\\x81Ð»Ð°Ð²', iid='Sony Xperia Z1 (Ð±ÐµÐ»Ñ\\x8bÐ¹)', r_ui=10.0, est=8.678292773144456, details={'actual_k': 10, 'was_impossible': False}),\n",
       " Prediction(uid='Ð\\x90Ð½Ð½Ð°', iid='Samsung Galaxy S4 GT-I9500 16GB (Ð±ÐµÐ»Ñ\\x8bÐ¹)', r_ui=8.0, est=9.64698830519355, details={'actual_k': 13, 'was_impossible': False}),\n",
       " Prediction(uid='Cliente Amazon', iid='Asus ZenFone 2 Laser Smartphone, Display da 5\", 16 GB, Dual SIM, Nero [Italia]', r_ui=10.0, est=5.648157913143893, details={'actual_k': 27, 'was_impossible': False}),\n",
       " Prediction(uid='Ð\\x9eÐ»Ñ\\x8cÐ³Ð°', iid='Sony Xperia C (Ñ\\x84Ð¸Ð¾Ð»ÐµÑ\\x82Ð¾Ð²Ñ\\x8bÐ¹)', r_ui=9.0, est=9.161720773212286, details={'actual_k': 20, 'was_impossible': False}),\n",
       " Prediction(uid='mehmet', iid='Samsung Galaxy S7 Edge goud / 32 GB', r_ui=8.0, est=8.421091445427729, details={'was_impossible': True, 'reason': 'User and/or item is unknown.'}),\n",
       " Prediction(uid='Alex', iid='Sony Xperia SP (ÐºÑ\\x80Ð°Ñ\\x81Ð½Ñ\\x8bÐ¹)', r_ui=9.0, est=8.657406464385163, details={'actual_k': 12, 'was_impossible': False}),\n",
       " Prediction(uid='Kevin', iid='Samsung Galaxy S7 Edge goud / 32 GB', r_ui=10.0, est=9.292750484091323, details={'actual_k': 3, 'was_impossible': False}),\n",
       " Prediction(uid='Ð\\x92Ð°Ñ\\x81Ð¸Ð»Ð¸Ð¹', iid='Sony Xperia Z1 (Ð±ÐµÐ»Ñ\\x8bÐ¹)', r_ui=8.0, est=8.233696051929845, details={'actual_k': 14, 'was_impossible': False}),\n",
       " Prediction(uid='Ð¡Ð²ÐµÑ\\x82Ð»Ð°Ð½Ð°', iid='Apple iPhone 5s 16GB (Ñ\\x81ÐµÑ\\x80Ñ\\x8bÐ¹ ÐºÐ¾Ñ\\x81Ð¼Ð¾Ñ\\x81)', r_ui=8.0, est=9.270078365668837, details={'actual_k': 14, 'was_impossible': False}),\n",
       " Prediction(uid='Ð\\x92Ð°Ð»ÐµÑ\\x80Ð¸Ð¹', iid='Sony Xperia SP (Ð±ÐµÐ»Ñ\\x8bÐ¹)', r_ui=5.0, est=9.41070058303243, details={'actual_k': 7, 'was_impossible': False}),\n",
       " Prediction(uid='Federico', iid='Lenovo Motorola Moto G LTE Smartphone, Display 4.5\", Fotocamera 5 MP, Memoria 8 GB, Quad-Core 1.2 GHz, 1 GB RAM, Micro SD, Android 4.4.3, Bianco [Italia]', r_ui=8.0, est=7.574517207131659, details={'actual_k': 2, 'was_impossible': False}),\n",
       " Prediction(uid='Roberto', iid='Lenovo Motorola Moto G Smartphone, Display HD 4,5\", Processore Qualcomm, Memoria 8 GB, MicroSIM, Android 4.4 OS, Fotocamera da 5 MP, Nero [Germania]', r_ui=8.0, est=9.91722557660278, details={'actual_k': 8, 'was_impossible': False}),\n",
       " Prediction(uid='Paolo', iid='Lenovo Motorola Moto G Smartphone, 4,5 pollici display HD, processore Qualcomm, memoria 16GB, MicroSIM, Android 4.3 OS, fotocamera da 5 MP, Nero [Germania]', r_ui=10.0, est=7.543942633366653, details={'actual_k': 5, 'was_impossible': False}),\n",
       " Prediction(uid='Ð\\x9aÐ¾Ð½Ñ\\x81Ñ\\x82Ð°Ð½Ñ\\x82Ð¸Ð½', iid='Sony Xperia Z1 Compact (Ð±ÐµÐ»Ñ\\x8bÐ¹)', r_ui=10.0, est=9.139320318648961, details={'actual_k': 9, 'was_impossible': False}),\n",
       " Prediction(uid='Ð\\x90Ð»Ð¸Ð½Ð°', iid='Sony Xperia Z1 Compact (Ñ\\x87ÐµÑ\\x80Ð½Ñ\\x8bÐ¹)', r_ui=10.0, est=9.645564194462567, details={'actual_k': 5, 'was_impossible': False}),\n",
       " Prediction(uid='Anthony', iid='APPLE iPhone 7 - Silver, 32 GB', r_ui=10.0, est=8.5, details={'actual_k': 2, 'was_impossible': False}),\n",
       " Prediction(uid='Ð\\x9cÐ°Ñ\\x80Ð¸Ñ\\x8f', iid='Sony Xperia C (Ñ\\x84Ð¸Ð¾Ð»ÐµÑ\\x82Ð¾Ð²Ñ\\x8bÐ¹)', r_ui=10.0, est=8.203598629538405, details={'actual_k': 23, 'was_impossible': False}),\n",
       " Prediction(uid='Ð\\x9eÐ»ÐµÐ³', iid='Sony Xperia Z1 Compact (Ñ\\x87ÐµÑ\\x80Ð½Ñ\\x8bÐ¹)', r_ui=10.0, est=8.376134760230686, details={'actual_k': 17, 'was_impossible': False}),\n",
       " Prediction(uid='Ð\\x9dÐ¸ÐºÐ¾Ð»Ð°Ð¹', iid='Sony Xperia L (ÐºÑ\\x80Ð°Ñ\\x81Ð½Ñ\\x8bÐ¹)', r_ui=8.0, est=8.988113861336478, details={'actual_k': 17, 'was_impossible': False}),\n",
       " Prediction(uid='Antonio', iid='Huawei P8 lite Smartphone, Display 5.0\" IPS, Dual Sim, Processore Octa-Core, Memoria 16 GB, Fotocamera 13 MP, Android 5.0, Bianco', r_ui=10.0, est=8.690977709589719, details={'actual_k': 12, 'was_impossible': False}),\n",
       " Prediction(uid='Alessandro', iid='Huawei P8 Lite Smartphone, Display 5\" IPS, Processore Octa-Core 1.5 GHz, Memoria Interna da 16 GB, 2 GB RAM, Fotocamera 13 MP, monoSIM, Android 5.0, Bianco [Italia]', r_ui=10.0, est=5.061376225874669, details={'actual_k': 8, 'was_impossible': False}),\n",
       " Prediction(uid='Ð\\x9dÐ¸ÐºÐ¾Ð»Ð°Ð¹', iid='Samsung N7100 Galaxy Note II 16GB (Ð±ÐµÐ»Ñ\\x8bÐ¹)', r_ui=10.0, est=9.072500050198325, details={'actual_k': 20, 'was_impossible': False}),\n",
       " Prediction(uid='Laura', iid='Samsung Galaxy A5 2016 Smartphone LTE, 16GB, Nero', r_ui=10.0, est=7.974314151269445, details={'actual_k': 10, 'was_impossible': False}),\n",
       " Prediction(uid='Ð\\x90Ð½Ð´Ñ\\x80ÐµÐ¹', iid='Sony Xperia Z1 (Ð±ÐµÐ»Ñ\\x8bÐ¹)', r_ui=4.0, est=8.902195793253604, details={'actual_k': 30, 'was_impossible': False}),\n",
       " Prediction(uid='Federico', iid='Asus ZenFone 2 Smartphone, Schermo da 5.5\" Full HD, Processore Quad Core 2,3 GHz, RAM 4 GB, 32 GB, 4G/LTE, Argento', r_ui=10.0, est=8.05486771752151, details={'actual_k': 5, 'was_impossible': False}),\n",
       " Prediction(uid='Ð\\x9cÐ°ÐºÑ\\x81Ð¸Ð¼', iid='Samsung Galaxy S4 mini Duos GT-I9192 (Ð±ÐµÐ»Ñ\\x8bÐ¹)', r_ui=8.0, est=9.290730646997702, details={'actual_k': 26, 'was_impossible': False}),\n",
       " Prediction(uid='Daniela', iid='Huawei P8 lite Smartphone, Display 5.0\" IPS, Dual Sim, Processore Octa-Core, Memoria 16 GB, Fotocamera 13 MP, Android 5.0, Bianco', r_ui=10.0, est=10, details={'actual_k': 3, 'was_impossible': False}),\n",
       " Prediction(uid='Aaron', iid='Sony Xperia Z1 Compact Smartphone (4,3 Zoll (10,9 cm) Touch-Display, 16 GB Speicher, Android 4.3) pink', r_ui=10.0, est=1, details={'actual_k': 1, 'was_impossible': False}),\n",
       " Prediction(uid='Ð\\x93Ð¾Ñ\\x81Ñ\\x82Ñ\\x8c', iid='Sony Xperia C (Ñ\\x87ÐµÑ\\x80Ð½Ñ\\x8bÐ¹)', r_ui=10.0, est=8.11030290333526, details={'actual_k': 4, 'was_impossible': False}),\n",
       " Prediction(uid='Sophie', iid='APPLE iPhone 7 - Silver, 128 GB', r_ui=9.0, est=7.0, details={'actual_k': 1, 'was_impossible': False}),\n",
       " Prediction(uid='Ð\\x95ÐºÐ°Ñ\\x82ÐµÑ\\x80Ð¸Ð½Ð°', iid='Sony Xperia L (Ñ\\x87ÐµÑ\\x80Ð½Ñ\\x8bÐ¹)', r_ui=9.0, est=9.799084881434375, details={'actual_k': 15, 'was_impossible': False}),\n",
       " Prediction(uid='Alex', iid='Samsung Galaxy S5 SM-G900F 16GB (Ñ\\x81Ð¸Ð½Ð¸Ð¹)', r_ui=8.0, est=8.225453705497324, details={'actual_k': 17, 'was_impossible': False}),\n",
       " Prediction(uid='Ð\\x90Ð½Ð½Ð°', iid='Samsung Galaxy S4 GT-I9500 16GB (Ñ\\x87ÐµÑ\\x80Ð½Ñ\\x8bÐ¹)', r_ui=8.0, est=9.306652021506368, details={'actual_k': 20, 'was_impossible': False}),\n",
       " Prediction(uid='Ð\\xa0Ð¾Ð¼Ð°Ð½', iid='Sony Xperia Z1 Compact (Ñ\\x87ÐµÑ\\x80Ð½Ñ\\x8bÐ¹)', r_ui=10.0, est=9.067919324666878, details={'actual_k': 19, 'was_impossible': False}),\n",
       " Prediction(uid='Ð¡ÐµÑ\\x80Ð³ÐµÐ¹', iid='Samsung Galaxy S4 mini Duos GT-I9192 (Ð±ÐµÐ»Ñ\\x8bÐ¹)', r_ui=7.0, est=5.928795591404153, details={'actual_k': 32, 'was_impossible': False}),\n",
       " Prediction(uid='Ð\\x90Ð»ÐµÐºÑ\\x81Ð°Ð½Ð´Ñ\\x80Ð°', iid='Sony Xperia C (Ð±ÐµÐ»Ñ\\x8bÐ¹)', r_ui=8.0, est=9.04589263342586, details={'actual_k': 10, 'was_impossible': False}),\n",
       " Prediction(uid='Manu', iid='WIKO Fever 4G Smartphone, 16 GB, Dual SIM, Bianco', r_ui=6.0, est=9.136123304796646, details={'actual_k': 4, 'was_impossible': False}),\n",
       " Prediction(uid='Ð\\x90Ð½Ñ\\x82Ð¾Ð½', iid='Samsung Galaxy S4 GT-I9500 16GB (Ð±ÐµÐ»Ñ\\x8bÐ¹)', r_ui=10.0, est=7.978819408391319, details={'actual_k': 16, 'was_impossible': False}),\n",
       " Prediction(uid='Ð\\x94ÐµÐ½Ð¸Ñ\\x81', iid='Apple iPhone 5s 16GB (Ñ\\x81ÐµÑ\\x80ÐµÐ±Ñ\\x80Ð¸Ñ\\x81Ñ\\x82Ñ\\x8bÐ¹)', r_ui=8.0, est=9.335490449011107, details={'actual_k': 34, 'was_impossible': False}),\n",
       " Prediction(uid='A', iid='MICROSOFT Lumia 650 - 16 GB, Black', r_ui=9.0, est=7.139784946236559, details={'actual_k': 0, 'was_impossible': False}),\n",
       " Prediction(uid='Monica', iid='Huawei P8 Lite Smartphone, Display 5\" IPS, Processore Octa-Core 1.5 GHz, Memoria Interna da 16 GB, 2 GB RAM, Fotocamera 13 MP, monoSIM, Android 5.0, Bianco [Italia]', r_ui=10.0, est=9.838724978654776, details={'actual_k': 1, 'was_impossible': False}),\n",
       " Prediction(uid='Gianni', iid='Lenovo Motorola Moto G 4G 3 Generazione Smartphone, Display 5\", Fotocamera 13 MP, Memoria 16 GB, Android 6 Lollipop, Nero [Italia]', r_ui=8.0, est=10, details={'actual_k': 1, 'was_impossible': False}),\n",
       " Prediction(uid='Ð\\x95Ð²Ð³ÐµÐ½Ð¸Ð¹', iid='Sony Xperia M (Ñ\\x84Ð¸Ð¾Ð»ÐµÑ\\x82Ð¾Ð²Ñ\\x8bÐ¹)', r_ui=8.0, est=8.65623349377743, details={'actual_k': 16, 'was_impossible': False}),\n",
       " Prediction(uid='Ð\\x9eÐ»Ñ\\x8cÐ³Ð°', iid='Sony Xperia ZR (Ñ\\x87ÐµÑ\\x80Ð½Ñ\\x8bÐ¹)', r_ui=10.0, est=9.187022244405917, details={'actual_k': 28, 'was_impossible': False}),\n",
       " Prediction(uid='Ð\\xa0Ñ\\x83Ñ\\x81Ð»Ð°Ð½', iid='Apple iPhone 5s 16GB (Ñ\\x81ÐµÑ\\x80ÐµÐ±Ñ\\x80Ð¸Ñ\\x81Ñ\\x82Ñ\\x8bÐ¹)', r_ui=9.0, est=9.58990298704801, details={'actual_k': 7, 'was_impossible': False}),\n",
       " Prediction(uid='Simon', iid='Alcatel One Touch 20-04G Telefono Cellulare, Nero', r_ui=10.0, est=9.004054305961494, details={'actual_k': 3, 'was_impossible': False}),\n",
       " Prediction(uid='Mark', iid='APPLE iPhone 7 - Silver, 32 GB', r_ui=6.0, est=7.778770780039582, details={'actual_k': 5, 'was_impossible': False}),\n",
       " Prediction(uid='Ð®Ð»Ð¸Ñ\\x8f', iid='Samsung N7100 Galaxy Note II 16GB (Ñ\\x81ÐµÑ\\x80Ñ\\x8bÐ¹)', r_ui=10.0, est=9.263475865893602, details={'actual_k': 14, 'was_impossible': False}),\n",
       " Prediction(uid='Ð\\x90Ñ\\x80Ñ\\x82ÐµÐ¼', iid='Samsung Galaxy S4 mini Duos GT-I9192 (Ñ\\x87ÐµÑ\\x80Ð½Ñ\\x8bÐ¹)', r_ui=10.0, est=8.769395303163217, details={'actual_k': 18, 'was_impossible': False}),\n",
       " Prediction(uid='Ð\\x9dÐ°Ð´ÐµÐ¶Ð´Ð°', iid='Apple iPhone 5s 16GB (Ñ\\x81ÐµÑ\\x80Ñ\\x8bÐ¹ ÐºÐ¾Ñ\\x81Ð¼Ð¾Ñ\\x81)', r_ui=10.0, est=9.214324262009548, details={'actual_k': 9, 'was_impossible': False}),\n",
       " Prediction(uid='Ð\\x98Ð³Ð¾Ñ\\x80Ñ\\x8c', iid='Sony Xperia SP (Ñ\\x87ÐµÑ\\x80Ð½Ñ\\x8bÐ¹)', r_ui=9.0, est=7.791801765682213, details={'actual_k': 22, 'was_impossible': False}),\n",
       " Prediction(uid='Ð®Ñ\\x80Ð¸Ð¹', iid='Sony Xperia Z (Ñ\\x87ÐµÑ\\x80Ð½Ñ\\x8bÐ¹)', r_ui=9.0, est=8.48671342706516, details={'actual_k': 19, 'was_impossible': False}),\n",
       " Prediction(uid='Ð\\x92Ð»Ð°Ð´Ð¸Ð¼Ð¸Ñ\\x80', iid='Samsung N7100 Galaxy Note II 16GB (Ñ\\x81ÐµÑ\\x80Ñ\\x8bÐ¹)', r_ui=9.0, est=9.286705017982849, details={'actual_k': 14, 'was_impossible': False}),\n",
       " Prediction(uid='Mary', iid='SAMSUNG Galaxy A3 (2017) - 16 GB, Black', r_ui=9.0, est=4.4606854185929254, details={'actual_k': 3, 'was_impossible': False}),\n",
       " Prediction(uid='Ð\\x90Ð»ÐµÐºÑ\\x81ÐµÐ¹', iid='Samsung N7100 Galaxy Note II 16GB (Ð±ÐµÐ»Ñ\\x8bÐ¹)', r_ui=10.0, est=8.529368970265304, details={'actual_k': 29, 'was_impossible': False}),\n",
       " Prediction(uid='Ð\\x9aÐ¸Ñ\\x80Ð¸Ð»Ð»', iid='Apple iPhone 5s 16GB (Ñ\\x81ÐµÑ\\x80Ñ\\x8bÐ¹ ÐºÐ¾Ñ\\x81Ð¼Ð¾Ñ\\x81)', r_ui=8.0, est=8.905649574581686, details={'actual_k': 19, 'was_impossible': False}),\n",
       " Prediction(uid='Ashley', iid='Samsung Galaxy Centura Android Prepaid Phone (TracFone)', r_ui=4.0, est=6.85, details={'actual_k': 0, 'was_impossible': False}),\n",
       " Prediction(uid='Ð\\x94Ð¸Ð¼Ð°', iid='Apple iPhone 5s 16GB (Ñ\\x81ÐµÑ\\x80ÐµÐ±Ñ\\x80Ð¸Ñ\\x81Ñ\\x82Ñ\\x8bÐ¹)', r_ui=9.0, est=9.97231399493167, details={'actual_k': 9, 'was_impossible': False}),\n",
       " Prediction(uid='diego', iid='Lenovo Motorola Moto G 4G (2 Generazione) Smartphone, Display 5 Pollici, LTE, Fotocamera 8 MP, Memoria 8 GB, Android 5 Lollipop, Nero [Italia]', r_ui=10.0, est=8.61111111111111, details={'actual_k': 0, 'was_impossible': False}),\n",
       " Prediction(uid='Ð\\x98Ð²Ð°Ð½', iid='Sony Xperia ZR (Ñ\\x87ÐµÑ\\x80Ð½Ñ\\x8bÐ¹)', r_ui=2.0, est=9.469944834214017, details={'actual_k': 27, 'was_impossible': False}),\n",
       " Prediction(uid='luca', iid='Huawei P8 lite Smartphone, Display 5.0\" IPS, Dual Sim, Processore Octa-Core, Memoria 16 GB, Fotocamera 13 MP, Android 5.0, Bianco', r_ui=2.0, est=9.342591295887726, details={'actual_k': 3, 'was_impossible': False}),\n",
       " Prediction(uid='Ð\\x92Ð»Ð°Ð´', iid='Apple iPhone 5s 16GB (Ñ\\x81ÐµÑ\\x80Ñ\\x8bÐ¹ ÐºÐ¾Ñ\\x81Ð¼Ð¾Ñ\\x81)', r_ui=8.0, est=8.405883539080772, details={'actual_k': 9, 'was_impossible': False}),\n",
       " Prediction(uid='Mary', iid='Lenovo Motorola Moto G 4G (2 Generazione) Smartphone, Display 5 Pollici, LTE, Fotocamera 8 MP, Memoria 8 GB, Android 5 Lollipop, Nero [Italia]', r_ui=4.0, est=5.057855466294918, details={'actual_k': 2, 'was_impossible': False}),\n",
       " Prediction(uid='Ð\\x90Ð½Ð½Ð°', iid='Sony Xperia SP (Ð±ÐµÐ»Ñ\\x8bÐ¹)', r_ui=8.0, est=8.859541742397976, details={'actual_k': 17, 'was_impossible': False}),\n",
       " Prediction(uid='Elena', iid='Asus ZenFone 2 Laser Smartphone, Display da 5\", 16 GB, Dual SIM, Nero [Italia]', r_ui=8.0, est=9.853481723308922, details={'actual_k': 8, 'was_impossible': False}),\n",
       " Prediction(uid='Ð¡ÐµÑ\\x80Ð³ÐµÐ¹', iid='Samsung N7100 Galaxy Note II 16GB (Ð±ÐµÐ»Ñ\\x8bÐ¹)', r_ui=8.0, est=5.511989840290157, details={'actual_k': 33, 'was_impossible': False}),\n",
       " Prediction(uid='Giacomo', iid='Huawei P8 Lite Smartphone, Display 5\" IPS, Processore Octa-Core 1.5 GHz, Memoria Interna da 16 GB, 2 GB RAM, Fotocamera 13 MP, monoSIM, Android 5.0, Bianco [Italia]', r_ui=10.0, est=9.686007207467942, details={'actual_k': 2, 'was_impossible': False}),\n",
       " Prediction(uid='Alessandro', iid='Lenovo Motorola Moto G 4G 3 Generazione Smartphone, Display 5\", Fotocamera 13 MP, Memoria 16 GB, Android 6 Lollipop, Nero [Italia]', r_ui=10.0, est=7.8614513625102305, details={'actual_k': 9, 'was_impossible': False}),\n",
       " Prediction(uid='Ð\\x95Ð»ÐµÐ½Ð°', iid='Sony Xperia L (ÐºÑ\\x80Ð°Ñ\\x81Ð½Ñ\\x8bÐ¹)', r_ui=10.0, est=8.624347572634726, details={'actual_k': 16, 'was_impossible': False}),\n",
       " Prediction(uid='Carla', iid='Lenovo Motorola Moto G Smartphone, Display HD 4,5\", Processore Qualcomm, Memoria 8 GB, MicroSIM, Android 4.4 OS, Fotocamera da 5 MP, Nero [Germania]', r_ui=6.0, est=9.315068493150685, details={'actual_k': 0, 'was_impossible': False}),\n",
       " Prediction(uid='Ð\\x9eÐ»ÐµÐ³', iid='Samsung N7100 Galaxy Note II 16GB (Ð±ÐµÐ»Ñ\\x8bÐ¹)', r_ui=10.0, est=9.033350815950959, details={'actual_k': 22, 'was_impossible': False}),\n",
       " Prediction(uid='Ð\\x92Ð¸ÐºÑ\\x82Ð¾Ñ\\x80', iid='Sony Xperia Z1 Compact (Ð»Ð°Ð¹Ð¼)', r_ui=8.0, est=9.786357175265135, details={'actual_k': 11, 'was_impossible': False}),\n",
       " Prediction(uid='Michael', iid='MICROSOFT Lumia 650 - 16 GB, Black', r_ui=10.0, est=3.7374557759776774, details={'actual_k': 10, 'was_impossible': False}),\n",
       " Prediction(uid=\"Client d'Amazon\", iid='Samsung Galaxy S5 Smartphone (5,1 Zoll (12,9 cm) Touch-Display, 16 GB Speicher, Android 4.4) electric blue', r_ui=2.0, est=8.948488016074329, details={'actual_k': 2, 'was_impossible': False}),\n",
       " Prediction(uid='giovanni', iid=\"Huawei P9 Lite Smartphone, LTE, Display 5.2'' FHD, Processore Octa-Core Kirin 650, 16 GB Memoria Interna, 3GB RAM, Fotocamera 13 MP, Single-SIM, Android 6.0 Marshmallow, Bianco [Italia]\", r_ui=10.0, est=10, details={'actual_k': 2, 'was_impossible': False}),\n",
       " Prediction(uid='Ð\\x9eÐ»ÐµÐ³', iid='Samsung Galaxy S4 GT-I9500 16GB (Ñ\\x87ÐµÑ\\x80Ð½Ñ\\x8bÐ¹)', r_ui=4.0, est=7.8521887357099684, details={'actual_k': 14, 'was_impossible': False}),\n",
       " Prediction(uid='Yvonne', iid='Apple iPhone 5 Unlocked Cellphone, 32GB, Black', r_ui=10.0, est=8.189916865999079, details={'actual_k': 4, 'was_impossible': False}),\n",
       " Prediction(uid='Jenny', iid='Samsung Galaxy S3 mini (GT-I8200) Smartphone (4 Zoll (10,2 cm) Touch-Display, 8 GB Speicher, Android 4.2) blau', r_ui=10.0, est=8.31547619047619, details={'actual_k': 1, 'was_impossible': False}),\n",
       " Prediction(uid='Martin', iid='Huawei Ascend P8 Smartphone, Display 5.2\" FHD, Memoria RAM da 3 GB, Processore HiSilicon Kirin 930 Octa-Core, Fotocamera Principale 13 MP, Grigio', r_ui=10.0, est=9.591652481411831, details={'actual_k': 4, 'was_impossible': False}),\n",
       " Prediction(uid='anna', iid='Huawei P8 Lite Smartphone, Display 5\" IPS, Processore Octa-Core 1.5 GHz, Memoria Interna da 16 GB, 2 GB RAM, Fotocamera 13 MP, monoSIM, Android 5.0, Bianco [Italia]', r_ui=8.0, est=9.957349787024384, details={'actual_k': 2, 'was_impossible': False}),\n",
       " Prediction(uid='Will', iid='Alcatel OneTouch Idol 3 Global Unlocked 4G LTE Smartphone, 5.5 HD IPS Display, 16GB (GSM - US Warranty)', r_ui=10.0, est=9.692307692307692, details={'actual_k': 1, 'was_impossible': False}),\n",
       " Prediction(uid='Ð\\x90Ð»ÐµÐºÑ\\x81Ð°Ð½Ð´Ñ\\x80', iid='Samsung Galaxy S4 mini Duos GT-I9192 (Ñ\\x87ÐµÑ\\x80Ð½Ñ\\x8bÐ¹)', r_ui=7.0, est=7.511314651251568, details={'actual_k': 38, 'was_impossible': False}),\n",
       " Prediction(uid='Ð\\x9eÐ»Ñ\\x8cÐ³Ð°', iid='Sony Xperia Z1 (Ñ\\x87ÐµÑ\\x80Ð½Ñ\\x8bÐ¹)', r_ui=7.0, est=9.877048042476536, details={'actual_k': 19, 'was_impossible': False}),\n",
       " Prediction(uid='francesca', iid='Huawei P8 Lite Smartphone, Display 5\" IPS, Processore Octa-Core 1.5 GHz, Memoria Interna da 16 GB, 2 GB RAM, Fotocamera 13 MP, monoSIM, Android 5.0, Bianco [Italia]', r_ui=10.0, est=9.52482939632546, details={'actual_k': 1, 'was_impossible': False}),\n",
       " Prediction(uid='Ð\\x90Ñ\\x80Ñ\\x82Ñ\\x91Ð¼', iid='Sony Xperia C (Ñ\\x87ÐµÑ\\x80Ð½Ñ\\x8bÐ¹)', r_ui=10.0, est=9.321582279559445, details={'actual_k': 12, 'was_impossible': False}),\n",
       " Prediction(uid='Chris', iid='Huawei Honor 5X Unlocked Smartphone, 16GB Dark Grey (US Warranty)', r_ui=10.0, est=5.804876763149758, details={'actual_k': 6, 'was_impossible': False}),\n",
       " Prediction(uid='Fabio', iid='Lenovo Motorola Moto G Smartphone, 4,5 pollici display HD, processore Qualcomm, memoria 16GB, MicroSIM, Android 4.3 OS, fotocamera da 5 MP, Nero [Germania]', r_ui=8.0, est=9.951298995805127, details={'actual_k': 6, 'was_impossible': False}),\n",
       " Prediction(uid='Anne', iid='Samsung Galaxy S7 zwart / 32 GB', r_ui=9.0, est=6.981197659376904, details={'actual_k': 2, 'was_impossible': False}),\n",
       " Prediction(uid='Danny', iid='Huawei P8 Lite goud, wit / 16 GB', r_ui=9.0, est=8.98330523376359, details={'actual_k': 2, 'was_impossible': False}),\n",
       " Prediction(uid='giorgio', iid='Huawei P8 lite Smartphone, Display 5.0\" IPS, Dual Sim, Processore Octa-Core, Memoria 16 GB, Fotocamera 13 MP, Android 5.0, Bianco', r_ui=10.0, est=9.022546149202476, details={'actual_k': 3, 'was_impossible': False}),\n",
       " Prediction(uid='Ð\\x92Ñ\\x8fÑ\\x87ÐµÑ\\x81Ð»Ð°Ð²', iid='Sony Xperia Z1 Compact (Ñ\\x80Ð¾Ð·Ð¾Ð²Ñ\\x8bÐ¹)', r_ui=10.0, est=7.604579001681099, details={'actual_k': 9, 'was_impossible': False}),\n",
       " Prediction(uid='Daniela', iid='Huawei Ascend P8 Smartphone, Display 5.2\" FHD, Memoria RAM da 3 GB, Processore HiSilicon Kirin 930 Octa-Core, Fotocamera Principale 13 MP, Grigio', r_ui=10.0, est=10, details={'actual_k': 3, 'was_impossible': False}),\n",
       " Prediction(uid='Ð\\xa0Ñ\\x83Ñ\\x81Ð»Ð°Ð½', iid='Samsung Galaxy S6', r_ui=10.0, est=10, details={'actual_k': 12, 'was_impossible': False}),\n",
       " Prediction(uid='Ð\\x90Ð½Ñ\\x82Ð¾Ð½', iid='Sony Xperia L (Ð±ÐµÐ»Ñ\\x8bÐ¹)', r_ui=9.0, est=9.568402559772425, details={'actual_k': 14, 'was_impossible': False}),\n",
       " Prediction(uid='Ð\\x90Ð½Ð´Ñ\\x80ÐµÐ¹', iid='Sony Xperia Z1 Compact (Ñ\\x80Ð¾Ð·Ð¾Ð²Ñ\\x8bÐ¹)', r_ui=10.0, est=7.273078582666964, details={'actual_k': 43, 'was_impossible': False}),\n",
       " Prediction(uid='Frank', iid='Samsung Galaxy S7 goud, roze / 32 GB', r_ui=9.0, est=8.041227502033816, details={'actual_k': 8, 'was_impossible': False}),\n",
       " Prediction(uid='Ð¡Ñ\\x82Ð°Ð½Ð¸Ñ\\x81Ð»Ð°Ð²', iid='Samsung Galaxy S5 SM-G900F 16GB (Ñ\\x87ÐµÑ\\x80Ð½Ñ\\x8bÐ¹)', r_ui=9.0, est=9.74433178430019, details={'actual_k': 3, 'was_impossible': False}),\n",
       " Prediction(uid='Ð\\x9dÐ°Ñ\\x82Ð°Ð»Ñ\\x8cÑ\\x8f', iid='Sony Xperia Z (Ñ\\x87ÐµÑ\\x80Ð½Ñ\\x8bÐ¹)', r_ui=10.0, est=8.553095364800056, details={'actual_k': 17, 'was_impossible': False}),\n",
       " Prediction(uid='Ð®Ñ\\x80Ð¸Ð¹', iid='Sony Xperia SP (Ð±ÐµÐ»Ñ\\x8bÐ¹)', r_ui=8.0, est=9.802773159966508, details={'actual_k': 12, 'was_impossible': False}),\n",
       " Prediction(uid='patrick', iid='Samsung Galaxy S7 zwart / 32 GB', r_ui=8.0, est=8.82281653508442, details={'actual_k': 5, 'was_impossible': False}),\n",
       " Prediction(uid='Ð\\x9dÐ¸ÐºÐ¾Ð»Ð°Ð¹', iid='Sony Xperia SP (Ð±ÐµÐ»Ñ\\x8bÐ¹)', r_ui=9.0, est=9.753255718392722, details={'actual_k': 19, 'was_impossible': False}),\n",
       " Prediction(uid='Ð\\x95Ð²Ð³ÐµÐ½Ð¸Ñ\\x8f', iid='Sony Xperia L (Ñ\\x87ÐµÑ\\x80Ð½Ñ\\x8bÐ¹)', r_ui=9.0, est=9.685531470333535, details={'actual_k': 15, 'was_impossible': False}),\n",
       " Prediction(uid='Ð\\x90Ð»ÐµÐºÑ\\x81ÐµÐ¹', iid='Samsung Galaxy S4 mini Duos GT-I9192 (Ð±ÐµÐ»Ñ\\x8bÐ¹)', r_ui=10.0, est=8.077730667703781, details={'actual_k': 32, 'was_impossible': False}),\n",
       " Prediction(uid='Samantha', iid='Huawei P8 Lite goud, wit / 16 GB', r_ui=6.0, est=6.405906434134737, details={'actual_k': 3, 'was_impossible': False}),\n",
       " Prediction(uid='Ð®Ð»Ð¸Ñ\\x8f', iid='Samsung Galaxy S5 SM-G900F 16GB (Ð·Ð¾Ð»Ð¾Ñ\\x82Ð¸Ñ\\x81Ñ\\x82Ñ\\x8bÐ¹)', r_ui=10.0, est=8.850154300386759, details={'actual_k': 9, 'was_impossible': False}),\n",
       " Prediction(uid='Ð¢Ð°Ñ\\x82Ñ\\x8cÑ\\x8fÐ½Ð°', iid='Samsung N7100 Galaxy Note II 16GB (Ñ\\x81ÐµÑ\\x80Ñ\\x8bÐ¹)', r_ui=8.0, est=9.303093946794831, details={'actual_k': 17, 'was_impossible': False}),\n",
       " Prediction(uid='Ð\\x9eÐ»Ñ\\x8cÐ³Ð°', iid='Sony Xperia Z1 Compact (Ð»Ð°Ð¹Ð¼)', r_ui=9.0, est=9.881509757614609, details={'actual_k': 18, 'was_impossible': False}),\n",
       " Prediction(uid='patrick', iid='Samsung Galaxy S7 goud, roze / 32 GB', r_ui=9.0, est=8.148092748941906, details={'actual_k': 4, 'was_impossible': False}),\n",
       " Prediction(uid='Ð\\x9eÐ»Ñ\\x8cÐ³Ð°', iid='Sony Xperia C (Ñ\\x84Ð¸Ð¾Ð»ÐµÑ\\x82Ð¾Ð²Ñ\\x8bÐ¹)', r_ui=10.0, est=9.161720773212286, details={'actual_k': 20, 'was_impossible': False}),\n",
       " Prediction(uid='Ð\\x98Ñ\\x80Ð¸Ð½Ð°', iid='Samsung Galaxy S6', r_ui=10.0, est=9.34570769618136, details={'actual_k': 17, 'was_impossible': False}),\n",
       " Prediction(uid='Ð\\x90Ð½Ð°Ñ\\x81Ñ\\x82Ð°Ñ\\x81Ð¸Ñ\\x8f', iid='Sony Xperia Z (Ñ\\x87ÐµÑ\\x80Ð½Ñ\\x8bÐ¹)', r_ui=9.0, est=7.576174120987654, details={'actual_k': 22, 'was_impossible': False}),\n",
       " Prediction(uid='Rose', iid='APPLE iPhone 6s Plus - 128 GB, Rose Gold', r_ui=10.0, est=8.421091445427729, details={'was_impossible': True, 'reason': 'User and/or item is unknown.'}),\n",
       " Prediction(uid='Ð\\x9eÐ»ÐµÐ³', iid='Samsung Galaxy S4 mini Duos GT-I9192 (Ñ\\x87ÐµÑ\\x80Ð½Ñ\\x8bÐ¹)', r_ui=10.0, est=8.742205128749493, details={'actual_k': 11, 'was_impossible': False}),\n",
       " Prediction(uid='Ð\\x98Ð»Ñ\\x8cÑ\\x8f', iid='Sony Xperia L (Ñ\\x87ÐµÑ\\x80Ð½Ñ\\x8bÐ¹)', r_ui=8.0, est=9.39201242108149, details={'actual_k': 16, 'was_impossible': False}),\n",
       " Prediction(uid='Ð\\x98Ð»Ñ\\x8cÑ\\x8f', iid='Sony Xperia ZR (Ð±ÐµÐ»Ñ\\x8bÐ¹)', r_ui=9.0, est=9.535486827642147, details={'actual_k': 15, 'was_impossible': False}),\n",
       " Prediction(uid='Elena', iid='Samsung Galaxy J5 Smartphone, Oro [Italia]', r_ui=10.0, est=9.080575298021246, details={'actual_k': 5, 'was_impossible': False}),\n",
       " Prediction(uid='Ð\\x98Ñ\\x80Ð¸Ð½Ð°', iid='Sony Xperia Z1 Compact (Ñ\\x87ÐµÑ\\x80Ð½Ñ\\x8bÐ¹)', r_ui=9.0, est=9.382412269644846, details={'actual_k': 19, 'was_impossible': False}),\n",
       " Prediction(uid='Cliente Amazon', iid='Alcatel One Touch 20-04G Telefono Cellulare, Nero', r_ui=2.0, est=5.971192564918718, details={'actual_k': 20, 'was_impossible': False}),\n",
       " Prediction(uid='Christian', iid=\"Huawei P9 Lite Smartphone, LTE, Display 5.2'' FHD, Processore Octa-Core Kirin 650, 16 GB Memoria Interna, 3GB RAM, Fotocamera 13 MP, Single-SIM, Android 6.0 Marshmallow, Bianco [Italia]\", r_ui=10.0, est=8.043054073632268, details={'actual_k': 6, 'was_impossible': False}),\n",
       " Prediction(uid='mike', iid='Samsung Galaxy S7 zwart / 32 GB', r_ui=10.0, est=8.448416539812547, details={'actual_k': 3, 'was_impossible': False}),\n",
       " Prediction(uid='Leo', iid='Samsung Galaxy S7 zwart / 32 GB', r_ui=9.0, est=8.906654152560657, details={'actual_k': 3, 'was_impossible': False}),\n",
       " Prediction(uid='Mirko', iid='Lenovo Motorola Moto G 4G (2 Generazione) Smartphone, Display 5 Pollici, LTE, Fotocamera 8 MP, Memoria 8 GB, Android 5 Lollipop, Nero [Italia]', r_ui=10.0, est=9.220886360672537, details={'actual_k': 4, 'was_impossible': False}),\n",
       " Prediction(uid='Ð\\x90Ð»Ð¸Ð½Ð°', iid='Sony Xperia L (Ñ\\x87ÐµÑ\\x80Ð½Ñ\\x8bÐ¹)', r_ui=10.0, est=10, details={'actual_k': 7, 'was_impossible': False}),\n",
       " Prediction(uid='Ð¯Ð½Ð°', iid='Sony Xperia Z1 (Ñ\\x84Ð¸Ð¾Ð»ÐµÑ\\x82Ð¾Ð²Ñ\\x8bÐ¹)', r_ui=10.0, est=8.63436187539259, details={'actual_k': 3, 'was_impossible': False}),\n",
       " Prediction(uid='Angelo', iid='Asus ZenFone 2 Laser Smartphone, Display da 5\", 16 GB, Dual SIM, Nero [Italia]', r_ui=10.0, est=9.574893973376795, details={'actual_k': 3, 'was_impossible': False}),\n",
       " Prediction(uid='Ð\\x90Ð½Ð´Ñ\\x80ÐµÐ¹', iid='Samsung Galaxy S4 mini Duos GT-I9192 (Ð±ÐµÐ»Ñ\\x8bÐ¹)', r_ui=9.0, est=7.358984455599242, details={'actual_k': 41, 'was_impossible': False}),\n",
       " Prediction(uid='Mario', iid='Huawei Honor 5X Unlocked Smartphone, 16GB Dark Grey (US Warranty)', r_ui=10.0, est=9.64701001513438, details={'actual_k': 7, 'was_impossible': False}),\n",
       " Prediction(uid='Elena', iid='Alcatel One Touch 20-04G Telefono Cellulare, Nero', r_ui=10.0, est=8.279670150611192, details={'actual_k': 5, 'was_impossible': False}),\n",
       " Prediction(uid='giuseppe', iid='Huawei P8 Lite Smartphone, Display 5\" IPS, Processore Octa-Core 1.5 GHz, Memoria Interna da 16 GB, 2 GB RAM, Fotocamera 13 MP, monoSIM, Android 5.0, Bianco [Italia]', r_ui=10.0, est=3.9339350873823697, details={'actual_k': 1, 'was_impossible': False}),\n",
       " Prediction(uid='Thomas', iid='Lenovo Motorola Moto G Smartphone, Display HD 4,5\", Processore Qualcomm, Memoria 8 GB, MicroSIM, Android 4.4 OS, Fotocamera da 5 MP, Nero [Germania]', r_ui=10.0, est=9.431265178287717, details={'actual_k': 7, 'was_impossible': False}),\n",
       " Prediction(uid='Andrea', iid=\"Huawei P9 Lite Smartphone, LTE, Display 5.2'' FHD, Processore Octa-Core Kirin 650, 16 GB Memoria Interna, 3GB RAM, Fotocamera 13 MP, Single-SIM, Android 6.0 Marshmallow, Bianco [Italia]\", r_ui=10.0, est=8.952274753899703, details={'actual_k': 11, 'was_impossible': False}),\n",
       " Prediction(uid='Amazon Customer', iid='Huawei Honor 5X Unlocked Smartphone, 16GB Dark Grey (US Warranty)', r_ui=8.0, est=3.3808995460685916, details={'actual_k': 48, 'was_impossible': False}),\n",
       " Prediction(uid='Daniel', iid='Samsung Galaxy S5 Smartphone (5,1 Zoll (12,9 cm) Touch-Display, 16 GB Speicher, Android 4.4) electric blue', r_ui=10.0, est=5.233262691292756, details={'actual_k': 14, 'was_impossible': False}),\n",
       " Prediction(uid='Ð\\x9eÐ»Ñ\\x8cÐ³Ð°', iid='Sony Xperia L (Ð±ÐµÐ»Ñ\\x8bÐ¹)', r_ui=10.0, est=9.022687537365238, details={'actual_k': 16, 'was_impossible': False}),\n",
       " Prediction(uid='Guillermo', iid='Huawei P8 Lite-AM08 - Pack Smartphone Huawei P8 Lite negro con Altavoz portÃ¡til AM08 Gold (2 GB de RAM, 16 GB de memoria interna, cÃ¡mara 13 Mpxs/8Mpx), color negro', r_ui=10.0, est=7.743589743589744, details={'actual_k': 0, 'was_impossible': False}),\n",
       " Prediction(uid='Mo', iid='Huawei P8 Champagne / 16 GB', r_ui=9.0, est=8.688888888888888, details={'actual_k': 0, 'was_impossible': False}),\n",
       " Prediction(uid='Alessandro', iid='Lenovo Motorola Moto G Smartphone, Display HD 4,5\", Processore Qualcomm, Memoria 8 GB, MicroSIM, Android 4.4 OS, Fotocamera da 5 MP, Nero [Germania]', r_ui=8.0, est=9.951657088690641, details={'actual_k': 6, 'was_impossible': False}),\n",
       " Prediction(uid='Kim', iid='Huawei P8 Champagne / 16 GB - Overzicht', r_ui=9.0, est=9.326906557987787, details={'actual_k': 2, 'was_impossible': False}),\n",
       " Prediction(uid='Ð\\x90Ð½Ñ\\x82Ð¾Ð½', iid='Samsung Galaxy S4 GT-I9500 16GB (Ñ\\x87ÐµÑ\\x80Ð½Ñ\\x8bÐ¹)', r_ui=2.0, est=7.252768825389244, details={'actual_k': 17, 'was_impossible': False}),\n",
       " Prediction(uid='Ð\\x9aÐ¾Ð½Ñ\\x81Ñ\\x82Ð°Ð½Ñ\\x82Ð¸Ð½', iid='Samsung Galaxy S4 GT-I9500 16GB (Ñ\\x87ÐµÑ\\x80Ð½Ñ\\x8bÐ¹)', r_ui=8.0, est=8.183776456895137, details={'actual_k': 12, 'was_impossible': False}),\n",
       " Prediction(uid='Eduardo', iid='Huawei P8 Lite-AM08 - Pack Smartphone Huawei P8 Lite negro con Altavoz portÃ¡til AM08 Gold (2 GB de RAM, 16 GB de memoria interna, cÃ¡mara 13 Mpxs/8Mpx), color negro', r_ui=10.0, est=7.743589743589744, details={'actual_k': 0, 'was_impossible': False}),\n",
       " Prediction(uid='Alan', iid='MICROSOFT Lumia 650 - 16 GB, Black', r_ui=7.0, est=7.765359839093564, details={'actual_k': 6, 'was_impossible': False}),\n",
       " Prediction(uid='Ð\\x95Ð²Ð³ÐµÐ½Ð¸Ñ\\x8f', iid='Samsung Galaxy A3', r_ui=10.0, est=8.792977576196296, details={'actual_k': 8, 'was_impossible': False}),\n",
       " Prediction(uid='Ð\\x95Ð²Ð³ÐµÐ½Ð¸Ð¹', iid='Sony Xperia L (ÐºÑ\\x80Ð°Ñ\\x81Ð½Ñ\\x8bÐ¹)', r_ui=9.0, est=8.487755859290928, details={'actual_k': 17, 'was_impossible': False}),\n",
       " Prediction(uid='Ð\\x95Ð²Ð³ÐµÐ½Ð¸Ð¹', iid='Sony Xperia Z1 Compact (Ð»Ð°Ð¹Ð¼)', r_ui=10.0, est=8.67572297294855, details={'actual_k': 22, 'was_impossible': False}),\n",
       " Prediction(uid='Ð\\x9fÐ°Ð²ÐµÐ»', iid='Samsung Galaxy S4 mini Duos GT-I9192 (Ð±ÐµÐ»Ñ\\x8bÐ¹)', r_ui=8.0, est=9.418041982998073, details={'actual_k': 25, 'was_impossible': False}),\n",
       " Prediction(uid='paolo', iid='Huawei P8 Lite Smartphone, Display 5\" IPS, Processore Octa-Core 1.5 GHz, Memoria Interna da 16 GB, 2 GB RAM, Fotocamera 13 MP, monoSIM, Android 5.0, Bianco [Italia]', r_ui=8.0, est=9.921746839160425, details={'actual_k': 3, 'was_impossible': False}),\n",
       " Prediction(uid='Linda', iid='Huawei P8 Lite goud, wit / 16 GB', r_ui=9.0, est=8.862508918854727, details={'actual_k': 6, 'was_impossible': False}),\n",
       " Prediction(uid='Ð\\x94Ð¼Ð¸Ñ\\x82Ñ\\x80Ð¸Ð¹', iid='Samsung Galaxy S4 mini Duos GT-I9192 (Ð±ÐµÐ»Ñ\\x8bÐ¹)', r_ui=10.0, est=7.892229003249456, details={'actual_k': 41, 'was_impossible': False}),\n",
       " Prediction(uid='Martina', iid='Lenovo Motorola Moto E Smartphone, Display 4.3 pollici qHD, Processore Qualcomm Dual-Core 1.2GHz, Memoria 4GB, 1GB RAM, Fotocamera 5MP, Android 4.4.2 KitKat, Bluetooth, WiFi, Bianco [Spagna]', r_ui=6.0, est=8.593547050602485, details={'actual_k': 3, 'was_impossible': False}),\n",
       " Prediction(uid='Jan', iid='Huawei P8 Lite wit / 16 GB', r_ui=8.0, est=8.643489395326023, details={'actual_k': 4, 'was_impossible': False}),\n",
       " Prediction(uid='Bruno', iid=\"Huawei P9 Lite Smartphone, LTE, Display 5.2'' FHD, Processore Octa-Core Kirin 650, 16 GB Memoria Interna, 3GB RAM, Fotocamera 13 MP, Single-SIM, Android 6.0 Marshmallow, Bianco [Italia]\", r_ui=10.0, est=9.584601924759406, details={'actual_k': 1, 'was_impossible': False}),\n",
       " Prediction(uid='Raquel', iid='Huawei P8 Lite-AM08 - Pack Smartphone Huawei P8 Lite negro con Altavoz portÃ¡til AM08 Gold (2 GB de RAM, 16 GB de memoria interna, cÃ¡mara 13 Mpxs/8Mpx), color negro', r_ui=8.0, est=8.421091445427729, details={'was_impossible': True, 'reason': 'User and/or item is unknown.'}),\n",
       " Prediction(uid='Jason', iid='Motorola Moto X Pure Edition Unlocked Smartphone, 64 GB Black XT1575, 5.7\" Quad HD display, 21 MP Camera, Quad-core 1.8GHz', r_ui=10.0, est=8.660074675216238, details={'actual_k': 3, 'was_impossible': False}),\n",
       " Prediction(uid='Ð\\x95ÐºÐ°Ñ\\x82ÐµÑ\\x80Ð¸Ð½Ð°', iid='Sony Xperia Z1 (Ñ\\x84Ð¸Ð¾Ð»ÐµÑ\\x82Ð¾Ð²Ñ\\x8bÐ¹)', r_ui=8.0, est=8.390829441018822, details={'actual_k': 27, 'was_impossible': False}),\n",
       " Prediction(uid='Ð¡ÐµÑ\\x80Ð³ÐµÐ¹', iid='Samsung Galaxy S4 GT-I9500 16GB (Ð±ÐµÐ»Ñ\\x8bÐ¹)', r_ui=9.0, est=4.535170114003874, details={'actual_k': 29, 'was_impossible': False}),\n",
       " Prediction(uid='Ð\\x9cÐ¸Ñ\\x85Ð°Ð¸Ð»', iid='Sony Xperia Z (Ð±ÐµÐ»Ñ\\x8bÐ¹)', r_ui=2.0, est=7.831816973342785, details={'actual_k': 19, 'was_impossible': False}),\n",
       " Prediction(uid='Marion', iid='APPLE iPhone 7 - Silver, 128 GB', r_ui=10.0, est=8.421091445427729, details={'was_impossible': True, 'reason': 'User and/or item is unknown.'}),\n",
       " Prediction(uid='Ð¡ÐµÑ\\x80Ð³ÐµÐ¹', iid='Sony Xperia Z1 Compact (Ð»Ð°Ð¹Ð¼)', r_ui=9.0, est=9.094457665322922, details={'actual_k': 26, 'was_impossible': False}),\n",
       " Prediction(uid='Ð\\x90Ð½Ñ\\x82Ð¾Ð½', iid='Samsung Galaxy S4 GT-I9500 16GB (Ð±ÐµÐ»Ñ\\x8bÐ¹)', r_ui=2.0, est=7.978819408391319, details={'actual_k': 16, 'was_impossible': False}),\n",
       " Prediction(uid='Ð\\x95ÐºÐ°Ñ\\x82ÐµÑ\\x80Ð¸Ð½Ð°', iid='Samsung Galaxy A3', r_ui=9.0, est=7.229581761573362, details={'actual_k': 13, 'was_impossible': False}),\n",
       " Prediction(uid='Ð\\xa0Ð¾Ð¼Ð°Ð½', iid='Nokia 101 Premium Black', r_ui=10.0, est=8.02635137580815, details={'actual_k': 22, 'was_impossible': False}),\n",
       " Prediction(uid='Ð\\x95Ð²Ð³ÐµÐ½Ð¸Ð¹', iid='Apple iPhone 5s 16GB (Ñ\\x81ÐµÑ\\x80Ñ\\x8bÐ¹ ÐºÐ¾Ñ\\x81Ð¼Ð¾Ñ\\x81)', r_ui=9.0, est=9.230912000987194, details={'actual_k': 31, 'was_impossible': False}),\n",
       " Prediction(uid='Ð\\x9cÐ°Ñ\\x80Ð¸Ñ\\x8f', iid='Samsung Galaxy S4 GT-I9500 16GB (Ð±ÐµÐ»Ñ\\x8bÐ¹)', r_ui=9.0, est=8.161752273177726, details={'actual_k': 11, 'was_impossible': False}),\n",
       " Prediction(uid='sonia', iid='Lenovo Motorola Moto G Smartphone, 4,5 pollici display HD, processore Qualcomm, memoria 16GB, MicroSIM, Android 4.3 OS, fotocamera da 5 MP, Nero [Germania]', r_ui=8.0, est=8.39115565099817, details={'actual_k': 2, 'was_impossible': False}),\n",
       " Prediction(uid='Ð\\x90Ð»ÐµÐºÑ\\x81Ð°Ð½Ð´Ñ\\x80', iid='Sony Xperia L (Ð±ÐµÐ»Ñ\\x8bÐ¹)', r_ui=10.0, est=8.383597027938555, details={'actual_k': 27, 'was_impossible': False}),\n",
       " Prediction(uid='Ð\\x92Ð°Ð»ÐµÑ\\x80Ð¸Ð¹', iid='Sony Xperia C (Ñ\\x84Ð¸Ð¾Ð»ÐµÑ\\x82Ð¾Ð²Ñ\\x8bÐ¹)', r_ui=9.0, est=8.615460812040803, details={'actual_k': 8, 'was_impossible': False}),\n",
       " Prediction(uid='Jessica', iid='Huawei P8 Lite goud, wit / 16 GB', r_ui=8.0, est=9.035534368535856, details={'actual_k': 6, 'was_impossible': False}),\n",
       " Prediction(uid='Amazon Customer', iid='Huawei P8 Lite Smartphone, Display 5\" IPS, Processore Octa-Core 1.5 GHz, Memoria Interna da 16 GB, 2 GB RAM, Fotocamera 13 MP, monoSIM, Android 5.0, Bianco [Italia]', r_ui=10.0, est=5.4204385754925966, details={'actual_k': 47, 'was_impossible': False}),\n",
       " Prediction(uid='Bill', iid='Alcatel OneTouch Idol 3 Global Unlocked 4G LTE Smartphone, 5.5 HD IPS Display, 16GB (GSM - US Warranty)', r_ui=10.0, est=8.205128205128204, details={'actual_k': 0, 'was_impossible': False}),\n",
       " Prediction(uid='Ð\\x90Ð½Ð°Ñ\\x82Ð¾Ð»Ð¸Ð¹', iid='Sony Xperia Z1 Compact (Ñ\\x80Ð¾Ð·Ð¾Ð²Ñ\\x8bÐ¹)', r_ui=10.0, est=8.336898624871742, details={'actual_k': 3, 'was_impossible': False}),\n",
       " Prediction(uid='marco', iid='Huawei P8 lite Smartphone, Display 5.0\" IPS, Dual Sim, Processore Octa-Core, Memoria 16 GB, Fotocamera 13 MP, Android 5.0, Bianco', r_ui=10.0, est=8.073484213768015, details={'actual_k': 8, 'was_impossible': False}),\n",
       " Prediction(uid='AJ', iid='Sony Xperia Z1 Compact Smartphone (4,3 Zoll (10,9 cm) Touch-Display, 16 GB Speicher, Android 4.3) pink', r_ui=10.0, est=6.77467807366259, details={'actual_k': 2, 'was_impossible': False}),\n",
       " Prediction(uid='Ð\\x90Ð½Ð´Ñ\\x80ÐµÐ¹', iid='Samsung Galaxy S4 mini Duos GT-I9192 (Ñ\\x87ÐµÑ\\x80Ð½Ñ\\x8bÐ¹)', r_ui=8.0, est=6.5528481672848296, details={'actual_k': 46, 'was_impossible': False}),\n",
       " Prediction(uid='Ð\\x9cÐ°Ñ\\x80Ð¸Ñ\\x8f', iid='Sony Xperia Z1 Compact (Ð»Ð°Ð¹Ð¼)', r_ui=8.0, est=9.326253049948376, details={'actual_k': 24, 'was_impossible': False}),\n",
       " Prediction(uid='Daniel', iid='Samsung Galaxy Ace S5830 Smartphone (8,9 cm (3,5 Zoll) Display, Touchscreen, Android OS, 5 Megapixel Kamera) weiÃ\\x9f', r_ui=10.0, est=8.03221399867161, details={'actual_k': 10, 'was_impossible': False}),\n",
       " Prediction(uid='Stefan', iid='Huawei P8 Champagne / 16 GB - Overzicht', r_ui=8.0, est=8.89368324639591, details={'actual_k': 4, 'was_impossible': False}),\n",
       " Prediction(uid='Ð\\x90Ð»ÐµÐºÑ\\x81Ð°Ð½Ð´Ñ\\x80', iid='Sony Xperia Z1 (Ñ\\x84Ð¸Ð¾Ð»ÐµÑ\\x82Ð¾Ð²Ñ\\x8bÐ¹)', r_ui=8.0, est=7.269463241579067, details={'actual_k': 39, 'was_impossible': False}),\n",
       " Prediction(uid='Bruno', iid='LG D802 G2 Smartphone, 16 GB, Nero [Italia]', r_ui=10.0, est=10, details={'actual_k': 1, 'was_impossible': False}),\n",
       " Prediction(uid='Ð\\xa0Ñ\\x83Ñ\\x81Ð»Ð°Ð½', iid='Sony Xperia SP (Ð±ÐµÐ»Ñ\\x8bÐ¹)', r_ui=7.0, est=9.750918038037181, details={'actual_k': 5, 'was_impossible': False}),\n",
       " Prediction(uid='Ð\\x90Ð½Ð°Ñ\\x82Ð¾Ð»Ð¸Ð¹', iid='Samsung Galaxy A3', r_ui=10.0, est=9.073607427055704, details={'actual_k': 1, 'was_impossible': False}),\n",
       " Prediction(uid='Ð\\x90Ñ\\x80Ñ\\x82ÐµÐ¼', iid='Samsung Galaxy S4 mini Duos GT-I9192 (Ð±ÐµÐ»Ñ\\x8bÐ¹)', r_ui=10.0, est=9.289887165023394, details={'actual_k': 9, 'was_impossible': False}),\n",
       " Prediction(uid='Oscar', iid='Motorola Moto G (3Âª GeneraciÃ³n) + Carcasa Oficial color turquesa - Smartphone libre Android 6 (4G, pantalla 5\", cÃ¡mara 13 Mp, 16 GB, Quad Core 1.4 GHz, 2 GB de RAM), negro', r_ui=10.0, est=8.421091445427729, details={'was_impossible': True, 'reason': 'User and/or item is unknown.'}),\n",
       " Prediction(uid='Peter', iid='Samsung Galaxy S5 Smartphone (5,1 Zoll (12,9 cm) Touch-Display, 16 GB Speicher, Android 4.4) electric blue', r_ui=2.0, est=4.35512867434168, details={'actual_k': 9, 'was_impossible': False}),\n",
       " Prediction(uid='Cliente Amazon', iid='Huawei P8 lite Smartphone, Display 5.0\" IPS, Dual Sim, Processore Octa-Core, Memoria 16 GB, Fotocamera 13 MP, Android 5.0, Bianco', r_ui=10.0, est=5.966648340525668, details={'actual_k': 24, 'was_impossible': False}),\n",
       " Prediction(uid='Ð¡ÐµÑ\\x80Ð³ÐµÐ¹', iid='Sony Xperia Z1 Compact (Ð±ÐµÐ»Ñ\\x8bÐ¹)', r_ui=10.0, est=8.46216037361325, details={'actual_k': 29, 'was_impossible': False}),\n",
       " Prediction(uid='Frank', iid='APPLE iPhone 7 - Silver, 128 GB', r_ui=1.0, est=9.34430716083181, details={'actual_k': 4, 'was_impossible': False}),\n",
       " Prediction(uid='Stefano', iid='Lenovo Motorola Moto G Smartphone, Display HD 4,5\", Processore Qualcomm, Memoria 8 GB, MicroSIM, Android 4.4 OS, Fotocamera da 5 MP, Nero [Germania]', r_ui=8.0, est=10, details={'actual_k': 6, 'was_impossible': False}),\n",
       " Prediction(uid='Francesco', iid='Lenovo Motorola Moto E Smartphone, Display 4.3 pollici qHD, Processore Qualcomm Dual-Core 1.2GHz, Memoria 4GB, 1GB RAM, Fotocamera 5MP, Android 4.4.2 KitKat, Bluetooth, WiFi, Bianco [Spagna]', r_ui=8.0, est=9.611870543933957, details={'actual_k': 9, 'was_impossible': False}),\n",
       " Prediction(uid='Amazon Customer', iid='Lenovo Motorola Moto G Smartphone, 4,5 pollici display HD, processore Qualcomm, memoria 16GB, MicroSIM, Android 4.3 OS, fotocamera da 5 MP, Nero [Germania]', r_ui=10.0, est=8.453934616707944, details={'actual_k': 24, 'was_impossible': False}),\n",
       " Prediction(uid='robert', iid='MICROSOFT Lumia 650 - 16 GB, Black', r_ui=8.0, est=7.371927803379417, details={'actual_k': 1, 'was_impossible': False}),\n",
       " Prediction(uid='Ð\\x98Ð³Ð¾Ñ\\x80Ñ\\x8c', iid='Sony Xperia L (Ð±ÐµÐ»Ñ\\x8bÐ¹)', r_ui=9.0, est=9.779223678611924, details={'actual_k': 17, 'was_impossible': False}),\n",
       " Prediction(uid='Lorenzo', iid='Lenovo Motorola Moto G Smartphone, Display HD 4,5\", Processore Qualcomm, Memoria 8 GB, MicroSIM, Android 4.4 OS, Fotocamera da 5 MP, Nero [Germania]', r_ui=10.0, est=7.370624048706241, details={'actual_k': 3, 'was_impossible': False}),\n",
       " Prediction(uid='laura', iid=\"Huawei P9 Lite Smartphone, LTE, Display 5.2'' FHD, Processore Octa-Core Kirin 650, 16 GB Memoria Interna, 3GB RAM, Fotocamera 13 MP, Single-SIM, Android 6.0 Marshmallow, Bianco [Italia]\", r_ui=10.0, est=9.984424161875658, details={'actual_k': 2, 'was_impossible': False}),\n",
       " Prediction(uid='Ð\\x9aÑ\\x80Ð¸Ñ\\x81Ñ\\x82Ð¸Ð½Ð°', iid='Sony Xperia Z1 Compact (Ð±ÐµÐ»Ñ\\x8bÐ¹)', r_ui=10.0, est=9.238407206209375, details={'actual_k': 13, 'was_impossible': False}),\n",
       " Prediction(uid='Lorenzo', iid='Lenovo Motorola Moto G Smartphone, 4,5 pollici display HD, processore Qualcomm, memoria 16GB, MicroSIM, Android 4.3 OS, fotocamera da 5 MP, Nero [Germania]', r_ui=2.0, est=10, details={'actual_k': 1, 'was_impossible': False}),\n",
       " Prediction(uid='Peter', iid='MICROSOFT Lumia 650 - 16 GB, Black', r_ui=1.0, est=7.307587779593118, details={'actual_k': 11, 'was_impossible': False}),\n",
       " Prediction(uid='Marco', iid='WIKO Fever 4G Smartphone, 16 GB, Dual SIM, Bianco', r_ui=2.0, est=8.993960662933908, details={'actual_k': 10, 'was_impossible': False}),\n",
       " Prediction(uid='Ð\\xa0Ñ\\x83Ñ\\x81Ð»Ð°Ð½', iid='Samsung Galaxy S4 GT-I9500 16GB (Ñ\\x87ÐµÑ\\x80Ð½Ñ\\x8bÐ¹)', r_ui=9.0, est=8.94359666032669, details={'actual_k': 7, 'was_impossible': False}),\n",
       " Prediction(uid='Ð\\x9eÐ»Ñ\\x8cÐ³Ð°', iid='Samsung N7100 Galaxy Note II 16GB (Ñ\\x81ÐµÑ\\x80Ñ\\x8bÐ¹)', r_ui=10.0, est=9.381521108894017, details={'actual_k': 13, 'was_impossible': False}),\n",
       " Prediction(uid='Ð\\x9eÐºÑ\\x81Ð°Ð½Ð°', iid='Sony Xperia J (Ñ\\x87ÐµÑ\\x80Ð½Ñ\\x8bÐ¹)', r_ui=9.0, est=9.064183347246262, details={'actual_k': 6, 'was_impossible': False}),\n",
       " Prediction(uid='Ð\\x90Ð½Ð´Ñ\\x80ÐµÐ¹', iid='Samsung Galaxy S4 GT-I9500 16GB (Ñ\\x87ÐµÑ\\x80Ð½Ñ\\x8bÐ¹)', r_ui=8.0, est=5.631298811074884, details={'actual_k': 50, 'was_impossible': False}),\n",
       " Prediction(uid='Ð¡ÐµÑ\\x80Ð³ÐµÐ¹', iid='Sony Xperia C (Ñ\\x84Ð¸Ð¾Ð»ÐµÑ\\x82Ð¾Ð²Ñ\\x8bÐ¹)', r_ui=9.0, est=8.858862704618135, details={'actual_k': 30, 'was_impossible': False}),\n",
       " Prediction(uid='Ð¢Ð°Ñ\\x82Ñ\\x8cÑ\\x8fÐ½Ð°', iid='Sony Xperia C (Ñ\\x84Ð¸Ð¾Ð»ÐµÑ\\x82Ð¾Ð²Ñ\\x8bÐ¹)', r_ui=9.0, est=9.089770361933756, details={'actual_k': 21, 'was_impossible': False}),\n",
       " Prediction(uid='Ð¡ÐµÑ\\x80Ð³ÐµÐ¹', iid='Samsung Galaxy S5 SM-G900F 16GB (Ð±ÐµÐ»Ñ\\x8bÐ¹)', r_ui=2.0, est=7.520069279593726, details={'actual_k': 28, 'was_impossible': False}),\n",
       " Prediction(uid='John', iid='APPLE iPhone 7 - Silver, 128 GB', r_ui=9.0, est=9.99210426643414, details={'actual_k': 2, 'was_impossible': False}),\n",
       " Prediction(uid='Ð\\x9eÐ»Ñ\\x8cÐ³Ð°', iid='Sony Xperia J (Ñ\\x87ÐµÑ\\x80Ð½Ñ\\x8bÐ¹)', r_ui=9.0, est=9.351398313177395, details={'actual_k': 18, 'was_impossible': False}),\n",
       " Prediction(uid='Chris', iid='Huawei P8lite zwart / 16 GB', r_ui=8.0, est=8.875531357720144, details={'actual_k': 11, 'was_impossible': False}),\n",
       " Prediction(uid='Marcel', iid='Huawei P8 Lite wit / 16 GB', r_ui=8.0, est=8.872700825499505, details={'actual_k': 2, 'was_impossible': False}),\n",
       " Prediction(uid='Ð\\x92Ð¸ÐºÑ\\x82Ð¾Ñ\\x80', iid='Sony Xperia Z (Ð±ÐµÐ»Ñ\\x8bÐ¹)', r_ui=2.0, est=8.996839123637411, details={'actual_k': 11, 'was_impossible': False}),\n",
       " Prediction(uid='Ð\\x9aÐ¸Ñ\\x80Ð¸Ð»Ð»', iid='Samsung Galaxy S6', r_ui=8.0, est=9.165885509233233, details={'actual_k': 16, 'was_impossible': False}),\n",
       " Prediction(uid='Ð\\x90Ð½Ð°Ñ\\x82Ð¾Ð»Ð¸Ð¹', iid='Apple iPhone 5s 16GB (Ñ\\x81ÐµÑ\\x80Ñ\\x8bÐ¹ ÐºÐ¾Ñ\\x81Ð¼Ð¾Ñ\\x81)', r_ui=10.0, est=8.096481402409022, details={'actual_k': 3, 'was_impossible': False}),\n",
       " Prediction(uid='David', iid='Motorola Moto X Pure Edition Unlocked Smartphone, 64 GB Black XT1575, 5.7\" Quad HD display, 21 MP Camera, Quad-core 1.8GHz', r_ui=10.0, est=2.472283726656838, details={'actual_k': 6, 'was_impossible': False}),\n",
       " Prediction(uid='Silvia', iid='Lenovo Motorola Moto G 4G (2 Generazione) Smartphone, Display 5 Pollici, LTE, Fotocamera 8 MP, Memoria 8 GB, Android 5 Lollipop, Nero [Italia]', r_ui=2.0, est=8.974438950165267, details={'actual_k': 6, 'was_impossible': False}),\n",
       " Prediction(uid='Martin', iid='Samsung Galaxy S7 Edge goud / 32 GB', r_ui=9.0, est=9.945666451337429, details={'actual_k': 5, 'was_impossible': False}),\n",
       " Prediction(uid='Ð\\x9cÐ°ÐºÑ\\x81Ð¸Ð¼', iid='Samsung Galaxy S5 SM-G900F 16GB (Ñ\\x81Ð¸Ð½Ð¸Ð¹)', r_ui=7.0, est=8.18039227960844, details={'actual_k': 26, 'was_impossible': False}),\n",
       " Prediction(uid='Ð\\xa0Ñ\\x83Ñ\\x81Ð»Ð°Ð½', iid='Sony Xperia M (Ñ\\x84Ð¸Ð¾Ð»ÐµÑ\\x82Ð¾Ð²Ñ\\x8bÐ¹)', r_ui=10.0, est=10, details={'actual_k': 8, 'was_impossible': False}),\n",
       " Prediction(uid='peter', iid='Samsung Galaxy S7 goud, roze / 32 GB', r_ui=9.0, est=9.009070880228204, details={'actual_k': 2, 'was_impossible': False}),\n",
       " Prediction(uid='Amazon Customer', iid='Alcatel OneTouch Idol 3 Global Unlocked 4G LTE Smartphone, 5.5 HD IPS Display, 16GB (GSM - US Warranty)', r_ui=2.0, est=5.128427242023152, details={'actual_k': 50, 'was_impossible': False}),\n",
       " Prediction(uid='Ð\\x94Ð°Ñ\\x80Ñ\\x8cÑ\\x8f', iid='Samsung Galaxy A3', r_ui=10.0, est=6.824698366679636, details={'actual_k': 11, 'was_impossible': False}),\n",
       " Prediction(uid='Ð\\x9aÐ¾Ð½Ñ\\x81Ñ\\x82Ð°Ð½Ñ\\x82Ð¸Ð½', iid='Sony Xperia Z1 Compact (Ð»Ð°Ð¹Ð¼)', r_ui=10.0, est=9.552553619384785, details={'actual_k': 10, 'was_impossible': False}),\n",
       " Prediction(uid='Cliente Amazon', iid='Alcatel One Touch 20-04G Telefono Cellulare, Nero', r_ui=10.0, est=5.971192564918718, details={'actual_k': 20, 'was_impossible': False}),\n",
       " Prediction(uid='Ð\\x94Ð¼Ð¸Ñ\\x82Ñ\\x80Ð¸Ð¹', iid='Sony Xperia Z (Ð±ÐµÐ»Ñ\\x8bÐ¹)', r_ui=8.0, est=7.956850437556695, details={'actual_k': 36, 'was_impossible': False}),\n",
       " Prediction(uid='Ricardo', iid='Apple iPhone 5 Unlocked Cellphone, 32GB, Black', r_ui=10.0, est=2.0, details={'actual_k': 1, 'was_impossible': False}),\n",
       " Prediction(uid='James', iid='Samsung G935 Galaxy S7 Edge Smartphone da 32GB, Argento [Italia]', r_ui=10.0, est=8.119402985074627, details={'actual_k': 0, 'was_impossible': False}),\n",
       " ...]"
      ]
     },
     "execution_count": 61,
     "metadata": {
      "tags": []
     },
     "output_type": "execute_result"
    }
   ],
   "source": [
    "test_pred_item"
   ]
  },
  {
   "cell_type": "markdown",
   "metadata": {
    "id": "BnctkI8Iw7GH"
   },
   "source": [
    "Evaluation-RMSE"
   ]
  },
  {
   "cell_type": "code",
   "execution_count": 62,
   "metadata": {
    "colab": {
     "base_uri": "https://localhost:8080/"
    },
    "id": "BqfhgLf-w2_g",
    "outputId": "880097fc-2f75-4594-d03d-9f2b8a34df54"
   },
   "outputs": [
    {
     "name": "stdout",
     "output_type": "stream",
     "text": [
      "Item-based Model : Test Set\n",
      "RMSE: 2.4398\n"
     ]
    },
    {
     "data": {
      "text/plain": [
       "2.439844366398687"
      ]
     },
     "execution_count": 62,
     "metadata": {
      "tags": []
     },
     "output_type": "execute_result"
    }
   ],
   "source": [
    "# getting RMSE\n",
    "print(\"Item-based Model : Test Set\")\n",
    "accuracy.rmse(test_pred_item, verbose=True)"
   ]
  },
  {
   "cell_type": "markdown",
   "metadata": {
    "id": "TCtb_XiHxCav"
   },
   "source": [
    "**Insight:** Slightly better than User Based Model."
   ]
  },
  {
   "cell_type": "markdown",
   "metadata": {
    "id": "qb46nAaexL4E"
   },
   "source": [
    "**Test Predictions for Item Based Model**"
   ]
  },
  {
   "cell_type": "code",
   "execution_count": 63,
   "metadata": {
    "id": "uFyaMwJcw9qk"
   },
   "outputs": [],
   "source": [
    "pred_df_item=pd.DataFrame(test_pred_item)"
   ]
  },
  {
   "cell_type": "code",
   "execution_count": 64,
   "metadata": {
    "colab": {
     "base_uri": "https://localhost:8080/",
     "height": 204
    },
    "id": "mVYwuQs8xStP",
    "outputId": "61624239-23f8-4323-b9a2-cc17ad26e4f3"
   },
   "outputs": [
    {
     "data": {
      "text/html": [
       "<div>\n",
       "<style scoped>\n",
       "    .dataframe tbody tr th:only-of-type {\n",
       "        vertical-align: middle;\n",
       "    }\n",
       "\n",
       "    .dataframe tbody tr th {\n",
       "        vertical-align: top;\n",
       "    }\n",
       "\n",
       "    .dataframe thead th {\n",
       "        text-align: right;\n",
       "    }\n",
       "</style>\n",
       "<table border=\"1\" class=\"dataframe\">\n",
       "  <thead>\n",
       "    <tr style=\"text-align: right;\">\n",
       "      <th></th>\n",
       "      <th>uid</th>\n",
       "      <th>iid</th>\n",
       "      <th>r_ui</th>\n",
       "      <th>est</th>\n",
       "      <th>details</th>\n",
       "    </tr>\n",
       "  </thead>\n",
       "  <tbody>\n",
       "    <tr>\n",
       "      <th>0</th>\n",
       "      <td>Ð¡ÐµÑÐ³ÐµÐ¹</td>\n",
       "      <td>Samsung N7100 Galaxy Note II 16GB (Ð±ÐµÐ»ÑÐ¹)</td>\n",
       "      <td>9.0</td>\n",
       "      <td>5.511990</td>\n",
       "      <td>{'actual_k': 33, 'was_impossible': False}</td>\n",
       "    </tr>\n",
       "    <tr>\n",
       "      <th>1</th>\n",
       "      <td>Alexander</td>\n",
       "      <td>Apple iPhone 5s GSM Unlocked Cellphone, 16 GB,...</td>\n",
       "      <td>6.0</td>\n",
       "      <td>5.778153</td>\n",
       "      <td>{'actual_k': 2, 'was_impossible': False}</td>\n",
       "    </tr>\n",
       "    <tr>\n",
       "      <th>2</th>\n",
       "      <td>ÐÐ¸Ñ",
       "Ð°Ð¸Ð»</td>\n",
       "      <td>Sony Xperia SP (ÑÐµÑÐ½ÑÐ¹)</td>\n",
       "      <td>10.0</td>\n",
       "      <td>8.797269</td>\n",
       "      <td>{'actual_k': 17, 'was_impossible': False}</td>\n",
       "    </tr>\n",
       "    <tr>\n",
       "      <th>3</th>\n",
       "      <td>Federica</td>\n",
       "      <td>LG D802 G2 Smartphone, 16 GB, Nero [Italia]</td>\n",
       "      <td>10.0</td>\n",
       "      <td>9.255814</td>\n",
       "      <td>{'actual_k': 0, 'was_impossible': False}</td>\n",
       "    </tr>\n",
       "    <tr>\n",
       "      <th>4</th>\n",
       "      <td>Davide</td>\n",
       "      <td>Lenovo Motorola Moto G Smartphone, 4,5 pollici...</td>\n",
       "      <td>8.0</td>\n",
       "      <td>9.593922</td>\n",
       "      <td>{'actual_k': 7, 'was_impossible': False}</td>\n",
       "    </tr>\n",
       "  </tbody>\n",
       "</table>\n",
       "</div>"
      ],
      "text/plain": [
       "            uid  ...                                    details\n",
       "0  Ð¡ÐµÑÐ³ÐµÐ¹  ...  {'actual_k': 33, 'was_impossible': False}\n",
       "1     Alexander  ...   {'actual_k': 2, 'was_impossible': False}\n",
       "2  ÐÐ¸Ñ\n",
       "Ð°Ð¸Ð»  ...  {'actual_k': 17, 'was_impossible': False}\n",
       "3      Federica  ...   {'actual_k': 0, 'was_impossible': False}\n",
       "4        Davide  ...   {'actual_k': 7, 'was_impossible': False}\n",
       "\n",
       "[5 rows x 5 columns]"
      ]
     },
     "execution_count": 64,
     "metadata": {
      "tags": []
     },
     "output_type": "execute_result"
    }
   ],
   "source": [
    "pred_df_item.head()"
   ]
  },
  {
   "cell_type": "markdown",
   "metadata": {
    "id": "u4OMkBWqxlfi"
   },
   "source": [
    "**Insight:**  \n",
    "\n",
    "1.   Rmse for Item based model is higher than user based model.\n",
    "2.   SVD has less rmse value compared to others, may be change in paramters might provide better results.\n"
   ]
  },
  {
   "cell_type": "markdown",
   "metadata": {
    "id": "JdrR0puVyIdo"
   },
   "source": [
    "### **Cross Validation.**"
   ]
  },
  {
   "cell_type": "code",
   "execution_count": 65,
   "metadata": {
    "id": "afkg4wYOxUaG"
   },
   "outputs": [],
   "source": [
    "sim_options = {\n",
    "    \"name\": [\"msd\", \"cosine\",\"pearson_baseline\"],\n",
    "    \"min_support\": [3, 4, 5],\n",
    "    \"user_based\": [False, True],\n",
    "}"
   ]
  },
  {
   "cell_type": "code",
   "execution_count": 66,
   "metadata": {
    "id": "Vh6YUw-jyNTi"
   },
   "outputs": [],
   "source": [
    "param_grid = {'k':[40,50,60],\"sim_options\": sim_options}"
   ]
  },
  {
   "cell_type": "markdown",
   "metadata": {
    "id": "hxutMLpiyRZ3"
   },
   "source": [
    "Grid search CV to get best features."
   ]
  },
  {
   "cell_type": "code",
   "execution_count": 67,
   "metadata": {
    "colab": {
     "base_uri": "https://localhost:8080/"
    },
    "id": "GO2Mn5gKyO_-",
    "outputId": "270dfbcb-9517-44ca-abb3-4e78826e9af5"
   },
   "outputs": [
    {
     "name": "stdout",
     "output_type": "stream",
     "text": [
      "Computing the msd similarity matrix...\n",
      "Done computing similarity matrix.\n",
      "Computing the msd similarity matrix...\n",
      "Done computing similarity matrix.\n",
      "Computing the msd similarity matrix...\n",
      "Done computing similarity matrix.\n",
      "Computing the msd similarity matrix...\n",
      "Done computing similarity matrix.\n",
      "Computing the msd similarity matrix...\n",
      "Done computing similarity matrix.\n",
      "Computing the msd similarity matrix...\n",
      "Done computing similarity matrix.\n",
      "Computing the msd similarity matrix...\n",
      "Done computing similarity matrix.\n",
      "Computing the msd similarity matrix...\n",
      "Done computing similarity matrix.\n",
      "Computing the msd similarity matrix...\n",
      "Done computing similarity matrix.\n",
      "Computing the msd similarity matrix...\n",
      "Done computing similarity matrix.\n",
      "Computing the msd similarity matrix...\n",
      "Done computing similarity matrix.\n",
      "Computing the msd similarity matrix...\n",
      "Done computing similarity matrix.\n",
      "Computing the msd similarity matrix...\n",
      "Done computing similarity matrix.\n",
      "Computing the msd similarity matrix...\n",
      "Done computing similarity matrix.\n",
      "Computing the msd similarity matrix...\n",
      "Done computing similarity matrix.\n",
      "Computing the msd similarity matrix...\n",
      "Done computing similarity matrix.\n",
      "Computing the msd similarity matrix...\n",
      "Done computing similarity matrix.\n",
      "Computing the msd similarity matrix...\n",
      "Done computing similarity matrix.\n",
      "Computing the msd similarity matrix...\n",
      "Done computing similarity matrix.\n",
      "Computing the msd similarity matrix...\n",
      "Done computing similarity matrix.\n",
      "Computing the msd similarity matrix...\n",
      "Done computing similarity matrix.\n",
      "Computing the msd similarity matrix...\n",
      "Done computing similarity matrix.\n",
      "Computing the msd similarity matrix...\n",
      "Done computing similarity matrix.\n",
      "Computing the msd similarity matrix...\n",
      "Done computing similarity matrix.\n",
      "Computing the msd similarity matrix...\n",
      "Done computing similarity matrix.\n",
      "Computing the msd similarity matrix...\n",
      "Done computing similarity matrix.\n",
      "Computing the msd similarity matrix...\n",
      "Done computing similarity matrix.\n",
      "Computing the msd similarity matrix...\n",
      "Done computing similarity matrix.\n",
      "Computing the msd similarity matrix...\n",
      "Done computing similarity matrix.\n",
      "Computing the msd similarity matrix...\n",
      "Done computing similarity matrix.\n",
      "Computing the cosine similarity matrix...\n",
      "Done computing similarity matrix.\n",
      "Computing the cosine similarity matrix...\n",
      "Done computing similarity matrix.\n",
      "Computing the cosine similarity matrix...\n",
      "Done computing similarity matrix.\n",
      "Computing the cosine similarity matrix...\n",
      "Done computing similarity matrix.\n",
      "Computing the cosine similarity matrix...\n",
      "Done computing similarity matrix.\n",
      "Computing the cosine similarity matrix...\n",
      "Done computing similarity matrix.\n",
      "Computing the cosine similarity matrix...\n",
      "Done computing similarity matrix.\n",
      "Computing the cosine similarity matrix...\n",
      "Done computing similarity matrix.\n",
      "Computing the cosine similarity matrix...\n",
      "Done computing similarity matrix.\n",
      "Computing the cosine similarity matrix...\n",
      "Done computing similarity matrix.\n",
      "Computing the cosine similarity matrix...\n",
      "Done computing similarity matrix.\n",
      "Computing the cosine similarity matrix...\n",
      "Done computing similarity matrix.\n",
      "Computing the cosine similarity matrix...\n",
      "Done computing similarity matrix.\n",
      "Computing the cosine similarity matrix...\n",
      "Done computing similarity matrix.\n",
      "Computing the cosine similarity matrix...\n",
      "Done computing similarity matrix.\n",
      "Computing the cosine similarity matrix...\n",
      "Done computing similarity matrix.\n",
      "Computing the cosine similarity matrix...\n",
      "Done computing similarity matrix.\n",
      "Computing the cosine similarity matrix...\n",
      "Done computing similarity matrix.\n",
      "Computing the cosine similarity matrix...\n",
      "Done computing similarity matrix.\n",
      "Computing the cosine similarity matrix...\n",
      "Done computing similarity matrix.\n",
      "Computing the cosine similarity matrix...\n",
      "Done computing similarity matrix.\n",
      "Computing the cosine similarity matrix...\n",
      "Done computing similarity matrix.\n",
      "Computing the cosine similarity matrix...\n",
      "Done computing similarity matrix.\n",
      "Computing the cosine similarity matrix...\n",
      "Done computing similarity matrix.\n",
      "Computing the cosine similarity matrix...\n",
      "Done computing similarity matrix.\n",
      "Computing the cosine similarity matrix...\n",
      "Done computing similarity matrix.\n",
      "Computing the cosine similarity matrix...\n",
      "Done computing similarity matrix.\n",
      "Computing the cosine similarity matrix...\n",
      "Done computing similarity matrix.\n",
      "Computing the cosine similarity matrix...\n",
      "Done computing similarity matrix.\n",
      "Computing the cosine similarity matrix...\n",
      "Done computing similarity matrix.\n",
      "Estimating biases using als...\n",
      "Computing the pearson_baseline similarity matrix...\n",
      "Done computing similarity matrix.\n",
      "Estimating biases using als...\n",
      "Computing the pearson_baseline similarity matrix...\n",
      "Done computing similarity matrix.\n",
      "Estimating biases using als...\n",
      "Computing the pearson_baseline similarity matrix...\n",
      "Done computing similarity matrix.\n",
      "Estimating biases using als...\n",
      "Computing the pearson_baseline similarity matrix...\n",
      "Done computing similarity matrix.\n",
      "Estimating biases using als...\n",
      "Computing the pearson_baseline similarity matrix...\n",
      "Done computing similarity matrix.\n",
      "Estimating biases using als...\n",
      "Computing the pearson_baseline similarity matrix...\n",
      "Done computing similarity matrix.\n",
      "Estimating biases using als...\n",
      "Computing the pearson_baseline similarity matrix...\n",
      "Done computing similarity matrix.\n",
      "Estimating biases using als...\n",
      "Computing the pearson_baseline similarity matrix...\n",
      "Done computing similarity matrix.\n",
      "Estimating biases using als...\n",
      "Computing the pearson_baseline similarity matrix...\n",
      "Done computing similarity matrix.\n",
      "Estimating biases using als...\n",
      "Computing the pearson_baseline similarity matrix...\n",
      "Done computing similarity matrix.\n",
      "Estimating biases using als...\n",
      "Computing the pearson_baseline similarity matrix...\n",
      "Done computing similarity matrix.\n",
      "Estimating biases using als...\n",
      "Computing the pearson_baseline similarity matrix...\n",
      "Done computing similarity matrix.\n",
      "Estimating biases using als...\n",
      "Computing the pearson_baseline similarity matrix...\n",
      "Done computing similarity matrix.\n",
      "Estimating biases using als...\n",
      "Computing the pearson_baseline similarity matrix...\n",
      "Done computing similarity matrix.\n",
      "Estimating biases using als...\n",
      "Computing the pearson_baseline similarity matrix...\n",
      "Done computing similarity matrix.\n",
      "Estimating biases using als...\n",
      "Computing the pearson_baseline similarity matrix...\n",
      "Done computing similarity matrix.\n",
      "Estimating biases using als...\n",
      "Computing the pearson_baseline similarity matrix...\n",
      "Done computing similarity matrix.\n",
      "Estimating biases using als...\n",
      "Computing the pearson_baseline similarity matrix...\n",
      "Done computing similarity matrix.\n",
      "Estimating biases using als...\n",
      "Computing the pearson_baseline similarity matrix...\n",
      "Done computing similarity matrix.\n",
      "Estimating biases using als...\n",
      "Computing the pearson_baseline similarity matrix...\n",
      "Done computing similarity matrix.\n",
      "Estimating biases using als...\n",
      "Computing the pearson_baseline similarity matrix...\n",
      "Done computing similarity matrix.\n",
      "Estimating biases using als...\n",
      "Computing the pearson_baseline similarity matrix...\n",
      "Done computing similarity matrix.\n",
      "Estimating biases using als...\n",
      "Computing the pearson_baseline similarity matrix...\n",
      "Done computing similarity matrix.\n",
      "Estimating biases using als...\n",
      "Computing the pearson_baseline similarity matrix...\n",
      "Done computing similarity matrix.\n",
      "Estimating biases using als...\n",
      "Computing the pearson_baseline similarity matrix...\n",
      "Done computing similarity matrix.\n",
      "Estimating biases using als...\n",
      "Computing the pearson_baseline similarity matrix...\n",
      "Done computing similarity matrix.\n",
      "Estimating biases using als...\n",
      "Computing the pearson_baseline similarity matrix...\n",
      "Done computing similarity matrix.\n",
      "Estimating biases using als...\n",
      "Computing the pearson_baseline similarity matrix...\n",
      "Done computing similarity matrix.\n",
      "Estimating biases using als...\n",
      "Computing the pearson_baseline similarity matrix...\n",
      "Done computing similarity matrix.\n",
      "Estimating biases using als...\n",
      "Computing the pearson_baseline similarity matrix...\n",
      "Done computing similarity matrix.\n",
      "Computing the msd similarity matrix...\n",
      "Done computing similarity matrix.\n",
      "Computing the msd similarity matrix...\n",
      "Done computing similarity matrix.\n",
      "Computing the msd similarity matrix...\n",
      "Done computing similarity matrix.\n",
      "Computing the msd similarity matrix...\n",
      "Done computing similarity matrix.\n",
      "Computing the msd similarity matrix...\n",
      "Done computing similarity matrix.\n",
      "Computing the msd similarity matrix...\n",
      "Done computing similarity matrix.\n",
      "Computing the msd similarity matrix...\n",
      "Done computing similarity matrix.\n",
      "Computing the msd similarity matrix...\n",
      "Done computing similarity matrix.\n",
      "Computing the msd similarity matrix...\n",
      "Done computing similarity matrix.\n",
      "Computing the msd similarity matrix...\n",
      "Done computing similarity matrix.\n",
      "Computing the msd similarity matrix...\n",
      "Done computing similarity matrix.\n",
      "Computing the msd similarity matrix...\n",
      "Done computing similarity matrix.\n",
      "Computing the msd similarity matrix...\n",
      "Done computing similarity matrix.\n",
      "Computing the msd similarity matrix...\n",
      "Done computing similarity matrix.\n",
      "Computing the msd similarity matrix...\n",
      "Done computing similarity matrix.\n",
      "Computing the msd similarity matrix...\n",
      "Done computing similarity matrix.\n",
      "Computing the msd similarity matrix...\n",
      "Done computing similarity matrix.\n",
      "Computing the msd similarity matrix...\n",
      "Done computing similarity matrix.\n",
      "Computing the msd similarity matrix...\n",
      "Done computing similarity matrix.\n",
      "Computing the msd similarity matrix...\n",
      "Done computing similarity matrix.\n",
      "Computing the msd similarity matrix...\n",
      "Done computing similarity matrix.\n",
      "Computing the msd similarity matrix...\n",
      "Done computing similarity matrix.\n",
      "Computing the msd similarity matrix...\n",
      "Done computing similarity matrix.\n",
      "Computing the msd similarity matrix...\n",
      "Done computing similarity matrix.\n",
      "Computing the msd similarity matrix...\n",
      "Done computing similarity matrix.\n",
      "Computing the msd similarity matrix...\n",
      "Done computing similarity matrix.\n",
      "Computing the msd similarity matrix...\n",
      "Done computing similarity matrix.\n",
      "Computing the msd similarity matrix...\n",
      "Done computing similarity matrix.\n",
      "Computing the msd similarity matrix...\n",
      "Done computing similarity matrix.\n",
      "Computing the msd similarity matrix...\n",
      "Done computing similarity matrix.\n",
      "Computing the cosine similarity matrix...\n",
      "Done computing similarity matrix.\n",
      "Computing the cosine similarity matrix...\n",
      "Done computing similarity matrix.\n",
      "Computing the cosine similarity matrix...\n",
      "Done computing similarity matrix.\n",
      "Computing the cosine similarity matrix...\n",
      "Done computing similarity matrix.\n",
      "Computing the cosine similarity matrix...\n",
      "Done computing similarity matrix.\n",
      "Computing the cosine similarity matrix...\n",
      "Done computing similarity matrix.\n",
      "Computing the cosine similarity matrix...\n",
      "Done computing similarity matrix.\n",
      "Computing the cosine similarity matrix...\n",
      "Done computing similarity matrix.\n",
      "Computing the cosine similarity matrix...\n",
      "Done computing similarity matrix.\n",
      "Computing the cosine similarity matrix...\n",
      "Done computing similarity matrix.\n",
      "Computing the cosine similarity matrix...\n",
      "Done computing similarity matrix.\n",
      "Computing the cosine similarity matrix...\n",
      "Done computing similarity matrix.\n",
      "Computing the cosine similarity matrix...\n",
      "Done computing similarity matrix.\n",
      "Computing the cosine similarity matrix...\n",
      "Done computing similarity matrix.\n",
      "Computing the cosine similarity matrix...\n",
      "Done computing similarity matrix.\n",
      "Computing the cosine similarity matrix...\n",
      "Done computing similarity matrix.\n",
      "Computing the cosine similarity matrix...\n",
      "Done computing similarity matrix.\n",
      "Computing the cosine similarity matrix...\n",
      "Done computing similarity matrix.\n",
      "Computing the cosine similarity matrix...\n",
      "Done computing similarity matrix.\n",
      "Computing the cosine similarity matrix...\n",
      "Done computing similarity matrix.\n",
      "Computing the cosine similarity matrix...\n",
      "Done computing similarity matrix.\n",
      "Computing the cosine similarity matrix...\n",
      "Done computing similarity matrix.\n",
      "Computing the cosine similarity matrix...\n",
      "Done computing similarity matrix.\n",
      "Computing the cosine similarity matrix...\n",
      "Done computing similarity matrix.\n",
      "Computing the cosine similarity matrix...\n",
      "Done computing similarity matrix.\n",
      "Computing the cosine similarity matrix...\n",
      "Done computing similarity matrix.\n",
      "Computing the cosine similarity matrix...\n",
      "Done computing similarity matrix.\n",
      "Computing the cosine similarity matrix...\n",
      "Done computing similarity matrix.\n",
      "Computing the cosine similarity matrix...\n",
      "Done computing similarity matrix.\n",
      "Computing the cosine similarity matrix...\n",
      "Done computing similarity matrix.\n",
      "Estimating biases using als...\n",
      "Computing the pearson_baseline similarity matrix...\n",
      "Done computing similarity matrix.\n",
      "Estimating biases using als...\n",
      "Computing the pearson_baseline similarity matrix...\n",
      "Done computing similarity matrix.\n",
      "Estimating biases using als...\n",
      "Computing the pearson_baseline similarity matrix...\n",
      "Done computing similarity matrix.\n",
      "Estimating biases using als...\n",
      "Computing the pearson_baseline similarity matrix...\n",
      "Done computing similarity matrix.\n",
      "Estimating biases using als...\n",
      "Computing the pearson_baseline similarity matrix...\n",
      "Done computing similarity matrix.\n",
      "Estimating biases using als...\n",
      "Computing the pearson_baseline similarity matrix...\n",
      "Done computing similarity matrix.\n",
      "Estimating biases using als...\n",
      "Computing the pearson_baseline similarity matrix...\n",
      "Done computing similarity matrix.\n",
      "Estimating biases using als...\n",
      "Computing the pearson_baseline similarity matrix...\n",
      "Done computing similarity matrix.\n",
      "Estimating biases using als...\n",
      "Computing the pearson_baseline similarity matrix...\n",
      "Done computing similarity matrix.\n",
      "Estimating biases using als...\n",
      "Computing the pearson_baseline similarity matrix...\n",
      "Done computing similarity matrix.\n",
      "Estimating biases using als...\n",
      "Computing the pearson_baseline similarity matrix...\n",
      "Done computing similarity matrix.\n",
      "Estimating biases using als...\n",
      "Computing the pearson_baseline similarity matrix...\n",
      "Done computing similarity matrix.\n",
      "Estimating biases using als...\n",
      "Computing the pearson_baseline similarity matrix...\n",
      "Done computing similarity matrix.\n",
      "Estimating biases using als...\n",
      "Computing the pearson_baseline similarity matrix...\n",
      "Done computing similarity matrix.\n",
      "Estimating biases using als...\n",
      "Computing the pearson_baseline similarity matrix...\n",
      "Done computing similarity matrix.\n",
      "Estimating biases using als...\n",
      "Computing the pearson_baseline similarity matrix...\n",
      "Done computing similarity matrix.\n",
      "Estimating biases using als...\n",
      "Computing the pearson_baseline similarity matrix...\n",
      "Done computing similarity matrix.\n",
      "Estimating biases using als...\n",
      "Computing the pearson_baseline similarity matrix...\n",
      "Done computing similarity matrix.\n",
      "Estimating biases using als...\n",
      "Computing the pearson_baseline similarity matrix...\n",
      "Done computing similarity matrix.\n",
      "Estimating biases using als...\n",
      "Computing the pearson_baseline similarity matrix...\n",
      "Done computing similarity matrix.\n",
      "Estimating biases using als...\n",
      "Computing the pearson_baseline similarity matrix...\n",
      "Done computing similarity matrix.\n",
      "Estimating biases using als...\n",
      "Computing the pearson_baseline similarity matrix...\n",
      "Done computing similarity matrix.\n",
      "Estimating biases using als...\n",
      "Computing the pearson_baseline similarity matrix...\n",
      "Done computing similarity matrix.\n",
      "Estimating biases using als...\n",
      "Computing the pearson_baseline similarity matrix...\n",
      "Done computing similarity matrix.\n",
      "Estimating biases using als...\n",
      "Computing the pearson_baseline similarity matrix...\n",
      "Done computing similarity matrix.\n",
      "Estimating biases using als...\n",
      "Computing the pearson_baseline similarity matrix...\n",
      "Done computing similarity matrix.\n",
      "Estimating biases using als...\n",
      "Computing the pearson_baseline similarity matrix...\n",
      "Done computing similarity matrix.\n",
      "Estimating biases using als...\n",
      "Computing the pearson_baseline similarity matrix...\n",
      "Done computing similarity matrix.\n",
      "Estimating biases using als...\n",
      "Computing the pearson_baseline similarity matrix...\n",
      "Done computing similarity matrix.\n",
      "Estimating biases using als...\n",
      "Computing the pearson_baseline similarity matrix...\n",
      "Done computing similarity matrix.\n",
      "Computing the msd similarity matrix...\n",
      "Done computing similarity matrix.\n",
      "Computing the msd similarity matrix...\n",
      "Done computing similarity matrix.\n",
      "Computing the msd similarity matrix...\n",
      "Done computing similarity matrix.\n",
      "Computing the msd similarity matrix...\n",
      "Done computing similarity matrix.\n",
      "Computing the msd similarity matrix...\n",
      "Done computing similarity matrix.\n",
      "Computing the msd similarity matrix...\n",
      "Done computing similarity matrix.\n",
      "Computing the msd similarity matrix...\n",
      "Done computing similarity matrix.\n",
      "Computing the msd similarity matrix...\n",
      "Done computing similarity matrix.\n",
      "Computing the msd similarity matrix...\n",
      "Done computing similarity matrix.\n",
      "Computing the msd similarity matrix...\n",
      "Done computing similarity matrix.\n",
      "Computing the msd similarity matrix...\n",
      "Done computing similarity matrix.\n",
      "Computing the msd similarity matrix...\n",
      "Done computing similarity matrix.\n",
      "Computing the msd similarity matrix...\n",
      "Done computing similarity matrix.\n",
      "Computing the msd similarity matrix...\n",
      "Done computing similarity matrix.\n",
      "Computing the msd similarity matrix...\n",
      "Done computing similarity matrix.\n",
      "Computing the msd similarity matrix...\n",
      "Done computing similarity matrix.\n",
      "Computing the msd similarity matrix...\n",
      "Done computing similarity matrix.\n",
      "Computing the msd similarity matrix...\n",
      "Done computing similarity matrix.\n",
      "Computing the msd similarity matrix...\n",
      "Done computing similarity matrix.\n",
      "Computing the msd similarity matrix...\n",
      "Done computing similarity matrix.\n",
      "Computing the msd similarity matrix...\n",
      "Done computing similarity matrix.\n",
      "Computing the msd similarity matrix...\n",
      "Done computing similarity matrix.\n",
      "Computing the msd similarity matrix...\n",
      "Done computing similarity matrix.\n",
      "Computing the msd similarity matrix...\n",
      "Done computing similarity matrix.\n",
      "Computing the msd similarity matrix...\n",
      "Done computing similarity matrix.\n",
      "Computing the msd similarity matrix...\n",
      "Done computing similarity matrix.\n",
      "Computing the msd similarity matrix...\n",
      "Done computing similarity matrix.\n",
      "Computing the msd similarity matrix...\n",
      "Done computing similarity matrix.\n",
      "Computing the msd similarity matrix...\n",
      "Done computing similarity matrix.\n",
      "Computing the msd similarity matrix...\n",
      "Done computing similarity matrix.\n",
      "Computing the cosine similarity matrix...\n",
      "Done computing similarity matrix.\n",
      "Computing the cosine similarity matrix...\n",
      "Done computing similarity matrix.\n",
      "Computing the cosine similarity matrix...\n",
      "Done computing similarity matrix.\n",
      "Computing the cosine similarity matrix...\n",
      "Done computing similarity matrix.\n",
      "Computing the cosine similarity matrix...\n",
      "Done computing similarity matrix.\n",
      "Computing the cosine similarity matrix...\n",
      "Done computing similarity matrix.\n",
      "Computing the cosine similarity matrix...\n",
      "Done computing similarity matrix.\n",
      "Computing the cosine similarity matrix...\n",
      "Done computing similarity matrix.\n",
      "Computing the cosine similarity matrix...\n",
      "Done computing similarity matrix.\n",
      "Computing the cosine similarity matrix...\n",
      "Done computing similarity matrix.\n",
      "Computing the cosine similarity matrix...\n",
      "Done computing similarity matrix.\n",
      "Computing the cosine similarity matrix...\n",
      "Done computing similarity matrix.\n",
      "Computing the cosine similarity matrix...\n",
      "Done computing similarity matrix.\n",
      "Computing the cosine similarity matrix...\n",
      "Done computing similarity matrix.\n",
      "Computing the cosine similarity matrix...\n",
      "Done computing similarity matrix.\n",
      "Computing the cosine similarity matrix...\n",
      "Done computing similarity matrix.\n",
      "Computing the cosine similarity matrix...\n",
      "Done computing similarity matrix.\n",
      "Computing the cosine similarity matrix...\n",
      "Done computing similarity matrix.\n",
      "Computing the cosine similarity matrix...\n",
      "Done computing similarity matrix.\n",
      "Computing the cosine similarity matrix...\n",
      "Done computing similarity matrix.\n",
      "Computing the cosine similarity matrix...\n",
      "Done computing similarity matrix.\n",
      "Computing the cosine similarity matrix...\n",
      "Done computing similarity matrix.\n",
      "Computing the cosine similarity matrix...\n",
      "Done computing similarity matrix.\n",
      "Computing the cosine similarity matrix...\n",
      "Done computing similarity matrix.\n",
      "Computing the cosine similarity matrix...\n",
      "Done computing similarity matrix.\n",
      "Computing the cosine similarity matrix...\n",
      "Done computing similarity matrix.\n",
      "Computing the cosine similarity matrix...\n",
      "Done computing similarity matrix.\n",
      "Computing the cosine similarity matrix...\n",
      "Done computing similarity matrix.\n",
      "Computing the cosine similarity matrix...\n",
      "Done computing similarity matrix.\n",
      "Computing the cosine similarity matrix...\n",
      "Done computing similarity matrix.\n",
      "Estimating biases using als...\n",
      "Computing the pearson_baseline similarity matrix...\n",
      "Done computing similarity matrix.\n",
      "Estimating biases using als...\n",
      "Computing the pearson_baseline similarity matrix...\n",
      "Done computing similarity matrix.\n",
      "Estimating biases using als...\n",
      "Computing the pearson_baseline similarity matrix...\n",
      "Done computing similarity matrix.\n",
      "Estimating biases using als...\n",
      "Computing the pearson_baseline similarity matrix...\n",
      "Done computing similarity matrix.\n",
      "Estimating biases using als...\n",
      "Computing the pearson_baseline similarity matrix...\n",
      "Done computing similarity matrix.\n",
      "Estimating biases using als...\n",
      "Computing the pearson_baseline similarity matrix...\n",
      "Done computing similarity matrix.\n",
      "Estimating biases using als...\n",
      "Computing the pearson_baseline similarity matrix...\n",
      "Done computing similarity matrix.\n",
      "Estimating biases using als...\n",
      "Computing the pearson_baseline similarity matrix...\n",
      "Done computing similarity matrix.\n",
      "Estimating biases using als...\n",
      "Computing the pearson_baseline similarity matrix...\n",
      "Done computing similarity matrix.\n",
      "Estimating biases using als...\n",
      "Computing the pearson_baseline similarity matrix...\n",
      "Done computing similarity matrix.\n",
      "Estimating biases using als...\n",
      "Computing the pearson_baseline similarity matrix...\n",
      "Done computing similarity matrix.\n",
      "Estimating biases using als...\n",
      "Computing the pearson_baseline similarity matrix...\n",
      "Done computing similarity matrix.\n",
      "Estimating biases using als...\n",
      "Computing the pearson_baseline similarity matrix...\n",
      "Done computing similarity matrix.\n",
      "Estimating biases using als...\n",
      "Computing the pearson_baseline similarity matrix...\n",
      "Done computing similarity matrix.\n",
      "Estimating biases using als...\n",
      "Computing the pearson_baseline similarity matrix...\n",
      "Done computing similarity matrix.\n",
      "Estimating biases using als...\n",
      "Computing the pearson_baseline similarity matrix...\n",
      "Done computing similarity matrix.\n",
      "Estimating biases using als...\n",
      "Computing the pearson_baseline similarity matrix...\n",
      "Done computing similarity matrix.\n",
      "Estimating biases using als...\n",
      "Computing the pearson_baseline similarity matrix...\n",
      "Done computing similarity matrix.\n",
      "Estimating biases using als...\n",
      "Computing the pearson_baseline similarity matrix...\n",
      "Done computing similarity matrix.\n",
      "Estimating biases using als...\n",
      "Computing the pearson_baseline similarity matrix...\n",
      "Done computing similarity matrix.\n",
      "Estimating biases using als...\n",
      "Computing the pearson_baseline similarity matrix...\n",
      "Done computing similarity matrix.\n",
      "Estimating biases using als...\n",
      "Computing the pearson_baseline similarity matrix...\n",
      "Done computing similarity matrix.\n",
      "Estimating biases using als...\n",
      "Computing the pearson_baseline similarity matrix...\n",
      "Done computing similarity matrix.\n",
      "Estimating biases using als...\n",
      "Computing the pearson_baseline similarity matrix...\n",
      "Done computing similarity matrix.\n",
      "Estimating biases using als...\n",
      "Computing the pearson_baseline similarity matrix...\n",
      "Done computing similarity matrix.\n",
      "Estimating biases using als...\n",
      "Computing the pearson_baseline similarity matrix...\n",
      "Done computing similarity matrix.\n",
      "Estimating biases using als...\n",
      "Computing the pearson_baseline similarity matrix...\n",
      "Done computing similarity matrix.\n",
      "Estimating biases using als...\n",
      "Computing the pearson_baseline similarity matrix...\n",
      "Done computing similarity matrix.\n",
      "Estimating biases using als...\n",
      "Computing the pearson_baseline similarity matrix...\n",
      "Done computing similarity matrix.\n",
      "Estimating biases using als...\n",
      "Computing the pearson_baseline similarity matrix...\n",
      "Done computing similarity matrix.\n"
     ]
    }
   ],
   "source": [
    "gs = GridSearchCV(KNNWithMeans, param_grid, measures=[\"rmse\", \"mae\"], cv=5)\n",
    "gs.fit(data)"
   ]
  },
  {
   "cell_type": "markdown",
   "metadata": {
    "id": "6L9hSb08yjON"
   },
   "source": [
    "Best Parameters using Grid Search."
   ]
  },
  {
   "cell_type": "code",
   "execution_count": 68,
   "metadata": {
    "colab": {
     "base_uri": "https://localhost:8080/"
    },
    "id": "TdcahVA2yTwn",
    "outputId": "9acb752b-ba81-492c-a9fa-759ff38e6b8b"
   },
   "outputs": [
    {
     "name": "stdout",
     "output_type": "stream",
     "text": [
      "2.1284102558733253\n",
      "{'k': 60, 'sim_options': {'name': 'cosine', 'min_support': 3, 'user_based': False}}\n"
     ]
    }
   ],
   "source": [
    "print(gs.best_score[\"rmse\"])\n",
    "print(gs.best_params[\"rmse\"])"
   ]
  },
  {
   "cell_type": "markdown",
   "metadata": {
    "id": "y3XyjKcUytYY"
   },
   "source": [
    "**Insight:** Best Hyperparameters are: {'name': 'cosine', 'min_support': 3, 'user_based': False}"
   ]
  },
  {
   "cell_type": "markdown",
   "metadata": {
    "id": "DbZM2Gpky8VJ"
   },
   "source": [
    "**Final Colloborative Model with Best Parameters.**"
   ]
  },
  {
   "cell_type": "code",
   "execution_count": 69,
   "metadata": {
    "colab": {
     "base_uri": "https://localhost:8080/"
    },
    "id": "nsFLdFszylXq",
    "outputId": "8200da26-cad8-4f63-a614-ccca2eba2847"
   },
   "outputs": [
    {
     "name": "stdout",
     "output_type": "stream",
     "text": [
      "Computing the cosine similarity matrix...\n",
      "Done computing similarity matrix.\n",
      "RMSE: 2.4398\n"
     ]
    },
    {
     "data": {
      "text/plain": [
       "2.439844366398687"
      ]
     },
     "execution_count": 69,
     "metadata": {
      "tags": []
     },
     "output_type": "execute_result"
    }
   ],
   "source": [
    "Final_Model = KNNWithMeans(k=40, sim_options={'name': 'cosine', 'min_support':3 ,'user_based': False})\n",
    "Final_Model.fit(trainset)\n",
    "# run the trained model against the testset\n",
    "Final_Model_Pred = algo_item.test(testset)\n",
    "accuracy.rmse(Final_Model_Pred, verbose=True)"
   ]
  },
  {
   "cell_type": "markdown",
   "metadata": {
    "id": "deirPuzjzLkY"
   },
   "source": [
    "**Insight:** The Fianl RMSE score after applying BEst Hyperparametrs is : **2.4398**"
   ]
  },
  {
   "cell_type": "markdown",
   "metadata": {
    "id": "moeM4HUrzjl8"
   },
   "source": [
    "### **Cross Validation on SVD Model.**"
   ]
  },
  {
   "cell_type": "code",
   "execution_count": 70,
   "metadata": {
    "id": "g2OXaNwtzGg9"
   },
   "outputs": [],
   "source": [
    "param_grid = {'n_factors':[5,10],'n_epochs': [5, 10], 'lr_all': [0.002, 0.005],\n",
    "              'reg_all': [0.4, 0.6]}\n",
    "gs = GridSearchCV(SVD, param_grid, measures=['rmse', 'mae'], cv=5)\n",
    "\n",
    "gs.fit(data)\n",
    "\n",
    "#cross_validate(algo, data, measures=['RMSE', 'MAE'], cv=5, verbose=True)"
   ]
  },
  {
   "cell_type": "code",
   "execution_count": 71,
   "metadata": {
    "colab": {
     "base_uri": "https://localhost:8080/"
    },
    "id": "8dqyOu11zpIx",
    "outputId": "dfec2b93-a77b-419f-881c-ae2e867e2291"
   },
   "outputs": [
    {
     "name": "stdout",
     "output_type": "stream",
     "text": [
      "2.0162023561371436\n",
      "{'n_factors': 5, 'n_epochs': 5, 'lr_all': 0.005, 'reg_all': 0.4}\n"
     ]
    }
   ],
   "source": [
    "# best RMSE score\n",
    "print(gs.best_score['rmse'])\n",
    "\n",
    "# combination of parameters that gave the best RMSE score\n",
    "print(gs.best_params['rmse'])"
   ]
  },
  {
   "cell_type": "markdown",
   "metadata": {
    "id": "FwsZyrFYzzU9"
   },
   "source": [
    "**Insight:**\n",
    "\n",
    "1.   The Fianl RMSE score after applying BEst Hyperparametrs is : **2.01620**\n",
    "2.   When Using cross validated best paramters SVD, RMSE score is less compared to others\n",
    "\n"
   ]
  },
  {
   "cell_type": "markdown",
   "metadata": {
    "id": "WGYu_0hd0Nx8"
   },
   "source": [
    "### **In what business scenario you should use popularity based Recommendation Systems?**"
   ]
  },
  {
   "cell_type": "markdown",
   "metadata": {
    "id": "3LWssSAG0UDg"
   },
   "source": [
    "**When we have new user who doesn't watch any of the movies we cant able to find its neighbours . In this case popularity based recommendation is used.As the name suggests Popularity based recommendation system works with the trend. It basically uses the items which are in trend right now. For example, if any product which is usually bought by every new user then there are chances that it may suggest that item to the user who just signed up.**"
   ]
  },
  {
   "cell_type": "markdown",
   "metadata": {
    "id": "H82eCvZg0bdY"
   },
   "source": [
    "### **In what business scenario you should use CF based Recommendation Systems ?**\n"
   ]
  },
  {
   "cell_type": "markdown",
   "metadata": {
    "id": "6jCoqDOd0tjL"
   },
   "source": [
    "> **When user is not new user and he also got some neighbours. The idea behind collaborative filtering is to consider users’ opinions on different products and recommend the best product to each user based on the user’s previous rankings and the opinion of other similar types of users.It ha two types user-based and item-based.**\n",
    "\n",
    "**Steps in user Bsed colloborative filtering**\n",
    "\n",
    "> **1) Finding neighbours for the particular user based on the similarity measure.**\n",
    "\n",
    "> **2) 50 neighbours are selected in this project.**\n",
    "\n",
    "> **3) Filter out the movies which are already watched by the user**\n",
    "\n",
    "> **4) For remaining movies find out the mean rating and sort the movies in descending order and recommend to the user.**\n",
    "\n",
    "> **5) So user may get recommendation for the movie which are highly rated by the user like him.**\n",
    "\n",
    "> **6) Also average rating for the movie which is not watched by user can be estimated by its neighbours.**\n",
    "\n",
    "**For item based every steps are based on items.**"
   ]
  },
  {
   "cell_type": "markdown",
   "metadata": {
    "id": "2ini7pld050B"
   },
   "source": [
    "###  **What other possible methods can you think of which can further improve the recommendation for different users ?**"
   ]
  },
  {
   "cell_type": "markdown",
   "metadata": {
    "id": "CD1H-rAE1Bah"
   },
   "source": [
    "> **In some cases we may face cold stard or gray shep problem.In such cases, Combining any two filtering methods may help in improving the recommendation filter. These are known as Hybrid filtering.**\n",
    "\n",
    "> **IN Hybrid filtering, which combines two or more filtering techniques in different ways in order to increase the accuracy and performance of recommender systems has been proposed. These techniques combine two or more filtering approaches in order to harness their strengths while leveling out their corresponding weaknesses.**\n",
    "\n",
    "> **When new users signs in, we may recommend using popularity based filtering and once users starts watching the movies then it can be switched to user based or item based . This can improve the recommendation.**"
   ]
  },
  {
   "cell_type": "code",
   "execution_count": null,
   "metadata": {
    "id": "jK5XGLl_0qsH"
   },
   "outputs": [],
   "source": []
  }
 ],
 "metadata": {
  "colab": {
   "collapsed_sections": [],
   "name": "Untitled1.ipynb",
   "provenance": [],
   "toc_visible": true
  },
  "kernelspec": {
   "display_name": "Python 3",
   "language": "python",
   "name": "python3"
  },
  "language_info": {
   "codemirror_mode": {
    "name": "ipython",
    "version": 3
   },
   "file_extension": ".py",
   "mimetype": "text/x-python",
   "name": "python",
   "nbconvert_exporter": "python",
   "pygments_lexer": "ipython3",
   "version": "3.7.4"
  }
 },
 "nbformat": 4,
 "nbformat_minor": 1
}
